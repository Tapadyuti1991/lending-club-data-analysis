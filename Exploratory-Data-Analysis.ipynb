{
 "cells": [
  {
   "cell_type": "code",
   "execution_count": 25,
   "metadata": {
    "collapsed": false
   },
   "outputs": [],
   "source": [
    "\n",
    "import numpy as np\n",
    "import pandas as pd\n",
    "import seaborn as sns\n",
    "%matplotlib inline"
   ]
  },
  {
   "cell_type": "code",
   "execution_count": 1,
   "metadata": {
    "collapsed": false,
    "scrolled": true
   },
   "outputs": [
    {
     "name": "stderr",
     "output_type": "stream",
     "text": [
      "/usr/local/src/conda3_runtime/4.1.1/lib/python3.5/site-packages/IPython/core/interactiveshell.py:2723: DtypeWarning: Columns (0,49) have mixed types. Specify dtype option on import or set low_memory=False.\n",
      "  interactivity=interactivity, compiler=compiler, result=result)\n"
     ]
    }
   ],
   "source": [
    "\n",
    "from io import StringIO\n",
    "import requests\n",
    "import json\n",
    "import pandas as pd\n",
    "\n",
    "# @hidden_cell\n",
    "# This function accesses a file in your Object Storage. The definition contains your credentials.\n",
    "# You might want to remove those credentials before you share your notebook.\n",
    "def get_object_storage_file_with_credentials_d81e053948364da9ae629665be5a872c(container, filename):\n",
    "    \"\"\"This functions returns a StringIO object containing\n",
    "    the file content from Bluemix Object Storage.\"\"\"\n",
    "\n",
    "    url1 = ''.join(['https://identity.open.softlayer.com', '/v3/auth/tokens'])\n",
    "    data = {'auth': {'identity': {'methods': ['password'],\n",
    "            'password': {'user': {'name': 'member_3b205d99c3934ac4fc5b44445d55858302b73bb1','domain': {'id': '7798bf9ad6564a1583f1f2af8c2a92de'},\n",
    "            'password': 'MD5({70Mx*{3L[^a'}}}}}\n",
    "    headers1 = {'Content-Type': 'application/json'}\n",
    "    resp1 = requests.post(url=url1, data=json.dumps(data), headers=headers1)\n",
    "    resp1_body = resp1.json()\n",
    "    for e1 in resp1_body['token']['catalog']:\n",
    "        if(e1['type']=='object-store'):\n",
    "            for e2 in e1['endpoints']:\n",
    "                        if(e2['interface']=='public'and e2['region']=='dallas'):\n",
    "                            url2 = ''.join([e2['url'],'/', container, '/', filename])\n",
    "    s_subject_token = resp1.headers['x-subject-token']\n",
    "    headers2 = {'X-Auth-Token': s_subject_token, 'accept': 'application/json'}\n",
    "    resp2 = requests.get(url=url2, headers=headers2)\n",
    "    return StringIO(resp2.text)\n",
    "\n",
    "df_data_1 = pd.read_csv(get_object_storage_file_with_credentials_d81e053948364da9ae629665be5a872c('LendingClubDataSet', 'LoanStats3a_securev1.csv'),skiprows=1)\n",
    "\n"
   ]
  },
  {
   "cell_type": "code",
   "execution_count": 2,
   "metadata": {
    "collapsed": false
   },
   "outputs": [
    {
     "data": {
      "text/html": [
       "<div>\n",
       "<table border=\"1\" class=\"dataframe\">\n",
       "  <thead>\n",
       "    <tr style=\"text-align: right;\">\n",
       "      <th></th>\n",
       "      <th>id</th>\n",
       "      <th>member_id</th>\n",
       "      <th>loan_amnt</th>\n",
       "      <th>funded_amnt</th>\n",
       "      <th>funded_amnt_inv</th>\n",
       "      <th>term</th>\n",
       "      <th>int_rate</th>\n",
       "      <th>installment</th>\n",
       "      <th>grade</th>\n",
       "      <th>sub_grade</th>\n",
       "      <th>...</th>\n",
       "      <th>num_tl_90g_dpd_24m</th>\n",
       "      <th>num_tl_op_past_12m</th>\n",
       "      <th>pct_tl_nvr_dlq</th>\n",
       "      <th>percent_bc_gt_75</th>\n",
       "      <th>pub_rec_bankruptcies</th>\n",
       "      <th>tax_liens</th>\n",
       "      <th>tot_hi_cred_lim</th>\n",
       "      <th>total_bal_ex_mort</th>\n",
       "      <th>total_bc_limit</th>\n",
       "      <th>total_il_high_credit_limit</th>\n",
       "    </tr>\n",
       "  </thead>\n",
       "  <tbody>\n",
       "    <tr>\n",
       "      <th>0</th>\n",
       "      <td>1077501</td>\n",
       "      <td>1296599.0</td>\n",
       "      <td>5000.0</td>\n",
       "      <td>5000.0</td>\n",
       "      <td>4975.0</td>\n",
       "      <td>36 months</td>\n",
       "      <td>10.65%</td>\n",
       "      <td>162.87</td>\n",
       "      <td>B</td>\n",
       "      <td>B2</td>\n",
       "      <td>...</td>\n",
       "      <td>NaN</td>\n",
       "      <td>NaN</td>\n",
       "      <td>NaN</td>\n",
       "      <td>NaN</td>\n",
       "      <td>0.0</td>\n",
       "      <td>0.0</td>\n",
       "      <td>NaN</td>\n",
       "      <td>NaN</td>\n",
       "      <td>NaN</td>\n",
       "      <td>NaN</td>\n",
       "    </tr>\n",
       "    <tr>\n",
       "      <th>1</th>\n",
       "      <td>1077430</td>\n",
       "      <td>1314167.0</td>\n",
       "      <td>2500.0</td>\n",
       "      <td>2500.0</td>\n",
       "      <td>2500.0</td>\n",
       "      <td>60 months</td>\n",
       "      <td>15.27%</td>\n",
       "      <td>59.83</td>\n",
       "      <td>C</td>\n",
       "      <td>C4</td>\n",
       "      <td>...</td>\n",
       "      <td>NaN</td>\n",
       "      <td>NaN</td>\n",
       "      <td>NaN</td>\n",
       "      <td>NaN</td>\n",
       "      <td>0.0</td>\n",
       "      <td>0.0</td>\n",
       "      <td>NaN</td>\n",
       "      <td>NaN</td>\n",
       "      <td>NaN</td>\n",
       "      <td>NaN</td>\n",
       "    </tr>\n",
       "    <tr>\n",
       "      <th>2</th>\n",
       "      <td>1077175</td>\n",
       "      <td>1313524.0</td>\n",
       "      <td>2400.0</td>\n",
       "      <td>2400.0</td>\n",
       "      <td>2400.0</td>\n",
       "      <td>36 months</td>\n",
       "      <td>15.96%</td>\n",
       "      <td>84.33</td>\n",
       "      <td>C</td>\n",
       "      <td>C5</td>\n",
       "      <td>...</td>\n",
       "      <td>NaN</td>\n",
       "      <td>NaN</td>\n",
       "      <td>NaN</td>\n",
       "      <td>NaN</td>\n",
       "      <td>0.0</td>\n",
       "      <td>0.0</td>\n",
       "      <td>NaN</td>\n",
       "      <td>NaN</td>\n",
       "      <td>NaN</td>\n",
       "      <td>NaN</td>\n",
       "    </tr>\n",
       "    <tr>\n",
       "      <th>3</th>\n",
       "      <td>1076863</td>\n",
       "      <td>1277178.0</td>\n",
       "      <td>10000.0</td>\n",
       "      <td>10000.0</td>\n",
       "      <td>10000.0</td>\n",
       "      <td>36 months</td>\n",
       "      <td>13.49%</td>\n",
       "      <td>339.31</td>\n",
       "      <td>C</td>\n",
       "      <td>C1</td>\n",
       "      <td>...</td>\n",
       "      <td>NaN</td>\n",
       "      <td>NaN</td>\n",
       "      <td>NaN</td>\n",
       "      <td>NaN</td>\n",
       "      <td>0.0</td>\n",
       "      <td>0.0</td>\n",
       "      <td>NaN</td>\n",
       "      <td>NaN</td>\n",
       "      <td>NaN</td>\n",
       "      <td>NaN</td>\n",
       "    </tr>\n",
       "    <tr>\n",
       "      <th>4</th>\n",
       "      <td>1075358</td>\n",
       "      <td>1311748.0</td>\n",
       "      <td>3000.0</td>\n",
       "      <td>3000.0</td>\n",
       "      <td>3000.0</td>\n",
       "      <td>60 months</td>\n",
       "      <td>12.69%</td>\n",
       "      <td>67.79</td>\n",
       "      <td>B</td>\n",
       "      <td>B5</td>\n",
       "      <td>...</td>\n",
       "      <td>NaN</td>\n",
       "      <td>NaN</td>\n",
       "      <td>NaN</td>\n",
       "      <td>NaN</td>\n",
       "      <td>0.0</td>\n",
       "      <td>0.0</td>\n",
       "      <td>NaN</td>\n",
       "      <td>NaN</td>\n",
       "      <td>NaN</td>\n",
       "      <td>NaN</td>\n",
       "    </tr>\n",
       "  </tbody>\n",
       "</table>\n",
       "<p>5 rows × 115 columns</p>\n",
       "</div>"
      ],
      "text/plain": [
       "        id  member_id  loan_amnt  funded_amnt  funded_amnt_inv        term  \\\n",
       "0  1077501  1296599.0     5000.0       5000.0           4975.0   36 months   \n",
       "1  1077430  1314167.0     2500.0       2500.0           2500.0   60 months   \n",
       "2  1077175  1313524.0     2400.0       2400.0           2400.0   36 months   \n",
       "3  1076863  1277178.0    10000.0      10000.0          10000.0   36 months   \n",
       "4  1075358  1311748.0     3000.0       3000.0           3000.0   60 months   \n",
       "\n",
       "  int_rate  installment grade sub_grade            ...              \\\n",
       "0   10.65%       162.87     B        B2            ...               \n",
       "1   15.27%        59.83     C        C4            ...               \n",
       "2   15.96%        84.33     C        C5            ...               \n",
       "3   13.49%       339.31     C        C1            ...               \n",
       "4   12.69%        67.79     B        B5            ...               \n",
       "\n",
       "  num_tl_90g_dpd_24m num_tl_op_past_12m pct_tl_nvr_dlq  percent_bc_gt_75  \\\n",
       "0                NaN                NaN            NaN               NaN   \n",
       "1                NaN                NaN            NaN               NaN   \n",
       "2                NaN                NaN            NaN               NaN   \n",
       "3                NaN                NaN            NaN               NaN   \n",
       "4                NaN                NaN            NaN               NaN   \n",
       "\n",
       "  pub_rec_bankruptcies tax_liens tot_hi_cred_lim total_bal_ex_mort  \\\n",
       "0                  0.0       0.0             NaN               NaN   \n",
       "1                  0.0       0.0             NaN               NaN   \n",
       "2                  0.0       0.0             NaN               NaN   \n",
       "3                  0.0       0.0             NaN               NaN   \n",
       "4                  0.0       0.0             NaN               NaN   \n",
       "\n",
       "  total_bc_limit total_il_high_credit_limit  \n",
       "0            NaN                        NaN  \n",
       "1            NaN                        NaN  \n",
       "2            NaN                        NaN  \n",
       "3            NaN                        NaN  \n",
       "4            NaN                        NaN  \n",
       "\n",
       "[5 rows x 115 columns]"
      ]
     },
     "execution_count": 2,
     "metadata": {},
     "output_type": "execute_result"
    }
   ],
   "source": [
    "df_data_1.head()"
   ]
  },
  {
   "cell_type": "code",
   "execution_count": 4,
   "metadata": {
    "collapsed": false
   },
   "outputs": [
    {
     "name": "stdout",
     "output_type": "stream",
     "text": [
      "<class 'pandas.core.frame.DataFrame'>\n",
      "RangeIndex: 42538 entries, 0 to 42537\n",
      "Columns: 115 entries, id to total_il_high_credit_limit\n",
      "dtypes: float64(90), object(25)\n",
      "memory usage: 37.3+ MB\n"
     ]
    }
   ],
   "source": [
    "lendingclubdf=df_data_1\n",
    "lendingclubdf.info()"
   ]
  },
  {
   "cell_type": "code",
   "execution_count": 5,
   "metadata": {
    "collapsed": false
   },
   "outputs": [
    {
     "data": {
      "text/plain": [
       "Index(['id', 'member_id', 'loan_amnt', 'funded_amnt', 'funded_amnt_inv',\n",
       "       'term', 'int_rate', 'installment', 'grade', 'sub_grade',\n",
       "       ...\n",
       "       'num_tl_90g_dpd_24m', 'num_tl_op_past_12m', 'pct_tl_nvr_dlq',\n",
       "       'percent_bc_gt_75', 'pub_rec_bankruptcies', 'tax_liens',\n",
       "       'tot_hi_cred_lim', 'total_bal_ex_mort', 'total_bc_limit',\n",
       "       'total_il_high_credit_limit'],\n",
       "      dtype='object', length=115)"
      ]
     },
     "execution_count": 5,
     "metadata": {},
     "output_type": "execute_result"
    }
   ],
   "source": [
    "lendingclubdf.columns"
   ]
  },
  {
   "cell_type": "code",
   "execution_count": 6,
   "metadata": {
    "collapsed": false
   },
   "outputs": [
    {
     "data": {
      "text/html": [
       "<div>\n",
       "<table border=\"1\" class=\"dataframe\">\n",
       "  <thead>\n",
       "    <tr style=\"text-align: right;\">\n",
       "      <th></th>\n",
       "      <th>id</th>\n",
       "      <th>member_id</th>\n",
       "      <th>loan_amnt</th>\n",
       "      <th>funded_amnt</th>\n",
       "      <th>funded_amnt_inv</th>\n",
       "      <th>term</th>\n",
       "      <th>int_rate</th>\n",
       "    </tr>\n",
       "  </thead>\n",
       "  <tbody>\n",
       "    <tr>\n",
       "      <th>0</th>\n",
       "      <td>1077501</td>\n",
       "      <td>1296599.0</td>\n",
       "      <td>5000.0</td>\n",
       "      <td>5000.0</td>\n",
       "      <td>4975.0</td>\n",
       "      <td>36 months</td>\n",
       "      <td>10.65%</td>\n",
       "    </tr>\n",
       "    <tr>\n",
       "      <th>1</th>\n",
       "      <td>1077430</td>\n",
       "      <td>1314167.0</td>\n",
       "      <td>2500.0</td>\n",
       "      <td>2500.0</td>\n",
       "      <td>2500.0</td>\n",
       "      <td>60 months</td>\n",
       "      <td>15.27%</td>\n",
       "    </tr>\n",
       "    <tr>\n",
       "      <th>2</th>\n",
       "      <td>1077175</td>\n",
       "      <td>1313524.0</td>\n",
       "      <td>2400.0</td>\n",
       "      <td>2400.0</td>\n",
       "      <td>2400.0</td>\n",
       "      <td>36 months</td>\n",
       "      <td>15.96%</td>\n",
       "    </tr>\n",
       "    <tr>\n",
       "      <th>3</th>\n",
       "      <td>1076863</td>\n",
       "      <td>1277178.0</td>\n",
       "      <td>10000.0</td>\n",
       "      <td>10000.0</td>\n",
       "      <td>10000.0</td>\n",
       "      <td>36 months</td>\n",
       "      <td>13.49%</td>\n",
       "    </tr>\n",
       "    <tr>\n",
       "      <th>4</th>\n",
       "      <td>1075358</td>\n",
       "      <td>1311748.0</td>\n",
       "      <td>3000.0</td>\n",
       "      <td>3000.0</td>\n",
       "      <td>3000.0</td>\n",
       "      <td>60 months</td>\n",
       "      <td>12.69%</td>\n",
       "    </tr>\n",
       "  </tbody>\n",
       "</table>\n",
       "</div>"
      ],
      "text/plain": [
       "        id  member_id  loan_amnt  funded_amnt  funded_amnt_inv        term  \\\n",
       "0  1077501  1296599.0     5000.0       5000.0           4975.0   36 months   \n",
       "1  1077430  1314167.0     2500.0       2500.0           2500.0   60 months   \n",
       "2  1077175  1313524.0     2400.0       2400.0           2400.0   36 months   \n",
       "3  1076863  1277178.0    10000.0      10000.0          10000.0   36 months   \n",
       "4  1075358  1311748.0     3000.0       3000.0           3000.0   60 months   \n",
       "\n",
       "  int_rate  \n",
       "0   10.65%  \n",
       "1   15.27%  \n",
       "2   15.96%  \n",
       "3   13.49%  \n",
       "4   12.69%  "
      ]
     },
     "execution_count": 6,
     "metadata": {},
     "output_type": "execute_result"
    }
   ],
   "source": [
    "\n",
    "# .ix[row slice, column slice] \n",
    "lendingclubdf.ix[:4,:7]"
   ]
  },
  {
   "cell_type": "code",
   "execution_count": 7,
   "metadata": {
    "collapsed": true
   },
   "outputs": [],
   "source": [
    "lendingclubdf.drop(['id','member_id'],1, inplace=True)\n"
   ]
  },
  {
   "cell_type": "code",
   "execution_count": 8,
   "metadata": {
    "collapsed": false
   },
   "outputs": [],
   "source": [
    "lendingclubdf.loan_amnt = pd.Series(lendingclubdf.loan_amnt).astype(float)\n",
    "lendingclubdf.funded_amnt = pd.Series(lendingclubdf.funded_amnt).astype(float)"
   ]
  },
  {
   "cell_type": "code",
   "execution_count": 9,
   "metadata": {
    "collapsed": true
   },
   "outputs": [],
   "source": [
    "\n",
    "lendingclubdf.int_rate = pd.Series(lendingclubdf.int_rate).str.replace('%', '').astype(float)"
   ]
  },
  {
   "cell_type": "code",
   "execution_count": 13,
   "metadata": {
    "collapsed": false
   },
   "outputs": [
    {
     "data": {
      "text/plain": [
       "<bound method IndexOpsMixin.unique of 0         5000.0\n",
       "1         2500.0\n",
       "2         2400.0\n",
       "3        10000.0\n",
       "4         3000.0\n",
       "5         5000.0\n",
       "6         7000.0\n",
       "7         3000.0\n",
       "8         5600.0\n",
       "9         5375.0\n",
       "10        6500.0\n",
       "11       12000.0\n",
       "12        9000.0\n",
       "13        3000.0\n",
       "14       10000.0\n",
       "15        1000.0\n",
       "16       10000.0\n",
       "17        3600.0\n",
       "18        6000.0\n",
       "19        9200.0\n",
       "20       20250.0\n",
       "21       21000.0\n",
       "22       10000.0\n",
       "23       10000.0\n",
       "24        6000.0\n",
       "25       15000.0\n",
       "26       15000.0\n",
       "27        5000.0\n",
       "28        4000.0\n",
       "29        8500.0\n",
       "          ...   \n",
       "42508     6000.0\n",
       "42509     5350.0\n",
       "42510     1900.0\n",
       "42511    10000.0\n",
       "42512     2000.0\n",
       "42513     6000.0\n",
       "42514     4400.0\n",
       "42515     1200.0\n",
       "42516     5000.0\n",
       "42517     1400.0\n",
       "42518     1000.0\n",
       "42519     5000.0\n",
       "42520     2500.0\n",
       "42521     3000.0\n",
       "42522     2600.0\n",
       "42523     1000.0\n",
       "42524     6450.0\n",
       "42525     1275.0\n",
       "42526    10500.0\n",
       "42527     3000.0\n",
       "42528     3000.0\n",
       "42529     2000.0\n",
       "42530     6500.0\n",
       "42531     3500.0\n",
       "42532     1000.0\n",
       "42533     2525.0\n",
       "42534     6500.0\n",
       "42535     5000.0\n",
       "42536        NaN\n",
       "42537        NaN\n",
       "Name: funded_amnt, dtype: float64>"
      ]
     },
     "execution_count": 13,
     "metadata": {},
     "output_type": "execute_result"
    }
   ],
   "source": [
    "lendingclubdf.funded_amnt.unique"
   ]
  },
  {
   "cell_type": "code",
   "execution_count": 14,
   "metadata": {
    "collapsed": false
   },
   "outputs": [],
   "source": [
    "# print (lendingclubdf.loan_amnt != lendingclubdf.funded_amnt).value_counts()"
   ]
  },
  {
   "cell_type": "code",
   "execution_count": 16,
   "metadata": {
    "collapsed": false
   },
   "outputs": [
    {
     "data": {
      "text/html": [
       "<div>\n",
       "<table border=\"1\" class=\"dataframe\">\n",
       "  <thead>\n",
       "    <tr style=\"text-align: right;\">\n",
       "      <th></th>\n",
       "      <th>emp_title</th>\n",
       "      <th>emp_length</th>\n",
       "      <th>home_ownership</th>\n",
       "      <th>annual_inc</th>\n",
       "      <th>verification_status</th>\n",
       "      <th>issue_d</th>\n",
       "      <th>loan_status</th>\n",
       "    </tr>\n",
       "  </thead>\n",
       "  <tbody>\n",
       "    <tr>\n",
       "      <th>0</th>\n",
       "      <td>NaN</td>\n",
       "      <td>10+ years</td>\n",
       "      <td>RENT</td>\n",
       "      <td>24000.0</td>\n",
       "      <td>Verified</td>\n",
       "      <td>Dec-2011</td>\n",
       "      <td>Fully Paid</td>\n",
       "    </tr>\n",
       "    <tr>\n",
       "      <th>1</th>\n",
       "      <td>Ryder</td>\n",
       "      <td>&lt; 1 year</td>\n",
       "      <td>RENT</td>\n",
       "      <td>30000.0</td>\n",
       "      <td>Source Verified</td>\n",
       "      <td>Dec-2011</td>\n",
       "      <td>Charged Off</td>\n",
       "    </tr>\n",
       "    <tr>\n",
       "      <th>2</th>\n",
       "      <td>NaN</td>\n",
       "      <td>10+ years</td>\n",
       "      <td>RENT</td>\n",
       "      <td>12252.0</td>\n",
       "      <td>Not Verified</td>\n",
       "      <td>Dec-2011</td>\n",
       "      <td>Fully Paid</td>\n",
       "    </tr>\n",
       "    <tr>\n",
       "      <th>3</th>\n",
       "      <td>AIR RESOURCES BOARD</td>\n",
       "      <td>10+ years</td>\n",
       "      <td>RENT</td>\n",
       "      <td>49200.0</td>\n",
       "      <td>Source Verified</td>\n",
       "      <td>Dec-2011</td>\n",
       "      <td>Fully Paid</td>\n",
       "    </tr>\n",
       "    <tr>\n",
       "      <th>4</th>\n",
       "      <td>University Medical Group</td>\n",
       "      <td>1 year</td>\n",
       "      <td>RENT</td>\n",
       "      <td>80000.0</td>\n",
       "      <td>Source Verified</td>\n",
       "      <td>Dec-2011</td>\n",
       "      <td>Fully Paid</td>\n",
       "    </tr>\n",
       "    <tr>\n",
       "      <th>5</th>\n",
       "      <td>Veolia Transportaton</td>\n",
       "      <td>3 years</td>\n",
       "      <td>RENT</td>\n",
       "      <td>36000.0</td>\n",
       "      <td>Source Verified</td>\n",
       "      <td>Dec-2011</td>\n",
       "      <td>Fully Paid</td>\n",
       "    </tr>\n",
       "  </tbody>\n",
       "</table>\n",
       "</div>"
      ],
      "text/plain": [
       "                  emp_title emp_length home_ownership  annual_inc  \\\n",
       "0                       NaN  10+ years           RENT     24000.0   \n",
       "1                     Ryder   < 1 year           RENT     30000.0   \n",
       "2                       NaN  10+ years           RENT     12252.0   \n",
       "3       AIR RESOURCES BOARD  10+ years           RENT     49200.0   \n",
       "4  University Medical Group     1 year           RENT     80000.0   \n",
       "5      Veolia Transportaton    3 years           RENT     36000.0   \n",
       "\n",
       "  verification_status   issue_d  loan_status  \n",
       "0            Verified  Dec-2011   Fully Paid  \n",
       "1     Source Verified  Dec-2011  Charged Off  \n",
       "2        Not Verified  Dec-2011   Fully Paid  \n",
       "3     Source Verified  Dec-2011   Fully Paid  \n",
       "4     Source Verified  Dec-2011   Fully Paid  \n",
       "5     Source Verified  Dec-2011   Fully Paid  "
      ]
     },
     "execution_count": 16,
     "metadata": {},
     "output_type": "execute_result"
    }
   ],
   "source": [
    "\n",
    "lendingclubdf.ix[:5,8:15]"
   ]
  },
  {
   "cell_type": "code",
   "execution_count": 19,
   "metadata": {
    "collapsed": false
   },
   "outputs": [
    {
     "name": "stdout",
     "output_type": "stream",
     "text": [
      "US Army              139\n",
      "Bank of America      115\n",
      "IBM                   72\n",
      "Kaiser Permanente     61\n",
      "AT&T                  61\n",
      "Name: emp_title, dtype: int64\n",
      "St. Aloysius                   1\n",
      "ESPN                           1\n",
      "Sanden                         1\n",
      "Florida Home Builders Assoc    1\n",
      "24 Seven Discovere             1\n",
      "Name: emp_title, dtype: int64\n"
     ]
    },
    {
     "data": {
      "text/plain": [
       "(30660,)"
      ]
     },
     "execution_count": 19,
     "metadata": {},
     "output_type": "execute_result"
    }
   ],
   "source": [
    "print (lendingclubdf.emp_title.value_counts().head())\n",
    "print (lendingclubdf.emp_title.value_counts().tail())\n",
    "lendingclubdf.emp_title.unique().shape"
   ]
  },
  {
   "cell_type": "code",
   "execution_count": 21,
   "metadata": {
    "collapsed": false
   },
   "outputs": [],
   "source": [
    "lendingclubdf.drop(['emp_title'],1, inplace=True)"
   ]
  },
  {
   "cell_type": "code",
   "execution_count": 23,
   "metadata": {
    "collapsed": false
   },
   "outputs": [
    {
     "data": {
      "text/plain": [
       "10+ years    9369\n",
       "< 1 year     5062\n",
       "2 years      4743\n",
       "3 years      4364\n",
       "4 years      3649\n",
       "1 year       3595\n",
       "5 years      3458\n",
       "6 years      2375\n",
       "7 years      1875\n",
       "8 years      1592\n",
       "9 years      1341\n",
       "n/a          1112\n",
       "Name: emp_length, dtype: int64"
      ]
     },
     "execution_count": 23,
     "metadata": {},
     "output_type": "execute_result"
    }
   ],
   "source": [
    "lendingclubdf.emp_length.value_counts()\n"
   ]
  },
  {
   "cell_type": "code",
   "execution_count": 26,
   "metadata": {
    "collapsed": false
   },
   "outputs": [],
   "source": [
    "lendingclubdf.replace('n/a', np.nan,inplace=True)\n",
    "lendingclubdf.emp_length.fillna(value=0,inplace=True)\n",
    "lendingclubdf['emp_length'].replace(to_replace='[^0-9]+', value='', inplace=True, regex=True)\n",
    "lendingclubdf['emp_length'] = lendingclubdf['emp_length'].astype(int)"
   ]
  },
  {
   "cell_type": "code",
   "execution_count": 27,
   "metadata": {
    "collapsed": false
   },
   "outputs": [
    {
     "data": {
      "text/plain": [
       "0        10\n",
       "1         1\n",
       "2        10\n",
       "3        10\n",
       "4         1\n",
       "5         3\n",
       "6         8\n",
       "7         9\n",
       "8         4\n",
       "9         1\n",
       "10        5\n",
       "11       10\n",
       "12        1\n",
       "13        3\n",
       "14        3\n",
       "15        1\n",
       "16        4\n",
       "17       10\n",
       "18        1\n",
       "19        6\n",
       "20        3\n",
       "21       10\n",
       "22       10\n",
       "23        5\n",
       "24        1\n",
       "25        2\n",
       "26        9\n",
       "27        2\n",
       "28       10\n",
       "29        1\n",
       "         ..\n",
       "42508     2\n",
       "42509     1\n",
       "42510     1\n",
       "42511     1\n",
       "42512     7\n",
       "42513     1\n",
       "42514     2\n",
       "42515     1\n",
       "42516     1\n",
       "42517     1\n",
       "42518    10\n",
       "42519    10\n",
       "42520     9\n",
       "42521     1\n",
       "42522     3\n",
       "42523     6\n",
       "42524     2\n",
       "42525     1\n",
       "42526     3\n",
       "42527     1\n",
       "42528     1\n",
       "42529     1\n",
       "42530     1\n",
       "42531     1\n",
       "42532     1\n",
       "42533     1\n",
       "42534     1\n",
       "42535    10\n",
       "42536     0\n",
       "42537     0\n",
       "Name: emp_length, dtype: int64"
      ]
     },
     "execution_count": 27,
     "metadata": {},
     "output_type": "execute_result"
    }
   ],
   "source": [
    "lendingclubdf['emp_length']"
   ]
  },
  {
   "cell_type": "code",
   "execution_count": 29,
   "metadata": {
    "collapsed": false
   },
   "outputs": [
    {
     "data": {
      "text/plain": [
       "Not Verified       18758\n",
       "Verified           13471\n",
       "Source Verified    10306\n",
       "Name: verification_status, dtype: int64"
      ]
     },
     "execution_count": 29,
     "metadata": {},
     "output_type": "execute_result"
    }
   ],
   "source": [
    "lendingclubdf.verification_status.value_counts()"
   ]
  },
  {
   "cell_type": "code",
   "execution_count": 31,
   "metadata": {
    "collapsed": false
   },
   "outputs": [
    {
     "name": "stdout",
     "output_type": "stream",
     "text": [
      "Fully Paid                                             34115\n",
      "Charged Off                                             5670\n",
      "Does not meet the credit policy. Status:Fully Paid      1988\n",
      "Does not meet the credit policy. Status:Charged Off      761\n",
      "Late (31-120 days)                                         1\n",
      "Name: loan_status, dtype: int64\n"
     ]
    },
    {
     "data": {
      "image/png": "[encoded data removed]",
      "text/plain": [
       "<matplotlib.figure.Figure at 0x7fdfbc47e710>"
      ]
     },
     "metadata": {},
     "output_type": "display_data"
    }
   ],
   "source": [
    "\n",
    "print (lendingclubdf.loan_status.value_counts())\n",
    "\n",
    "issue_d_todate = pd.to_datetime(lendingclubdf.issue_d)# (df['issue_d'].apply(lambda x: x.strftime('%Y-%m-%d')))\n",
    "lendingclubdf.issue_d = pd.Series(lendingclubdf.issue_d).str.replace('-2014', '')\n",
    "# We need sort_index() or else we won't get a sequential timedate order.\n",
    "issue_d_todate.value_counts().sort_index().plot(kind='bar')\n",
    "\n",
    "lendingclubdf.drop(['loan_status'],1, inplace=True)\n"
   ]
  },
  {
   "cell_type": "code",
   "execution_count": 33,
   "metadata": {
    "collapsed": false
   },
   "outputs": [
    {
     "data": {
      "text/html": [
       "<div>\n",
       "<table border=\"1\" class=\"dataframe\">\n",
       "  <thead>\n",
       "    <tr style=\"text-align: right;\">\n",
       "      <th></th>\n",
       "      <th>issue_d</th>\n",
       "      <th>pymnt_plan</th>\n",
       "      <th>url</th>\n",
       "      <th>desc</th>\n",
       "      <th>purpose</th>\n",
       "      <th>title</th>\n",
       "      <th>zip_code</th>\n",
       "      <th>addr_state</th>\n",
       "      <th>dti</th>\n",
       "    </tr>\n",
       "  </thead>\n",
       "  <tbody>\n",
       "    <tr>\n",
       "      <th>0</th>\n",
       "      <td>Dec-2011</td>\n",
       "      <td>n</td>\n",
       "      <td>https://lendingclub.com/browse/loanDetail.acti...</td>\n",
       "      <td>Borrower added on 12/22/11 &gt; I need to upgra...</td>\n",
       "      <td>credit_card</td>\n",
       "      <td>Computer</td>\n",
       "      <td>860xx</td>\n",
       "      <td>AZ</td>\n",
       "      <td>27.65</td>\n",
       "    </tr>\n",
       "    <tr>\n",
       "      <th>1</th>\n",
       "      <td>Dec-2011</td>\n",
       "      <td>n</td>\n",
       "      <td>https://lendingclub.com/browse/loanDetail.acti...</td>\n",
       "      <td>Borrower added on 12/22/11 &gt; I plan to use t...</td>\n",
       "      <td>car</td>\n",
       "      <td>bike</td>\n",
       "      <td>309xx</td>\n",
       "      <td>GA</td>\n",
       "      <td>1.00</td>\n",
       "    </tr>\n",
       "    <tr>\n",
       "      <th>2</th>\n",
       "      <td>Dec-2011</td>\n",
       "      <td>n</td>\n",
       "      <td>https://lendingclub.com/browse/loanDetail.acti...</td>\n",
       "      <td>NaN</td>\n",
       "      <td>small_business</td>\n",
       "      <td>real estate business</td>\n",
       "      <td>606xx</td>\n",
       "      <td>IL</td>\n",
       "      <td>8.72</td>\n",
       "    </tr>\n",
       "    <tr>\n",
       "      <th>3</th>\n",
       "      <td>Dec-2011</td>\n",
       "      <td>n</td>\n",
       "      <td>https://lendingclub.com/browse/loanDetail.acti...</td>\n",
       "      <td>Borrower added on 12/21/11 &gt; to pay for prop...</td>\n",
       "      <td>other</td>\n",
       "      <td>personel</td>\n",
       "      <td>917xx</td>\n",
       "      <td>CA</td>\n",
       "      <td>20.00</td>\n",
       "    </tr>\n",
       "    <tr>\n",
       "      <th>4</th>\n",
       "      <td>Dec-2011</td>\n",
       "      <td>n</td>\n",
       "      <td>https://lendingclub.com/browse/loanDetail.acti...</td>\n",
       "      <td>Borrower added on 12/21/11 &gt; I plan on combi...</td>\n",
       "      <td>other</td>\n",
       "      <td>Personal</td>\n",
       "      <td>972xx</td>\n",
       "      <td>OR</td>\n",
       "      <td>17.94</td>\n",
       "    </tr>\n",
       "    <tr>\n",
       "      <th>5</th>\n",
       "      <td>Dec-2011</td>\n",
       "      <td>n</td>\n",
       "      <td>https://lendingclub.com/browse/loanDetail.acti...</td>\n",
       "      <td>NaN</td>\n",
       "      <td>wedding</td>\n",
       "      <td>My wedding loan I promise to pay back</td>\n",
       "      <td>852xx</td>\n",
       "      <td>AZ</td>\n",
       "      <td>11.20</td>\n",
       "    </tr>\n",
       "  </tbody>\n",
       "</table>\n",
       "</div>"
      ],
      "text/plain": [
       "    issue_d pymnt_plan                                                url  \\\n",
       "0  Dec-2011          n  https://lendingclub.com/browse/loanDetail.acti...   \n",
       "1  Dec-2011          n  https://lendingclub.com/browse/loanDetail.acti...   \n",
       "2  Dec-2011          n  https://lendingclub.com/browse/loanDetail.acti...   \n",
       "3  Dec-2011          n  https://lendingclub.com/browse/loanDetail.acti...   \n",
       "4  Dec-2011          n  https://lendingclub.com/browse/loanDetail.acti...   \n",
       "5  Dec-2011          n  https://lendingclub.com/browse/loanDetail.acti...   \n",
       "\n",
       "                                                desc         purpose  \\\n",
       "0    Borrower added on 12/22/11 > I need to upgra...     credit_card   \n",
       "1    Borrower added on 12/22/11 > I plan to use t...             car   \n",
       "2                                                NaN  small_business   \n",
       "3    Borrower added on 12/21/11 > to pay for prop...           other   \n",
       "4    Borrower added on 12/21/11 > I plan on combi...           other   \n",
       "5                                                NaN         wedding   \n",
       "\n",
       "                                   title zip_code addr_state    dti  \n",
       "0                               Computer    860xx         AZ  27.65  \n",
       "1                                   bike    309xx         GA   1.00  \n",
       "2                   real estate business    606xx         IL   8.72  \n",
       "3                               personel    917xx         CA  20.00  \n",
       "4                               Personal    972xx         OR  17.94  \n",
       "5  My wedding loan I promise to pay back    852xx         AZ  11.20  "
      ]
     },
     "execution_count": 33,
     "metadata": {},
     "output_type": "execute_result"
    }
   ],
   "source": [
    "lendingclubdf.ix[:5,12:21]"
   ]
  },
  {
   "cell_type": "code",
   "execution_count": 36,
   "metadata": {
    "collapsed": false
   },
   "outputs": [
    {
     "name": "stdout",
     "output_type": "stream",
     "text": [
      "debt_consolidation    19776\n",
      "credit_card            5477\n",
      "other                  4425\n",
      "home_improvement       3199\n",
      "major_purchase         2311\n",
      "small_business         1992\n",
      "car                    1615\n",
      "wedding                1004\n",
      "medical                 753\n",
      "moving                  629\n",
      "house                   426\n",
      "educational             422\n",
      "vacation                400\n",
      "renewable_energy        106\n",
      "Name: purpose, dtype: int64\n",
      "\n",
      "Better rate to replace my credit cards    1\n",
      "LedingClubLoan                            1\n",
      "oasis                                     1\n",
      "Funds needed during JD Program            1\n",
      "Higher Education Employee Needs Help.     1\n",
      "Name: title, dtype: int64\n"
     ]
    }
   ],
   "source": [
    "print (lendingclubdf.purpose.value_counts())\n",
    "print ('')\n",
    "print (lendingclubdf.title.value_counts().tail())"
   ]
  },
  {
   "cell_type": "code",
   "execution_count": 37,
   "metadata": {
    "collapsed": true
   },
   "outputs": [],
   "source": [
    "\n",
    "lendingclubdf.drop(['pymnt_plan','url','desc','title' ],1, inplace=True)"
   ]
  },
  {
   "cell_type": "code",
   "execution_count": 39,
   "metadata": {
    "collapsed": false
   },
   "outputs": [
    {
     "data": {
      "text/html": [
       "<div>\n",
       "<table border=\"1\" class=\"dataframe\">\n",
       "  <thead>\n",
       "    <tr style=\"text-align: right;\">\n",
       "      <th></th>\n",
       "      <th>delinq_2yrs</th>\n",
       "      <th>earliest_cr_line</th>\n",
       "      <th>fico_range_low</th>\n",
       "      <th>fico_range_high</th>\n",
       "      <th>inq_last_6mths</th>\n",
       "      <th>mths_since_last_delinq</th>\n",
       "      <th>mths_since_last_record</th>\n",
       "      <th>open_acc</th>\n",
       "    </tr>\n",
       "  </thead>\n",
       "  <tbody>\n",
       "    <tr>\n",
       "      <th>0</th>\n",
       "      <td>0.0</td>\n",
       "      <td>Jan-1985</td>\n",
       "      <td>735.0</td>\n",
       "      <td>739.0</td>\n",
       "      <td>1.0</td>\n",
       "      <td>NaN</td>\n",
       "      <td>NaN</td>\n",
       "      <td>3.0</td>\n",
       "    </tr>\n",
       "    <tr>\n",
       "      <th>1</th>\n",
       "      <td>0.0</td>\n",
       "      <td>Apr-1999</td>\n",
       "      <td>740.0</td>\n",
       "      <td>744.0</td>\n",
       "      <td>5.0</td>\n",
       "      <td>NaN</td>\n",
       "      <td>NaN</td>\n",
       "      <td>3.0</td>\n",
       "    </tr>\n",
       "    <tr>\n",
       "      <th>2</th>\n",
       "      <td>0.0</td>\n",
       "      <td>Nov-2001</td>\n",
       "      <td>735.0</td>\n",
       "      <td>739.0</td>\n",
       "      <td>2.0</td>\n",
       "      <td>NaN</td>\n",
       "      <td>NaN</td>\n",
       "      <td>2.0</td>\n",
       "    </tr>\n",
       "    <tr>\n",
       "      <th>3</th>\n",
       "      <td>0.0</td>\n",
       "      <td>Feb-1996</td>\n",
       "      <td>690.0</td>\n",
       "      <td>694.0</td>\n",
       "      <td>1.0</td>\n",
       "      <td>35.0</td>\n",
       "      <td>NaN</td>\n",
       "      <td>10.0</td>\n",
       "    </tr>\n",
       "    <tr>\n",
       "      <th>4</th>\n",
       "      <td>0.0</td>\n",
       "      <td>Jan-1996</td>\n",
       "      <td>695.0</td>\n",
       "      <td>699.0</td>\n",
       "      <td>0.0</td>\n",
       "      <td>38.0</td>\n",
       "      <td>NaN</td>\n",
       "      <td>15.0</td>\n",
       "    </tr>\n",
       "    <tr>\n",
       "      <th>5</th>\n",
       "      <td>0.0</td>\n",
       "      <td>Nov-2004</td>\n",
       "      <td>730.0</td>\n",
       "      <td>734.0</td>\n",
       "      <td>3.0</td>\n",
       "      <td>NaN</td>\n",
       "      <td>NaN</td>\n",
       "      <td>9.0</td>\n",
       "    </tr>\n",
       "  </tbody>\n",
       "</table>\n",
       "</div>"
      ],
      "text/plain": [
       "   delinq_2yrs earliest_cr_line  fico_range_low  fico_range_high  \\\n",
       "0          0.0         Jan-1985           735.0            739.0   \n",
       "1          0.0         Apr-1999           740.0            744.0   \n",
       "2          0.0         Nov-2001           735.0            739.0   \n",
       "3          0.0         Feb-1996           690.0            694.0   \n",
       "4          0.0         Jan-1996           695.0            699.0   \n",
       "5          0.0         Nov-2004           730.0            734.0   \n",
       "\n",
       "   inq_last_6mths  mths_since_last_delinq  mths_since_last_record  open_acc  \n",
       "0             1.0                     NaN                     NaN       3.0  \n",
       "1             5.0                     NaN                     NaN       3.0  \n",
       "2             2.0                     NaN                     NaN       2.0  \n",
       "3             1.0                    35.0                     NaN      10.0  \n",
       "4             0.0                    38.0                     NaN      15.0  \n",
       "5             3.0                     NaN                     NaN       9.0  "
      ]
     },
     "execution_count": 39,
     "metadata": {},
     "output_type": "execute_result"
    }
   ],
   "source": [
    "lendingclubdf.ix[:5,17:25]"
   ]
  },
  {
   "cell_type": "code",
   "execution_count": 42,
   "metadata": {
    "collapsed": false
   },
   "outputs": [
    {
     "data": {
      "text/plain": [
       "0.0     37771\n",
       "1.0      3595\n",
       "2.0       771\n",
       "3.0       244\n",
       "4.0        72\n",
       "5.0        27\n",
       "6.0        13\n",
       "7.0         6\n",
       "8.0         3\n",
       "11.0        2\n",
       "13.0        1\n",
       "9.0         1\n",
       "Name: delinq_2yrs, dtype: int64"
      ]
     },
     "execution_count": 42,
     "metadata": {},
     "output_type": "execute_result"
    }
   ],
   "source": [
    "\n",
    "lendingclubdf.delinq_2yrs.value_counts()\n"
   ]
  },
  {
   "cell_type": "code",
   "execution_count": 45,
   "metadata": {
    "collapsed": false
   },
   "outputs": [
    {
     "ename": "ValueError",
     "evalue": "Could not convert object to NumPy timedelta",
     "output_type": "error",
     "traceback": [
      "\u001b[1;31m\u001b[0m",
      "\u001b[1;31mValueError\u001b[0mTraceback (most recent call last)",
      "\u001b[1;32m<ipython-input-45-67b225cd8f29>\u001b[0m in \u001b[0;36m<module>\u001b[1;34m()\u001b[0m\n\u001b[0;32m      5\u001b[0m \u001b[0mdttoday\u001b[0m \u001b[1;33m=\u001b[0m \u001b[0mdatetime\u001b[0m\u001b[1;33m.\u001b[0m\u001b[0mnow\u001b[0m\u001b[1;33m(\u001b[0m\u001b[1;33m)\u001b[0m\u001b[1;33m.\u001b[0m\u001b[0mstrftime\u001b[0m\u001b[1;33m(\u001b[0m\u001b[1;34m'%Y-%m-%d'\u001b[0m\u001b[1;33m)\u001b[0m\u001b[1;33m\u001b[0m\u001b[0m\n\u001b[0;32m      6\u001b[0m \u001b[1;31m# There is a better way to do this :)\u001b[0m\u001b[1;33m\u001b[0m\u001b[1;33m\u001b[0m\u001b[0m\n\u001b[1;32m----> 7\u001b[1;33m lendingclubdf.earliest_cr_line = lendingclubdf.earliest_cr_line.apply(lambda x: (\n\u001b[0m\u001b[0;32m      8\u001b[0m         np.timedelta64((x - pd.Timestamp(dttoday)),'D').astype(int))/-365)\n\u001b[0;32m      9\u001b[0m \u001b[1;33m\u001b[0m\u001b[0m\n",
      "\u001b[1;32m/usr/local/src/conda3_runtime/4.1.1/lib/python3.5/site-packages/pandas/core/series.py\u001b[0m in \u001b[0;36mapply\u001b[1;34m(self, func, convert_dtype, args, **kwds)\u001b[0m\n\u001b[0;32m   2218\u001b[0m         \u001b[1;32melse\u001b[0m\u001b[1;33m:\u001b[0m\u001b[1;33m\u001b[0m\u001b[0m\n\u001b[0;32m   2219\u001b[0m             \u001b[0mvalues\u001b[0m \u001b[1;33m=\u001b[0m \u001b[0mself\u001b[0m\u001b[1;33m.\u001b[0m\u001b[0masobject\u001b[0m\u001b[1;33m\u001b[0m\u001b[0m\n\u001b[1;32m-> 2220\u001b[1;33m             \u001b[0mmapped\u001b[0m \u001b[1;33m=\u001b[0m \u001b[0mlib\u001b[0m\u001b[1;33m.\u001b[0m\u001b[0mmap_infer\u001b[0m\u001b[1;33m(\u001b[0m\u001b[0mvalues\u001b[0m\u001b[1;33m,\u001b[0m \u001b[0mf\u001b[0m\u001b[1;33m,\u001b[0m \u001b[0mconvert\u001b[0m\u001b[1;33m=\u001b[0m\u001b[0mconvert_dtype\u001b[0m\u001b[1;33m)\u001b[0m\u001b[1;33m\u001b[0m\u001b[0m\n\u001b[0m\u001b[0;32m   2221\u001b[0m \u001b[1;33m\u001b[0m\u001b[0m\n\u001b[0;32m   2222\u001b[0m         \u001b[1;32mif\u001b[0m \u001b[0mlen\u001b[0m\u001b[1;33m(\u001b[0m\u001b[0mmapped\u001b[0m\u001b[1;33m)\u001b[0m \u001b[1;32mand\u001b[0m \u001b[0misinstance\u001b[0m\u001b[1;33m(\u001b[0m\u001b[0mmapped\u001b[0m\u001b[1;33m[\u001b[0m\u001b[1;36m0\u001b[0m\u001b[1;33m]\u001b[0m\u001b[1;33m,\u001b[0m \u001b[0mSeries\u001b[0m\u001b[1;33m)\u001b[0m\u001b[1;33m:\u001b[0m\u001b[1;33m\u001b[0m\u001b[0m\n",
      "\u001b[1;32mpandas/src/inference.pyx\u001b[0m in \u001b[0;36mpandas.lib.map_infer (pandas/lib.c:62658)\u001b[1;34m()\u001b[0m\n",
      "\u001b[1;32m<ipython-input-45-67b225cd8f29>\u001b[0m in \u001b[0;36m<lambda>\u001b[1;34m(x)\u001b[0m\n\u001b[0;32m      6\u001b[0m \u001b[1;31m# There is a better way to do this :)\u001b[0m\u001b[1;33m\u001b[0m\u001b[1;33m\u001b[0m\u001b[0m\n\u001b[0;32m      7\u001b[0m lendingclubdf.earliest_cr_line = lendingclubdf.earliest_cr_line.apply(lambda x: (\n\u001b[1;32m----> 8\u001b[1;33m         np.timedelta64((x - pd.Timestamp(dttoday)),'D').astype(int))/-365)\n\u001b[0m\u001b[0;32m      9\u001b[0m \u001b[1;33m\u001b[0m\u001b[0m\n\u001b[0;32m     10\u001b[0m \u001b[0mlendingclubdf\u001b[0m\u001b[1;33m.\u001b[0m\u001b[0mearliest_cr_line\u001b[0m\u001b[1;33m\u001b[0m\u001b[0m\n",
      "\u001b[1;31mValueError\u001b[0m: Could not convert object to NumPy timedelta"
     ]
    }
   ],
   "source": [
    "# from datetime import datetime\n",
    "\n",
    "# lendingclubdf.earliest_cr_line = pd.to_datetime(lendingclubdf.earliest_cr_line)\n",
    "\n",
    "# dttoday = datetime.now().strftime('%Y-%m-%d')\n",
    "# # There is a better way to do this :) \n",
    "# lendingclubdf.earliest_cr_line = lendingclubdf.earliest_cr_line.apply(lambda x: (\n",
    "#         np.timedelta64((x - pd.Timestamp(dttoday)),'D').astype(int))/-365)\n",
    "\n",
    "# lendingclubdf.earliest_cr_line\n"
   ]
  },
  {
   "cell_type": "code",
   "execution_count": 47,
   "metadata": {
    "collapsed": false
   },
   "outputs": [],
   "source": [
    "lendingclubdf['fico_range'] = lendingclubdf.fico_range_low.astype('str') + '-' + lendingclubdf.fico_range_high.astype('str')\n",
    "lendingclubdf['meanfico'] = (lendingclubdf.fico_range_low + lendingclubdf.fico_range_high)/2\n",
    "lendingclubdf.drop(['fico_range_low','fico_range_high','initial_list_status'],1, inplace=True)\n"
   ]
  },
  {
   "cell_type": "code",
   "execution_count": 49,
   "metadata": {
    "collapsed": false
   },
   "outputs": [
    {
     "data": {
      "text/html": [
       "<div>\n",
       "<table border=\"1\" class=\"dataframe\">\n",
       "  <thead>\n",
       "    <tr style=\"text-align: right;\">\n",
       "      <th></th>\n",
       "      <th>pub_rec</th>\n",
       "      <th>revol_bal</th>\n",
       "      <th>revol_util</th>\n",
       "      <th>total_acc</th>\n",
       "      <th>out_prncp</th>\n",
       "      <th>out_prncp_inv</th>\n",
       "      <th>total_pymnt</th>\n",
       "      <th>total_pymnt_inv</th>\n",
       "      <th>total_rec_prncp</th>\n",
       "    </tr>\n",
       "  </thead>\n",
       "  <tbody>\n",
       "    <tr>\n",
       "      <th>0</th>\n",
       "      <td>0.0</td>\n",
       "      <td>13648.0</td>\n",
       "      <td>83.7%</td>\n",
       "      <td>9.0</td>\n",
       "      <td>0.0</td>\n",
       "      <td>0.0</td>\n",
       "      <td>5863.155187</td>\n",
       "      <td>5833.84</td>\n",
       "      <td>5000.00</td>\n",
       "    </tr>\n",
       "    <tr>\n",
       "      <th>1</th>\n",
       "      <td>0.0</td>\n",
       "      <td>1687.0</td>\n",
       "      <td>9.4%</td>\n",
       "      <td>4.0</td>\n",
       "      <td>0.0</td>\n",
       "      <td>0.0</td>\n",
       "      <td>1014.530000</td>\n",
       "      <td>1014.53</td>\n",
       "      <td>456.46</td>\n",
       "    </tr>\n",
       "    <tr>\n",
       "      <th>2</th>\n",
       "      <td>0.0</td>\n",
       "      <td>2956.0</td>\n",
       "      <td>98.5%</td>\n",
       "      <td>10.0</td>\n",
       "      <td>0.0</td>\n",
       "      <td>0.0</td>\n",
       "      <td>3005.666844</td>\n",
       "      <td>3005.67</td>\n",
       "      <td>2400.00</td>\n",
       "    </tr>\n",
       "    <tr>\n",
       "      <th>3</th>\n",
       "      <td>0.0</td>\n",
       "      <td>5598.0</td>\n",
       "      <td>21%</td>\n",
       "      <td>37.0</td>\n",
       "      <td>0.0</td>\n",
       "      <td>0.0</td>\n",
       "      <td>12231.890000</td>\n",
       "      <td>12231.89</td>\n",
       "      <td>10000.00</td>\n",
       "    </tr>\n",
       "    <tr>\n",
       "      <th>4</th>\n",
       "      <td>0.0</td>\n",
       "      <td>27783.0</td>\n",
       "      <td>53.9%</td>\n",
       "      <td>38.0</td>\n",
       "      <td>0.0</td>\n",
       "      <td>0.0</td>\n",
       "      <td>4066.908161</td>\n",
       "      <td>4066.91</td>\n",
       "      <td>3000.00</td>\n",
       "    </tr>\n",
       "    <tr>\n",
       "      <th>5</th>\n",
       "      <td>0.0</td>\n",
       "      <td>7963.0</td>\n",
       "      <td>28.3%</td>\n",
       "      <td>12.0</td>\n",
       "      <td>0.0</td>\n",
       "      <td>0.0</td>\n",
       "      <td>5632.210000</td>\n",
       "      <td>5632.21</td>\n",
       "      <td>5000.00</td>\n",
       "    </tr>\n",
       "  </tbody>\n",
       "</table>\n",
       "</div>"
      ],
      "text/plain": [
       "   pub_rec  revol_bal revol_util  total_acc  out_prncp  out_prncp_inv  \\\n",
       "0      0.0    13648.0      83.7%        9.0        0.0            0.0   \n",
       "1      0.0     1687.0       9.4%        4.0        0.0            0.0   \n",
       "2      0.0     2956.0      98.5%       10.0        0.0            0.0   \n",
       "3      0.0     5598.0        21%       37.0        0.0            0.0   \n",
       "4      0.0    27783.0      53.9%       38.0        0.0            0.0   \n",
       "5      0.0     7963.0      28.3%       12.0        0.0            0.0   \n",
       "\n",
       "    total_pymnt  total_pymnt_inv  total_rec_prncp  \n",
       "0   5863.155187          5833.84          5000.00  \n",
       "1   1014.530000          1014.53           456.46  \n",
       "2   3005.666844          3005.67          2400.00  \n",
       "3  12231.890000         12231.89         10000.00  \n",
       "4   4066.908161          4066.91          3000.00  \n",
       "5   5632.210000          5632.21          5000.00  "
      ]
     },
     "execution_count": 49,
     "metadata": {},
     "output_type": "execute_result"
    }
   ],
   "source": [
    "lendingclubdf.ix[:5,23:32]\n"
   ]
  },
  {
   "cell_type": "code",
   "execution_count": 51,
   "metadata": {
    "collapsed": false
   },
   "outputs": [],
   "source": [
    "lendingclubdf.revol_util = pd.Series(lendingclubdf.revol_util).str.replace('%', '').astype(float)\n"
   ]
  },
  {
   "cell_type": "code",
   "execution_count": 53,
   "metadata": {
    "collapsed": false
   },
   "outputs": [
    {
     "data": {
      "text/html": [
       "<div>\n",
       "<table border=\"1\" class=\"dataframe\">\n",
       "  <thead>\n",
       "    <tr style=\"text-align: right;\">\n",
       "      <th></th>\n",
       "      <th>pub_rec</th>\n",
       "      <th>revol_bal</th>\n",
       "      <th>revol_util</th>\n",
       "      <th>total_acc</th>\n",
       "      <th>out_prncp</th>\n",
       "      <th>out_prncp_inv</th>\n",
       "      <th>total_pymnt</th>\n",
       "      <th>total_pymnt_inv</th>\n",
       "      <th>total_rec_prncp</th>\n",
       "    </tr>\n",
       "  </thead>\n",
       "  <tbody>\n",
       "    <tr>\n",
       "      <th>0</th>\n",
       "      <td>0.0</td>\n",
       "      <td>13648.0</td>\n",
       "      <td>83.7</td>\n",
       "      <td>9.0</td>\n",
       "      <td>0.0</td>\n",
       "      <td>0.0</td>\n",
       "      <td>5863.155187</td>\n",
       "      <td>5833.84</td>\n",
       "      <td>5000.00</td>\n",
       "    </tr>\n",
       "    <tr>\n",
       "      <th>1</th>\n",
       "      <td>0.0</td>\n",
       "      <td>1687.0</td>\n",
       "      <td>9.4</td>\n",
       "      <td>4.0</td>\n",
       "      <td>0.0</td>\n",
       "      <td>0.0</td>\n",
       "      <td>1014.530000</td>\n",
       "      <td>1014.53</td>\n",
       "      <td>456.46</td>\n",
       "    </tr>\n",
       "    <tr>\n",
       "      <th>2</th>\n",
       "      <td>0.0</td>\n",
       "      <td>2956.0</td>\n",
       "      <td>98.5</td>\n",
       "      <td>10.0</td>\n",
       "      <td>0.0</td>\n",
       "      <td>0.0</td>\n",
       "      <td>3005.666844</td>\n",
       "      <td>3005.67</td>\n",
       "      <td>2400.00</td>\n",
       "    </tr>\n",
       "    <tr>\n",
       "      <th>3</th>\n",
       "      <td>0.0</td>\n",
       "      <td>5598.0</td>\n",
       "      <td>21.0</td>\n",
       "      <td>37.0</td>\n",
       "      <td>0.0</td>\n",
       "      <td>0.0</td>\n",
       "      <td>12231.890000</td>\n",
       "      <td>12231.89</td>\n",
       "      <td>10000.00</td>\n",
       "    </tr>\n",
       "    <tr>\n",
       "      <th>4</th>\n",
       "      <td>0.0</td>\n",
       "      <td>27783.0</td>\n",
       "      <td>53.9</td>\n",
       "      <td>38.0</td>\n",
       "      <td>0.0</td>\n",
       "      <td>0.0</td>\n",
       "      <td>4066.908161</td>\n",
       "      <td>4066.91</td>\n",
       "      <td>3000.00</td>\n",
       "    </tr>\n",
       "    <tr>\n",
       "      <th>5</th>\n",
       "      <td>0.0</td>\n",
       "      <td>7963.0</td>\n",
       "      <td>28.3</td>\n",
       "      <td>12.0</td>\n",
       "      <td>0.0</td>\n",
       "      <td>0.0</td>\n",
       "      <td>5632.210000</td>\n",
       "      <td>5632.21</td>\n",
       "      <td>5000.00</td>\n",
       "    </tr>\n",
       "  </tbody>\n",
       "</table>\n",
       "</div>"
      ],
      "text/plain": [
       "   pub_rec  revol_bal  revol_util  total_acc  out_prncp  out_prncp_inv  \\\n",
       "0      0.0    13648.0        83.7        9.0        0.0            0.0   \n",
       "1      0.0     1687.0         9.4        4.0        0.0            0.0   \n",
       "2      0.0     2956.0        98.5       10.0        0.0            0.0   \n",
       "3      0.0     5598.0        21.0       37.0        0.0            0.0   \n",
       "4      0.0    27783.0        53.9       38.0        0.0            0.0   \n",
       "5      0.0     7963.0        28.3       12.0        0.0            0.0   \n",
       "\n",
       "    total_pymnt  total_pymnt_inv  total_rec_prncp  \n",
       "0   5863.155187          5833.84          5000.00  \n",
       "1   1014.530000          1014.53           456.46  \n",
       "2   3005.666844          3005.67          2400.00  \n",
       "3  12231.890000         12231.89         10000.00  \n",
       "4   4066.908161          4066.91          3000.00  \n",
       "5   5632.210000          5632.21          5000.00  "
      ]
     },
     "execution_count": 53,
     "metadata": {},
     "output_type": "execute_result"
    }
   ],
   "source": [
    "lendingclubdf.ix[:5,23:32]"
   ]
  },
  {
   "cell_type": "code",
   "execution_count": 54,
   "metadata": {
    "collapsed": true
   },
   "outputs": [],
   "source": [
    "lendingclubdf.drop(['out_prncp','out_prncp_inv','total_pymnt',\n",
    "         'total_pymnt_inv','total_rec_prncp', 'grade', 'sub_grade'] ,1, inplace=True)"
   ]
  },
  {
   "cell_type": "code",
   "execution_count": 55,
   "metadata": {
    "collapsed": false
   },
   "outputs": [
    {
     "data": {
      "text/html": [
       "<div>\n",
       "<table border=\"1\" class=\"dataframe\">\n",
       "  <thead>\n",
       "    <tr style=\"text-align: right;\">\n",
       "      <th></th>\n",
       "      <th>revol_util</th>\n",
       "      <th>total_acc</th>\n",
       "      <th>total_rec_int</th>\n",
       "      <th>total_rec_late_fee</th>\n",
       "      <th>recoveries</th>\n",
       "      <th>collection_recovery_fee</th>\n",
       "      <th>last_pymnt_d</th>\n",
       "      <th>last_pymnt_amnt</th>\n",
       "      <th>next_pymnt_d</th>\n",
       "    </tr>\n",
       "  </thead>\n",
       "  <tbody>\n",
       "    <tr>\n",
       "      <th>0</th>\n",
       "      <td>83.7</td>\n",
       "      <td>9.0</td>\n",
       "      <td>863.16</td>\n",
       "      <td>0.00</td>\n",
       "      <td>0.0</td>\n",
       "      <td>0.00</td>\n",
       "      <td>Jan-2015</td>\n",
       "      <td>171.62</td>\n",
       "      <td>NaN</td>\n",
       "    </tr>\n",
       "    <tr>\n",
       "      <th>1</th>\n",
       "      <td>9.4</td>\n",
       "      <td>4.0</td>\n",
       "      <td>435.17</td>\n",
       "      <td>0.00</td>\n",
       "      <td>122.9</td>\n",
       "      <td>1.11</td>\n",
       "      <td>Apr-2013</td>\n",
       "      <td>119.66</td>\n",
       "      <td>NaN</td>\n",
       "    </tr>\n",
       "    <tr>\n",
       "      <th>2</th>\n",
       "      <td>98.5</td>\n",
       "      <td>10.0</td>\n",
       "      <td>605.67</td>\n",
       "      <td>0.00</td>\n",
       "      <td>0.0</td>\n",
       "      <td>0.00</td>\n",
       "      <td>Jun-2014</td>\n",
       "      <td>649.91</td>\n",
       "      <td>NaN</td>\n",
       "    </tr>\n",
       "    <tr>\n",
       "      <th>3</th>\n",
       "      <td>21.0</td>\n",
       "      <td>37.0</td>\n",
       "      <td>2214.92</td>\n",
       "      <td>16.97</td>\n",
       "      <td>0.0</td>\n",
       "      <td>0.00</td>\n",
       "      <td>Jan-2015</td>\n",
       "      <td>357.48</td>\n",
       "      <td>NaN</td>\n",
       "    </tr>\n",
       "    <tr>\n",
       "      <th>4</th>\n",
       "      <td>53.9</td>\n",
       "      <td>38.0</td>\n",
       "      <td>1066.91</td>\n",
       "      <td>0.00</td>\n",
       "      <td>0.0</td>\n",
       "      <td>0.00</td>\n",
       "      <td>Jan-2017</td>\n",
       "      <td>67.30</td>\n",
       "      <td>NaN</td>\n",
       "    </tr>\n",
       "    <tr>\n",
       "      <th>5</th>\n",
       "      <td>28.3</td>\n",
       "      <td>12.0</td>\n",
       "      <td>632.21</td>\n",
       "      <td>0.00</td>\n",
       "      <td>0.0</td>\n",
       "      <td>0.00</td>\n",
       "      <td>Jan-2015</td>\n",
       "      <td>161.03</td>\n",
       "      <td>NaN</td>\n",
       "    </tr>\n",
       "  </tbody>\n",
       "</table>\n",
       "</div>"
      ],
      "text/plain": [
       "   revol_util  total_acc  total_rec_int  total_rec_late_fee  recoveries  \\\n",
       "0        83.7        9.0         863.16                0.00         0.0   \n",
       "1         9.4        4.0         435.17                0.00       122.9   \n",
       "2        98.5       10.0         605.67                0.00         0.0   \n",
       "3        21.0       37.0        2214.92               16.97         0.0   \n",
       "4        53.9       38.0        1066.91                0.00         0.0   \n",
       "5        28.3       12.0         632.21                0.00         0.0   \n",
       "\n",
       "   collection_recovery_fee last_pymnt_d  last_pymnt_amnt next_pymnt_d  \n",
       "0                     0.00     Jan-2015           171.62          NaN  \n",
       "1                     1.11     Apr-2013           119.66          NaN  \n",
       "2                     0.00     Jun-2014           649.91          NaN  \n",
       "3                     0.00     Jan-2015           357.48          NaN  \n",
       "4                     0.00     Jan-2017            67.30          NaN  \n",
       "5                     0.00     Jan-2015           161.03          NaN  "
      ]
     },
     "execution_count": 55,
     "metadata": {},
     "output_type": "execute_result"
    }
   ],
   "source": [
    "lendingclubdf.ix[:5,23:32]\n"
   ]
  },
  {
   "cell_type": "code",
   "execution_count": 56,
   "metadata": {
    "collapsed": true
   },
   "outputs": [],
   "source": [
    "lendingclubdf.drop(['last_pymnt_d','last_pymnt_amnt',\n",
    "         'next_pymnt_d','last_credit_pull_d'],1, inplace=True)\n"
   ]
  },
  {
   "cell_type": "code",
   "execution_count": 58,
   "metadata": {
    "collapsed": false
   },
   "outputs": [
    {
     "data": {
      "text/html": [
       "<div>\n",
       "<table border=\"1\" class=\"dataframe\">\n",
       "  <thead>\n",
       "    <tr style=\"text-align: right;\">\n",
       "      <th></th>\n",
       "      <th>revol_util</th>\n",
       "      <th>total_acc</th>\n",
       "      <th>total_rec_int</th>\n",
       "      <th>total_rec_late_fee</th>\n",
       "      <th>recoveries</th>\n",
       "      <th>collection_recovery_fee</th>\n",
       "      <th>last_fico_range_high</th>\n",
       "      <th>last_fico_range_low</th>\n",
       "      <th>collections_12_mths_ex_med</th>\n",
       "    </tr>\n",
       "  </thead>\n",
       "  <tbody>\n",
       "    <tr>\n",
       "      <th>0</th>\n",
       "      <td>83.7</td>\n",
       "      <td>9.0</td>\n",
       "      <td>863.16</td>\n",
       "      <td>0.00</td>\n",
       "      <td>0.0</td>\n",
       "      <td>0.00</td>\n",
       "      <td>754.0</td>\n",
       "      <td>750.0</td>\n",
       "      <td>0.0</td>\n",
       "    </tr>\n",
       "    <tr>\n",
       "      <th>1</th>\n",
       "      <td>9.4</td>\n",
       "      <td>4.0</td>\n",
       "      <td>435.17</td>\n",
       "      <td>0.00</td>\n",
       "      <td>122.9</td>\n",
       "      <td>1.11</td>\n",
       "      <td>499.0</td>\n",
       "      <td>0.0</td>\n",
       "      <td>0.0</td>\n",
       "    </tr>\n",
       "    <tr>\n",
       "      <th>2</th>\n",
       "      <td>98.5</td>\n",
       "      <td>10.0</td>\n",
       "      <td>605.67</td>\n",
       "      <td>0.00</td>\n",
       "      <td>0.0</td>\n",
       "      <td>0.00</td>\n",
       "      <td>684.0</td>\n",
       "      <td>680.0</td>\n",
       "      <td>0.0</td>\n",
       "    </tr>\n",
       "    <tr>\n",
       "      <th>3</th>\n",
       "      <td>21.0</td>\n",
       "      <td>37.0</td>\n",
       "      <td>2214.92</td>\n",
       "      <td>16.97</td>\n",
       "      <td>0.0</td>\n",
       "      <td>0.00</td>\n",
       "      <td>604.0</td>\n",
       "      <td>600.0</td>\n",
       "      <td>0.0</td>\n",
       "    </tr>\n",
       "    <tr>\n",
       "      <th>4</th>\n",
       "      <td>53.9</td>\n",
       "      <td>38.0</td>\n",
       "      <td>1066.91</td>\n",
       "      <td>0.00</td>\n",
       "      <td>0.0</td>\n",
       "      <td>0.00</td>\n",
       "      <td>694.0</td>\n",
       "      <td>690.0</td>\n",
       "      <td>0.0</td>\n",
       "    </tr>\n",
       "    <tr>\n",
       "      <th>5</th>\n",
       "      <td>28.3</td>\n",
       "      <td>12.0</td>\n",
       "      <td>632.21</td>\n",
       "      <td>0.00</td>\n",
       "      <td>0.0</td>\n",
       "      <td>0.00</td>\n",
       "      <td>564.0</td>\n",
       "      <td>560.0</td>\n",
       "      <td>0.0</td>\n",
       "    </tr>\n",
       "  </tbody>\n",
       "</table>\n",
       "</div>"
      ],
      "text/plain": [
       "   revol_util  total_acc  total_rec_int  total_rec_late_fee  recoveries  \\\n",
       "0        83.7        9.0         863.16                0.00         0.0   \n",
       "1         9.4        4.0         435.17                0.00       122.9   \n",
       "2        98.5       10.0         605.67                0.00         0.0   \n",
       "3        21.0       37.0        2214.92               16.97         0.0   \n",
       "4        53.9       38.0        1066.91                0.00         0.0   \n",
       "5        28.3       12.0         632.21                0.00         0.0   \n",
       "\n",
       "   collection_recovery_fee  last_fico_range_high  last_fico_range_low  \\\n",
       "0                     0.00                 754.0                750.0   \n",
       "1                     1.11                 499.0                  0.0   \n",
       "2                     0.00                 684.0                680.0   \n",
       "3                     0.00                 604.0                600.0   \n",
       "4                     0.00                 694.0                690.0   \n",
       "5                     0.00                 564.0                560.0   \n",
       "\n",
       "   collections_12_mths_ex_med  \n",
       "0                         0.0  \n",
       "1                         0.0  \n",
       "2                         0.0  \n",
       "3                         0.0  \n",
       "4                         0.0  \n",
       "5                         0.0  "
      ]
     },
     "execution_count": 58,
     "metadata": {},
     "output_type": "execute_result"
    }
   ],
   "source": [
    "lendingclubdf.ix[:5,23:32]"
   ]
  },
  {
   "cell_type": "code",
   "execution_count": 59,
   "metadata": {
    "collapsed": true
   },
   "outputs": [],
   "source": [
    "\n",
    "lendingclubdf['last_fico_range'] = lendingclubdf.last_fico_range_low.astype('str') + '-' + lendingclubdf.last_fico_range_high.astype('str')\n",
    "lendingclubdf['last_meanfico'] = (lendingclubdf.last_fico_range_low + lendingclubdf.last_fico_range_high)/2\n",
    "lendingclubdf.drop(['last_fico_range_high','last_fico_range_low','policy_code'],1, inplace=True)"
   ]
  },
  {
   "cell_type": "code",
   "execution_count": 61,
   "metadata": {
    "collapsed": false
   },
   "outputs": [
    {
     "name": "stdout",
     "output_type": "stream",
     "text": [
      "Index(['loan_amnt', 'funded_amnt', 'funded_amnt_inv', 'term', 'int_rate',\n",
      "       'installment', 'emp_length', 'home_ownership', 'annual_inc',\n",
      "       'verification_status', 'issue_d', 'purpose', 'zip_code', 'addr_state',\n",
      "       'dti', 'delinq_2yrs', 'earliest_cr_line', 'inq_last_6mths',\n",
      "       'mths_since_last_delinq', 'mths_since_last_record', 'open_acc',\n",
      "       'pub_rec', 'revol_bal', 'revol_util', 'total_acc', 'total_rec_int',\n",
      "       'total_rec_late_fee', 'recoveries', 'collection_recovery_fee',\n",
      "       'collections_12_mths_ex_med', 'mths_since_last_major_derog',\n",
      "       'application_type', 'annual_inc_joint', 'dti_joint',\n",
      "       'verification_status_joint', 'acc_now_delinq', 'tot_coll_amt',\n",
      "       'tot_cur_bal', 'open_acc_6m', 'open_il_6m', 'open_il_12m',\n",
      "       'open_il_24m', 'mths_since_rcnt_il', 'total_bal_il', 'il_util',\n",
      "       'open_rv_12m', 'open_rv_24m', 'max_bal_bc', 'all_util',\n",
      "       'total_rev_hi_lim', 'inq_fi', 'total_cu_tl', 'inq_last_12m',\n",
      "       'acc_open_past_24mths', 'avg_cur_bal', 'bc_open_to_buy', 'bc_util',\n",
      "       'chargeoff_within_12_mths', 'delinq_amnt', 'mo_sin_old_il_acct',\n",
      "       'mo_sin_old_rev_tl_op', 'mo_sin_rcnt_rev_tl_op', 'mo_sin_rcnt_tl',\n",
      "       'mort_acc', 'mths_since_recent_bc', 'mths_since_recent_bc_dlq',\n",
      "       'mths_since_recent_inq', 'mths_since_recent_revol_delinq',\n",
      "       'num_accts_ever_120_pd', 'num_actv_bc_tl', 'num_actv_rev_tl',\n",
      "       'num_bc_sats', 'num_bc_tl', 'num_il_tl', 'num_op_rev_tl',\n",
      "       'num_rev_accts', 'num_rev_tl_bal_gt_0', 'num_sats', 'num_tl_120dpd_2m',\n",
      "       'num_tl_30dpd', 'num_tl_90g_dpd_24m', 'num_tl_op_past_12m',\n",
      "       'pct_tl_nvr_dlq', 'percent_bc_gt_75', 'pub_rec_bankruptcies',\n",
      "       'tax_liens', 'tot_hi_cred_lim', 'total_bal_ex_mort', 'total_bc_limit',\n",
      "       'total_il_high_credit_limit', 'fico_range', 'meanfico',\n",
      "       'last_fico_range', 'last_meanfico'],\n",
      "      dtype='object')\n",
      "[[5000.0 5000.0 4975.0 ' 36 months' 10.65 162.87 10 'RENT' 24000.0\n",
      "  'Verified' 'Dec-2011' 'credit_card' '860xx' 'AZ' 27.65 0.0\n",
      "  Timestamp('1985-01-01 00:00:00') 1.0 nan nan 3.0 0.0 13648.0 83.7 9.0\n",
      "  863.16 0.0 0.0 0.0 0.0 nan 'INDIVIDUAL' nan nan nan 0.0 nan nan nan nan\n",
      "  nan nan nan nan nan nan nan nan nan nan nan nan nan nan nan nan nan 0.0\n",
      "  0.0 nan nan nan nan nan nan nan nan nan nan nan nan nan nan nan nan nan\n",
      "  nan nan nan nan nan nan nan nan 0.0 0.0 nan nan nan nan '735.0-739.0'\n",
      "  737.0 '750.0-754.0' 752.0]]\n",
      "<class 'pandas.core.frame.DataFrame'>\n",
      "RangeIndex: 42538 entries, 0 to 42537\n",
      "Data columns (total 94 columns):\n",
      "loan_amnt                         42535 non-null float64\n",
      "funded_amnt                       42535 non-null float64\n",
      "funded_amnt_inv                   42535 non-null float64\n",
      "term                              42535 non-null object\n",
      "int_rate                          42535 non-null float64\n",
      "installment                       42535 non-null float64\n",
      "emp_length                        42538 non-null int64\n",
      "home_ownership                    42535 non-null object\n",
      "annual_inc                        42531 non-null float64\n",
      "verification_status               42535 non-null object\n",
      "issue_d                           42535 non-null object\n",
      "purpose                           42535 non-null object\n",
      "zip_code                          42535 non-null object\n",
      "addr_state                        42535 non-null object\n",
      "dti                               42535 non-null float64\n",
      "delinq_2yrs                       42506 non-null float64\n",
      "earliest_cr_line                  42506 non-null datetime64[ns]\n",
      "inq_last_6mths                    42506 non-null float64\n",
      "mths_since_last_delinq            15609 non-null float64\n",
      "mths_since_last_record            3651 non-null float64\n",
      "open_acc                          42506 non-null float64\n",
      "pub_rec                           42506 non-null float64\n",
      "revol_bal                         42535 non-null float64\n",
      "revol_util                        42445 non-null float64\n",
      "total_acc                         42506 non-null float64\n",
      "total_rec_int                     42535 non-null float64\n",
      "total_rec_late_fee                42535 non-null float64\n",
      "recoveries                        42535 non-null float64\n",
      "collection_recovery_fee           42535 non-null float64\n",
      "collections_12_mths_ex_med        42390 non-null float64\n",
      "mths_since_last_major_derog       0 non-null float64\n",
      "application_type                  42535 non-null object\n",
      "annual_inc_joint                  0 non-null float64\n",
      "dti_joint                         0 non-null float64\n",
      "verification_status_joint         0 non-null float64\n",
      "acc_now_delinq                    42506 non-null float64\n",
      "tot_coll_amt                      0 non-null float64\n",
      "tot_cur_bal                       0 non-null float64\n",
      "open_acc_6m                       0 non-null float64\n",
      "open_il_6m                        0 non-null float64\n",
      "open_il_12m                       0 non-null float64\n",
      "open_il_24m                       0 non-null float64\n",
      "mths_since_rcnt_il                0 non-null float64\n",
      "total_bal_il                      0 non-null float64\n",
      "il_util                           0 non-null float64\n",
      "open_rv_12m                       0 non-null float64\n",
      "open_rv_24m                       0 non-null float64\n",
      "max_bal_bc                        0 non-null float64\n",
      "all_util                          0 non-null float64\n",
      "total_rev_hi_lim                  0 non-null float64\n",
      "inq_fi                            0 non-null float64\n",
      "total_cu_tl                       0 non-null float64\n",
      "inq_last_12m                      0 non-null float64\n",
      "acc_open_past_24mths              0 non-null float64\n",
      "avg_cur_bal                       0 non-null float64\n",
      "bc_open_to_buy                    0 non-null float64\n",
      "bc_util                           0 non-null float64\n",
      "chargeoff_within_12_mths          42390 non-null float64\n",
      "delinq_amnt                       42506 non-null float64\n",
      "mo_sin_old_il_acct                0 non-null float64\n",
      "mo_sin_old_rev_tl_op              0 non-null float64\n",
      "mo_sin_rcnt_rev_tl_op             0 non-null float64\n",
      "mo_sin_rcnt_tl                    0 non-null float64\n",
      "mort_acc                          0 non-null float64\n",
      "mths_since_recent_bc              0 non-null float64\n",
      "mths_since_recent_bc_dlq          0 non-null float64\n",
      "mths_since_recent_inq             0 non-null float64\n",
      "mths_since_recent_revol_delinq    0 non-null float64\n",
      "num_accts_ever_120_pd             0 non-null float64\n",
      "num_actv_bc_tl                    0 non-null float64\n",
      "num_actv_rev_tl                   0 non-null float64\n",
      "num_bc_sats                       0 non-null float64\n",
      "num_bc_tl                         0 non-null float64\n",
      "num_il_tl                         0 non-null float64\n",
      "num_op_rev_tl                     0 non-null float64\n",
      "num_rev_accts                     0 non-null float64\n",
      "num_rev_tl_bal_gt_0               0 non-null float64\n",
      "num_sats                          0 non-null float64\n",
      "num_tl_120dpd_2m                  0 non-null float64\n",
      "num_tl_30dpd                      0 non-null float64\n",
      "num_tl_90g_dpd_24m                0 non-null float64\n",
      "num_tl_op_past_12m                0 non-null float64\n",
      "pct_tl_nvr_dlq                    0 non-null float64\n",
      "percent_bc_gt_75                  0 non-null float64\n",
      "pub_rec_bankruptcies              41170 non-null float64\n",
      "tax_liens                         42430 non-null float64\n",
      "tot_hi_cred_lim                   0 non-null float64\n",
      "total_bal_ex_mort                 0 non-null float64\n",
      "total_bc_limit                    0 non-null float64\n",
      "total_il_high_credit_limit        0 non-null float64\n",
      "fico_range                        42538 non-null object\n",
      "meanfico                          42535 non-null float64\n",
      "last_fico_range                   42538 non-null object\n",
      "last_meanfico                     42535 non-null float64\n",
      "dtypes: datetime64[ns](1), float64(82), int64(1), object(10)\n",
      "memory usage: 30.5+ MB\n"
     ]
    }
   ],
   "source": [
    "print (lendingclubdf.columns)\n",
    "print (lendingclubdf.head(1).values)\n",
    "lendingclubdf.info()"
   ]
  },
  {
   "cell_type": "code",
   "execution_count": 63,
   "metadata": {
    "collapsed": false
   },
   "outputs": [],
   "source": [
    " lendingclubdf.fillna(0.0,inplace=True)\n",
    "lendingclubdf.fillna(0,inplace=True)\n"
   ]
  },
  {
   "cell_type": "code",
   "execution_count": 68,
   "metadata": {
    "collapsed": false
   },
   "outputs": [],
   "source": [
    "cor = lendingclubdf.corr()\n",
    "cor.loc[:,:] = np.tril(cor, k=-1) # below main lower triangle of an array\n",
    "cor = cor.stack()\n",
    "cor[(cor > 0.55) | (cor < -0.55)]\n",
    "df=lendingclubdf"
   ]
  },
  {
   "cell_type": "code",
   "execution_count": 69,
   "metadata": {
    "collapsed": false
   },
   "outputs": [],
   "source": [
    "df.drop(['zip_code','funded_amnt','funded_amnt_inv', 'installment', 'mths_since_last_delinq', 'total_acc'], axis=1, inplace=True)"
   ]
  },
  {
   "cell_type": "code",
   "execution_count": 70,
   "metadata": {
    "collapsed": false
   },
   "outputs": [
    {
     "data": {
      "image/png": "[encoded data removed]",
      "text/plain": [
       "<matplotlib.figure.Figure at 0x7fdfb2c996a0>"
      ]
     },
     "metadata": {},
     "output_type": "display_data"
    }
   ],
   "source": [
    "plot_df = df.query('last_meanfico > 600 & int_rate <28')[:3000]\n",
    "\n",
    "sns.set(font_scale=1.2, rc={\"lines.linewidth\": 1.5}) \n",
    "\n",
    "\n",
    "\n",
    "g = sns.lmplot(\"int_rate\", \"last_meanfico\", x_jitter= .7,  y_jitter= .1,\n",
    "           data=plot_df, hue='term',lowess=True, size=5,aspect=1.4, legend_out=False,\n",
    "           scatter_kws={ 's':20, 'alpha':.6})\n",
    "\n",
    "g.set(xlim=(2.5, 28),ylim=(580, 880),alpha = .5)\n",
    "\n",
    "g.savefig('1.png',transparent=True)\n"
   ]
  },
  {
   "cell_type": "code",
   "execution_count": 71,
   "metadata": {
    "collapsed": true
   },
   "outputs": [],
   "source": [
    "y = df.int_rate.values\n",
    "df.drop('int_rate',axis = 1, inplace=True)\n"
   ]
  },
  {
   "cell_type": "code",
   "execution_count": 72,
   "metadata": {
    "collapsed": false
   },
   "outputs": [
    {
     "data": {
      "text/plain": [
       "(array([  0.  ,   5.42,   5.79,   5.99,   6.  ,   6.03,   6.17,   6.39,\n",
       "          6.54,   6.62,   6.76,   6.91,   6.92,   6.99,   7.05,   7.12,\n",
       "          7.14,   7.29,   7.37,   7.4 ,   7.42,   7.43,   7.49,   7.51,\n",
       "          7.66,   7.68,   7.74,   7.75,   7.88,   7.9 ,   7.91,   8.  ,\n",
       "          8.07,   8.32,   8.38,   8.49,   8.59,   8.63,   8.7 ,   8.88,\n",
       "          8.9 ,   8.94,   9.01,   9.07,   9.2 ,   9.25,   9.32,   9.33,\n",
       "          9.38,   9.45,   9.51,   9.62,   9.63,   9.64,   9.67,   9.7 ,\n",
       "          9.76,   9.83,   9.88,   9.91,   9.96,   9.99,  10.  ,  10.01,\n",
       "         10.08,  10.14,  10.2 ,  10.25,  10.28,  10.33,  10.36,  10.37,\n",
       "         10.38,  10.39,  10.46,  10.51,  10.59,  10.62,  10.64,  10.65,\n",
       "         10.71,  10.74,  10.75,  10.78,  10.83,  10.91,  10.95,  10.96,\n",
       "         10.99,  11.03,  11.09,  11.11,  11.12,  11.14,  11.22,  11.26,\n",
       "         11.28,  11.34,  11.36,  11.41,  11.46,  11.48,  11.49,  11.54,\n",
       "         11.58,  11.59,  11.63,  11.66,  11.71,  11.72,  11.78,  11.83,\n",
       "         11.86,  11.89,  11.91,  11.97,  11.99,  12.04,  12.09,  12.12,\n",
       "         12.17,  12.18,  12.21,  12.22,  12.23,  12.29,  12.36,  12.41,\n",
       "         12.42,  12.49,  12.53,  12.54,  12.61,  12.62,  12.67,  12.68,\n",
       "         12.69,  12.72,  12.73,  12.8 ,  12.84,  12.86,  12.87,  12.92,\n",
       "         12.98,  12.99,  13.04,  13.06,  13.11,  13.12,  13.16,  13.17,\n",
       "         13.22,  13.23,  13.24,  13.3 ,  13.35,  13.36,  13.43,  13.47,\n",
       "         13.48,  13.49,  13.55,  13.57,  13.61,  13.62,  13.67,  13.72,\n",
       "         13.75,  13.79,  13.8 ,  13.84,  13.85,  13.87,  13.92,  13.93,\n",
       "         13.98,  13.99,  14.07,  14.09,  14.11,  14.12,  14.17,  14.18,\n",
       "         14.22,  14.25,  14.26,  14.27,  14.3 ,  14.35,  14.38,  14.42,\n",
       "         14.43,  14.46,  14.5 ,  14.54,  14.57,  14.59,  14.61,  14.62,\n",
       "         14.65,  14.67,  14.7 ,  14.72,  14.74,  14.75,  14.79,  14.82,\n",
       "         14.83,  14.84,  14.88,  14.91,  14.93,  14.96,  15.01,  15.05,\n",
       "         15.07,  15.13,  15.2 ,  15.21,  15.23,  15.25,  15.27,  15.28,\n",
       "         15.31,  15.33,  15.37,  15.38,  15.45,  15.51,  15.57,  15.58,\n",
       "         15.62,  15.65,  15.68,  15.7 ,  15.76,  15.83,  15.88,  15.95,\n",
       "         15.96,  15.99,  16.  ,  16.01,  16.02,  16.07,  16.08,  16.11,\n",
       "         16.15,  16.2 ,  16.28,  16.29,  16.32,  16.33,  16.35,  16.4 ,\n",
       "         16.45,  16.46,  16.49,  16.59,  16.63,  16.65,  16.69,  16.7 ,\n",
       "         16.71,  16.77,  16.82,  16.83,  16.89,  16.91,  16.95,  16.96,\n",
       "         17.03,  17.04,  17.06,  17.09,  17.14,  17.15,  17.19,  17.22,\n",
       "         17.26,  17.27,  17.28,  17.34,  17.39,  17.41,  17.43,  17.44,\n",
       "         17.46,  17.49,  17.51,  17.54,  17.56,  17.58,  17.59,  17.66,\n",
       "         17.72,  17.74,  17.78,  17.8 ,  17.86,  17.88,  17.9 ,  17.91,\n",
       "         17.93,  17.97,  17.99,  18.04,  18.07,  18.09,  18.17,  18.21,\n",
       "         18.25,  18.29,  18.3 ,  18.36,  18.39,  18.43,  18.49,  18.53,\n",
       "         18.54,  18.61,  18.62,  18.64,  18.67,  18.72,  18.78,  18.79,\n",
       "         18.84,  18.86,  18.91,  18.99,  19.03,  19.04,  19.13,  19.16,\n",
       "         19.29,  19.36,  19.39,  19.41,  19.42,  19.47,  19.66,  19.69,\n",
       "         19.74,  19.79,  19.82,  19.91,  20.03,  20.11,  20.16,  20.17,\n",
       "         20.2 ,  20.25,  20.3 ,  20.4 ,  20.48,  20.52,  20.53,  20.62,\n",
       "         20.69,  20.77,  20.85,  20.86,  20.89,  20.9 ,  20.99,  21.14,\n",
       "         21.21,  21.22,  21.27,  21.28,  21.36,  21.48,  21.59,  21.64,\n",
       "         21.67,  21.74,  21.82,  22.06,  22.11,  22.35,  22.48,  22.64,\n",
       "         22.74,  22.85,  22.94,  23.13,  23.22,  23.52,  23.59,  23.91,\n",
       "         24.11,  24.4 ,  24.59]),\n",
       " <matplotlib.axes._subplots.AxesSubplot at 0x7fdfb2c99ac8>)"
      ]
     },
     "execution_count": 72,
     "metadata": {},
     "output_type": "execute_result"
    },
    {
     "data": {
      "image/png": "[encoded data removed]",
      "text/plain": [
       "<matplotlib.figure.Figure at 0x7fdfb2c99630>"
      ]
     },
     "metadata": {},
     "output_type": "display_data"
    }
   ],
   "source": [
    "np.unique(y), pd.Series(y).plot(kind='hist',alpha=.7, bins=20, title='Interest Rate Distribution')"
   ]
  },
  {
   "cell_type": "code",
   "execution_count": 73,
   "metadata": {
    "collapsed": false
   },
   "outputs": [
    {
     "name": "stdout",
     "output_type": "stream",
     "text": [
      "<class 'pandas.core.frame.DataFrame'>\n",
      "RangeIndex: 42538 entries, 0 to 42537\n",
      "Columns: 333 entries, loan_amnt to last_fico_range_nan-nan\n",
      "dtypes: datetime64[ns](1), float64(331), int64(1)\n",
      "memory usage: 108.1 MB\n"
     ]
    }
   ],
   "source": [
    "df = pd.get_dummies(df)\n",
    "df.info()"
   ]
  },
  {
   "cell_type": "code",
   "execution_count": 74,
   "metadata": {
    "collapsed": true
   },
   "outputs": [],
   "source": [
    "from sklearn import ensemble\n",
    "from sklearn import datasets\n",
    "from sklearn.utils import shuffle\n",
    "from sklearn.metrics import mean_squared_error\n",
    "from matplotlib import pyplot as plt\n"
   ]
  },
  {
   "cell_type": "code",
   "execution_count": 82,
   "metadata": {
    "collapsed": false
   },
   "outputs": [
    {
     "ename": "TypeError",
     "evalue": "float() argument must be a string or a number, not 'Timestamp'",
     "output_type": "error",
     "traceback": [
      "\u001b[1;31m\u001b[0m",
      "\u001b[1;31mTypeError\u001b[0mTraceback (most recent call last)",
      "\u001b[1;32m<ipython-input-82-8c3edd202e5d>\u001b[0m in \u001b[0;36m<module>\u001b[1;34m()\u001b[0m\n\u001b[1;32m----> 1\u001b[1;33m \u001b[0mX\u001b[0m\u001b[1;33m.\u001b[0m\u001b[0mastype\u001b[0m\u001b[1;33m(\u001b[0m\u001b[0mfloat\u001b[0m\u001b[1;33m)\u001b[0m\u001b[1;33m\u001b[0m\u001b[0m\n\u001b[0m",
      "\u001b[1;31mTypeError\u001b[0m: float() argument must be a string or a number, not 'Timestamp'"
     ]
    }
   ],
   "source": [
    "X.astype(float)"
   ]
  },
  {
   "cell_type": "code",
   "execution_count": 76,
   "metadata": {
    "collapsed": false
   },
   "outputs": [
    {
     "ename": "TypeError",
     "evalue": "float() argument must be a string or a number, not 'Timestamp'",
     "output_type": "error",
     "traceback": [
      "\u001b[1;31m\u001b[0m",
      "\u001b[1;31mTypeError\u001b[0mTraceback (most recent call last)",
      "\u001b[1;32m<ipython-input-76-90b041cfe193>\u001b[0m in \u001b[0;36m<module>\u001b[1;34m()\u001b[0m\n\u001b[0;32m      1\u001b[0m \u001b[0mX\u001b[0m\u001b[1;33m,\u001b[0m \u001b[0my\u001b[0m \u001b[1;33m=\u001b[0m \u001b[0mshuffle\u001b[0m\u001b[1;33m(\u001b[0m\u001b[0mdf\u001b[0m\u001b[1;33m.\u001b[0m\u001b[0mvalues\u001b[0m\u001b[1;33m,\u001b[0m \u001b[0my\u001b[0m\u001b[1;33m,\u001b[0m \u001b[0mrandom_state\u001b[0m\u001b[1;33m=\u001b[0m\u001b[1;36m30\u001b[0m\u001b[1;33m)\u001b[0m\u001b[1;33m\u001b[0m\u001b[0m\n\u001b[1;32m----> 2\u001b[1;33m \u001b[0mX\u001b[0m \u001b[1;33m=\u001b[0m \u001b[0mX\u001b[0m\u001b[1;33m.\u001b[0m\u001b[0mastype\u001b[0m\u001b[1;33m(\u001b[0m\u001b[0mnp\u001b[0m\u001b[1;33m.\u001b[0m\u001b[0mfloat32\u001b[0m\u001b[1;33m)\u001b[0m\u001b[1;33m\u001b[0m\u001b[0m\n\u001b[0m",
      "\u001b[1;31mTypeError\u001b[0m: float() argument must be a string or a number, not 'Timestamp'"
     ]
    }
   ],
   "source": [
    "X, y = shuffle(df.values, y, random_state=30)\n",
    "#X = X.astype(np.float32)\n"
   ]
  },
  {
   "cell_type": "code",
   "execution_count": null,
   "metadata": {
    "collapsed": true
   },
   "outputs": [],
   "source": [
    "offset = int(X.shape[0] * 0.75)\n",
    "X_train, y_train = X[:offset], y[:offset]\n",
    "X_test, y_test = X[offset:], y[offset:]"
   ]
  }
 ],
 "metadata": {
  "kernelspec": {
   "display_name": "Python 3.5 (Experimental) with Spark 1.6",
   "language": "python",
   "name": "python3"
  },
  "language_info": {
   "codemirror_mode": {
    "name": "ipython",
    "version": 3
   },
   "file_extension": ".py",
   "mimetype": "text/x-python",
   "name": "python",
   "nbconvert_exporter": "python",
   "pygments_lexer": "ipython3",
   "version": "3.5.2"
  }
 },
 "nbformat": 4,
 "nbformat_minor": 0
}