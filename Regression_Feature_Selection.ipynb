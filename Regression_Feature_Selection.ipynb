{
 "cells": [
  {
   "cell_type": "code",
   "execution_count": 222,
   "metadata": {
    "collapsed": false
   },
   "outputs": [
    {
     "data": {
      "text/html": [
       "<div>\n",
       "<table border=\"1\" class=\"dataframe\">\n",
       "  <thead>\n",
       "    <tr style=\"text-align: right;\">\n",
       "      <th></th>\n",
       "      <th>acc_open_past_24mths</th>\n",
       "      <th>addr_state</th>\n",
       "      <th>all_util</th>\n",
       "      <th>annual_inc</th>\n",
       "      <th>annual_inc_joint</th>\n",
       "      <th>avg_cur_bal</th>\n",
       "      <th>bc_open_to_buy</th>\n",
       "      <th>bc_util</th>\n",
       "      <th>chargeoff_within_12_mths</th>\n",
       "      <th>collection_recovery_fee</th>\n",
       "      <th>...</th>\n",
       "      <th>total_cu_tl</th>\n",
       "      <th>total_il_high_credit_limit</th>\n",
       "      <th>total_pymnt</th>\n",
       "      <th>total_pymnt_inv</th>\n",
       "      <th>total_rec_int</th>\n",
       "      <th>total_rec_late_fee</th>\n",
       "      <th>total_rec_prncp</th>\n",
       "      <th>total_rev_hi_lim</th>\n",
       "      <th>verification_status</th>\n",
       "      <th>zip_code</th>\n",
       "    </tr>\n",
       "  </thead>\n",
       "  <tbody>\n",
       "    <tr>\n",
       "      <th>0</th>\n",
       "      <td>NaN</td>\n",
       "      <td>GA</td>\n",
       "      <td>NaN</td>\n",
       "      <td>30000</td>\n",
       "      <td>NaN</td>\n",
       "      <td>NaN</td>\n",
       "      <td>NaN</td>\n",
       "      <td>NaN</td>\n",
       "      <td>0</td>\n",
       "      <td>1.12</td>\n",
       "      <td>...</td>\n",
       "      <td>NaN</td>\n",
       "      <td>NaN</td>\n",
       "      <td>1014.53</td>\n",
       "      <td>1014.53</td>\n",
       "      <td>435.17</td>\n",
       "      <td>0.00</td>\n",
       "      <td>456.46</td>\n",
       "      <td>NaN</td>\n",
       "      <td>Source Verified</td>\n",
       "      <td>309</td>\n",
       "    </tr>\n",
       "    <tr>\n",
       "      <th>1</th>\n",
       "      <td>NaN</td>\n",
       "      <td>CA</td>\n",
       "      <td>NaN</td>\n",
       "      <td>49200</td>\n",
       "      <td>NaN</td>\n",
       "      <td>NaN</td>\n",
       "      <td>NaN</td>\n",
       "      <td>NaN</td>\n",
       "      <td>0</td>\n",
       "      <td>0.00</td>\n",
       "      <td>...</td>\n",
       "      <td>NaN</td>\n",
       "      <td>NaN</td>\n",
       "      <td>12231.90</td>\n",
       "      <td>12231.89</td>\n",
       "      <td>2214.92</td>\n",
       "      <td>16.97</td>\n",
       "      <td>10000.00</td>\n",
       "      <td>NaN</td>\n",
       "      <td>Source Verified</td>\n",
       "      <td>917</td>\n",
       "    </tr>\n",
       "    <tr>\n",
       "      <th>2</th>\n",
       "      <td>NaN</td>\n",
       "      <td>OR</td>\n",
       "      <td>NaN</td>\n",
       "      <td>80000</td>\n",
       "      <td>NaN</td>\n",
       "      <td>NaN</td>\n",
       "      <td>NaN</td>\n",
       "      <td>NaN</td>\n",
       "      <td>0</td>\n",
       "      <td>0.00</td>\n",
       "      <td>...</td>\n",
       "      <td>NaN</td>\n",
       "      <td>NaN</td>\n",
       "      <td>4066.91</td>\n",
       "      <td>4066.91</td>\n",
       "      <td>1066.91</td>\n",
       "      <td>0.00</td>\n",
       "      <td>3000.00</td>\n",
       "      <td>NaN</td>\n",
       "      <td>Source Verified</td>\n",
       "      <td>972</td>\n",
       "    </tr>\n",
       "    <tr>\n",
       "      <th>3</th>\n",
       "      <td>NaN</td>\n",
       "      <td>NC</td>\n",
       "      <td>NaN</td>\n",
       "      <td>47004</td>\n",
       "      <td>NaN</td>\n",
       "      <td>NaN</td>\n",
       "      <td>NaN</td>\n",
       "      <td>NaN</td>\n",
       "      <td>0</td>\n",
       "      <td>0.00</td>\n",
       "      <td>...</td>\n",
       "      <td>NaN</td>\n",
       "      <td>NaN</td>\n",
       "      <td>10137.85</td>\n",
       "      <td>10137.84</td>\n",
       "      <td>3137.84</td>\n",
       "      <td>0.00</td>\n",
       "      <td>7000.00</td>\n",
       "      <td>NaN</td>\n",
       "      <td>Not Verified</td>\n",
       "      <td>280</td>\n",
       "    </tr>\n",
       "    <tr>\n",
       "      <th>4</th>\n",
       "      <td>NaN</td>\n",
       "      <td>CA</td>\n",
       "      <td>NaN</td>\n",
       "      <td>48000</td>\n",
       "      <td>NaN</td>\n",
       "      <td>NaN</td>\n",
       "      <td>NaN</td>\n",
       "      <td>NaN</td>\n",
       "      <td>0</td>\n",
       "      <td>0.00</td>\n",
       "      <td>...</td>\n",
       "      <td>NaN</td>\n",
       "      <td>NaN</td>\n",
       "      <td>3939.14</td>\n",
       "      <td>3939.14</td>\n",
       "      <td>939.14</td>\n",
       "      <td>0.00</td>\n",
       "      <td>3000.00</td>\n",
       "      <td>NaN</td>\n",
       "      <td>Source Verified</td>\n",
       "      <td>900</td>\n",
       "    </tr>\n",
       "  </tbody>\n",
       "</table>\n",
       "<p>5 rows × 111 columns</p>\n",
       "</div>"
      ],
      "text/plain": [
       "   acc_open_past_24mths addr_state  all_util  annual_inc  annual_inc_joint  \\\n",
       "0                   NaN         GA       NaN       30000               NaN   \n",
       "1                   NaN         CA       NaN       49200               NaN   \n",
       "2                   NaN         OR       NaN       80000               NaN   \n",
       "3                   NaN         NC       NaN       47004               NaN   \n",
       "4                   NaN         CA       NaN       48000               NaN   \n",
       "\n",
       "   avg_cur_bal  bc_open_to_buy  bc_util  chargeoff_within_12_mths  \\\n",
       "0          NaN             NaN      NaN                         0   \n",
       "1          NaN             NaN      NaN                         0   \n",
       "2          NaN             NaN      NaN                         0   \n",
       "3          NaN             NaN      NaN                         0   \n",
       "4          NaN             NaN      NaN                         0   \n",
       "\n",
       "   collection_recovery_fee    ...     total_cu_tl  total_il_high_credit_limit  \\\n",
       "0                     1.12    ...             NaN                         NaN   \n",
       "1                     0.00    ...             NaN                         NaN   \n",
       "2                     0.00    ...             NaN                         NaN   \n",
       "3                     0.00    ...             NaN                         NaN   \n",
       "4                     0.00    ...             NaN                         NaN   \n",
       "\n",
       "   total_pymnt  total_pymnt_inv total_rec_int  total_rec_late_fee  \\\n",
       "0      1014.53          1014.53        435.17                0.00   \n",
       "1     12231.90         12231.89       2214.92               16.97   \n",
       "2      4066.91          4066.91       1066.91                0.00   \n",
       "3     10137.85         10137.84       3137.84                0.00   \n",
       "4      3939.14          3939.14        939.14                0.00   \n",
       "\n",
       "   total_rec_prncp total_rev_hi_lim  verification_status  zip_code  \n",
       "0           456.46              NaN      Source Verified       309  \n",
       "1         10000.00              NaN      Source Verified       917  \n",
       "2          3000.00              NaN      Source Verified       972  \n",
       "3          7000.00              NaN         Not Verified       280  \n",
       "4          3000.00              NaN      Source Verified       900  \n",
       "\n",
       "[5 rows x 111 columns]"
      ]
     },
     "execution_count": 222,
     "metadata": {},
     "output_type": "execute_result"
    }
   ],
   "source": [
    "from io import StringIO\n",
    "import requests\n",
    "import json\n",
    "import pandas as pd\n",
    "import numpy as np\n",
    "# @hidden_cell\n",
    "# This function accesses a file in your Object Storage. The definition contains your credentials.\n",
    "# You might want to remove those credentials before you share your notebook.\n",
    "def get_object_storage_file_with_credentials_b6d2dc4304df42d5bf425b6ca8af67ff(container, filename):\n",
    "    \"\"\"This functions returns a StringIO object containing\n",
    "    the file content from Bluemix Object Storage.\"\"\"\n",
    "\n",
    "    url1 = ''.join(['https://identity.open.softlayer.com', '/v3/auth/tokens'])\n",
    "    data = {'auth': {'identity': {'methods': ['password'],\n",
    "            'password': {'user': {'name': 'member_cd9be0e4ff1994ebede81451af2f9ee17e1d0d66','domain': {'id': '9d54dfb7f46d48d8930e2e61e1e7ddab'},\n",
    "            'password': 'IbA26vS(8zQl.2_P'}}}}}\n",
    "    headers1 = {'Content-Type': 'application/json'}\n",
    "    resp1 = requests.post(url=url1, data=json.dumps(data), headers=headers1)\n",
    "    resp1_body = resp1.json()\n",
    "    for e1 in resp1_body['token']['catalog']:\n",
    "        if(e1['type']=='object-store'):\n",
    "            for e2 in e1['endpoints']:\n",
    "                        if(e2['interface']=='public'and e2['region']=='dallas'):\n",
    "                            url2 = ''.join([e2['url'],'/', container, '/', filename])\n",
    "    s_subject_token = resp1.headers['x-subject-token']\n",
    "    headers2 = {'X-Auth-Token': s_subject_token, 'accept': 'application/json'}\n",
    "    resp2 = requests.get(url=url2, headers=headers2)\n",
    "    return StringIO(resp2.text)\n",
    "\n",
    "df = pd.read_csv(get_object_storage_file_with_credentials_b6d2dc4304df42d5bf425b6ca8af67ff('LendingClub', 'Processed_Acc_Dim_Red_hasNANs.csv'))\n",
    "df.head()\n"
   ]
  },
  {
   "cell_type": "code",
   "execution_count": 223,
   "metadata": {
    "collapsed": false
   },
   "outputs": [],
   "source": [
    "remove_cols=[]\n",
    "for cols in list(df):\n",
    "    diff = len(df[cols]) - df[cols].count()\n",
    "    if(diff/len(df[cols]) * 100 >50):\n",
    "#        \n",
    "        remove_cols.append(cols)\n",
    "df=df[df.columns.difference(remove_cols)] "
   ]
  },
  {
   "cell_type": "code",
   "execution_count": 224,
   "metadata": {
    "collapsed": false
   },
   "outputs": [
    {
     "data": {
      "text/html": [
       "<div>\n",
       "<table border=\"1\" class=\"dataframe\">\n",
       "  <thead>\n",
       "    <tr style=\"text-align: right;\">\n",
       "      <th></th>\n",
       "      <th>acc_open_past_24mths</th>\n",
       "      <th>addr_state</th>\n",
       "      <th>annual_inc</th>\n",
       "      <th>avg_cur_bal</th>\n",
       "      <th>bc_open_to_buy</th>\n",
       "      <th>bc_util</th>\n",
       "      <th>chargeoff_within_12_mths</th>\n",
       "      <th>collection_recovery_fee</th>\n",
       "      <th>collections_12_mths_ex_med</th>\n",
       "      <th>credit_age</th>\n",
       "      <th>...</th>\n",
       "      <th>total_bc_limit</th>\n",
       "      <th>total_il_high_credit_limit</th>\n",
       "      <th>total_pymnt</th>\n",
       "      <th>total_pymnt_inv</th>\n",
       "      <th>total_rec_int</th>\n",
       "      <th>total_rec_late_fee</th>\n",
       "      <th>total_rec_prncp</th>\n",
       "      <th>total_rev_hi_lim</th>\n",
       "      <th>verification_status</th>\n",
       "      <th>zip_code</th>\n",
       "    </tr>\n",
       "  </thead>\n",
       "  <tbody>\n",
       "    <tr>\n",
       "      <th>0</th>\n",
       "      <td>NaN</td>\n",
       "      <td>GA</td>\n",
       "      <td>30000</td>\n",
       "      <td>NaN</td>\n",
       "      <td>NaN</td>\n",
       "      <td>NaN</td>\n",
       "      <td>0</td>\n",
       "      <td>1.12</td>\n",
       "      <td>0</td>\n",
       "      <td>17</td>\n",
       "      <td>...</td>\n",
       "      <td>NaN</td>\n",
       "      <td>NaN</td>\n",
       "      <td>1014.53</td>\n",
       "      <td>1014.53</td>\n",
       "      <td>435.17</td>\n",
       "      <td>0.00</td>\n",
       "      <td>456.46</td>\n",
       "      <td>NaN</td>\n",
       "      <td>Source Verified</td>\n",
       "      <td>309</td>\n",
       "    </tr>\n",
       "    <tr>\n",
       "      <th>1</th>\n",
       "      <td>NaN</td>\n",
       "      <td>CA</td>\n",
       "      <td>49200</td>\n",
       "      <td>NaN</td>\n",
       "      <td>NaN</td>\n",
       "      <td>NaN</td>\n",
       "      <td>0</td>\n",
       "      <td>0.00</td>\n",
       "      <td>0</td>\n",
       "      <td>20</td>\n",
       "      <td>...</td>\n",
       "      <td>NaN</td>\n",
       "      <td>NaN</td>\n",
       "      <td>12231.90</td>\n",
       "      <td>12231.89</td>\n",
       "      <td>2214.92</td>\n",
       "      <td>16.97</td>\n",
       "      <td>10000.00</td>\n",
       "      <td>NaN</td>\n",
       "      <td>Source Verified</td>\n",
       "      <td>917</td>\n",
       "    </tr>\n",
       "    <tr>\n",
       "      <th>2</th>\n",
       "      <td>NaN</td>\n",
       "      <td>OR</td>\n",
       "      <td>80000</td>\n",
       "      <td>NaN</td>\n",
       "      <td>NaN</td>\n",
       "      <td>NaN</td>\n",
       "      <td>0</td>\n",
       "      <td>0.00</td>\n",
       "      <td>0</td>\n",
       "      <td>21</td>\n",
       "      <td>...</td>\n",
       "      <td>NaN</td>\n",
       "      <td>NaN</td>\n",
       "      <td>4066.91</td>\n",
       "      <td>4066.91</td>\n",
       "      <td>1066.91</td>\n",
       "      <td>0.00</td>\n",
       "      <td>3000.00</td>\n",
       "      <td>NaN</td>\n",
       "      <td>Source Verified</td>\n",
       "      <td>972</td>\n",
       "    </tr>\n",
       "    <tr>\n",
       "      <th>3</th>\n",
       "      <td>NaN</td>\n",
       "      <td>NC</td>\n",
       "      <td>47004</td>\n",
       "      <td>NaN</td>\n",
       "      <td>NaN</td>\n",
       "      <td>NaN</td>\n",
       "      <td>0</td>\n",
       "      <td>0.00</td>\n",
       "      <td>0</td>\n",
       "      <td>11</td>\n",
       "      <td>...</td>\n",
       "      <td>NaN</td>\n",
       "      <td>NaN</td>\n",
       "      <td>10137.85</td>\n",
       "      <td>10137.84</td>\n",
       "      <td>3137.84</td>\n",
       "      <td>0.00</td>\n",
       "      <td>7000.00</td>\n",
       "      <td>NaN</td>\n",
       "      <td>Not Verified</td>\n",
       "      <td>280</td>\n",
       "    </tr>\n",
       "    <tr>\n",
       "      <th>4</th>\n",
       "      <td>NaN</td>\n",
       "      <td>CA</td>\n",
       "      <td>48000</td>\n",
       "      <td>NaN</td>\n",
       "      <td>NaN</td>\n",
       "      <td>NaN</td>\n",
       "      <td>0</td>\n",
       "      <td>0.00</td>\n",
       "      <td>0</td>\n",
       "      <td>7</td>\n",
       "      <td>...</td>\n",
       "      <td>NaN</td>\n",
       "      <td>NaN</td>\n",
       "      <td>3939.14</td>\n",
       "      <td>3939.14</td>\n",
       "      <td>939.14</td>\n",
       "      <td>0.00</td>\n",
       "      <td>3000.00</td>\n",
       "      <td>NaN</td>\n",
       "      <td>Source Verified</td>\n",
       "      <td>900</td>\n",
       "    </tr>\n",
       "  </tbody>\n",
       "</table>\n",
       "<p>5 rows × 92 columns</p>\n",
       "</div>"
      ],
      "text/plain": [
       "   acc_open_past_24mths addr_state  annual_inc  avg_cur_bal  bc_open_to_buy  \\\n",
       "0                   NaN         GA       30000          NaN             NaN   \n",
       "1                   NaN         CA       49200          NaN             NaN   \n",
       "2                   NaN         OR       80000          NaN             NaN   \n",
       "3                   NaN         NC       47004          NaN             NaN   \n",
       "4                   NaN         CA       48000          NaN             NaN   \n",
       "\n",
       "   bc_util  chargeoff_within_12_mths  collection_recovery_fee  \\\n",
       "0      NaN                         0                     1.12   \n",
       "1      NaN                         0                     0.00   \n",
       "2      NaN                         0                     0.00   \n",
       "3      NaN                         0                     0.00   \n",
       "4      NaN                         0                     0.00   \n",
       "\n",
       "   collections_12_mths_ex_med  credit_age    ...     total_bc_limit  \\\n",
       "0                           0          17    ...                NaN   \n",
       "1                           0          20    ...                NaN   \n",
       "2                           0          21    ...                NaN   \n",
       "3                           0          11    ...                NaN   \n",
       "4                           0           7    ...                NaN   \n",
       "\n",
       "   total_il_high_credit_limit total_pymnt  total_pymnt_inv total_rec_int  \\\n",
       "0                         NaN     1014.53          1014.53        435.17   \n",
       "1                         NaN    12231.90         12231.89       2214.92   \n",
       "2                         NaN     4066.91          4066.91       1066.91   \n",
       "3                         NaN    10137.85         10137.84       3137.84   \n",
       "4                         NaN     3939.14          3939.14        939.14   \n",
       "\n",
       "   total_rec_late_fee  total_rec_prncp total_rev_hi_lim  verification_status  \\\n",
       "0                0.00           456.46              NaN      Source Verified   \n",
       "1               16.97         10000.00              NaN      Source Verified   \n",
       "2                0.00          3000.00              NaN      Source Verified   \n",
       "3                0.00          7000.00              NaN         Not Verified   \n",
       "4                0.00          3000.00              NaN      Source Verified   \n",
       "\n",
       "   zip_code  \n",
       "0       309  \n",
       "1       917  \n",
       "2       972  \n",
       "3       280  \n",
       "4       900  \n",
       "\n",
       "[5 rows x 92 columns]"
      ]
     },
     "execution_count": 224,
     "metadata": {},
     "output_type": "execute_result"
    }
   ],
   "source": [
    "df.head()"
   ]
  },
  {
   "cell_type": "code",
   "execution_count": 225,
   "metadata": {
    "collapsed": false
   },
   "outputs": [],
   "source": [
    "df[\"acc_open_past_24mths\"]=df[\"acc_open_past_24mths\"].fillna(0)\n",
    "df[\"acc_open_past_24mths\"]=df[\"acc_open_past_24mths\"].astype(int)\n",
    "\n",
    "#print(df.annual_inc.isnull().values.any())\n",
    "\n",
    "\n",
    "\n",
    "# del df[\"annual_inc_joint\"]\n",
    "del df[\"avg_cur_bal\"]\n",
    "del df[\"bc_open_to_buy\"]\n",
    "del df[\"bc_util\"]\n",
    "del df[\"desc\"]\n",
    "del df[\"earliest_cr_line\"]\n",
    "#print(df.annual_inc_joint.value_counts())\n"
   ]
  },
  {
   "cell_type": "code",
   "execution_count": 226,
   "metadata": {
    "collapsed": false
   },
   "outputs": [
    {
     "data": {
      "text/html": [
       "<div>\n",
       "<table border=\"1\" class=\"dataframe\">\n",
       "  <thead>\n",
       "    <tr style=\"text-align: right;\">\n",
       "      <th></th>\n",
       "      <th>earliest_cr_line_year</th>\n",
       "      <th>emp_length</th>\n",
       "      <th>emp_title</th>\n",
       "      <th>fico_range_high</th>\n",
       "      <th>fico_range_low</th>\n",
       "      <th>funded_amnt_inv</th>\n",
       "      <th>grade</th>\n",
       "      <th>grade_based_on_inq_last_6mths</th>\n",
       "      <th>home_ownership</th>\n",
       "      <th>initial_list_status</th>\n",
       "    </tr>\n",
       "  </thead>\n",
       "  <tbody>\n",
       "    <tr>\n",
       "      <th>0</th>\n",
       "      <td>1999</td>\n",
       "      <td>1</td>\n",
       "      <td>Ryder</td>\n",
       "      <td>744</td>\n",
       "      <td>740</td>\n",
       "      <td>2500</td>\n",
       "      <td>C</td>\n",
       "      <td>C</td>\n",
       "      <td>RENT</td>\n",
       "      <td>f</td>\n",
       "    </tr>\n",
       "    <tr>\n",
       "      <th>1</th>\n",
       "      <td>1996</td>\n",
       "      <td>10</td>\n",
       "      <td>AIR RESOURCES BOARD</td>\n",
       "      <td>694</td>\n",
       "      <td>690</td>\n",
       "      <td>10000</td>\n",
       "      <td>C</td>\n",
       "      <td>B</td>\n",
       "      <td>RENT</td>\n",
       "      <td>f</td>\n",
       "    </tr>\n",
       "    <tr>\n",
       "      <th>2</th>\n",
       "      <td>1996</td>\n",
       "      <td>1</td>\n",
       "      <td>University Medical Group</td>\n",
       "      <td>699</td>\n",
       "      <td>695</td>\n",
       "      <td>3000</td>\n",
       "      <td>B</td>\n",
       "      <td>A</td>\n",
       "      <td>RENT</td>\n",
       "      <td>f</td>\n",
       "    </tr>\n",
       "    <tr>\n",
       "      <th>3</th>\n",
       "      <td>2005</td>\n",
       "      <td>8</td>\n",
       "      <td>Southern Star Photography</td>\n",
       "      <td>694</td>\n",
       "      <td>690</td>\n",
       "      <td>7000</td>\n",
       "      <td>C</td>\n",
       "      <td>B</td>\n",
       "      <td>RENT</td>\n",
       "      <td>f</td>\n",
       "    </tr>\n",
       "  </tbody>\n",
       "</table>\n",
       "</div>"
      ],
      "text/plain": [
       "   earliest_cr_line_year  emp_length                  emp_title  \\\n",
       "0                   1999           1                      Ryder   \n",
       "1                   1996          10        AIR RESOURCES BOARD   \n",
       "2                   1996           1   University Medical Group   \n",
       "3                   2005           8  Southern Star Photography   \n",
       "\n",
       "   fico_range_high  fico_range_low  funded_amnt_inv grade  \\\n",
       "0              744             740             2500     C   \n",
       "1              694             690            10000     C   \n",
       "2              699             695             3000     B   \n",
       "3              694             690             7000     C   \n",
       "\n",
       "  grade_based_on_inq_last_6mths home_ownership initial_list_status  \n",
       "0                             C           RENT                   f  \n",
       "1                             B           RENT                   f  \n",
       "2                             A           RENT                   f  \n",
       "3                             B           RENT                   f  "
      ]
     },
     "execution_count": 226,
     "metadata": {},
     "output_type": "execute_result"
    }
   ],
   "source": [
    "\n",
    "df.ix[:3,10:20]"
   ]
  },
  {
   "cell_type": "code",
   "execution_count": 227,
   "metadata": {
    "collapsed": true
   },
   "outputs": [],
   "source": [
    "df.insert(14, \"fico_range_grade\", \"A\")"
   ]
  },
  {
   "cell_type": "code",
   "execution_count": 228,
   "metadata": {
    "collapsed": false
   },
   "outputs": [],
   "source": [
    "\n",
    "df.fico_range_grade=np.where(df['fico_range_high'] > 800,'Excellent', \n",
    "           np.where(df['fico_range_high'].between(750,799), 'Very Good',\n",
    "           np.where(df['fico_range_high'].between(700,749), 'Good',\n",
    "           np.where(df['fico_range_high'].between(650,699), 'Fair',\n",
    "           np.where(df['fico_range_high'].between(600,649), 'Poor',\n",
    "           'Very bad'\n",
    "         )))))\n",
    "del df[\"fico_range_high\"]\n",
    "del df[\"fico_range_low\"]\n",
    "del df[\"inq_last_6mths\"]\n",
    "del df[\"last_credit_pull_d\"]\n",
    "del df[\"last_credit_pull_d_year\"]\n",
    "del df[\"last_fico_range\"]\n",
    "del df[\"last_fico_range_high\"]\n",
    "del df[\"last_fico_range_low\"]\n",
    "del df[\"last_meanfico\"]\n",
    "del df[\"mo_sin_old_rev_tl_op\"]\n",
    "del df[\"mo_sin_rcnt_rev_tl_op\"]"
   ]
  },
  {
   "cell_type": "code",
   "execution_count": 229,
   "metadata": {
    "collapsed": true
   },
   "outputs": [],
   "source": [
    "df['issue_d']=pd.Series(df['issue_d'].str[4:])"
   ]
  },
  {
   "cell_type": "code",
   "execution_count": 230,
   "metadata": {
    "collapsed": false,
    "scrolled": true
   },
   "outputs": [
    {
     "data": {
      "text/html": [
       "<div>\n",
       "<table border=\"1\" class=\"dataframe\">\n",
       "  <thead>\n",
       "    <tr style=\"text-align: right;\">\n",
       "      <th></th>\n",
       "      <th>installment</th>\n",
       "      <th>int_rate</th>\n",
       "      <th>issue_d</th>\n",
       "      <th>last_pymnt_amnt</th>\n",
       "      <th>loan_amnt</th>\n",
       "      <th>loan_status</th>\n",
       "      <th>meanfico</th>\n",
       "      <th>mo_sin_old_il_acct</th>\n",
       "      <th>mo_sin_rcnt_tl</th>\n",
       "      <th>mort_acc</th>\n",
       "      <th>mths_since_last_delinq</th>\n",
       "    </tr>\n",
       "  </thead>\n",
       "  <tbody>\n",
       "    <tr>\n",
       "      <th>0</th>\n",
       "      <td>59.83</td>\n",
       "      <td>15.27</td>\n",
       "      <td>2011</td>\n",
       "      <td>119.66</td>\n",
       "      <td>2500</td>\n",
       "      <td>Charged Off</td>\n",
       "      <td>742</td>\n",
       "      <td>127</td>\n",
       "      <td>8</td>\n",
       "      <td>1</td>\n",
       "      <td>0</td>\n",
       "    </tr>\n",
       "    <tr>\n",
       "      <th>1</th>\n",
       "      <td>339.31</td>\n",
       "      <td>13.49</td>\n",
       "      <td>2011</td>\n",
       "      <td>357.48</td>\n",
       "      <td>10000</td>\n",
       "      <td>Fully Paid</td>\n",
       "      <td>692</td>\n",
       "      <td>127</td>\n",
       "      <td>8</td>\n",
       "      <td>1</td>\n",
       "      <td>35</td>\n",
       "    </tr>\n",
       "    <tr>\n",
       "      <th>2</th>\n",
       "      <td>67.79</td>\n",
       "      <td>12.69</td>\n",
       "      <td>2011</td>\n",
       "      <td>67.30</td>\n",
       "      <td>3000</td>\n",
       "      <td>Fully Paid</td>\n",
       "      <td>697</td>\n",
       "      <td>127</td>\n",
       "      <td>8</td>\n",
       "      <td>1</td>\n",
       "      <td>38</td>\n",
       "    </tr>\n",
       "    <tr>\n",
       "      <th>3</th>\n",
       "      <td>170.08</td>\n",
       "      <td>15.96</td>\n",
       "      <td>2011</td>\n",
       "      <td>1313.76</td>\n",
       "      <td>7000</td>\n",
       "      <td>Fully Paid</td>\n",
       "      <td>692</td>\n",
       "      <td>127</td>\n",
       "      <td>8</td>\n",
       "      <td>1</td>\n",
       "      <td>0</td>\n",
       "    </tr>\n",
       "  </tbody>\n",
       "</table>\n",
       "</div>"
      ],
      "text/plain": [
       "   installment  int_rate issue_d  last_pymnt_amnt  loan_amnt  loan_status  \\\n",
       "0        59.83     15.27    2011           119.66       2500  Charged Off   \n",
       "1       339.31     13.49    2011           357.48      10000   Fully Paid   \n",
       "2        67.79     12.69    2011            67.30       3000   Fully Paid   \n",
       "3       170.08     15.96    2011          1313.76       7000   Fully Paid   \n",
       "\n",
       "   meanfico  mo_sin_old_il_acct  mo_sin_rcnt_tl  mort_acc  \\\n",
       "0       742                 127               8         1   \n",
       "1       692                 127               8         1   \n",
       "2       697                 127               8         1   \n",
       "3       692                 127               8         1   \n",
       "\n",
       "   mths_since_last_delinq  \n",
       "0                       0  \n",
       "1                      35  \n",
       "2                      38  \n",
       "3                       0  "
      ]
     },
     "execution_count": 230,
     "metadata": {},
     "output_type": "execute_result"
    }
   ],
   "source": [
    "df[\"mo_sin_old_il_acct\"]=df[\"mo_sin_old_il_acct\"].fillna(int(df[\"mo_sin_old_il_acct\"].mean()))\n",
    "\n",
    "df['mo_sin_old_il_acct']=df['mo_sin_old_il_acct'].astype(int)\n",
    "\n",
    "df[\"mo_sin_rcnt_tl\"]=df[\"mo_sin_rcnt_tl\"].fillna(int(df[\"mo_sin_rcnt_tl\"].mean()))\n",
    "\n",
    "df['mo_sin_rcnt_tl']=df['mo_sin_rcnt_tl'].astype(int)\n",
    "\n",
    "df[\"mort_acc\"]=df[\"mort_acc\"].fillna(int(df[\"mort_acc\"].mean()))\n",
    "\n",
    "df['mort_acc']=df['mort_acc'].astype(int)\n",
    "\n",
    "df.ix[:3,19:30]\n",
    "\n"
   ]
  },
  {
   "cell_type": "code",
   "execution_count": 231,
   "metadata": {
    "collapsed": false
   },
   "outputs": [],
   "source": [
    "\n",
    "del df[\"mths_since_recent_bc\"]\n",
    "del df[\"mths_since_recent_inq\"]\n",
    "del df[\"num_actv_bc_tl\"]\n",
    "del df[\"num_bc_sats\"]\n",
    "del df[\"num_bc_tl\"]\n",
    "del df[\"num_il_tl\"]\n",
    "del df[\"num_op_rev_tl\"]\n",
    "del df[\"num_rev_accts\"]\n",
    "del df[\"num_rev_tl_bal_gt_0\"]\n",
    "del df[\"num_sats\"]\n",
    "del df[\"num_tl_120dpd_2m\"]\n",
    "del df[\"num_tl_30dpd\"]\n",
    "del df[\"num_tl_90g_dpd_24m\"]\n",
    "del df[\"out_prncp\"]\n",
    "del df[\"policy_code\"]\n",
    "del df[\"earliest_cr_line_year\"]"
   ]
  },
  {
   "cell_type": "code",
   "execution_count": 193,
   "metadata": {
    "collapsed": false,
    "scrolled": true
   },
   "outputs": [
    {
     "data": {
      "text/html": [
       "<div>\n",
       "<table border=\"1\" class=\"dataframe\">\n",
       "  <thead>\n",
       "    <tr style=\"text-align: right;\">\n",
       "      <th></th>\n",
       "      <th>num_accts_ever_120_pd</th>\n",
       "      <th>num_actv_rev_tl</th>\n",
       "      <th>num_tl_op_past_12m</th>\n",
       "      <th>open_acc</th>\n",
       "      <th>out_prncp_inv</th>\n",
       "      <th>pct_tl_nvr_dlq</th>\n",
       "      <th>percent_bc_gt_75</th>\n",
       "      <th>pub_rec</th>\n",
       "      <th>pub_rec_bankruptcies</th>\n",
       "      <th>purpose</th>\n",
       "    </tr>\n",
       "  </thead>\n",
       "  <tbody>\n",
       "    <tr>\n",
       "      <th>0</th>\n",
       "      <td>0</td>\n",
       "      <td>5</td>\n",
       "      <td>2</td>\n",
       "      <td>3</td>\n",
       "      <td>0</td>\n",
       "      <td>94.07</td>\n",
       "      <td>47.46</td>\n",
       "      <td>0</td>\n",
       "      <td>0</td>\n",
       "      <td>car</td>\n",
       "    </tr>\n",
       "    <tr>\n",
       "      <th>1</th>\n",
       "      <td>0</td>\n",
       "      <td>5</td>\n",
       "      <td>2</td>\n",
       "      <td>10</td>\n",
       "      <td>0</td>\n",
       "      <td>94.07</td>\n",
       "      <td>47.46</td>\n",
       "      <td>0</td>\n",
       "      <td>0</td>\n",
       "      <td>other</td>\n",
       "    </tr>\n",
       "    <tr>\n",
       "      <th>2</th>\n",
       "      <td>0</td>\n",
       "      <td>5</td>\n",
       "      <td>2</td>\n",
       "      <td>15</td>\n",
       "      <td>0</td>\n",
       "      <td>94.07</td>\n",
       "      <td>47.46</td>\n",
       "      <td>0</td>\n",
       "      <td>0</td>\n",
       "      <td>other</td>\n",
       "    </tr>\n",
       "    <tr>\n",
       "      <th>3</th>\n",
       "      <td>0</td>\n",
       "      <td>5</td>\n",
       "      <td>2</td>\n",
       "      <td>7</td>\n",
       "      <td>0</td>\n",
       "      <td>94.07</td>\n",
       "      <td>47.46</td>\n",
       "      <td>0</td>\n",
       "      <td>0</td>\n",
       "      <td>debt_consolidation</td>\n",
       "    </tr>\n",
       "  </tbody>\n",
       "</table>\n",
       "</div>"
      ],
      "text/plain": [
       "   num_accts_ever_120_pd  num_actv_rev_tl  num_tl_op_past_12m  open_acc  \\\n",
       "0                      0                5                   2         3   \n",
       "1                      0                5                   2        10   \n",
       "2                      0                5                   2        15   \n",
       "3                      0                5                   2         7   \n",
       "\n",
       "   out_prncp_inv  pct_tl_nvr_dlq  percent_bc_gt_75  pub_rec  \\\n",
       "0              0           94.07             47.46        0   \n",
       "1              0           94.07             47.46        0   \n",
       "2              0           94.07             47.46        0   \n",
       "3              0           94.07             47.46        0   \n",
       "\n",
       "   pub_rec_bankruptcies             purpose  \n",
       "0                     0                 car  \n",
       "1                     0               other  \n",
       "2                     0               other  \n",
       "3                     0  debt_consolidation  "
      ]
     },
     "execution_count": 193,
     "metadata": {},
     "output_type": "execute_result"
    }
   ],
   "source": [
    "import math\n",
    "ceil_function= lambda x: math.ceil(x*100)/100\n",
    "\n",
    "df[\"num_accts_ever_120_pd\"]=df[\"num_accts_ever_120_pd\"].fillna(int(df[\"num_accts_ever_120_pd\"].mean()))\n",
    "\n",
    "df['num_accts_ever_120_pd']=df['num_accts_ever_120_pd'].astype(int)\n",
    "\n",
    "\n",
    "df[\"num_actv_rev_tl\"]=df[\"num_actv_rev_tl\"].fillna(int(df[\"num_actv_rev_tl\"].mean()))\n",
    "\n",
    "df['num_actv_rev_tl']=df['num_actv_rev_tl'].astype(int)\n",
    "\n",
    "\n",
    "df[\"num_tl_op_past_12m\"]=df[\"num_tl_op_past_12m\"].fillna(int(df[\"num_tl_op_past_12m\"].mean()))\n",
    "\n",
    "df['num_tl_op_past_12m']=df['num_tl_op_past_12m'].astype(int)\n",
    "\n",
    "df[\"pct_tl_nvr_dlq\"]=df[\"pct_tl_nvr_dlq\"].fillna(float(df[\"pct_tl_nvr_dlq\"].mean()))\n",
    "\n",
    "df['pct_tl_nvr_dlq']=df['pct_tl_nvr_dlq'].apply(ceil_function)\n",
    "\n",
    "df[\"percent_bc_gt_75\"]=df[\"percent_bc_gt_75\"].fillna(float(df[\"percent_bc_gt_75\"].mean()))\n",
    "\n",
    "df['percent_bc_gt_75']=df['percent_bc_gt_75'].apply(ceil_function)\n",
    "\n",
    "df.ix[:3,30:40]"
   ]
  },
  {
   "cell_type": "code",
   "execution_count": 232,
   "metadata": {
    "collapsed": false
   },
   "outputs": [],
   "source": [
    "del df[\"tax_liens\"]\n",
    "del df[\"title\"]\n",
    "del df[\"tot_coll_amt\"]\n",
    "del df[\"tot_cur_bal\"]\n",
    "del df[\"tot_hi_cred_lim\"]\n",
    "del df[\"total_bal_ex_mort\"]\n",
    "del df[\"total_bc_limit\"]\n",
    "del df[\"total_il_high_credit_limit\"]\n",
    "del df[\"total_pymnt\"]\n",
    "del df[\"total_rec_late_fee\"]\n",
    "del df[\"total_rev_hi_lim\"]\n",
    "del df[\"zip_code\"]\n",
    "del df[\"recoveries\"]"
   ]
  },
  {
   "cell_type": "code",
   "execution_count": 233,
   "metadata": {
    "collapsed": false
   },
   "outputs": [],
   "source": [
    "# print(len(df))\n",
    "# print(df.verification_status.isnull().sum())\n",
    "# del df[\"zip_code\"]\n",
    "# print(df.recoveries.value_counts())\n",
    "df = df[pd.notnull(df['revol_util'])]\n",
    "\n",
    "df[\"total_rec_prncp\"]=df[\"total_rec_prncp\"].astype(int)"
   ]
  },
  {
   "cell_type": "code",
   "execution_count": 234,
   "metadata": {
    "collapsed": false
   },
   "outputs": [
    {
     "data": {
      "text/plain": [
       "0    15.27\n",
       "1    13.49\n",
       "2    12.69\n",
       "Name: int_rate, dtype: float64"
      ]
     },
     "execution_count": 234,
     "metadata": {},
     "output_type": "execute_result"
    }
   ],
   "source": [
    "df.int_rate.head(3)"
   ]
  },
  {
   "cell_type": "code",
   "execution_count": 50,
   "metadata": {
    "collapsed": true
   },
   "outputs": [],
   "source": [
    "from io import BytesIO  \n",
    "import requests  \n",
    "import json  \n",
    "import pandas as pd\n",
    "\n",
    "def put_file(credentials, local_file_name):  \n",
    "    \"\"\"This functions returns a StringIO object containing\n",
    "    the file content from Bluemix Object Storage V3.\"\"\"\n",
    "    f = open(local_file_name,'r')\n",
    "    my_data = f.read()\n",
    "    url1 = ''.join(['https://identity.open.softlayer.com', '/v3/auth/tokens'])\n",
    "    data = {'auth': {'identity': {'methods': ['password'],\n",
    "            'password': {'user': {'name': credentials['username'],'domain': {'id': credentials['domain_id']},\n",
    "            'password': credentials['password']}}}}}\n",
    "    headers1 = {'Content-Type': 'application/json'}\n",
    "    resp1 = requests.post(url=url1, data=json.dumps(data), headers=headers1)\n",
    "    resp1_body = resp1.json()\n",
    "    for e1 in resp1_body['token']['catalog']:\n",
    "        if(e1['type']=='object-store'):\n",
    "            for e2 in e1['endpoints']:\n",
    "                        if(e2['interface']=='public'and e2['region']=='dallas'):\n",
    "                            url2 = ''.join([e2['url'],'/', credentials['container'], '/', local_file_name])\n",
    "    s_subject_token = resp1.headers['x-subject-token']\n",
    "    headers2 = {'X-Auth-Token': s_subject_token, 'accept': 'application/json'}\n",
    "    resp2 = requests.put(url=url2, headers=headers2, data = my_data )\n",
    "    print (resp2)"
   ]
  },
  {
   "cell_type": "code",
   "execution_count": null,
   "metadata": {
    "collapsed": true
   },
   "outputs": [],
   "source": [
    "\n",
    "# @hidden_cell\n",
    "credentials_4 = {\n",
    "  'auth_url':'https://identity.open.softlayer.com',\n",
    "  'project':'object_storage_b6d2dc43_04df_42d5_bf42_5b6ca8af67ff',\n",
    "  'project_id':'b27f8cf040e5488eb7ceb30211ba0896',\n",
    "  'region':'dallas',\n",
    "  'user_id':'bd256d68aea5489f8b140af608a2dbe9',\n",
    "  'domain_id':'9d54dfb7f46d48d8930e2e61e1e7ddab',\n",
    "  'domain_name':'1257643',\n",
    "  'username':'member_cd9be0e4ff1994ebede81451af2f9ee17e1d0d66',\n",
    "  'password':\"\"\"IbA26vS(8zQl.2_P\"\"\",\n",
    "  'container':'LendingClub',\n",
    "  'tenantId':'undefined',\n",
    "  'filename':'azure_classfication.csv'\n",
    "}\n"
   ]
  },
  {
   "cell_type": "code",
   "execution_count": null,
   "metadata": {
    "collapsed": true
   },
   "outputs": [],
   "source": [
    "df.to_csv(\"accepted_merged_final.csv\",index=False)"
   ]
  },
  {
   "cell_type": "code",
   "execution_count": null,
   "metadata": {
    "collapsed": false
   },
   "outputs": [],
   "source": [
    "put_file(credentials_4,'accepted_merged_final.csv')"
   ]
  },
  {
   "cell_type": "code",
   "execution_count": 198,
   "metadata": {
    "collapsed": false
   },
   "outputs": [
    {
     "data": {
      "text/html": [
       "<div>\n",
       "<table border=\"1\" class=\"dataframe\">\n",
       "  <thead>\n",
       "    <tr style=\"text-align: right;\">\n",
       "      <th></th>\n",
       "      <th>acc_open_past_24mths</th>\n",
       "      <th>annual_inc</th>\n",
       "      <th>chargeoff_within_12_mths</th>\n",
       "      <th>collection_recovery_fee</th>\n",
       "      <th>collections_12_mths_ex_med</th>\n",
       "      <th>credit_age</th>\n",
       "      <th>delinq_2yrs</th>\n",
       "      <th>delinq_amnt</th>\n",
       "      <th>dti</th>\n",
       "    </tr>\n",
       "  </thead>\n",
       "  <tbody>\n",
       "    <tr>\n",
       "      <th>int_rate</th>\n",
       "      <td>0.192336</td>\n",
       "      <td>-0.079927</td>\n",
       "      <td>0.010339</td>\n",
       "      <td>0.111194</td>\n",
       "      <td>0.011816</td>\n",
       "      <td>-0.115566</td>\n",
       "      <td>0.042543</td>\n",
       "      <td>0.005636</td>\n",
       "      <td>0.023232</td>\n",
       "    </tr>\n",
       "  </tbody>\n",
       "</table>\n",
       "</div>"
      ],
      "text/plain": [
       "          acc_open_past_24mths  annual_inc  chargeoff_within_12_mths  \\\n",
       "int_rate              0.192336   -0.079927                  0.010339   \n",
       "\n",
       "          collection_recovery_fee  collections_12_mths_ex_med  credit_age  \\\n",
       "int_rate                 0.111194                    0.011816   -0.115566   \n",
       "\n",
       "          delinq_2yrs  delinq_amnt       dti  \n",
       "int_rate     0.042543     0.005636  0.023232  "
      ]
     },
     "execution_count": 198,
     "metadata": {},
     "output_type": "execute_result"
    }
   ],
   "source": [
    "#Compute the corelation between the features to determine the relationship between all the features\n",
    "correlations_technique1 = df.corr(method='pearson')\n",
    "correlations_technique1.ix[12:13,0:9]"
   ]
  },
  {
   "cell_type": "code",
   "execution_count": 142,
   "metadata": {
    "collapsed": false
   },
   "outputs": [
    {
     "data": {
      "text/html": [
       "<div>\n",
       "<table border=\"1\" class=\"dataframe\">\n",
       "  <thead>\n",
       "    <tr style=\"text-align: right;\">\n",
       "      <th></th>\n",
       "      <th>emp_length</th>\n",
       "      <th>funded_amnt_inv</th>\n",
       "      <th>installment</th>\n",
       "      <th>int_rate</th>\n",
       "      <th>last_pymnt_amnt</th>\n",
       "    </tr>\n",
       "  </thead>\n",
       "  <tbody>\n",
       "    <tr>\n",
       "      <th>int_rate</th>\n",
       "      <td>-0.004395</td>\n",
       "      <td>0.140263</td>\n",
       "      <td>0.144535</td>\n",
       "      <td>1.0</td>\n",
       "      <td>0.081128</td>\n",
       "    </tr>\n",
       "  </tbody>\n",
       "</table>\n",
       "</div>"
      ],
      "text/plain": [
       "          emp_length  funded_amnt_inv  installment  int_rate  last_pymnt_amnt\n",
       "int_rate   -0.004395         0.140263     0.144535       1.0         0.081128"
      ]
     },
     "execution_count": 142,
     "metadata": {},
     "output_type": "execute_result"
    }
   ],
   "source": [
    "#Compute the corelation between the features to determine the relationship between all the features\n",
    "correlations_technique1 = df.corr(method='pearson')\n",
    "correlations_technique1.ix[12:13,9:14]"
   ]
  },
  {
   "cell_type": "code",
   "execution_count": 143,
   "metadata": {
    "collapsed": false
   },
   "outputs": [
    {
     "data": {
      "text/html": [
       "<div>\n",
       "<table border=\"1\" class=\"dataframe\">\n",
       "  <thead>\n",
       "    <tr style=\"text-align: right;\">\n",
       "      <th></th>\n",
       "      <th>loan_amnt</th>\n",
       "      <th>meanfico</th>\n",
       "      <th>mo_sin_old_il_acct</th>\n",
       "      <th>mo_sin_rcnt_tl</th>\n",
       "      <th>mort_acc</th>\n",
       "      <th>mths_since_last_delinq</th>\n",
       "      <th>mths_since_last_record</th>\n",
       "      <th>num_accts_ever_120_pd</th>\n",
       "      <th>num_actv_rev_tl</th>\n",
       "      <th>num_tl_op_past_12m</th>\n",
       "    </tr>\n",
       "  </thead>\n",
       "  <tbody>\n",
       "    <tr>\n",
       "      <th>int_rate</th>\n",
       "      <td>0.140293</td>\n",
       "      <td>-0.398767</td>\n",
       "      <td>-0.07098</td>\n",
       "      <td>-0.129685</td>\n",
       "      <td>-0.076832</td>\n",
       "      <td>0.03404</td>\n",
       "      <td>0.061155</td>\n",
       "      <td>0.040595</td>\n",
       "      <td>0.078255</td>\n",
       "      <td>0.212036</td>\n",
       "    </tr>\n",
       "  </tbody>\n",
       "</table>\n",
       "</div>"
      ],
      "text/plain": [
       "          loan_amnt  meanfico  mo_sin_old_il_acct  mo_sin_rcnt_tl  mort_acc  \\\n",
       "int_rate   0.140293 -0.398767            -0.07098       -0.129685 -0.076832   \n",
       "\n",
       "          mths_since_last_delinq  mths_since_last_record  \\\n",
       "int_rate                 0.03404                0.061155   \n",
       "\n",
       "          num_accts_ever_120_pd  num_actv_rev_tl  num_tl_op_past_12m  \n",
       "int_rate               0.040595         0.078255            0.212036  "
      ]
     },
     "execution_count": 143,
     "metadata": {},
     "output_type": "execute_result"
    }
   ],
   "source": [
    "#Compute the corelation between the features to determine the relationship between all the features\n",
    "correlations_technique1.ix[12:13,14:24]"
   ]
  },
  {
   "cell_type": "code",
   "execution_count": 144,
   "metadata": {
    "collapsed": false
   },
   "outputs": [
    {
     "data": {
      "text/html": [
       "<div>\n",
       "<table border=\"1\" class=\"dataframe\">\n",
       "  <thead>\n",
       "    <tr style=\"text-align: right;\">\n",
       "      <th></th>\n",
       "      <th>open_acc</th>\n",
       "      <th>out_prncp_inv</th>\n",
       "      <th>pct_tl_nvr_dlq</th>\n",
       "      <th>percent_bc_gt_75</th>\n",
       "      <th>pub_rec</th>\n",
       "      <th>pub_rec_bankruptcies</th>\n",
       "      <th>revol_bal</th>\n",
       "      <th>revol_util</th>\n",
       "      <th>term</th>\n",
       "      <th>total_acc</th>\n",
       "      <th>total_pymnt_inv</th>\n",
       "      <th>total_rec_int</th>\n",
       "      <th>total_rec_prncp</th>\n",
       "    </tr>\n",
       "  </thead>\n",
       "  <tbody>\n",
       "    <tr>\n",
       "      <th>int_rate</th>\n",
       "      <td>-0.008811</td>\n",
       "      <td>0.066844</td>\n",
       "      <td>-0.056118</td>\n",
       "      <td>0.251064</td>\n",
       "      <td>0.052301</td>\n",
       "      <td>0.05699</td>\n",
       "      <td>-0.040226</td>\n",
       "      <td>0.24016</td>\n",
       "      <td>0.410781</td>\n",
       "      <td>-0.041351</td>\n",
       "      <td>0.118416</td>\n",
       "      <td>0.429998</td>\n",
       "      <td>-0.00836</td>\n",
       "    </tr>\n",
       "  </tbody>\n",
       "</table>\n",
       "</div>"
      ],
      "text/plain": [
       "          open_acc  out_prncp_inv  pct_tl_nvr_dlq  percent_bc_gt_75   pub_rec  \\\n",
       "int_rate -0.008811       0.066844       -0.056118          0.251064  0.052301   \n",
       "\n",
       "          pub_rec_bankruptcies  revol_bal  revol_util      term  total_acc  \\\n",
       "int_rate               0.05699  -0.040226     0.24016  0.410781  -0.041351   \n",
       "\n",
       "          total_pymnt_inv  total_rec_int  total_rec_prncp  \n",
       "int_rate         0.118416       0.429998         -0.00836  "
      ]
     },
     "execution_count": 144,
     "metadata": {},
     "output_type": "execute_result"
    }
   ],
   "source": [
    "#Compute the corelation between the features to determine the relationship between all the features\n",
    "correlations_technique1.ix[12:13,24:37]"
   ]
  },
  {
   "cell_type": "code",
   "execution_count": 235,
   "metadata": {
    "collapsed": true
   },
   "outputs": [],
   "source": [
    "from sklearn.preprocessing import LabelEncoder\n",
    "\n",
    "#using label encoder to convert categorical columns into numeric values\n",
    "def dummyEncode(df):\n",
    "        columnsToEncode = list(df)\n",
    "        le = LabelEncoder()\n",
    "        for feature in columnsToEncode:\n",
    "            try:\n",
    "                df[feature] = le.fit_transform(df[feature])\n",
    "            except:\n",
    "                print('Error encoding '+feature)\n",
    "        return df"
   ]
  },
  {
   "cell_type": "code",
   "execution_count": 201,
   "metadata": {
    "collapsed": false,
    "scrolled": true
   },
   "outputs": [
    {
     "name": "stdout",
     "output_type": "stream",
     "text": [
      "Starting Linear Regression algorithm\n",
      "Intercept is  38.9381971502\n",
      "Coefficient is  [ 0.04880248  0.44061748  0.01479154  0.11625838 -0.00247121  0.00049937\n",
      " -0.04812268]\n",
      "Training score is  0.420177546987\n",
      "Testing score is  0.422061670699\n"
     ]
    }
   ],
   "source": [
    "from sklearn.model_selection import train_test_split\n",
    "from sklearn.model_selection import cross_val_score\n",
    "from sklearn.linear_model import LinearRegression\n",
    "\n",
    "\n",
    "\n",
    "#my_list=['term','revol_util','total_rec_int','meanfico','int_rate']\n",
    "pearson_df=df.copy()\n",
    "pearson_df=pearson_df[['acc_open_past_24mths','num_tl_op_past_12m','percent_bc_gt_75','term','revol_util','total_rec_int','meanfico','int_rate']]\n",
    "\n",
    "#random split method for creating the training and test splits\n",
    "X_train_pearson, X_test_pearson, Y_train_pearson, Y_test_pearson = train_test_split(pearson_df.ix[:, pearson_df.columns != 'int_rate'], pearson_df.int_rate, test_size=0.2, random_state=0)\n",
    "\n",
    "\n",
    "print(\"Starting Linear Regression algorithm\")\n",
    "linear_reg = LinearRegression()\n",
    "fit=linear_reg.fit(X_train_pearson, Y_train_pearson)\n",
    "\n",
    "print (\"Intercept is \",linear_reg.intercept_)\n",
    "print(\"Coefficient is \",linear_reg.coef_)\n",
    "\n",
    "print(\"Training score is \",linear_reg.score(X_train_pearson, Y_train_pearson))\n",
    "\n",
    "print(\"Testing score is \",linear_reg.score(X_test_pearson, Y_test_pearson))"
   ]
  },
  {
   "cell_type": "code",
   "execution_count": 202,
   "metadata": {
    "collapsed": false
   },
   "outputs": [
    {
     "data": {
      "text/plain": [
       "0    15.27\n",
       "1    13.49\n",
       "2    12.69\n",
       "3    15.96\n",
       "4    18.64\n",
       "Name: int_rate, dtype: float64"
      ]
     },
     "execution_count": 202,
     "metadata": {},
     "output_type": "execute_result"
    }
   ],
   "source": [
    "pearson_df.int_rate.head()"
   ]
  },
  {
   "cell_type": "code",
   "execution_count": 148,
   "metadata": {
    "collapsed": false
   },
   "outputs": [
    {
     "name": "stdout",
     "output_type": "stream",
     "text": [
      "['grade', 'initial_list_status', 'grade_based_on_inq_last_6mths', 'fico_range_grade', 'home_ownership', 'purpose', 'issue_d', 'addr_state', 'loan_status', 'emp_title', 'verification_status']\n"
     ]
    },
    {
     "name": "stderr",
     "output_type": "stream",
     "text": [
      "/usr/local/src/conda3_runtime/4.1.1/lib/python3.5/site-packages/ipykernel/__main__.py:9: SettingWithCopyWarning: \n",
      "A value is trying to be set on a copy of a slice from a DataFrame.\n",
      "Try using .loc[row_indexer,col_indexer] = value instead\n",
      "\n",
      "See the caveats in the documentation: http://pandas.pydata.org/pandas-docs/stable/indexing.html#indexing-view-versus-copy\n"
     ]
    },
    {
     "name": "stdout",
     "output_type": "stream",
     "text": [
      "[]\n"
     ]
    }
   ],
   "source": [
    "# percentile_df=df.copy()\n",
    "\n",
    "# cols = percentile_df.columns\n",
    "# num_cols = percentile_df._get_numeric_data().columns\n",
    "\n",
    "# list_of_categorical_data=list(set(cols) - set(num_cols))\n",
    "\n",
    "# print(list_of_categorical_data)\n",
    "# percentile_df[list_of_categorical_data]=dummyEncode(percentile_df[list_of_categorical_data])\n",
    "\n",
    "\n",
    "# cols1 = percentile_df.columns\n",
    "# num_cols1 = percentile_df._get_numeric_data().columns\n",
    "\n",
    "# list_of_categorical_data1=list(set(cols1) - set(num_cols1))\n",
    "# print(list_of_categorical_data1)"
   ]
  },
  {
   "cell_type": "code",
   "execution_count": 203,
   "metadata": {
    "collapsed": false
   },
   "outputs": [
    {
     "name": "stderr",
     "output_type": "stream",
     "text": [
      "/usr/local/src/conda3_runtime/4.1.1/lib/python3.5/site-packages/ipykernel/__main__.py:9: SettingWithCopyWarning: \n",
      "A value is trying to be set on a copy of a slice from a DataFrame.\n",
      "Try using .loc[row_indexer,col_indexer] = value instead\n",
      "\n",
      "See the caveats in the documentation: http://pandas.pydata.org/pandas-docs/stable/indexing.html#indexing-view-versus-copy\n"
     ]
    },
    {
     "name": "stdout",
     "output_type": "stream",
     "text": [
      "***Features sorted by score: ['grade', 'total_pymnt_inv', 'revol_util', 'loan_status', 'fico_range_grade', 'total_rec_prncp', 'pct_tl_nvr_dlq', 'revol_bal', 'grade_based_on_inq_last_6mths', 'num_actv_rev_tl', 'acc_open_past_24mths', 'dti', 'installment', 'last_pymnt_amnt', 'mo_sin_old_il_acct', 'collection_recovery_fee', 'pub_rec_bankruptcies', 'initial_list_status', 'annual_inc', 'funded_amnt_inv', 'credit_age', 'total_acc', 'num_accts_ever_120_pd', 'mo_sin_rcnt_tl', 'meanfico', 'home_ownership', 'open_acc', 'issue_d', 'int_rate', 'mths_since_last_delinq', 'out_prncp_inv', 'pub_rec', 'percent_bc_gt_75', 'delinq_2yrs', 'purpose', 'term', 'mths_since_last_record', 'mort_acc', 'total_rec_int', 'emp_title', 'delinq_amnt', 'collections_12_mths_ex_med', 'chargeoff_within_12_mths', 'num_tl_op_past_12m', 'emp_length', 'addr_state', 'loan_amnt']\n"
     ]
    }
   ],
   "source": [
    "\n",
    "percentile_df=df.copy()\n",
    "percentile_df.ix[:, percentile_df.columns != 'int_rate']=dummyEncode(percentile_df.ix[:, percentile_df.columns != 'int_rate'])\n",
    "\n",
    "from sklearn import feature_selection\n",
    "\n",
    "#percentile_df=df\n",
    "#percentile_df=percentile_df.dropna(how='any') \n",
    "#percentile_df[list_of_categorical_data]=dummyEncode(percentile_df[list_of_categorical_data])\n",
    "\n",
    "X_train_percentile, X_test_percentile, Y_train_percentile, Y_test_percentile = train_test_split(percentile_df.ix[:, percentile_df.columns != 'int_rate'], percentile_df.int_rate, test_size=0.2, random_state=0)\n",
    "feature_names = percentile_df.columns\n",
    "\n",
    "fs = feature_selection.SelectPercentile(feature_selection.f_regression, percentile=20)\n",
    "X_train_fs = fs.fit_transform(X_train_percentile, Y_train_percentile)\n",
    "\n",
    "# print ('All features:', feature_names)\n",
    "# print ('Scores of these features:', fs.scores_)\n",
    "print ('***Features sorted by score:', [feature_names[i] for i in np.argsort(fs.scores_)[::-1]])\n",
    "# print ('Peeking into first few samples (before and after):')\n",
    "# print (X_train_percentile[:10])\n",
    "# print (X_train_fs[:10])\n"
   ]
  },
  {
   "cell_type": "code",
   "execution_count": 205,
   "metadata": {
    "collapsed": false
   },
   "outputs": [
    {
     "name": "stdout",
     "output_type": "stream",
     "text": [
      "Index(['grade', 'total_pymnt_inv', 'revol_util', 'loan_status',\n",
      "       'fico_range_grade', 'total_rec_prncp', 'revol_bal',\n",
      "       'grade_based_on_inq_last_6mths', 'acc_open_past_24mths', 'installment',\n",
      "       'last_pymnt_amnt', 'funded_amnt_inv', 'total_acc', 'credit_age',\n",
      "       'issue_d', 'annual_inc', 'meanfico'],\n",
      "      dtype='object')\n",
      "Index(['grade', 'total_pymnt_inv', 'revol_util', 'loan_status',\n",
      "       'fico_range_grade', 'total_rec_prncp', 'revol_bal',\n",
      "       'grade_based_on_inq_last_6mths', 'acc_open_past_24mths', 'installment',\n",
      "       'last_pymnt_amnt', 'funded_amnt_inv', 'total_acc', 'credit_age',\n",
      "       'issue_d', 'annual_inc', 'meanfico'],\n",
      "      dtype='object')\n",
      "1057104     8.39\n",
      "582315     14.65\n",
      "Name: int_rate, dtype: float64\n",
      "209600     19.99\n",
      "1130067     8.99\n",
      "Name: int_rate, dtype: float64\n",
      "Starting Linear Regression algorithm\n",
      "Intercept is  8.75199974634\n",
      "Coefficient is  [  3.25899780e+00  -8.26833820e-07   4.50319541e-04   8.32923056e-02\n",
      "  -4.50428189e-02  -1.60224476e-05  -3.89349324e-06   9.76849101e-02\n",
      "   4.67054966e-02   1.61670077e-05   4.46438749e-07   1.05764034e-05\n",
      "  -5.87106024e-03  -1.00302311e-03  -2.00407979e-01  -7.99928399e-06\n",
      "  -1.18137168e-02]\n",
      "Training score is  0.916902325645\n",
      "Testing score is  0.91699763233\n"
     ]
    }
   ],
   "source": [
    "\n",
    "percentile_df=percentile_df[['grade', 'total_pymnt_inv', 'revol_util', 'loan_status', 'fico_range_grade', 'total_rec_prncp', 'revol_bal', 'grade_based_on_inq_last_6mths', 'acc_open_past_24mths', 'installment', 'last_pymnt_amnt', 'funded_amnt_inv', 'total_acc', 'credit_age', 'issue_d', 'annual_inc', 'meanfico','int_rate']]\n",
    "#pearson_df=pearson_df.dropna(how='any') \n",
    "#percentile_df=dummyEncode(percentile_df)\n",
    "\n",
    "#X_train=df\n",
    "#random split method for creating the training and test splits\n",
    "X_train_percentile, X_test_percentile, Y_train_percentile, Y_test_percentile = train_test_split(percentile_df.ix[:, percentile_df.columns != 'int_rate'], percentile_df.int_rate, test_size=0.2, random_state=0)\n",
    "\n",
    "print(X_train_percentile.columns)\n",
    "print(X_test_percentile.columns)\n",
    "print(Y_train_percentile.head(2))\n",
    "print(Y_test_percentile.head(2))\n",
    "\n",
    "print(\"Starting Linear Regression algorithm\")\n",
    "linear_reg = LinearRegression()\n",
    "fit=linear_reg.fit(X_train_percentile, Y_train_percentile)\n",
    "\n",
    "print (\"Intercept is \",linear_reg.intercept_)\n",
    "print(\"Coefficient is \",linear_reg.coef_)\n",
    "#print(lm.predict([18,3,0,4]))\n",
    "print(\"Training score is \",linear_reg.score(X_train_percentile, Y_train_percentile))\n",
    "\n",
    "#np.mean((linear_reg.predict(X_test)-Y_test)**2)\n",
    "print(\"Testing score is \",linear_reg.score(X_test_percentile, Y_test_percentile))\n"
   ]
  },
  {
   "cell_type": "code",
   "execution_count": 207,
   "metadata": {
    "collapsed": false
   },
   "outputs": [
    {
     "name": "stderr",
     "output_type": "stream",
     "text": [
      "/usr/local/src/conda3_runtime/4.1.1/lib/python3.5/site-packages/ipykernel/__main__.py:9: SettingWithCopyWarning: \n",
      "A value is trying to be set on a copy of a slice from a DataFrame.\n",
      "Try using .loc[row_indexer,col_indexer] = value instead\n",
      "\n",
      "See the caveats in the documentation: http://pandas.pydata.org/pandas-docs/stable/indexing.html#indexing-view-versus-copy\n"
     ]
    },
    {
     "name": "stdout",
     "output_type": "stream",
     "text": [
      "Features sorted by their score:\n",
      "[(1.0, 'verification_status'), (1.0, 'total_rec_prncp'), (1.0, 'total_rec_int'), (1.0, 'total_pymnt_inv'), (1.0, 'total_acc'), (1.0, 'term'), (1.0, 'revol_util'), (1.0, 'revol_bal'), (1.0, 'purpose'), (1.0, 'pub_rec_bankruptcies'), (1.0, 'pub_rec'), (1.0, 'percent_bc_gt_75'), (1.0, 'pct_tl_nvr_dlq'), (1.0, 'out_prncp_inv'), (1.0, 'open_acc'), (1.0, 'num_tl_op_past_12m'), (1.0, 'num_actv_rev_tl'), (1.0, 'num_accts_ever_120_pd'), (1.0, 'mths_since_last_record'), (1.0, 'mths_since_last_delinq'), (1.0, 'mort_acc'), (1.0, 'mo_sin_rcnt_tl'), (1.0, 'mo_sin_old_il_acct'), (1.0, 'meanfico'), (1.0, 'loan_status'), (1.0, 'loan_amnt'), (1.0, 'last_pymnt_amnt'), (1.0, 'issue_d'), (1.0, 'installment'), (1.0, 'initial_list_status'), (1.0, 'home_ownership'), (1.0, 'grade_based_on_inq_last_6mths'), (1.0, 'grade'), (1.0, 'funded_amnt_inv'), (1.0, 'fico_range_grade'), (1.0, 'emp_title'), (1.0, 'emp_length'), (1.0, 'dti'), (1.0, 'delinq_amnt'), (1.0, 'delinq_2yrs'), (1.0, 'credit_age'), (1.0, 'collections_12_mths_ex_med'), (1.0, 'collection_recovery_fee'), (1.0, 'chargeoff_within_12_mths'), (1.0, 'annual_inc'), (1.0, 'acc_open_past_24mths'), (0.76000000000000001, 'addr_state')]\n"
     ]
    }
   ],
   "source": [
    "from sklearn.linear_model import RandomizedLasso\n",
    "lasso_df=df.copy()\n",
    "\n",
    "#lasso_df=dummyEncode(lasso_df)\n",
    "X=lasso_df.ix[:, lasso_df.columns != 'int_rate']\n",
    "X=dummyEncode(X)\n",
    "Y=lasso_df.int_rate\n",
    "\n",
    "rlasso = RandomizedLasso(alpha='bic', verbose=False, n_resampling=50, random_state=1001, n_jobs=1)\n",
    "rlasso.fit(X, Y)\n",
    " \n",
    "print( \"Features sorted by their score:\")\n",
    "coef = pd.DataFrame(rlasso.scores_, columns = ['RandomizedLasso_score'])\n",
    "\n",
    "print (sorted(zip(map(lambda x: round(x, 4), rlasso.scores_), X), reverse=True))"
   ]
  },
  {
   "cell_type": "code",
   "execution_count": 208,
   "metadata": {
    "collapsed": false
   },
   "outputs": [
    {
     "data": {
      "text/plain": [
       "0    15.27\n",
       "1    13.49\n",
       "2    12.69\n",
       "Name: int_rate, dtype: float64"
      ]
     },
     "execution_count": 208,
     "metadata": {},
     "output_type": "execute_result"
    }
   ],
   "source": [
    "lasso_df.int_rate.head(3)"
   ]
  },
  {
   "cell_type": "code",
   "execution_count": 210,
   "metadata": {
    "collapsed": false
   },
   "outputs": [
    {
     "name": "stderr",
     "output_type": "stream",
     "text": [
      "/usr/local/src/conda3_runtime/4.1.1/lib/python3.5/site-packages/ipykernel/__main__.py:9: SettingWithCopyWarning: \n",
      "A value is trying to be set on a copy of a slice from a DataFrame.\n",
      "Try using .loc[row_indexer,col_indexer] = value instead\n",
      "\n",
      "See the caveats in the documentation: http://pandas.pydata.org/pandas-docs/stable/indexing.html#indexing-view-versus-copy\n"
     ]
    },
    {
     "name": "stdout",
     "output_type": "stream",
     "text": [
      "Features sorted by their rank:\n",
      "[(1, 'grade'), (2, 'initial_list_status'), (3, 'verification_status'), (4, 'term'), (5, 'fico_range_grade'), (6, 'issue_d'), (7, 'grade_based_on_inq_last_6mths'), (8, 'collections_12_mths_ex_med'), (9, 'chargeoff_within_12_mths'), (10, 'loan_status'), (11, 'acc_open_past_24mths'), (12, 'num_tl_op_past_12m'), (13, 'pub_rec'), (14, 'pub_rec_bankruptcies'), (15, 'meanfico'), (16, 'purpose'), (17, 'home_ownership'), (18, 'total_acc'), (19, 'emp_length'), (20, 'mort_acc'), (21, 'open_acc'), (22, 'credit_age'), (23, 'delinq_2yrs'), (24, 'percent_bc_gt_75'), (25, 'num_accts_ever_120_pd'), (26, 'mths_since_last_delinq'), (27, 'num_actv_rev_tl'), (28, 'mo_sin_rcnt_tl'), (29, 'mths_since_last_record'), (30, 'addr_state'), (31, 'mo_sin_old_il_acct'), (32, 'loan_amnt'), (33, 'funded_amnt_inv'), (34, 'installment'), (35, 'revol_util'), (36, 'pct_tl_nvr_dlq'), (37, 'delinq_amnt'), (38, 'dti'), (39, 'total_rec_prncp'), (40, 'annual_inc'), (41, 'revol_bal'), (42, 'out_prncp_inv'), (43, 'total_rec_int'), (44, 'total_pymnt_inv'), (45, 'collection_recovery_fee'), (46, 'last_pymnt_amnt'), (47, 'emp_title')]\n"
     ]
    }
   ],
   "source": [
    "from sklearn.feature_selection import RFE\n",
    "\n",
    "rfe_df=df.copy()\n",
    "rfe_df.ix[:, rfe_df.columns != 'int_rate']=dummyEncode(rfe_df.ix[:, rfe_df.columns != 'int_rate'])\n",
    "\n",
    "X_train_rfe, X_test_rfe, Y_train_rfe, Y_test_rfe = train_test_split(rfe_df.ix[:, rfe_df.columns != 'int_rate'], rfe_df.int_rate, test_size=0.2, random_state=0)\n",
    "\n",
    "lr = LinearRegression()\n",
    "#rank all features, i.e continue the elimination until the last one\n",
    "rfe = RFE(lr, n_features_to_select=1)\n",
    "rfe.fit(X_train_rfe,Y_train_rfe)\n",
    " \n",
    "print (\"Features sorted by their rank:\")\n",
    "print (sorted(zip(map(lambda x: round(x, 4), rfe.ranking_), X_train_rfe)))\n",
    "\n",
    "\n"
   ]
  },
  {
   "cell_type": "code",
   "execution_count": 211,
   "metadata": {
    "collapsed": false
   },
   "outputs": [
    {
     "data": {
      "text/plain": [
       "0    15.27\n",
       "1    13.49\n",
       "2    12.69\n",
       "3    15.96\n",
       "4    18.64\n",
       "Name: int_rate, dtype: float64"
      ]
     },
     "execution_count": 211,
     "metadata": {},
     "output_type": "execute_result"
    }
   ],
   "source": [
    "rfe_df.int_rate.head(5)"
   ]
  },
  {
   "cell_type": "code",
   "execution_count": 212,
   "metadata": {
    "collapsed": false
   },
   "outputs": [
    {
     "name": "stderr",
     "output_type": "stream",
     "text": [
      "/usr/local/src/conda3_runtime/4.1.1/lib/python3.5/site-packages/ipykernel/__main__.py:9: SettingWithCopyWarning: \n",
      "A value is trying to be set on a copy of a slice from a DataFrame.\n",
      "Try using .loc[row_indexer,col_indexer] = value instead\n",
      "\n",
      "See the caveats in the documentation: http://pandas.pydata.org/pandas-docs/stable/indexing.html#indexing-view-versus-copy\n"
     ]
    },
    {
     "name": "stdout",
     "output_type": "stream",
     "text": [
      "1057104     8.39\n",
      "582315     14.65\n",
      "450455      8.90\n",
      "908907      6.49\n",
      "46622       7.62\n",
      "446678     11.99\n",
      "830870     10.99\n",
      "83927      12.35\n",
      "1077364    23.99\n",
      "943755     11.99\n",
      "Name: int_rate, dtype: float64\n",
      "Starting Linear Regression algorithm\n",
      "Intercept is  8.46968825487\n",
      "Coefficient is  [ 3.228342    0.18447634 -0.11205113  0.30229126 -0.1712155   0.1010616\n",
      " -0.12022838 -0.04264375 -0.05479369  0.05129503 -0.02639741  0.04844942\n",
      " -0.0400275  -0.01892548  0.01982222 -0.02292975 -0.00922271]\n",
      "Training score is  0.916515927266\n",
      "Testing score is  0.916739627053\n"
     ]
    }
   ],
   "source": [
    "# rfe_df=df.copy()\n",
    "\n",
    "\n",
    "rfe_df=rfe_df[['grade','verification_status','issue_d','term','initial_list_status','grade_based_on_inq_last_6mths','collections_12_mths_ex_med','fico_range_grade','chargeoff_within_12_mths',\n",
    "               'loan_status','num_tl_op_past_12m','acc_open_past_24mths','pub_rec','pub_rec_bankruptcies','purpose','meanfico','total_acc','int_rate']]\n",
    "#pearson_df=pearson_df.dropna(how='any') \n",
    "#rfe_df=dummyEncode(rfe_df)\n",
    "\n",
    "rfe_df.ix[:, rfe_df.columns != 'int_rate']=dummyEncode(rfe_df.ix[:, rfe_df.columns != 'int_rate'])\n",
    "\n",
    "#X_train=df\n",
    "#random split method for creating the training and test splits\n",
    "X_train_rfe, X_test_rfe, Y_train_rfe, Y_test_rfe = train_test_split(rfe_df.ix[:, rfe_df.columns != 'int_rate'], rfe_df.int_rate, test_size=0.2, random_state=0)\n",
    "\n",
    "# print(X_train_rfe.columns)\n",
    "# print(X_test_rfe.columns)\n",
    "# print(Y_train_rfe.head(10))\n",
    "# print(Y_test_rfe.head(2))\n",
    "\n",
    "print(\"Starting Linear Regression algorithm\")\n",
    "linear_reg = LinearRegression()\n",
    "fit=linear_reg.fit(X_train_rfe, Y_train_rfe)\n",
    "\n",
    "print (\"Intercept is \",linear_reg.intercept_)\n",
    "print(\"Coefficient is \",linear_reg.coef_)\n",
    "#print(lm.predict([18,3,0,4]))\n",
    "print(\"Training score is \",linear_reg.score(X_train_rfe, Y_train_rfe))\n",
    "\n",
    "#np.mean((linear_reg.predict(X_test)-Y_test)**2)\n",
    "print(\"Testing score is \",linear_reg.score(X_test_rfe, Y_test_rfe))"
   ]
  },
  {
   "cell_type": "code",
   "execution_count": 240,
   "metadata": {
    "collapsed": false
   },
   "outputs": [
    {
     "name": "stderr",
     "output_type": "stream",
     "text": [
      "/usr/local/src/conda3_runtime/4.1.1/lib/python3.5/site-packages/ipykernel/__main__.py:9: SettingWithCopyWarning: \n",
      "A value is trying to be set on a copy of a slice from a DataFrame.\n",
      "Try using .loc[row_indexer,col_indexer] = value instead\n",
      "\n",
      "See the caveats in the documentation: http://pandas.pydata.org/pandas-docs/stable/indexing.html#indexing-view-versus-copy\n"
     ]
    },
    {
     "name": "stdout",
     "output_type": "stream",
     "text": [
      "Staring Neural Network\n",
      "Training score is  0.951905223818\n",
      "Testing score is  0.951993332139\n"
     ]
    }
   ],
   "source": [
    "# common features from RFE and Select Percentile are\n",
    "# grade, loan_status, fico_range_grade, grade_based_on_inq_last_6mths, acc_open_past_24mths, total_acc, issue_d, meanfico\n",
    "from sklearn.preprocessing import StandardScaler\n",
    "from sklearn.neural_network import MLPRegressor\n",
    "\n",
    "neural_network_df=df.copy()\n",
    "neural_network_df=neural_network_df[['grade', 'total_pymnt_inv', 'revol_util', 'loan_status', 'fico_range_grade', 'total_rec_prncp', 'revol_bal', 'grade_based_on_inq_last_6mths', 'acc_open_past_24mths', 'installment', 'last_pymnt_amnt', 'funded_amnt_inv', 'total_acc', 'credit_age', 'issue_d', 'annual_inc', 'meanfico','int_rate']]\n",
    "\n",
    "neural_network_df.ix[:, neural_network_df.columns != 'int_rate']=dummyEncode(neural_network_df.ix[:, neural_network_df.columns != 'int_rate'])\n",
    "\n",
    "#neural network\n",
    "print(\"Staring Neural Network\")\n",
    "\n",
    "X_train_nn, X_test_nn, Y_train_nn, Y_test_nn = train_test_split(neural_network_df.ix[:, neural_network_df.columns != 'int_rate'], neural_network_df.int_rate, test_size=0.2, random_state=0)\n",
    "\n",
    "\n",
    "X_train_nn = StandardScaler().fit_transform(X_train_nn)\n",
    "X_test_nn = StandardScaler().fit_transform(X_test_nn)\n",
    "\n",
    "mlp = MLPRegressor(solver='lbfgs', hidden_layer_sizes=50,\n",
    "                           max_iter=150, shuffle=True, random_state=1)\n",
    "mlp.fit(X_train_nn, Y_train_nn)\n",
    "\n",
    "# print(X_train_nn.columns)\n",
    "# print(X_test_nn.columns)\n",
    "# print(Y_train_nn.head(2))\n",
    "# print(Y_test_nn.head(2))\n",
    "\n",
    "# neural_network_reg=MLPClassifier(hidden_layer_sizes=(20,10,20))\n",
    "# neural_network_reg.fit(X_train_nn,Y_train_nn)\n",
    "#predictions = neural_network_reg.predict(X_test_nn)\n",
    "# print(\"Intercept is \",mlp.intercept_)\n",
    "# print(\"Coefficient is \",mlp.coef_)\n",
    "print(\"Training score is \",mlp.score(X_train_nn, Y_train_nn))\n",
    "print(\"Testing score is \",mlp.score(X_test_nn, Y_test_nn))\n"
   ]
  },
  {
   "cell_type": "code",
   "execution_count": 245,
   "metadata": {
    "collapsed": false
   },
   "outputs": [
    {
     "name": "stderr",
     "output_type": "stream",
     "text": [
      "/usr/local/src/conda3_runtime/4.1.1/lib/python3.5/site-packages/ipykernel/__main__.py:9: SettingWithCopyWarning: \n",
      "A value is trying to be set on a copy of a slice from a DataFrame.\n",
      "Try using .loc[row_indexer,col_indexer] = value instead\n",
      "\n",
      "See the caveats in the documentation: http://pandas.pydata.org/pandas-docs/stable/indexing.html#indexing-view-versus-copy\n"
     ]
    },
    {
     "name": "stdout",
     "output_type": "stream",
     "text": [
      "Starting KNN algorithm\n",
      "Accuracy of the model is  0.00600332621274\n",
      "Accuracy of the model is  0.218296301205\n",
      "Accuracy of the model is  0.282858456975\n",
      "Accuracy of the model is  0.312147381213\n",
      "Accuracy of the model is  0.32769924312\n",
      "Accuracy of the model is  0.335558343248\n",
      "Accuracy of the model is  0.339893487941\n",
      "Accuracy of the model is  0.343432343619\n",
      "Accuracy of the model is  0.345385774519\n",
      "Accuracy of the model is  0.346509440622\n",
      "Accuracy of the model is  0.346394114291\n",
      "Accuracy of the model is  0.346469964183\n"
     ]
    }
   ],
   "source": [
    "from sklearn.neighbors import KNeighborsRegressor\n",
    "from sklearn.metrics import r2_score\n",
    "\n",
    "knn_df=df.copy()\n",
    "knn_df=knn_df[['grade', 'total_pymnt_inv', 'revol_util', 'loan_status', 'fico_range_grade', 'total_rec_prncp', 'revol_bal', 'grade_based_on_inq_last_6mths', 'acc_open_past_24mths', 'installment', 'last_pymnt_amnt', 'funded_amnt_inv', 'total_acc', 'credit_age', 'issue_d', 'annual_inc', 'meanfico','int_rate']]\n",
    "\n",
    "knn_df.ix[:, knn_df.columns != 'int_rate']=dummyEncode(knn_df.ix[:, knn_df.columns != 'int_rate'])\n",
    "\n",
    "X_train_knn, X_test_knn, Y_train_knn, Y_test_knn = train_test_split(knn_df.ix[:, knn_df.columns != 'int_rate'], knn_df.int_rate, test_size=0.2, random_state=0)\n",
    "\n",
    "\n",
    "print(\"Starting KNN algorithm\")\n",
    "for K in range(12):\n",
    "         K_value = K+1\n",
    "         knn_reg = KNeighborsRegressor(n_neighbors = K_value, weights='uniform', algorithm='auto')\n",
    "         knn_reg.fit(X_train_knn, Y_train_knn)\n",
    "         y_pred = knn_reg.predict(X_test_knn)\n",
    "#          print(\"Mean Absolute Error is \",mean_absolute_error(Y_train,y_pred),\"% for K-Value:\",K_value)\n",
    "#          #print(\"Mean Absolute Percentage Error is \",mean_absolute_percentage_error(Y_train,y_pred))\n",
    "#          print(\"Root Mean Squared Error \",np.sqrt(mean_squared_error(Y_train,y_pred)))\n",
    "         print(\"Accuracy of the model is \",r2_score(Y_test_knn,y_pred))"
   ]
  },
  {
   "cell_type": "code",
   "execution_count": 244,
   "metadata": {
    "collapsed": false
   },
   "outputs": [
    {
     "name": "stderr",
     "output_type": "stream",
     "text": [
      "/usr/local/src/conda3_runtime/4.1.1/lib/python3.5/site-packages/ipykernel/__main__.py:9: SettingWithCopyWarning: \n",
      "A value is trying to be set on a copy of a slice from a DataFrame.\n",
      "Try using .loc[row_indexer,col_indexer] = value instead\n",
      "\n",
      "See the caveats in the documentation: http://pandas.pydata.org/pandas-docs/stable/indexing.html#indexing-view-versus-copy\n"
     ]
    },
    {
     "name": "stdout",
     "output_type": "stream",
     "text": [
      "Staring Random forest algorithm\n",
      "Accuracy of the model is  0.988796931553\n"
     ]
    }
   ],
   "source": [
    "from sklearn.ensemble import RandomForestRegressor\n",
    "\n",
    "random_df=df.copy()\n",
    "random_df=random_df[['grade', 'total_pymnt_inv', 'revol_util', 'loan_status', 'fico_range_grade', 'total_rec_prncp', 'revol_bal', 'grade_based_on_inq_last_6mths', 'acc_open_past_24mths', 'installment', 'last_pymnt_amnt', 'funded_amnt_inv', 'total_acc', 'credit_age', 'issue_d', 'annual_inc', 'meanfico','int_rate']]\n",
    "\n",
    "random_df.ix[:, random_df.columns != 'int_rate']=dummyEncode(knn_df.ix[:, random_df.columns != 'int_rate'])\n",
    "\n",
    "X_train_random, X_test_random, Y_train_random, Y_test_random = train_test_split(random_df.ix[:, random_df.columns != 'int_rate'], random_df.int_rate, test_size=0.2, random_state=0)\n",
    "\n",
    "\n",
    "print(\"Staring Random forest algorithm\")\n",
    "random_forest = RandomForestRegressor(n_jobs=2)\n",
    "random_forest.fit(X_train_random, Y_train_random)\n",
    "y_pred=random_forest.predict(X_test_random)\n",
    "#predict probability of first 10 records\n",
    "#print(random_forest.predict_proba(X_test)[0:10])\n",
    "# print(\"Mean Absolute Error is \",mean_absolute_error(Y_train,y_pred))\n",
    "# #print(\"Mean Absolute Percentage Error is \",mean_absolute_percentage_error(Y_train,y_pred))\n",
    "# print(\"Root Mean Squared Error \",np.sqrt(mean_squared_error(Y_train,y_pred)))\n",
    "print(\"Accuracy of the model is \",r2_score(Y_test_random,y_pred)) "
   ]
  }
 ],
 "metadata": {
  "kernelspec": {
   "display_name": "Python 3.5 (Experimental) with Spark 1.6",
   "language": "python",
   "name": "python3"
  },
  "language_info": {
   "codemirror_mode": {
    "name": "ipython",
    "version": 3
   },
   "file_extension": ".py",
   "mimetype": "text/x-python",
   "name": "python",
   "nbconvert_exporter": "python",
   "pygments_lexer": "ipython3",
   "version": "3.5.2"
  }
 },
 "nbformat": 4,
 "nbformat_minor": 0
}