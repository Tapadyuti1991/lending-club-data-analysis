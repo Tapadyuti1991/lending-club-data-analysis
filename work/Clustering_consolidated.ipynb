{
 "cells": [
  {
   "cell_type": "code",
   "execution_count": 2,
   "metadata": {
    "collapsed": false
   },
   "outputs": [
    {
     "data": {
      "text/html": [
       "<div>\n",
       "<table border=\"1\" class=\"dataframe\">\n",
       "  <thead>\n",
       "    <tr style=\"text-align: right;\">\n",
       "      <th></th>\n",
       "      <th>acc_open_past_24mths</th>\n",
       "      <th>addr_state</th>\n",
       "      <th>annual_inc</th>\n",
       "      <th>chargeoff_within_12_mths</th>\n",
       "      <th>collection_recovery_fee</th>\n",
       "      <th>collections_12_mths_ex_med</th>\n",
       "      <th>credit_age</th>\n",
       "      <th>delinq_2yrs</th>\n",
       "      <th>delinq_amnt</th>\n",
       "      <th>dti</th>\n",
       "      <th>...</th>\n",
       "      <th>purpose</th>\n",
       "      <th>recoveries</th>\n",
       "      <th>revol_bal</th>\n",
       "      <th>revol_util</th>\n",
       "      <th>term</th>\n",
       "      <th>total_acc</th>\n",
       "      <th>total_pymnt_inv</th>\n",
       "      <th>total_rec_int</th>\n",
       "      <th>total_rec_prncp</th>\n",
       "      <th>verification_status</th>\n",
       "    </tr>\n",
       "  </thead>\n",
       "  <tbody>\n",
       "    <tr>\n",
       "      <th>0</th>\n",
       "      <td>0</td>\n",
       "      <td>GA</td>\n",
       "      <td>30000</td>\n",
       "      <td>0</td>\n",
       "      <td>1.12</td>\n",
       "      <td>0</td>\n",
       "      <td>17</td>\n",
       "      <td>0</td>\n",
       "      <td>0</td>\n",
       "      <td>1.00</td>\n",
       "      <td>...</td>\n",
       "      <td>car</td>\n",
       "      <td>122.9</td>\n",
       "      <td>1687</td>\n",
       "      <td>9.4</td>\n",
       "      <td>60</td>\n",
       "      <td>4</td>\n",
       "      <td>1014.53</td>\n",
       "      <td>435.17</td>\n",
       "      <td>456</td>\n",
       "      <td>Source Verified</td>\n",
       "    </tr>\n",
       "    <tr>\n",
       "      <th>1</th>\n",
       "      <td>0</td>\n",
       "      <td>CA</td>\n",
       "      <td>49200</td>\n",
       "      <td>0</td>\n",
       "      <td>0.00</td>\n",
       "      <td>0</td>\n",
       "      <td>20</td>\n",
       "      <td>0</td>\n",
       "      <td>0</td>\n",
       "      <td>20.00</td>\n",
       "      <td>...</td>\n",
       "      <td>other</td>\n",
       "      <td>0.0</td>\n",
       "      <td>5598</td>\n",
       "      <td>21.0</td>\n",
       "      <td>36</td>\n",
       "      <td>37</td>\n",
       "      <td>12231.89</td>\n",
       "      <td>2214.92</td>\n",
       "      <td>10000</td>\n",
       "      <td>Source Verified</td>\n",
       "    </tr>\n",
       "    <tr>\n",
       "      <th>2</th>\n",
       "      <td>0</td>\n",
       "      <td>OR</td>\n",
       "      <td>80000</td>\n",
       "      <td>0</td>\n",
       "      <td>0.00</td>\n",
       "      <td>0</td>\n",
       "      <td>21</td>\n",
       "      <td>0</td>\n",
       "      <td>0</td>\n",
       "      <td>17.94</td>\n",
       "      <td>...</td>\n",
       "      <td>other</td>\n",
       "      <td>0.0</td>\n",
       "      <td>27783</td>\n",
       "      <td>53.9</td>\n",
       "      <td>60</td>\n",
       "      <td>38</td>\n",
       "      <td>4066.91</td>\n",
       "      <td>1066.91</td>\n",
       "      <td>3000</td>\n",
       "      <td>Source Verified</td>\n",
       "    </tr>\n",
       "    <tr>\n",
       "      <th>3</th>\n",
       "      <td>0</td>\n",
       "      <td>NC</td>\n",
       "      <td>47004</td>\n",
       "      <td>0</td>\n",
       "      <td>0.00</td>\n",
       "      <td>0</td>\n",
       "      <td>11</td>\n",
       "      <td>0</td>\n",
       "      <td>0</td>\n",
       "      <td>23.51</td>\n",
       "      <td>...</td>\n",
       "      <td>debt_consolidation</td>\n",
       "      <td>0.0</td>\n",
       "      <td>17726</td>\n",
       "      <td>85.6</td>\n",
       "      <td>60</td>\n",
       "      <td>11</td>\n",
       "      <td>10137.84</td>\n",
       "      <td>3137.84</td>\n",
       "      <td>7000</td>\n",
       "      <td>Not Verified</td>\n",
       "    </tr>\n",
       "    <tr>\n",
       "      <th>4</th>\n",
       "      <td>0</td>\n",
       "      <td>CA</td>\n",
       "      <td>48000</td>\n",
       "      <td>0</td>\n",
       "      <td>0.00</td>\n",
       "      <td>0</td>\n",
       "      <td>7</td>\n",
       "      <td>0</td>\n",
       "      <td>0</td>\n",
       "      <td>5.35</td>\n",
       "      <td>...</td>\n",
       "      <td>car</td>\n",
       "      <td>0.0</td>\n",
       "      <td>8221</td>\n",
       "      <td>87.5</td>\n",
       "      <td>36</td>\n",
       "      <td>4</td>\n",
       "      <td>3939.14</td>\n",
       "      <td>939.14</td>\n",
       "      <td>3000</td>\n",
       "      <td>Source Verified</td>\n",
       "    </tr>\n",
       "  </tbody>\n",
       "</table>\n",
       "<p>5 rows × 51 columns</p>\n",
       "</div>"
      ],
      "text/plain": [
       "   acc_open_past_24mths addr_state  annual_inc  chargeoff_within_12_mths  \\\n",
       "0                     0         GA       30000                         0   \n",
       "1                     0         CA       49200                         0   \n",
       "2                     0         OR       80000                         0   \n",
       "3                     0         NC       47004                         0   \n",
       "4                     0         CA       48000                         0   \n",
       "\n",
       "   collection_recovery_fee  collections_12_mths_ex_med  credit_age  \\\n",
       "0                     1.12                           0          17   \n",
       "1                     0.00                           0          20   \n",
       "2                     0.00                           0          21   \n",
       "3                     0.00                           0          11   \n",
       "4                     0.00                           0           7   \n",
       "\n",
       "   delinq_2yrs  delinq_amnt    dti         ...                      purpose  \\\n",
       "0            0            0   1.00         ...                          car   \n",
       "1            0            0  20.00         ...                        other   \n",
       "2            0            0  17.94         ...                        other   \n",
       "3            0            0  23.51         ...           debt_consolidation   \n",
       "4            0            0   5.35         ...                          car   \n",
       "\n",
       "   recoveries revol_bal revol_util  term total_acc total_pymnt_inv  \\\n",
       "0       122.9      1687        9.4    60         4         1014.53   \n",
       "1         0.0      5598       21.0    36        37        12231.89   \n",
       "2         0.0     27783       53.9    60        38         4066.91   \n",
       "3         0.0     17726       85.6    60        11        10137.84   \n",
       "4         0.0      8221       87.5    36         4         3939.14   \n",
       "\n",
       "  total_rec_int total_rec_prncp  verification_status  \n",
       "0        435.17             456      Source Verified  \n",
       "1       2214.92           10000      Source Verified  \n",
       "2       1066.91            3000      Source Verified  \n",
       "3       3137.84            7000         Not Verified  \n",
       "4        939.14            3000      Source Verified  \n",
       "\n",
       "[5 rows x 51 columns]"
      ]
     },
     "execution_count": 2,
     "metadata": {},
     "output_type": "execute_result"
    }
   ],
   "source": [
    "import pandas as pd\n",
    "df = pd.read_csv('accepted_merged_final.csv',low_memory=False, encoding='cp1252')\n",
    "df.head()"
   ]
  },
  {
   "cell_type": "code",
   "execution_count": 3,
   "metadata": {
    "collapsed": false
   },
   "outputs": [
    {
     "data": {
      "text/html": [
       "<div>\n",
       "<table border=\"1\" class=\"dataframe\">\n",
       "  <thead>\n",
       "    <tr style=\"text-align: right;\">\n",
       "      <th></th>\n",
       "      <th>acc_open_past_24mths</th>\n",
       "      <th>addr_state</th>\n",
       "      <th>annual_inc</th>\n",
       "      <th>chargeoff_within_12_mths</th>\n",
       "      <th>collection_recovery_fee</th>\n",
       "      <th>collections_12_mths_ex_med</th>\n",
       "      <th>credit_age</th>\n",
       "      <th>delinq_2yrs</th>\n",
       "      <th>delinq_amnt</th>\n",
       "      <th>dti</th>\n",
       "      <th>...</th>\n",
       "      <th>purpose</th>\n",
       "      <th>recoveries</th>\n",
       "      <th>revol_bal</th>\n",
       "      <th>revol_util</th>\n",
       "      <th>term</th>\n",
       "      <th>total_acc</th>\n",
       "      <th>total_pymnt_inv</th>\n",
       "      <th>total_rec_int</th>\n",
       "      <th>total_rec_prncp</th>\n",
       "      <th>verification_status</th>\n",
       "    </tr>\n",
       "  </thead>\n",
       "  <tbody>\n",
       "    <tr>\n",
       "      <th>629453</th>\n",
       "      <td>11</td>\n",
       "      <td>OH</td>\n",
       "      <td>95000</td>\n",
       "      <td>0</td>\n",
       "      <td>0.00</td>\n",
       "      <td>0</td>\n",
       "      <td>16</td>\n",
       "      <td>0</td>\n",
       "      <td>0</td>\n",
       "      <td>10.16</td>\n",
       "      <td>...</td>\n",
       "      <td>debt_consolidation</td>\n",
       "      <td>0.00</td>\n",
       "      <td>10729</td>\n",
       "      <td>28.1</td>\n",
       "      <td>36</td>\n",
       "      <td>46</td>\n",
       "      <td>21164.74</td>\n",
       "      <td>364.74</td>\n",
       "      <td>20800</td>\n",
       "      <td>Verified</td>\n",
       "    </tr>\n",
       "    <tr>\n",
       "      <th>763248</th>\n",
       "      <td>5</td>\n",
       "      <td>LA</td>\n",
       "      <td>40000</td>\n",
       "      <td>0</td>\n",
       "      <td>0.00</td>\n",
       "      <td>0</td>\n",
       "      <td>9</td>\n",
       "      <td>0</td>\n",
       "      <td>0</td>\n",
       "      <td>27.21</td>\n",
       "      <td>...</td>\n",
       "      <td>debt_consolidation</td>\n",
       "      <td>0.00</td>\n",
       "      <td>12959</td>\n",
       "      <td>52.0</td>\n",
       "      <td>60</td>\n",
       "      <td>20</td>\n",
       "      <td>11297.45</td>\n",
       "      <td>6052.32</td>\n",
       "      <td>5273</td>\n",
       "      <td>Source Verified</td>\n",
       "    </tr>\n",
       "    <tr>\n",
       "      <th>697719</th>\n",
       "      <td>4</td>\n",
       "      <td>PA</td>\n",
       "      <td>55000</td>\n",
       "      <td>0</td>\n",
       "      <td>0.00</td>\n",
       "      <td>0</td>\n",
       "      <td>7</td>\n",
       "      <td>0</td>\n",
       "      <td>0</td>\n",
       "      <td>22.21</td>\n",
       "      <td>...</td>\n",
       "      <td>debt_consolidation</td>\n",
       "      <td>0.00</td>\n",
       "      <td>5358</td>\n",
       "      <td>72.4</td>\n",
       "      <td>36</td>\n",
       "      <td>9</td>\n",
       "      <td>3463.96</td>\n",
       "      <td>757.77</td>\n",
       "      <td>2706</td>\n",
       "      <td>Source Verified</td>\n",
       "    </tr>\n",
       "    <tr>\n",
       "      <th>94939</th>\n",
       "      <td>5</td>\n",
       "      <td>NJ</td>\n",
       "      <td>80000</td>\n",
       "      <td>0</td>\n",
       "      <td>610.75</td>\n",
       "      <td>0</td>\n",
       "      <td>17</td>\n",
       "      <td>0</td>\n",
       "      <td>0</td>\n",
       "      <td>16.29</td>\n",
       "      <td>...</td>\n",
       "      <td>debt_consolidation</td>\n",
       "      <td>3398.75</td>\n",
       "      <td>14068</td>\n",
       "      <td>42.5</td>\n",
       "      <td>60</td>\n",
       "      <td>14</td>\n",
       "      <td>19143.45</td>\n",
       "      <td>9129.33</td>\n",
       "      <td>6615</td>\n",
       "      <td>Verified</td>\n",
       "    </tr>\n",
       "    <tr>\n",
       "      <th>473115</th>\n",
       "      <td>1</td>\n",
       "      <td>GA</td>\n",
       "      <td>75000</td>\n",
       "      <td>0</td>\n",
       "      <td>0.00</td>\n",
       "      <td>0</td>\n",
       "      <td>20</td>\n",
       "      <td>0</td>\n",
       "      <td>0</td>\n",
       "      <td>12.40</td>\n",
       "      <td>...</td>\n",
       "      <td>debt_consolidation</td>\n",
       "      <td>0.00</td>\n",
       "      <td>23601</td>\n",
       "      <td>37.5</td>\n",
       "      <td>36</td>\n",
       "      <td>28</td>\n",
       "      <td>6771.52</td>\n",
       "      <td>810.25</td>\n",
       "      <td>5961</td>\n",
       "      <td>Source Verified</td>\n",
       "    </tr>\n",
       "  </tbody>\n",
       "</table>\n",
       "<p>5 rows × 51 columns</p>\n",
       "</div>"
      ],
      "text/plain": [
       "        acc_open_past_24mths addr_state  annual_inc  chargeoff_within_12_mths  \\\n",
       "629453                    11         OH       95000                         0   \n",
       "763248                     5         LA       40000                         0   \n",
       "697719                     4         PA       55000                         0   \n",
       "94939                      5         NJ       80000                         0   \n",
       "473115                     1         GA       75000                         0   \n",
       "\n",
       "        collection_recovery_fee  collections_12_mths_ex_med  credit_age  \\\n",
       "629453                     0.00                           0          16   \n",
       "763248                     0.00                           0           9   \n",
       "697719                     0.00                           0           7   \n",
       "94939                    610.75                           0          17   \n",
       "473115                     0.00                           0          20   \n",
       "\n",
       "        delinq_2yrs  delinq_amnt    dti         ...           \\\n",
       "629453            0            0  10.16         ...            \n",
       "763248            0            0  27.21         ...            \n",
       "697719            0            0  22.21         ...            \n",
       "94939             0            0  16.29         ...            \n",
       "473115            0            0  12.40         ...            \n",
       "\n",
       "                   purpose  recoveries revol_bal revol_util  term total_acc  \\\n",
       "629453  debt_consolidation        0.00     10729       28.1    36        46   \n",
       "763248  debt_consolidation        0.00     12959       52.0    60        20   \n",
       "697719  debt_consolidation        0.00      5358       72.4    36         9   \n",
       "94939   debt_consolidation     3398.75     14068       42.5    60        14   \n",
       "473115  debt_consolidation        0.00     23601       37.5    36        28   \n",
       "\n",
       "       total_pymnt_inv total_rec_int total_rec_prncp  verification_status  \n",
       "629453        21164.74        364.74           20800             Verified  \n",
       "763248        11297.45       6052.32            5273      Source Verified  \n",
       "697719         3463.96        757.77            2706      Source Verified  \n",
       "94939         19143.45       9129.33            6615             Verified  \n",
       "473115         6771.52        810.25            5961      Source Verified  \n",
       "\n",
       "[5 rows x 51 columns]"
      ]
     },
     "execution_count": 3,
     "metadata": {},
     "output_type": "execute_result"
    }
   ],
   "source": [
    "\n",
    "import datetime\n",
    "\n",
    "from sklearn.utils import shuffle\n",
    "shuffled_df = shuffle(df) #df_normalized\n",
    "shuffled_df.head()"
   ]
  },
  {
   "cell_type": "code",
   "execution_count": 4,
   "metadata": {
    "collapsed": true
   },
   "outputs": [],
   "source": [
    "#using label encoder to convert categorical columns into numeric values\n",
    "def dummyEncode(df):\n",
    "        columnsToEncode = list(df.select_dtypes(include=['category','object']))\n",
    "        le = LabelEncoder()\n",
    "        for feature in columnsToEncode:\n",
    "            try:\n",
    "                if feature!='Deliquency':\n",
    "                    df[feature] = le.fit_transform(df[feature])\n",
    "                else:\n",
    "                    print('Hello')\n",
    "                    df[feature] = df[feature]\n",
    "            except:\n",
    "                print('Error encoding '+feature)\n",
    "        return df"
   ]
  },
  {
   "cell_type": "code",
   "execution_count": 5,
   "metadata": {
    "collapsed": false
   },
   "outputs": [
    {
     "data": {
      "text/html": [
       "<div>\n",
       "<table border=\"1\" class=\"dataframe\">\n",
       "  <thead>\n",
       "    <tr style=\"text-align: right;\">\n",
       "      <th></th>\n",
       "      <th>acc_open_past_24mths</th>\n",
       "      <th>addr_state</th>\n",
       "      <th>annual_inc</th>\n",
       "      <th>chargeoff_within_12_mths</th>\n",
       "      <th>collection_recovery_fee</th>\n",
       "      <th>collections_12_mths_ex_med</th>\n",
       "      <th>credit_age</th>\n",
       "      <th>delinq_2yrs</th>\n",
       "      <th>delinq_amnt</th>\n",
       "      <th>dti</th>\n",
       "      <th>...</th>\n",
       "      <th>purpose</th>\n",
       "      <th>recoveries</th>\n",
       "      <th>revol_bal</th>\n",
       "      <th>revol_util</th>\n",
       "      <th>term</th>\n",
       "      <th>total_acc</th>\n",
       "      <th>total_pymnt_inv</th>\n",
       "      <th>total_rec_int</th>\n",
       "      <th>total_rec_prncp</th>\n",
       "      <th>verification_status</th>\n",
       "    </tr>\n",
       "  </thead>\n",
       "  <tbody>\n",
       "    <tr>\n",
       "      <th>629453</th>\n",
       "      <td>11</td>\n",
       "      <td>35</td>\n",
       "      <td>95000</td>\n",
       "      <td>0</td>\n",
       "      <td>0.00</td>\n",
       "      <td>0</td>\n",
       "      <td>16</td>\n",
       "      <td>0</td>\n",
       "      <td>0</td>\n",
       "      <td>10.16</td>\n",
       "      <td>...</td>\n",
       "      <td>2</td>\n",
       "      <td>0.00</td>\n",
       "      <td>10729</td>\n",
       "      <td>28.1</td>\n",
       "      <td>36</td>\n",
       "      <td>46</td>\n",
       "      <td>21164.74</td>\n",
       "      <td>364.74</td>\n",
       "      <td>20800</td>\n",
       "      <td>2</td>\n",
       "    </tr>\n",
       "    <tr>\n",
       "      <th>763248</th>\n",
       "      <td>5</td>\n",
       "      <td>18</td>\n",
       "      <td>40000</td>\n",
       "      <td>0</td>\n",
       "      <td>0.00</td>\n",
       "      <td>0</td>\n",
       "      <td>9</td>\n",
       "      <td>0</td>\n",
       "      <td>0</td>\n",
       "      <td>27.21</td>\n",
       "      <td>...</td>\n",
       "      <td>2</td>\n",
       "      <td>0.00</td>\n",
       "      <td>12959</td>\n",
       "      <td>52.0</td>\n",
       "      <td>60</td>\n",
       "      <td>20</td>\n",
       "      <td>11297.45</td>\n",
       "      <td>6052.32</td>\n",
       "      <td>5273</td>\n",
       "      <td>1</td>\n",
       "    </tr>\n",
       "    <tr>\n",
       "      <th>697719</th>\n",
       "      <td>4</td>\n",
       "      <td>38</td>\n",
       "      <td>55000</td>\n",
       "      <td>0</td>\n",
       "      <td>0.00</td>\n",
       "      <td>0</td>\n",
       "      <td>7</td>\n",
       "      <td>0</td>\n",
       "      <td>0</td>\n",
       "      <td>22.21</td>\n",
       "      <td>...</td>\n",
       "      <td>2</td>\n",
       "      <td>0.00</td>\n",
       "      <td>5358</td>\n",
       "      <td>72.4</td>\n",
       "      <td>36</td>\n",
       "      <td>9</td>\n",
       "      <td>3463.96</td>\n",
       "      <td>757.77</td>\n",
       "      <td>2706</td>\n",
       "      <td>1</td>\n",
       "    </tr>\n",
       "    <tr>\n",
       "      <th>94939</th>\n",
       "      <td>5</td>\n",
       "      <td>31</td>\n",
       "      <td>80000</td>\n",
       "      <td>0</td>\n",
       "      <td>610.75</td>\n",
       "      <td>0</td>\n",
       "      <td>17</td>\n",
       "      <td>0</td>\n",
       "      <td>0</td>\n",
       "      <td>16.29</td>\n",
       "      <td>...</td>\n",
       "      <td>2</td>\n",
       "      <td>3398.75</td>\n",
       "      <td>14068</td>\n",
       "      <td>42.5</td>\n",
       "      <td>60</td>\n",
       "      <td>14</td>\n",
       "      <td>19143.45</td>\n",
       "      <td>9129.33</td>\n",
       "      <td>6615</td>\n",
       "      <td>2</td>\n",
       "    </tr>\n",
       "    <tr>\n",
       "      <th>473115</th>\n",
       "      <td>1</td>\n",
       "      <td>10</td>\n",
       "      <td>75000</td>\n",
       "      <td>0</td>\n",
       "      <td>0.00</td>\n",
       "      <td>0</td>\n",
       "      <td>20</td>\n",
       "      <td>0</td>\n",
       "      <td>0</td>\n",
       "      <td>12.40</td>\n",
       "      <td>...</td>\n",
       "      <td>2</td>\n",
       "      <td>0.00</td>\n",
       "      <td>23601</td>\n",
       "      <td>37.5</td>\n",
       "      <td>36</td>\n",
       "      <td>28</td>\n",
       "      <td>6771.52</td>\n",
       "      <td>810.25</td>\n",
       "      <td>5961</td>\n",
       "      <td>1</td>\n",
       "    </tr>\n",
       "  </tbody>\n",
       "</table>\n",
       "<p>5 rows × 51 columns</p>\n",
       "</div>"
      ],
      "text/plain": [
       "        acc_open_past_24mths  addr_state  annual_inc  \\\n",
       "629453                    11          35       95000   \n",
       "763248                     5          18       40000   \n",
       "697719                     4          38       55000   \n",
       "94939                      5          31       80000   \n",
       "473115                     1          10       75000   \n",
       "\n",
       "        chargeoff_within_12_mths  collection_recovery_fee  \\\n",
       "629453                         0                     0.00   \n",
       "763248                         0                     0.00   \n",
       "697719                         0                     0.00   \n",
       "94939                          0                   610.75   \n",
       "473115                         0                     0.00   \n",
       "\n",
       "        collections_12_mths_ex_med  credit_age  delinq_2yrs  delinq_amnt  \\\n",
       "629453                           0          16            0            0   \n",
       "763248                           0           9            0            0   \n",
       "697719                           0           7            0            0   \n",
       "94939                            0          17            0            0   \n",
       "473115                           0          20            0            0   \n",
       "\n",
       "          dti         ...           purpose  recoveries  revol_bal  \\\n",
       "629453  10.16         ...                 2        0.00      10729   \n",
       "763248  27.21         ...                 2        0.00      12959   \n",
       "697719  22.21         ...                 2        0.00       5358   \n",
       "94939   16.29         ...                 2     3398.75      14068   \n",
       "473115  12.40         ...                 2        0.00      23601   \n",
       "\n",
       "        revol_util  term  total_acc  total_pymnt_inv  total_rec_int  \\\n",
       "629453        28.1    36         46         21164.74         364.74   \n",
       "763248        52.0    60         20         11297.45        6052.32   \n",
       "697719        72.4    36          9          3463.96         757.77   \n",
       "94939         42.5    60         14         19143.45        9129.33   \n",
       "473115        37.5    36         28          6771.52         810.25   \n",
       "\n",
       "        total_rec_prncp  verification_status  \n",
       "629453            20800                    2  \n",
       "763248             5273                    1  \n",
       "697719             2706                    1  \n",
       "94939              6615                    2  \n",
       "473115             5961                    1  \n",
       "\n",
       "[5 rows x 51 columns]"
      ]
     },
     "execution_count": 5,
     "metadata": {},
     "output_type": "execute_result"
    }
   ],
   "source": [
    "from sklearn.preprocessing import LabelEncoder\n",
    "# columns = ['Amount_Requested','Loan_Title','Risk_Score','Debt-To-Income_Ratio','Zip_Code','Employment_Length','Policy_Code','accept_reject_loan','State']\n",
    "\n",
    "\n",
    "# X = pd.DataFrame(shuffled_df) \n",
    "df_new = shuffled_df.copy()# makes a separate copy of the dataframe, not a shared instance\n",
    "# df_new = shuffled_df\n",
    "X_enc=dummyEncode(df_new)\n",
    "X_enc.head()"
   ]
  },
  {
   "cell_type": "code",
   "execution_count": 6,
   "metadata": {
    "collapsed": false
   },
   "outputs": [
    {
     "name": "stderr",
     "output_type": "stream",
     "text": [
      "C:\\Program Files\\Anaconda3\\lib\\site-packages\\sklearn\\lda.py:4: DeprecationWarning: lda.LDA has been moved to discriminant_analysis.LinearDiscriminantAnalysis in 0.17 and will be removed in 0.19\n",
      "  \"in 0.17 and will be removed in 0.19\", DeprecationWarning)\n",
      "C:\\Program Files\\Anaconda3\\lib\\site-packages\\sklearn\\qda.py:4: DeprecationWarning: qda.QDA has been moved to discriminant_analysis.QuadraticDiscriminantAnalysis in 0.17 and will be removed in 0.19.\n",
      "  \"in 0.17 and will be removed in 0.19.\", DeprecationWarning)\n"
     ]
    },
    {
     "name": "stdout",
     "output_type": "stream",
     "text": [
      "Shape >>  (1309103, 51)\n"
     ]
    }
   ],
   "source": [
    "### Needed dataset\n",
    "from sklearn import *\n",
    "# iris=datasets.load_iris()\n",
    "print(\"Shape >> \",df.shape)"
   ]
  },
  {
   "cell_type": "code",
   "execution_count": 7,
   "metadata": {
    "collapsed": false
   },
   "outputs": [],
   "source": [
    "### Needed modules and functions\n",
    "import numpy as np\n",
    "import scipy\n",
    "from scipy.cluster.vq import kmeans,vq\n",
    "from scipy.spatial.distance import cdist\n",
    "import matplotlib.pyplot as plt\n",
    "\n",
    "# np.array(df)"
   ]
  },
  {
   "cell_type": "code",
   "execution_count": 15,
   "metadata": {
    "collapsed": false
   },
   "outputs": [
    {
     "name": "stdout",
     "output_type": "stream",
     "text": [
      "2017-04-14 12:44:39.119926  Defining begins... \n",
      "2017-04-14 14:47:16.297118  Defigning done... \n"
     ]
    }
   ],
   "source": [
    "### Defining different number of clusters and calculate wss for each of them\n",
    "print(datetime.datetime.now(),\" Defining begins... \")\n",
    "K = range(1,15)\n",
    "KM = [kmeans(np.array(X_enc),k) for k in K]\n",
    "centroids = [cent for (cent,var) in KM]   # cluster centroids\n",
    "avgWithinSS = [var for (cent,var) in KM] # mean within-cluster sum of squares\n",
    "print(datetime.datetime.now(),\" Defigning done... \")"
   ]
  },
  {
   "cell_type": "code",
   "execution_count": 13,
   "metadata": {
    "collapsed": false
   },
   "outputs": [
    {
     "name": "stdout",
     "output_type": "stream",
     "text": [
      "2017-04-14 12:44:12.256194  Plotting bend graph... \n"
     ]
    },
    {
     "data": {
      "image/png": "[encoded data removed]",
      "text/plain": [
       "<matplotlib.figure.Figure at 0x184035e7d68>"
      ]
     },
     "metadata": {},
     "output_type": "display_data"
    },
    {
     "name": "stdout",
     "output_type": "stream",
     "text": [
      "2017-04-14 12:44:12.587842  Done plotting!!  \n"
     ]
    }
   ],
   "source": [
    "print(datetime.datetime.now(),\" Plotting bend graph... \")\n",
    "kIdx = 3\n",
    "### Bend graph\n",
    "fig = plt.figure()\n",
    "ax = fig.add_subplot(111)\n",
    "ax.plot(K, avgWithinSS, 'b*-')\n",
    "ax.plot(K[kIdx], avgWithinSS[kIdx], marker='*', markersize=10, \n",
    "    markeredgewidth=2, markeredgecolor='b', markerfacecolor='None')\n",
    "plt.grid(True)\n",
    "plt.xlabel('K')\n",
    "plt.ylabel('WSS')\n",
    "plt.title('Bend for KMeans clustering')\n",
    "plt.show()\n",
    "print(datetime.datetime.now(),\" Done plotting!!  \")"
   ]
  },
  {
   "cell_type": "code",
   "execution_count": null,
   "metadata": {
    "collapsed": true
   },
   "outputs": [],
   "source": [
    "from sklearn import cluster\n",
    "# from sklearn.decomposition import PCA\n"
   ]
  },
  {
   "cell_type": "code",
   "execution_count": null,
   "metadata": {
    "collapsed": false
   },
   "outputs": [],
   "source": [
    "# print(\"Dim reduction begins...\")\n",
    "# pca = PCA(n_components=2).fit(X_enc)\n",
    "# pca_2d = pca.transform(X_enc)\n",
    "# print(\"Dim reduction done !!\")"
   ]
  },
  {
   "cell_type": "code",
   "execution_count": null,
   "metadata": {
    "collapsed": false
   },
   "outputs": [],
   "source": [
    "print(datetime.datetime.now(),\" Clustering begins... \")\n",
    "k_means=cluster.KMeans(n_clusters=6).fit(X_enc)\n",
    "print(datetime.datetime.now(),\" Done!!... \")"
   ]
  },
  {
   "cell_type": "code",
   "execution_count": null,
   "metadata": {
    "collapsed": true
   },
   "outputs": [],
   "source": [
    "import numpy as np\n",
    "from pandas import *"
   ]
  },
  {
   "cell_type": "code",
   "execution_count": null,
   "metadata": {
    "collapsed": false
   },
   "outputs": [],
   "source": [
    "df1=pd.DataFrame(shuffled_df)\n",
    "df2=pd.DataFrame(k_means.labels_,columns=['kmean.label'])\n",
    "df_clustered=pd.concat([df1, df2], axis=1)\n",
    "# df_clustered"
   ]
  },
  {
   "cell_type": "code",
   "execution_count": null,
   "metadata": {
    "collapsed": false
   },
   "outputs": [],
   "source": [
    "print(\"Grouping into clusters...\")\n",
    "grouped = df_clustered.groupby(['kmean.label'])\n",
    "l_grouped = list(grouped)"
   ]
  },
  {
   "cell_type": "code",
   "execution_count": null,
   "metadata": {
    "collapsed": false
   },
   "outputs": [],
   "source": [
    "print(\"Exporting clusters as individual dataframes...\")\n",
    "count = 0\n",
    "h_cluster =[]\n",
    "for hierarchy_group in l_grouped:\n",
    "    df_clustered = l_grouped[count][1]\n",
    "    h_cluster.append(df_clustered)\n",
    "    print(\"Cluster \",count,\" of \" ,len(df_clustered), \" rows!\")\n",
    "    csv_name = \"K-means_Cluster_\"+str(count)+\".csv\"\n",
    "    df_clustered.to_csv(csv_name, index= False, encoding='cp1252')\n",
    "#     put_file(credentials_1,csv_name) ## after to_csv\n",
    "    count+=1"
   ]
  },
  {
   "cell_type": "code",
   "execution_count": null,
   "metadata": {
    "collapsed": false
   },
   "outputs": [],
   "source": [
    "df['grade'].value_counts()"
   ]
  },
  {
   "cell_type": "code",
   "execution_count": null,
   "metadata": {
    "collapsed": false
   },
   "outputs": [],
   "source": [
    "print(\"Grouping into clusters...\")\n",
    "grade_grouped = df.groupby(['grade'])\n",
    "\n",
    "g_grouped = list(grade_grouped)\n",
    "   \n",
    "g_grouped[0]"
   ]
  },
  {
   "cell_type": "code",
   "execution_count": 128,
   "metadata": {
    "collapsed": false
   },
   "outputs": [
    {
     "name": "stdout",
     "output_type": "stream",
     "text": [
      "Exporting clusters as individual dataframes...\n",
      "Manual Cluster  0  of  214873  rows!\n",
      "<Response [201]>\n",
      "Manual Cluster  1  of  385126  rows!\n",
      "<Response [201]>\n",
      "Manual Cluster  2  of  375833  rows!\n",
      "<Response [201]>\n",
      "Manual Cluster  3  of  197362  rows!\n",
      "<Response [201]>\n",
      "Manual Cluster  4  of  95813  rows!\n",
      "<Response [201]>\n",
      "Manual Cluster  5  of  32136  rows!\n",
      "<Response [201]>\n",
      "Manual Cluster  6  of  7960  rows!\n",
      "<Response [201]>\n"
     ]
    }
   ],
   "source": [
    "print(\"Exporting clusters as individual dataframes...\")\n",
    "count = 0\n",
    "g_cluster =[]\n",
    "for manual_group in g_grouped:\n",
    "    df_g_clustered = g_grouped[count][1]\n",
    "    g_cluster.append(df_g_clustered)\n",
    "    print(\"Manual Cluster \",count,\" of \" ,len(df_g_clustered), \" rows!\")\n",
    "    csv_name = \"Manual_Grade_Cluster_\"+str(count)+\".csv\"\n",
    "    df_g_clustered.to_csv(csv_name, index= False, encoding='cp1252')\n",
    "#     put_file(credentials_1,csv_name) ## after to_csv\n",
    "    count+=1\n",
    "    \n",
    "# g_cluster[1].head()    "
   ]
  },
  {
   "cell_type": "code",
   "execution_count": null,
   "metadata": {
    "collapsed": false
   },
   "outputs": [],
   "source": [
    "#Visualize clusters using t-SNE\n",
    "%pylab inline\n",
    "from sklearn.manifold import TSNE\n",
    "# from sklearn.datasets import load_iris\n",
    "from sklearn.decomposition import PCA"
   ]
  },
  {
   "cell_type": "code",
   "execution_count": null,
   "metadata": {
    "collapsed": false
   },
   "outputs": [],
   "source": [
    "# iris = load_iris()\n",
    "X_tsne = TSNE(learning_rate=100).fit_transform(df_X_clustered.head(50))\n",
    "X_pca = PCA().fit_transform(df_X_clustered.head(50))"
   ]
  },
  {
   "cell_type": "code",
   "execution_count": null,
   "metadata": {
    "collapsed": false
   },
   "outputs": [],
   "source": [
    "y = np.array(df_X_clustered['kmean.label'].head(50))\n",
    "# len(y)"
   ]
  },
  {
   "cell_type": "code",
   "execution_count": null,
   "metadata": {
    "collapsed": false
   },
   "outputs": [],
   "source": [
    "figure(figsize=(10, 5))\n",
    "subplot(121)\n",
    "scatter(X_tsne[:, 0], X_tsne[:, 1], c=y)\n",
    "subplot(122)\n",
    "scatter(X_pca[:, 0], X_pca[:, 1], c=y)"
   ]
  }
 ],
 "metadata": {
  "kernelspec": {
   "display_name": "Python [default]",
   "language": "python",
   "name": "python3"
  },
  "language_info": {
   "codemirror_mode": {
    "name": "ipython",
    "version": 3
   },
   "file_extension": ".py",
   "mimetype": "text/x-python",
   "name": "python",
   "nbconvert_exporter": "python",
   "pygments_lexer": "ipython3",
   "version": "3.5.2"
  }
 },
 "nbformat": 4,
 "nbformat_minor": 0
}
