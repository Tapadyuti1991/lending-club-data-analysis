{
 "cells": [
  {
   "cell_type": "code",
   "execution_count": 1,
   "metadata": {
    "collapsed": true
   },
   "outputs": [],
   "source": [
    "import numpy as np\n",
    "import pandas as pd\n",
    "#pip install seaborn \n",
    "import seaborn as sns\n",
    "%matplotlib inline\n",
    "import math"
   ]
  },
  {
   "cell_type": "code",
   "execution_count": 2,
   "metadata": {
    "collapsed": true
   },
   "outputs": [],
   "source": [
    "# def main():\n",
    "#     print(\"Starting program\")\n",
    "#     df=get_data()\n",
    "#     clean_data(df)"
   ]
  },
  {
   "cell_type": "code",
   "execution_count": 3,
   "metadata": {
    "collapsed": true
   },
   "outputs": [],
   "source": [
    "def get_data():\n",
    "    print(\"Downloading data\")\n",
    "    df = pd.read_csv(\"Data/LoanStats3a_securev1.csv\",skiprows=1)\n",
    "    print(df.describe())\n",
    "    return df"
   ]
  },
  {
   "cell_type": "code",
   "execution_count": 4,
   "metadata": {
    "collapsed": false
   },
   "outputs": [
    {
     "name": "stdout",
     "output_type": "stream",
     "text": [
      "Downloading data\n"
     ]
    },
    {
     "name": "stderr",
     "output_type": "stream",
     "text": [
      "C:\\Users\\Vasanti\\Anaconda3\\lib\\site-packages\\IPython\\core\\interactiveshell.py:2821: DtypeWarning: Columns (0,49) have mixed types. Specify dtype option on import or set low_memory=False.\n",
      "  if self.run_code(code, result):\n",
      "C:\\Users\\Vasanti\\Anaconda3\\lib\\site-packages\\numpy\\lib\\function_base.py:3834: RuntimeWarning: Invalid value encountered in percentile\n",
      "  RuntimeWarning)\n"
     ]
    },
    {
     "name": "stdout",
     "output_type": "stream",
     "text": [
      "          member_id     loan_amnt   funded_amnt  funded_amnt_inv  \\\n",
      "count  4.253500e+04  42535.000000  42535.000000     42535.000000   \n",
      "mean   8.257026e+05  11089.722581  10821.585753     10139.830603   \n",
      "std    2.795409e+05   7410.938391   7146.914675      7131.686447   \n",
      "min    7.047300e+04    500.000000    500.000000         0.000000   \n",
      "25%             NaN           NaN           NaN              NaN   \n",
      "50%             NaN           NaN           NaN              NaN   \n",
      "75%             NaN           NaN           NaN              NaN   \n",
      "max    1.314167e+06  35000.000000  35000.000000     35000.000000   \n",
      "\n",
      "        installment    annual_inc           dti   delinq_2yrs  fico_range_low  \\\n",
      "count  42535.000000  4.253100e+04  42535.000000  42506.000000    42535.000000   \n",
      "mean     322.623063  6.913656e+04     13.373043      0.152449      713.052545   \n",
      "std      208.927216  6.409635e+04      6.726315      0.512406       36.188439   \n",
      "min       15.670000  1.896000e+03      0.000000      0.000000      610.000000   \n",
      "25%             NaN           NaN           NaN           NaN             NaN   \n",
      "50%             NaN           NaN           NaN           NaN             NaN   \n",
      "75%             NaN           NaN           NaN           NaN             NaN   \n",
      "max     1305.190000  6.000000e+06     29.990000     13.000000      825.000000   \n",
      "\n",
      "       fico_range_high             ...              num_tl_90g_dpd_24m  \\\n",
      "count     42535.000000             ...                             0.0   \n",
      "mean        717.052545             ...                             NaN   \n",
      "std          36.188439             ...                             NaN   \n",
      "min         614.000000             ...                             NaN   \n",
      "25%                NaN             ...                             NaN   \n",
      "50%                NaN             ...                             NaN   \n",
      "75%                NaN             ...                             NaN   \n",
      "max         829.000000             ...                             NaN   \n",
      "\n",
      "       num_tl_op_past_12m  pct_tl_nvr_dlq  percent_bc_gt_75  \\\n",
      "count                 0.0             0.0               0.0   \n",
      "mean                  NaN             NaN               NaN   \n",
      "std                   NaN             NaN               NaN   \n",
      "min                   NaN             NaN               NaN   \n",
      "25%                   NaN             NaN               NaN   \n",
      "50%                   NaN             NaN               NaN   \n",
      "75%                   NaN             NaN               NaN   \n",
      "max                   NaN             NaN               NaN   \n",
      "\n",
      "       pub_rec_bankruptcies     tax_liens  tot_hi_cred_lim  total_bal_ex_mort  \\\n",
      "count          41170.000000  42430.000000              0.0                0.0   \n",
      "mean               0.045227      0.000024              NaN                NaN   \n",
      "std                0.208737      0.004855              NaN                NaN   \n",
      "min                0.000000      0.000000              NaN                NaN   \n",
      "25%                     NaN           NaN              NaN                NaN   \n",
      "50%                     NaN           NaN              NaN                NaN   \n",
      "75%                     NaN           NaN              NaN                NaN   \n",
      "max                2.000000      1.000000              NaN                NaN   \n",
      "\n",
      "       total_bc_limit  total_il_high_credit_limit  \n",
      "count             0.0                         0.0  \n",
      "mean              NaN                         NaN  \n",
      "std               NaN                         NaN  \n",
      "min               NaN                         NaN  \n",
      "25%               NaN                         NaN  \n",
      "50%               NaN                         NaN  \n",
      "75%               NaN                         NaN  \n",
      "max               NaN                         NaN  \n",
      "\n",
      "[8 rows x 90 columns]\n",
      "Start data cleaning\n",
      "(33041, 61)\n",
      "Analyse each feature to determine which features are important\n",
      "Considering the first slice of data- Columns 0-7\n",
      "        id  member_id  loan_amnt  funded_amnt  funded_amnt_inv        term  \\\n",
      "1  1077430  1314167.0     2500.0       2500.0           2500.0   60 months   \n",
      "3  1076863  1277178.0    10000.0      10000.0          10000.0   36 months   \n",
      "4  1075358  1311748.0     3000.0       3000.0           3000.0   60 months   \n",
      "\n",
      "  int_rate  \n",
      "1   15.27%  \n",
      "3   13.49%  \n",
      "4   12.69%  \n"
     ]
    }
   ],
   "source": [
    "def clean_data(df):\n",
    "    print(\"Start data cleaning\")\n",
    "    #if more than 50% values in an observation is NAN drop that observation\n",
    "    half_count = len(df.columns) / 2\n",
    "    df=df.dropna(axis='columns', how='all')\n",
    "\n",
    "    df = df.dropna(thresh=half_count)\n",
    "    print(df.shape)\n",
    "    print(\"Analyse each feature to determine which features are important\")\n",
    "    #work on every feature slice-by-slice which one's are informative. We would drop some useless attributes and clean-up/modify others.\n",
    "    # .ix[row slice, column slice]\n",
    "    print(\"Considering the first slice of data- Columns 0-7\")\n",
    "    print(df.ix[:5,:7])\n",
    "    # We won't need id or member_id as it has no real predictive power so we can drop them from this table\n",
    "    df=df.drop(['id','member_id'],1)\n",
    "\n",
    "    # drop the record if loan_amnt, funded_amnt is missing\n",
    "    df.loan_amnt=df.loan_amnt.dropna()\n",
    "    df.funded_amnt=df.funded_amnt.dropna()\n",
    "\n",
    "    # if the funded_amnt_inv is missing replace it with \n",
    "    df.funded_amnt_inv=df.funded_amnt_inv.fillna(0)\n",
    "    \n",
    "df=get_data()\n",
    "clean_data(df)"
   ]
  },
  {
   "cell_type": "code",
   "execution_count": 5,
   "metadata": {
    "collapsed": false
   },
   "outputs": [
    {
     "ename": "NameError",
     "evalue": "name 'main' is not defined",
     "output_type": "error",
     "traceback": [
      "\u001b[0;31m---------------------------------------------------------------------------\u001b[0m",
      "\u001b[0;31mNameError\u001b[0m                                 Traceback (most recent call last)",
      "\u001b[0;32m<ipython-input-5-2436fc2ab63a>\u001b[0m in \u001b[0;36m<module>\u001b[0;34m()\u001b[0m\n\u001b[1;32m      1\u001b[0m \u001b[1;32mif\u001b[0m \u001b[0m__name__\u001b[0m \u001b[1;33m==\u001b[0m \u001b[1;34m'__main__'\u001b[0m\u001b[1;33m:\u001b[0m\u001b[1;33m\u001b[0m\u001b[0m\n\u001b[0;32m----> 2\u001b[0;31m     \u001b[0mmain\u001b[0m\u001b[1;33m(\u001b[0m\u001b[1;33m)\u001b[0m\u001b[1;33m\u001b[0m\u001b[0m\n\u001b[0m",
      "\u001b[0;31mNameError\u001b[0m: name 'main' is not defined"
     ]
    }
   ],
   "source": [
    "if __name__ == '__main__':\n",
    "    main()"
   ]
  }
 ],
 "metadata": {
  "kernelspec": {
   "display_name": "Python [conda root]",
   "language": "python",
   "name": "conda-root-py"
  },
  "language_info": {
   "codemirror_mode": {
    "name": "ipython",
    "version": 3
   },
   "file_extension": ".py",
   "mimetype": "text/x-python",
   "name": "python",
   "nbconvert_exporter": "python",
   "pygments_lexer": "ipython3",
   "version": "3.5.2"
  }
 },
 "nbformat": 4,
 "nbformat_minor": 1
}
