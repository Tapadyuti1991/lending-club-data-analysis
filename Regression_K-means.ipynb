{
 "cells": [
  {
   "cell_type": "code",
   "execution_count": 1,
   "metadata": {
    "collapsed": false
   },
   "outputs": [],
   "source": [
    "from io import StringIO\n",
    "import requests\n",
    "import json\n",
    "import pandas as pd\n",
    "from sklearn.model_selection import train_test_split\n",
    "from sklearn.model_selection import cross_val_score\n",
    "from sklearn.linear_model import LinearRegression\n",
    "\n",
    "# @hidden_cell\n",
    "# This function accesses a file in your Object Storage. The definition contains your credentials.\n",
    "# You might want to remove those credentials before you share your notebook.\n",
    "def get_object_storage_file_with_credentials_b6d2dc4304df42d5bf425b6ca8af67ff(container, filename):\n",
    "    \"\"\"This functions returns a StringIO object containing\n",
    "    the file content from Bluemix Object Storage.\"\"\"\n",
    "\n",
    "    url1 = ''.join(['https://identity.open.softlayer.com', '/v3/auth/tokens'])\n",
    "    data = {'auth': {'identity': {'methods': ['password'],\n",
    "            'password': {'user': {'name': 'member_cd9be0e4ff1994ebede81451af2f9ee17e1d0d66','domain': {'id': '9d54dfb7f46d48d8930e2e61e1e7ddab'},\n",
    "            'password': 'IbA26vS(8zQl.2_P'}}}}}\n",
    "    headers1 = {'Content-Type': 'application/json'}\n",
    "    resp1 = requests.post(url=url1, data=json.dumps(data), headers=headers1)\n",
    "    resp1_body = resp1.json()\n",
    "    for e1 in resp1_body['token']['catalog']:\n",
    "        if(e1['type']=='object-store'):\n",
    "            for e2 in e1['endpoints']:\n",
    "                        if(e2['interface']=='public'and e2['region']=='dallas'):\n",
    "                            url2 = ''.join([e2['url'],'/', container, '/', filename])\n",
    "    s_subject_token = resp1.headers['x-subject-token']\n",
    "    headers2 = {'X-Auth-Token': s_subject_token, 'accept': 'application/json'}\n",
    "    resp2 = requests.get(url=url2, headers=headers2)\n",
    "    return StringIO(resp2.text)\n",
    "\n",
    "cluster1_df = pd.read_csv(get_object_storage_file_with_credentials_b6d2dc4304df42d5bf425b6ca8af67ff('LendingClub', 'K-means_Cluster_0.csv'))\n",
    "# print(cluster1_df.head(3))\n",
    "\n",
    "\n",
    "cluster2_df = pd.read_csv(get_object_storage_file_with_credentials_b6d2dc4304df42d5bf425b6ca8af67ff('LendingClub', 'K-means_Cluster_1.csv'))\n",
    "# print(cluster2_df.head(3))\n",
    "\n",
    "cluster3_df = pd.read_csv(get_object_storage_file_with_credentials_b6d2dc4304df42d5bf425b6ca8af67ff('LendingClub', 'K-means_Cluster_2.csv'))\n",
    "# print(cluster3_df.head(3))\n",
    "\n",
    "cluster4_df = pd.read_csv(get_object_storage_file_with_credentials_b6d2dc4304df42d5bf425b6ca8af67ff('LendingClub', 'K-means_Cluster_3.csv'))\n",
    "# print(cluster4_df.head(3))\n",
    "\n",
    "cluster5_df = pd.read_csv(get_object_storage_file_with_credentials_b6d2dc4304df42d5bf425b6ca8af67ff('LendingClub', 'K-means_Cluster_4.csv'))\n",
    "# print(cluster5_df.head(3))\n",
    "\n",
    "cluster6_df = pd.read_csv(get_object_storage_file_with_credentials_b6d2dc4304df42d5bf425b6ca8af67ff('LendingClub', 'K-means_Cluster_5.csv'))\n",
    "# print(cluster6_df.head(3))"
   ]
  },
  {
   "cell_type": "code",
   "execution_count": 2,
   "metadata": {
    "collapsed": true
   },
   "outputs": [],
   "source": [
    "from sklearn.preprocessing import LabelEncoder\n",
    "\n",
    "#using label encoder to convert categorical columns into numeric values\n",
    "def dummyEncode(df):\n",
    "        columnsToEncode = list(df)\n",
    "        le = LabelEncoder()\n",
    "        for feature in columnsToEncode:\n",
    "            try:\n",
    "                df[feature] = le.fit_transform(df[feature])\n",
    "            except:\n",
    "                print('Error encoding '+feature)\n",
    "        return df"
   ]
  },
  {
   "cell_type": "code",
   "execution_count": 3,
   "metadata": {
    "collapsed": true
   },
   "outputs": [],
   "source": [
    "cluster_df_list=[cluster1_df,cluster2_df,cluster3_df,cluster4_df,cluster5_df,cluster6_df]"
   ]
  },
  {
   "cell_type": "code",
   "execution_count": 4,
   "metadata": {
    "collapsed": false
   },
   "outputs": [
    {
     "name": "stderr",
     "output_type": "stream",
     "text": [
      "/usr/local/src/conda3_runtime/4.1.1/lib/python3.5/site-packages/ipykernel/__main__.py:9: SettingWithCopyWarning: \n",
      "A value is trying to be set on a copy of a slice from a DataFrame.\n",
      "Try using .loc[row_indexer,col_indexer] = value instead\n",
      "\n",
      "See the caveats in the documentation: http://pandas.pydata.org/pandas-docs/stable/indexing.html#indexing-view-versus-copy\n",
      "/usr/local/src/conda3_runtime/4.1.1/lib/python3.5/site-packages/pandas/core/indexing.py:465: SettingWithCopyWarning: \n",
      "A value is trying to be set on a copy of a slice from a DataFrame.\n",
      "Try using .loc[row_indexer,col_indexer] = value instead\n",
      "\n",
      "See the caveats in the documentation: http://pandas.pydata.org/pandas-docs/stable/indexing.html#indexing-view-versus-copy\n",
      "  self.obj[item] = s\n"
     ]
    },
    {
     "name": "stdout",
     "output_type": "stream",
     "text": [
      "Starting Linear Regression algorithm\n",
      "Intercept is  9.00801605786\n",
      "Coefficient is  [  3.10354507e+00   1.66207653e-04   5.16125037e-04   1.31235050e-01\n",
      "  -3.71400804e-02  -5.77024673e-04  -1.24808119e-05   1.01333875e-01\n",
      "   4.79618779e-02   1.44027982e-04   3.14395781e-05  -8.86780140e-04\n",
      "  -5.18355154e-03  -1.36725296e-03  -1.93831200e-01  -1.55401842e-04\n",
      "  -1.48710311e-02]\n",
      "Training score is  0.920510496252\n",
      "Testing score is  0.917243608695\n",
      "Starting Linear Regression algorithm\n",
      "Intercept is  8.79125197342\n",
      "Coefficient is  [  3.25180666e+00  -1.75801388e-06   4.71505012e-04   9.07149963e-02\n",
      "  -4.04570569e-02  -3.72131687e-05  -4.75674210e-06   9.84779041e-02\n",
      "   4.63257789e-02   2.69429939e-05   1.59389906e-06   3.39160091e-06\n",
      "  -5.86584230e-03  -8.75418029e-04  -2.05127559e-01  -2.27571100e-05\n",
      "  -1.15895341e-02]\n",
      "Training score is  0.917189266772\n",
      "Testing score is  0.917465689397\n",
      "Starting Linear Regression algorithm\n",
      "Intercept is  8.74785119973\n",
      "Coefficient is  [  3.25148950e+00  -2.01420334e-06   4.71819184e-04   8.88403665e-02\n",
      "  -4.94708972e-02  -2.74175065e-05  -4.42598584e-06   9.54472683e-02\n",
      "   4.70088178e-02   2.39857096e-05   1.37691760e-06   1.91385731e-05\n",
      "  -5.59052474e-03  -7.86415128e-04  -2.02607593e-01  -1.86074994e-05\n",
      "  -1.19831445e-02]\n",
      "Training score is  0.917078926071\n",
      "Testing score is  0.917293963913\n",
      "Starting Linear Regression algorithm\n",
      "Intercept is  8.73241529069\n",
      "Coefficient is  [  3.25188398e+00  -1.81462067e-06   4.89137088e-04   8.56080948e-02\n",
      "  -5.56229801e-02  -3.56225032e-05  -4.49525835e-06   9.30947519e-02\n",
      "   4.63128871e-02   2.76101233e-05   1.96185257e-06  -1.96545849e-05\n",
      "  -5.92504690e-03  -7.64647602e-04  -2.00193641e-01  -2.21293233e-05\n",
      "  -1.10513871e-02]\n",
      "Training score is  0.916792230328\n",
      "Testing score is  0.918187669818\n",
      "Starting Linear Regression algorithm\n",
      "Intercept is  10.5464883831\n",
      "Coefficient is  [  3.09790607e+00   3.85172627e-02  -1.12907015e-02   2.34009958e-01\n",
      "  -1.72973513e-02  -6.81265396e-02   1.66396905e-02  -1.94400334e-01\n",
      "   8.53380920e-02   1.50536294e-02   1.29882621e-02  -9.72024837e-03\n",
      "  -2.01152210e-02  -2.77877543e-02  -8.19399934e-01  -3.00028460e-03\n",
      "  -8.34440365e-02]\n",
      "Training score is  0.955611624177\n",
      "Testing score is  0.898463494407\n",
      "Starting Linear Regression algorithm\n",
      "Intercept is  8.72673240746\n",
      "Coefficient is  [  3.24932741e+00  -1.56054582e-06   5.01318345e-04   8.71731090e-02\n",
      "  -4.50051308e-02  -3.35883553e-05  -4.84097555e-06   9.44711000e-02\n",
      "   4.53352590e-02   2.35686825e-05   1.54717204e-06   1.39625990e-05\n",
      "  -5.56973339e-03  -9.05151191e-04  -2.00971695e-01  -1.88606557e-05\n",
      "  -1.10290785e-02]\n",
      "Training score is  0.91710948292\n",
      "Testing score is  0.917061571887\n"
     ]
    }
   ],
   "source": [
    "\n",
    "\n",
    "for i in cluster_df_list:\n",
    "    \n",
    "    df_lr=i[['grade', 'total_pymnt_inv', 'revol_util', 'loan_status', 'fico_range_grade', 'total_rec_prncp', 'revol_bal', 'grade_based_on_inq_last_6mths', 'acc_open_past_24mths', 'installment', 'last_pymnt_amnt', 'funded_amnt_inv', 'total_acc', 'credit_age', 'issue_d', 'annual_inc', 'meanfico','int_rate']]\n",
    "    df_lr.ix[:, df_lr.columns != 'int_rate']=dummyEncode(df_lr.ix[:, df_lr.columns != 'int_rate'])\n",
    "    X_train_lr_df, X_test_lr_df, Y_train_lr_df, Y_test_lr_df = train_test_split(df_lr.ix[:, df_lr.columns != 'int_rate'], df_lr.int_rate, test_size=0.2, random_state=0)\n",
    "    print(\"Starting Linear Regression algorithm\")\n",
    "    linear_reg = LinearRegression()\n",
    "    fit=linear_reg.fit(X_train_lr_df, Y_train_lr_df)\n",
    "\n",
    "    print (\"Intercept is \",linear_reg.intercept_)\n",
    "    print(\"Coefficient is \",linear_reg.coef_)\n",
    "\n",
    "    print(\"Training score is \",linear_reg.score(X_train_lr_df, Y_train_lr_df))\n",
    "\n",
    "    print(\"Testing score is \",linear_reg.score(X_test_lr_df, Y_test_lr_df))\n"
   ]
  },
  {
   "cell_type": "code",
   "execution_count": 5,
   "metadata": {
    "collapsed": false
   },
   "outputs": [
    {
     "name": "stderr",
     "output_type": "stream",
     "text": [
      "/usr/local/src/conda3_runtime/4.1.1/lib/python3.5/site-packages/ipykernel/__main__.py:9: SettingWithCopyWarning: \n",
      "A value is trying to be set on a copy of a slice from a DataFrame.\n",
      "Try using .loc[row_indexer,col_indexer] = value instead\n",
      "\n",
      "See the caveats in the documentation: http://pandas.pydata.org/pandas-docs/stable/indexing.html#indexing-view-versus-copy\n",
      "/usr/local/src/conda3_runtime/4.1.1/lib/python3.5/site-packages/pandas/core/indexing.py:465: SettingWithCopyWarning: \n",
      "A value is trying to be set on a copy of a slice from a DataFrame.\n",
      "Try using .loc[row_indexer,col_indexer] = value instead\n",
      "\n",
      "See the caveats in the documentation: http://pandas.pydata.org/pandas-docs/stable/indexing.html#indexing-view-versus-copy\n",
      "  self.obj[item] = s\n"
     ]
    },
    {
     "name": "stdout",
     "output_type": "stream",
     "text": [
      "Staring Random forest algorithm\n",
      "Accuracy of the model is  0.950392795443\n"
     ]
    },
    {
     "name": "stderr",
     "output_type": "stream",
     "text": [
      "/usr/local/src/conda3_runtime/4.1.1/lib/python3.5/site-packages/ipykernel/__main__.py:9: SettingWithCopyWarning: \n",
      "A value is trying to be set on a copy of a slice from a DataFrame.\n",
      "Try using .loc[row_indexer,col_indexer] = value instead\n",
      "\n",
      "See the caveats in the documentation: http://pandas.pydata.org/pandas-docs/stable/indexing.html#indexing-view-versus-copy\n",
      "/usr/local/src/conda3_runtime/4.1.1/lib/python3.5/site-packages/pandas/core/indexing.py:465: SettingWithCopyWarning: \n",
      "A value is trying to be set on a copy of a slice from a DataFrame.\n",
      "Try using .loc[row_indexer,col_indexer] = value instead\n",
      "\n",
      "See the caveats in the documentation: http://pandas.pydata.org/pandas-docs/stable/indexing.html#indexing-view-versus-copy\n",
      "  self.obj[item] = s\n"
     ]
    },
    {
     "name": "stdout",
     "output_type": "stream",
     "text": [
      "Staring Random forest algorithm\n",
      "Accuracy of the model is  0.976399514905\n"
     ]
    },
    {
     "name": "stderr",
     "output_type": "stream",
     "text": [
      "/usr/local/src/conda3_runtime/4.1.1/lib/python3.5/site-packages/ipykernel/__main__.py:9: SettingWithCopyWarning: \n",
      "A value is trying to be set on a copy of a slice from a DataFrame.\n",
      "Try using .loc[row_indexer,col_indexer] = value instead\n",
      "\n",
      "See the caveats in the documentation: http://pandas.pydata.org/pandas-docs/stable/indexing.html#indexing-view-versus-copy\n",
      "/usr/local/src/conda3_runtime/4.1.1/lib/python3.5/site-packages/pandas/core/indexing.py:465: SettingWithCopyWarning: \n",
      "A value is trying to be set on a copy of a slice from a DataFrame.\n",
      "Try using .loc[row_indexer,col_indexer] = value instead\n",
      "\n",
      "See the caveats in the documentation: http://pandas.pydata.org/pandas-docs/stable/indexing.html#indexing-view-versus-copy\n",
      "  self.obj[item] = s\n"
     ]
    },
    {
     "name": "stdout",
     "output_type": "stream",
     "text": [
      "Staring Random forest algorithm\n",
      "Accuracy of the model is  0.97878153587\n"
     ]
    },
    {
     "name": "stderr",
     "output_type": "stream",
     "text": [
      "/usr/local/src/conda3_runtime/4.1.1/lib/python3.5/site-packages/ipykernel/__main__.py:9: SettingWithCopyWarning: \n",
      "A value is trying to be set on a copy of a slice from a DataFrame.\n",
      "Try using .loc[row_indexer,col_indexer] = value instead\n",
      "\n",
      "See the caveats in the documentation: http://pandas.pydata.org/pandas-docs/stable/indexing.html#indexing-view-versus-copy\n",
      "/usr/local/src/conda3_runtime/4.1.1/lib/python3.5/site-packages/pandas/core/indexing.py:465: SettingWithCopyWarning: \n",
      "A value is trying to be set on a copy of a slice from a DataFrame.\n",
      "Try using .loc[row_indexer,col_indexer] = value instead\n",
      "\n",
      "See the caveats in the documentation: http://pandas.pydata.org/pandas-docs/stable/indexing.html#indexing-view-versus-copy\n",
      "  self.obj[item] = s\n"
     ]
    },
    {
     "name": "stdout",
     "output_type": "stream",
     "text": [
      "Staring Random forest algorithm\n",
      "Accuracy of the model is  0.97785462934\n"
     ]
    },
    {
     "name": "stderr",
     "output_type": "stream",
     "text": [
      "/usr/local/src/conda3_runtime/4.1.1/lib/python3.5/site-packages/ipykernel/__main__.py:9: SettingWithCopyWarning: \n",
      "A value is trying to be set on a copy of a slice from a DataFrame.\n",
      "Try using .loc[row_indexer,col_indexer] = value instead\n",
      "\n",
      "See the caveats in the documentation: http://pandas.pydata.org/pandas-docs/stable/indexing.html#indexing-view-versus-copy\n",
      "/usr/local/src/conda3_runtime/4.1.1/lib/python3.5/site-packages/pandas/core/indexing.py:465: SettingWithCopyWarning: \n",
      "A value is trying to be set on a copy of a slice from a DataFrame.\n",
      "Try using .loc[row_indexer,col_indexer] = value instead\n",
      "\n",
      "See the caveats in the documentation: http://pandas.pydata.org/pandas-docs/stable/indexing.html#indexing-view-versus-copy\n",
      "  self.obj[item] = s\n"
     ]
    },
    {
     "name": "stdout",
     "output_type": "stream",
     "text": [
      "Staring Random forest algorithm\n",
      "Accuracy of the model is  0.887124829022\n"
     ]
    },
    {
     "name": "stderr",
     "output_type": "stream",
     "text": [
      "/usr/local/src/conda3_runtime/4.1.1/lib/python3.5/site-packages/ipykernel/__main__.py:9: SettingWithCopyWarning: \n",
      "A value is trying to be set on a copy of a slice from a DataFrame.\n",
      "Try using .loc[row_indexer,col_indexer] = value instead\n",
      "\n",
      "See the caveats in the documentation: http://pandas.pydata.org/pandas-docs/stable/indexing.html#indexing-view-versus-copy\n",
      "/usr/local/src/conda3_runtime/4.1.1/lib/python3.5/site-packages/pandas/core/indexing.py:465: SettingWithCopyWarning: \n",
      "A value is trying to be set on a copy of a slice from a DataFrame.\n",
      "Try using .loc[row_indexer,col_indexer] = value instead\n",
      "\n",
      "See the caveats in the documentation: http://pandas.pydata.org/pandas-docs/stable/indexing.html#indexing-view-versus-copy\n",
      "  self.obj[item] = s\n"
     ]
    },
    {
     "name": "stdout",
     "output_type": "stream",
     "text": [
      "Staring Random forest algorithm\n",
      "Accuracy of the model is  0.978714249318\n"
     ]
    }
   ],
   "source": [
    "from sklearn.metrics import r2_score\n",
    "from sklearn.ensemble import RandomForestRegressor\n",
    "\n",
    "for i in cluster_df_list:\n",
    "    \n",
    "    ran_for_df=i[['grade', 'total_pymnt_inv', 'revol_util', 'loan_status', 'fico_range_grade', 'total_rec_prncp', 'revol_bal', 'grade_based_on_inq_last_6mths', 'acc_open_past_24mths', 'installment', 'last_pymnt_amnt', 'funded_amnt_inv', 'total_acc', 'credit_age', 'issue_d', 'annual_inc', 'meanfico','int_rate']]\n",
    "    ran_for_df.ix[:, ran_for_df.columns != 'int_rate']=dummyEncode(ran_for_df.ix[:, ran_for_df.columns != 'int_rate'])\n",
    "\n",
    "    X_train_ran_for, X_test_ran_for, Y_train_ran_for, Y_test_ran_for = train_test_split(ran_for_df.ix[:, ran_for_df.columns != 'int_rate'], ran_for_df.int_rate, test_size=0.2, random_state=0)\n",
    "\n",
    "    print(\"Staring Random forest algorithm\")\n",
    "    random_forest = RandomForestRegressor(n_jobs=2)\n",
    "    random_forest.fit(X_train_ran_for, Y_train_ran_for)\n",
    "    y_pred=random_forest.predict(X_test_ran_for)\n",
    "    print(\"Accuracy of the model is \",r2_score(Y_test_ran_for,y_pred)) "
   ]
  },
  {
   "cell_type": "code",
   "execution_count": 6,
   "metadata": {
    "collapsed": false
   },
   "outputs": [
    {
     "name": "stderr",
     "output_type": "stream",
     "text": [
      "/usr/local/src/conda3_runtime/4.1.1/lib/python3.5/site-packages/ipykernel/__main__.py:9: SettingWithCopyWarning: \n",
      "A value is trying to be set on a copy of a slice from a DataFrame.\n",
      "Try using .loc[row_indexer,col_indexer] = value instead\n",
      "\n",
      "See the caveats in the documentation: http://pandas.pydata.org/pandas-docs/stable/indexing.html#indexing-view-versus-copy\n",
      "/usr/local/src/conda3_runtime/4.1.1/lib/python3.5/site-packages/pandas/core/indexing.py:465: SettingWithCopyWarning: \n",
      "A value is trying to be set on a copy of a slice from a DataFrame.\n",
      "Try using .loc[row_indexer,col_indexer] = value instead\n",
      "\n",
      "See the caveats in the documentation: http://pandas.pydata.org/pandas-docs/stable/indexing.html#indexing-view-versus-copy\n",
      "  self.obj[item] = s\n"
     ]
    },
    {
     "name": "stdout",
     "output_type": "stream",
     "text": [
      "Starting KNN algorithm\n",
      "Accuracy of the model is  0.107312924652\n",
      "Accuracy of the model is  0.308096725323\n",
      "Accuracy of the model is  0.364014481684\n",
      "Accuracy of the model is  0.379897091832\n",
      "Accuracy of the model is  0.398575482698\n",
      "Accuracy of the model is  0.403424724059\n",
      "Accuracy of the model is  0.39976830018\n",
      "Accuracy of the model is  0.401560366779\n",
      "Accuracy of the model is  0.401549680608\n",
      "Accuracy of the model is  0.402789185517\n",
      "Accuracy of the model is  0.401937593215\n",
      "Accuracy of the model is  0.399086024143\n",
      "Starting KNN algorithm\n",
      "Accuracy of the model is  0.0254903222427\n",
      "Accuracy of the model is  0.242508529595\n",
      "Accuracy of the model is  0.311928964791\n",
      "Accuracy of the model is  0.339886838977\n",
      "Accuracy of the model is  0.35407648255\n",
      "Accuracy of the model is  0.362822454775\n",
      "Accuracy of the model is  0.367016016316\n",
      "Accuracy of the model is  0.37100688607\n",
      "Accuracy of the model is  0.371292143769\n",
      "Accuracy of the model is  0.371593591057\n",
      "Accuracy of the model is  0.372058296832\n",
      "Accuracy of the model is  0.372754375617\n",
      "Starting KNN algorithm\n",
      "Accuracy of the model is  0.0296139632032\n",
      "Accuracy of the model is  0.24202299835\n",
      "Accuracy of the model is  0.308290996051\n",
      "Accuracy of the model is  0.336169697456\n",
      "Accuracy of the model is  0.350306230451\n",
      "Accuracy of the model is  0.360072350816\n",
      "Accuracy of the model is  0.364690883221\n",
      "Accuracy of the model is  0.366668095764\n",
      "Accuracy of the model is  0.368520650597\n",
      "Accuracy of the model is  0.36935672238\n",
      "Accuracy of the model is  0.370131593179\n",
      "Accuracy of the model is  0.369376856041\n",
      "Starting KNN algorithm\n",
      "Accuracy of the model is  0.0368488134406\n",
      "Accuracy of the model is  0.248472625864\n",
      "Accuracy of the model is  0.312912982852\n",
      "Accuracy of the model is  0.342071238619\n",
      "Accuracy of the model is  0.3547250751\n",
      "Accuracy of the model is  0.361167148434\n",
      "Accuracy of the model is  0.366469281097\n",
      "Accuracy of the model is  0.368946128811\n",
      "Accuracy of the model is  0.369367620455\n",
      "Accuracy of the model is  0.369604049299\n",
      "Accuracy of the model is  0.369706451932\n",
      "Accuracy of the model is  0.369570681011\n",
      "Starting KNN algorithm\n",
      "Accuracy of the model is  -1.1032983976\n",
      "Accuracy of the model is  -0.851510005154\n",
      "Accuracy of the model is  -0.669865260147\n",
      "Accuracy of the model is  -0.493441347381\n",
      "Accuracy of the model is  -0.388779411383\n",
      "Accuracy of the model is  -0.483899632183\n",
      "Accuracy of the model is  -0.455142297069\n",
      "Accuracy of the model is  -0.40615351686\n",
      "Accuracy of the model is  -0.464880423759\n",
      "Accuracy of the model is  -0.425887147574\n",
      "Accuracy of the model is  -0.398587611636\n",
      "Accuracy of the model is  -0.236425556647\n",
      "Starting KNN algorithm\n",
      "Accuracy of the model is  0.0226165659265\n",
      "Accuracy of the model is  0.241640087198\n",
      "Accuracy of the model is  0.307954707478\n",
      "Accuracy of the model is  0.333561204768\n",
      "Accuracy of the model is  0.349336580808\n",
      "Accuracy of the model is  0.358806600948\n",
      "Accuracy of the model is  0.362888414118\n",
      "Accuracy of the model is  0.364748761428\n",
      "Accuracy of the model is  0.36620205165\n",
      "Accuracy of the model is  0.367783943516\n",
      "Accuracy of the model is  0.36778793136\n",
      "Accuracy of the model is  0.366691042046\n"
     ]
    }
   ],
   "source": [
    "from sklearn.neighbors import KNeighborsRegressor\n",
    "\n",
    "for i in cluster_df_list:\n",
    "\n",
    "    knn_df=i[['grade', 'total_pymnt_inv', 'revol_util', 'loan_status', 'fico_range_grade', 'total_rec_prncp', 'revol_bal', 'grade_based_on_inq_last_6mths', 'acc_open_past_24mths', 'installment', 'last_pymnt_amnt', 'funded_amnt_inv', 'total_acc', 'credit_age', 'issue_d', 'annual_inc', 'meanfico','int_rate']]\n",
    "\n",
    "    knn_df.ix[:, knn_df.columns != 'int_rate']=dummyEncode(knn_df.ix[:, knn_df.columns != 'int_rate'])\n",
    "\n",
    "    X_train_knn, X_test_knn, Y_train_knn, Y_test_knn = train_test_split(knn_df.ix[:, knn_df.columns != 'int_rate'], knn_df.int_rate, test_size=0.2, random_state=0)\n",
    "\n",
    "    print(\"Starting KNN algorithm\")\n",
    "    for K in range(12):\n",
    "         K_value = K+1\n",
    "         knn_reg = KNeighborsRegressor(n_neighbors = K_value, weights='uniform', algorithm='auto')\n",
    "         knn_reg.fit(X_train_knn, Y_train_knn)\n",
    "         y_pred = knn_reg.predict(X_test_knn)\n",
    "         print(\"Accuracy of the model is \",r2_score(Y_test_knn,y_pred))"
   ]
  },
  {
   "cell_type": "code",
   "execution_count": 7,
   "metadata": {
    "collapsed": false
   },
   "outputs": [
    {
     "name": "stderr",
     "output_type": "stream",
     "text": [
      "/usr/local/src/conda3_runtime/4.1.1/lib/python3.5/site-packages/ipykernel/__main__.py:9: SettingWithCopyWarning: \n",
      "A value is trying to be set on a copy of a slice from a DataFrame.\n",
      "Try using .loc[row_indexer,col_indexer] = value instead\n",
      "\n",
      "See the caveats in the documentation: http://pandas.pydata.org/pandas-docs/stable/indexing.html#indexing-view-versus-copy\n",
      "/usr/local/src/conda3_runtime/4.1.1/lib/python3.5/site-packages/pandas/core/indexing.py:465: SettingWithCopyWarning: \n",
      "A value is trying to be set on a copy of a slice from a DataFrame.\n",
      "Try using .loc[row_indexer,col_indexer] = value instead\n",
      "\n",
      "See the caveats in the documentation: http://pandas.pydata.org/pandas-docs/stable/indexing.html#indexing-view-versus-copy\n",
      "  self.obj[item] = s\n"
     ]
    },
    {
     "name": "stdout",
     "output_type": "stream",
     "text": [
      "Staring Neural Network\n",
      "Training score is  0.952292196395\n",
      "Testing score is  0.948372053829\n",
      "Staring Neural Network\n",
      "Training score is  0.951950604013\n",
      "Testing score is  0.951577445735\n",
      "Staring Neural Network\n",
      "Training score is  0.952644197997\n",
      "Testing score is  0.952930023223\n",
      "Staring Neural Network\n",
      "Training score is  0.951856242041\n",
      "Testing score is  0.952649989928\n",
      "Staring Neural Network\n",
      "Training score is  0.999999947932\n",
      "Testing score is  0.431639043406\n",
      "Staring Neural Network\n",
      "Training score is  0.95241537991\n",
      "Testing score is  0.95201616905\n"
     ]
    }
   ],
   "source": [
    "from sklearn.preprocessing import StandardScaler\n",
    "from sklearn.neural_network import MLPRegressor\n",
    "\n",
    "for i in cluster_df_list:\n",
    "    neural_network_df=i[['grade', 'total_pymnt_inv', 'revol_util', 'loan_status', 'fico_range_grade', 'total_rec_prncp', 'revol_bal', 'grade_based_on_inq_last_6mths', 'acc_open_past_24mths', 'installment', 'last_pymnt_amnt', 'funded_amnt_inv', 'total_acc', 'credit_age', 'issue_d', 'annual_inc', 'meanfico','int_rate']]\n",
    "\n",
    "    neural_network_df.ix[:, neural_network_df.columns != 'int_rate']=dummyEncode(neural_network_df.ix[:, neural_network_df.columns != 'int_rate'])\n",
    "\n",
    "    #neural network\n",
    "    print(\"Staring Neural Network\")\n",
    "\n",
    "    X_train_nn, X_test_nn, Y_train_nn, Y_test_nn = train_test_split(neural_network_df.ix[:, neural_network_df.columns != 'int_rate'], neural_network_df.int_rate, test_size=0.2, random_state=0)\n",
    "\n",
    "\n",
    "    X_train_nn = StandardScaler().fit_transform(X_train_nn)\n",
    "    X_test_nn = StandardScaler().fit_transform(X_test_nn)\n",
    "\n",
    "    mlp = MLPRegressor(solver='lbfgs', hidden_layer_sizes=50,\n",
    "                               max_iter=150, shuffle=True, random_state=1)\n",
    "    mlp.fit(X_train_nn, Y_train_nn)\n",
    "\n",
    "    print(\"Training score is \",mlp.score(X_train_nn, Y_train_nn))\n",
    "    print(\"Testing score is \",mlp.score(X_test_nn, Y_test_nn))"
   ]
  }
 ],
 "metadata": {
  "kernelspec": {
   "display_name": "Python 3.5 (Experimental) with Spark 1.6",
   "language": "python",
   "name": "python3"
  },
  "language_info": {
   "codemirror_mode": {
    "name": "ipython",
    "version": 3
   },
   "file_extension": ".py",
   "mimetype": "text/x-python",
   "name": "python",
   "nbconvert_exporter": "python",
   "pygments_lexer": "ipython3",
   "version": "3.5.2"
  }
 },
 "nbformat": 4,
 "nbformat_minor": 0
}