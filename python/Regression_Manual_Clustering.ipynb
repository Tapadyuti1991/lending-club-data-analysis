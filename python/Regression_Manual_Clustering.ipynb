{
 "cells": [
  {
   "cell_type": "code",
   "execution_count": 1,
   "metadata": {
    "collapsed": false
   },
   "outputs": [],
   "source": [
    "from io import StringIO\n",
    "import requests\n",
    "import json\n",
    "import pandas as pd\n",
    "\n",
    "# @hidden_cell\n",
    "# This function accesses a file in your Object Storage. The definition contains your credentials.\n",
    "# You might want to remove those credentials before you share your notebook.\n",
    "def get_object_storage_file_with_credentials_b6d2dc4304df42d5bf425b6ca8af67ff(container, filename):\n",
    "    \"\"\"This functions returns a StringIO object containing\n",
    "    the file content from Bluemix Object Storage.\"\"\"\n",
    "\n",
    "    url1 = ''.join(['https://identity.open.softlayer.com', '/v3/auth/tokens'])\n",
    "    data = {'auth': {'identity': {'methods': ['password'],\n",
    "            'password': {'user': {'name': 'member_cd9be0e4ff1994ebede81451af2f9ee17e1d0d66','domain': {'id': '9d54dfb7f46d48d8930e2e61e1e7ddab'},\n",
    "            'password': 'IbA26vS(8zQl.2_P'}}}}}\n",
    "    headers1 = {'Content-Type': 'application/json'}\n",
    "    resp1 = requests.post(url=url1, data=json.dumps(data), headers=headers1)\n",
    "    resp1_body = resp1.json()\n",
    "    for e1 in resp1_body['token']['catalog']:\n",
    "        if(e1['type']=='object-store'):\n",
    "            for e2 in e1['endpoints']:\n",
    "                        if(e2['interface']=='public'and e2['region']=='dallas'):\n",
    "                            url2 = ''.join([e2['url'],'/', container, '/', filename])\n",
    "    s_subject_token = resp1.headers['x-subject-token']\n",
    "    headers2 = {'X-Auth-Token': s_subject_token, 'accept': 'application/json'}\n",
    "    resp2 = requests.get(url=url2, headers=headers2)\n",
    "    return StringIO(resp2.text)\n",
    "\n",
    "grade_df_1 = pd.read_csv(get_object_storage_file_with_credentials_b6d2dc4304df42d5bf425b6ca8af67ff('LendingClub', 'Manual_Grade_Cluster_0.csv'))\n",
    "# print(len(grade_df_1))\n",
    "\n",
    "grade_df_2 = pd.read_csv(get_object_storage_file_with_credentials_b6d2dc4304df42d5bf425b6ca8af67ff('LendingClub', 'Manual_Grade_Cluster_1.csv'))\n",
    "# print(len(grade_df_2))\n",
    "\n",
    "grade_df_3 = pd.read_csv(get_object_storage_file_with_credentials_b6d2dc4304df42d5bf425b6ca8af67ff('LendingClub', 'Manual_Grade_Cluster_2.csv'))\n",
    "# print(len(grade_df_3))\n",
    "\n",
    "grade_df_4 = pd.read_csv(get_object_storage_file_with_credentials_b6d2dc4304df42d5bf425b6ca8af67ff('LendingClub', 'Manual_Grade_Cluster_3.csv'))\n",
    "# print(len(grade_df_4))\n",
    "\n",
    "grade_df_5 = pd.read_csv(get_object_storage_file_with_credentials_b6d2dc4304df42d5bf425b6ca8af67ff('LendingClub', 'Manual_Grade_Cluster_4.csv'))\n",
    "# print(len(grade_df_5))\n",
    "\n",
    "grade_df_6 = pd.read_csv(get_object_storage_file_with_credentials_b6d2dc4304df42d5bf425b6ca8af67ff('LendingClub', 'Manual_Grade_Cluster_5.csv'))\n",
    "# print(len(grade_df_6))\n",
    "\n",
    "grade_df_7 = pd.read_csv(get_object_storage_file_with_credentials_b6d2dc4304df42d5bf425b6ca8af67ff('LendingClub', 'Manual_Grade_Cluster_6.csv'))\n",
    "# print(len(grade_df_7))"
   ]
  },
  {
   "cell_type": "code",
   "execution_count": 2,
   "metadata": {
    "collapsed": true
   },
   "outputs": [],
   "source": [
    "from sklearn.preprocessing import LabelEncoder\n",
    "\n",
    "#using label encoder to convert categorical columns into numeric values\n",
    "def dummyEncode(df):\n",
    "        columnsToEncode = list(df)\n",
    "        le = LabelEncoder()\n",
    "        for feature in columnsToEncode:\n",
    "            try:\n",
    "                df[feature] = le.fit_transform(df[feature])\n",
    "            except:\n",
    "                print('Error encoding '+feature)\n",
    "        return df"
   ]
  },
  {
   "cell_type": "code",
   "execution_count": 3,
   "metadata": {
    "collapsed": false
   },
   "outputs": [],
   "source": [
    "grade_df_list=[grade_df_1,grade_df_2,grade_df_3,grade_df_4,grade_df_5,grade_df_6,grade_df_7]"
   ]
  },
  {
   "cell_type": "code",
   "execution_count": 4,
   "metadata": {
    "collapsed": false
   },
   "outputs": [
    {
     "name": "stderr",
     "output_type": "stream",
     "text": [
      "/usr/local/src/conda3_runtime/4.1.1/lib/python3.5/site-packages/ipykernel/__main__.py:9: SettingWithCopyWarning: \n",
      "A value is trying to be set on a copy of a slice from a DataFrame.\n",
      "Try using .loc[row_indexer,col_indexer] = value instead\n",
      "\n",
      "See the caveats in the documentation: http://pandas.pydata.org/pandas-docs/stable/indexing.html#indexing-view-versus-copy\n"
     ]
    },
    {
     "name": "stdout",
     "output_type": "stream",
     "text": [
      "Starting Linear Regression algorithm\n",
      "Intercept is  12.4766763277\n",
      "Coefficient is  [  2.47998979e-02   1.71141649e-04  -1.93966369e-05  -3.15047037e-02\n",
      "  -7.15095539e-05  -4.69457194e-02  -6.84295206e-02   4.14005562e-02\n",
      "   7.64388657e-04   5.34137219e-05  -6.60806617e-02   4.39271066e-03\n",
      "   1.67017129e-08  -2.79124322e-02  -6.58570735e-03   6.06785065e-12\n",
      "   1.15906985e-01   1.48392078e-02  -6.73119553e-02   1.26583912e-03\n",
      "  -1.91317118e-02   1.08727858e-05  -1.77474059e-03   6.83246080e-02\n",
      "  -2.50615288e-02  -3.25496451e-04  -2.00184188e-04   2.53538184e-03\n",
      "   5.28782592e-05   1.18000428e-03   3.12424027e-03  -2.41504768e-03\n",
      "   2.55310467e-02  -4.10145831e-03  -1.51749359e-03   1.38755258e-03\n",
      "   5.47644426e-05   4.59413065e-04  -1.10001434e-02  -3.24893760e-02\n",
      "   2.55944209e-02  -5.79314266e-04  -3.75455836e-06   2.90622676e-04\n",
      "   3.86575486e+00  -4.36472338e-03   6.97723966e-05   1.84222917e-05\n",
      "  -7.72109033e-04   1.08166985e-01]\n",
      "Training score is  0.455652175482\n",
      "Testing score is  0.456276853937\n",
      "Starting Linear Regression algorithm\n",
      "Intercept is  12.8914529686\n",
      "Coefficient is  [  4.59862505e-02   3.31429148e-04  -1.25643471e-05  -4.79237187e-02\n",
      "  -6.71546337e-05  -7.91429749e-02  -1.99311604e-02   2.62719951e-02\n",
      "   3.88347906e-04   3.34350479e-05  -1.64182384e-02   6.66136070e-03\n",
      "  -3.92777349e-08  -9.02922203e-02  -5.43153124e-03  -5.14535680e-12\n",
      "   1.49663748e-01   1.31881943e-02  -8.75603752e-02   5.41433460e-04\n",
      "  -1.27233488e-01   6.56932670e-06   1.13941455e-03   1.02690428e-01\n",
      "  -1.29808088e-02  -3.84088348e-04  -7.86320386e-04   6.38423725e-03\n",
      "  -1.88868987e-04   2.12387034e-04   4.87231701e-03  -2.97567076e-03\n",
      "   1.25050764e-03   1.57809120e-03  -2.23620512e-03   2.11461603e-03\n",
      "   3.12401040e-04   4.04647080e-04  -1.61355084e-02  -5.28655584e-02\n",
      "   3.65390445e-02  -2.20352111e-06  -4.96783036e-06   4.29115552e-04\n",
      "   2.84725004e+00  -7.10462758e-03   5.04102686e-06   1.41717902e-05\n",
      "  -2.50885863e-04   1.62804666e-01]\n",
      "Training score is  0.365314322198\n",
      "Testing score is  0.366851416104\n",
      "Starting Linear Regression algorithm\n",
      "Intercept is  12.322784271\n",
      "Coefficient is  [  3.89612058e-02  -1.09431267e-04  -1.00275261e-05  -5.52610460e-02\n",
      "  -7.17916237e-05  -6.91524624e-02   4.67963910e-02   1.02155058e-02\n",
      "   1.18100848e-04   1.13868655e-05   4.75018946e-02   6.65278530e-03\n",
      "  -1.42466257e-07  -2.14152453e-02  -1.90542982e-03  -1.42635990e-12\n",
      "   1.24555619e-01   1.48786300e-03  -1.48453023e-01   2.25595927e-04\n",
      "  -1.93303908e-01   2.57175087e-06  -1.90919606e-03   6.80390878e-02\n",
      "  -1.10472436e-02  -1.70179979e-04   6.82430531e-04   1.23681907e-02\n",
      "  -6.49817127e-04  -1.70972164e-06   6.16395658e-03  -1.32398285e-03\n",
      "  -2.13263582e-02  -1.22451077e-03  -1.85612068e-03   1.80988516e-03\n",
      "   1.58556076e-04   2.06731286e-04  -1.74717961e-02   1.21426112e-03\n",
      "   1.91142474e-02   5.91744539e-05  -3.67060505e-06   2.43411010e-04\n",
      "   1.65827513e+00  -4.34636720e-03  -5.51196572e-06   5.46412746e-06\n",
      "  -1.00672149e-05   1.54564600e-01]\n",
      "Training score is  0.207024249752\n",
      "Testing score is  0.212489386991\n",
      "Starting Linear Regression algorithm\n",
      "Intercept is  12.366721832\n",
      "Coefficient is  [  3.96419294e-02   1.50094266e-07  -7.21432321e-06   1.79071987e-02\n",
      "  -1.22040173e-04  -3.84836686e-02   6.58954236e-02   9.26578976e-03\n",
      "   1.71279867e-04  -5.93249751e-05   6.69099949e-02   6.84379002e-03\n",
      "  -1.05718681e-06  -3.74676878e-02  -1.96422650e-03  -4.81481174e-14\n",
      "   9.10778816e-02   8.27510712e-03  -1.00897700e-01   2.86707946e-04\n",
      "   1.04338362e-01   2.83400059e-06  -2.96474071e-03   7.32623756e-02\n",
      "   2.11451477e-03   4.64514327e-05  -1.19744323e-03   1.08693640e-02\n",
      "  -7.43986710e-04  -2.72694577e-05   8.76842754e-03  -3.93397829e-03\n",
      "  -4.13880639e-02   3.76981156e-04  -2.68651488e-03   2.63841802e-03\n",
      "   2.85910124e-04   2.90706799e-04  -4.38484405e-02  -1.74428841e-02\n",
      "   2.98020030e-02   9.67484302e-05  -1.42633050e-06   3.08633347e-04\n",
      "   1.49984051e+00  -3.58299512e-03  -1.50296622e-05   4.37473392e-06\n",
      "   3.90038065e-05   1.57301535e-01]\n",
      "Training score is  0.143422445692\n",
      "Testing score is  0.15064304605\n",
      "Starting Linear Regression algorithm\n",
      "Intercept is  8.57598836162\n",
      "Coefficient is  [  4.49468016e-02   2.68930624e-04   9.61161061e-07   1.56153125e-02\n",
      "  -2.47079244e-04  -1.21044776e-01   1.45001747e-01   1.02610790e-02\n",
      "  -2.76414995e-05  -1.18554799e-04   1.43085031e-01   1.03518581e-02\n",
      "  -2.81764084e-06  -1.87787966e-01  -1.68596110e-03  -2.14874125e-13\n",
      "   1.11459331e-01   7.64167656e-03  -3.03328055e-01   4.23671925e-04\n",
      "   3.55128007e-01   1.06344709e-05  -5.82763058e-03   5.00301127e-02\n",
      "   2.42984214e-02  -2.17426030e-04  -2.57068025e-03   1.83822728e-05\n",
      "  -5.51483241e-04   4.06353844e-04  -7.87383951e-03  -3.33562793e-03\n",
      "  -6.74056398e-02  -2.86782510e-03  -4.96288995e-03   4.86689679e-03\n",
      "  -1.10271011e-05   1.34360821e-03  -2.07934367e-02  -8.26734700e-02\n",
      "   4.10140778e-02   2.76452351e-04   1.10509581e-06   1.44323596e-04\n",
      "   1.69030983e+00  -4.17940398e-03  -6.82372366e-05   1.14043067e-05\n",
      "   2.18410492e-04   2.53317042e-01]\n",
      "Training score is  0.273526433103\n",
      "Testing score is  0.273122977346\n",
      "Starting Linear Regression algorithm\n",
      "Intercept is  9.9947639979\n",
      "Coefficient is  [  4.70051734e-02  -2.54095427e-04  -2.51870258e-05  -1.18328500e-01\n",
      "  -1.92942841e-04  -3.14866498e-03   1.74699642e-01   4.45479139e-02\n",
      "   2.24893793e-04  -1.08032453e-04   1.71728667e-01   1.07777841e-02\n",
      "  -3.38040522e-06  -1.19759396e-01   3.04971870e-03  -2.00472560e-13\n",
      "   8.94226609e-02   1.34006277e-02  -6.53472556e-02   7.67493582e-04\n",
      "   5.64193914e-01   1.41137381e-05  -1.16592884e-02   1.50890307e-02\n",
      "   9.61352082e-03  -2.21809287e-04  -4.81891540e-03   3.89695698e-03\n",
      "  -2.80731621e-04  -9.43644612e-05   3.28403105e-02  -1.57405507e-04\n",
      "  -6.62780554e-02  -2.33662806e-03  -5.78482722e-03   5.65167037e-03\n",
      "   1.92552260e-04   1.82033483e-03  -2.07338496e-02  -3.32192816e-02\n",
      "   2.56613531e-02   1.57229264e-04   2.92474224e-06   5.35848782e-05\n",
      "   1.33389444e+00  -6.10758338e-03  -4.82564406e-05  -1.23759575e-05\n",
      "   3.89296388e-05   2.09874457e-01]\n",
      "Training score is  0.436481186121\n",
      "Testing score is  0.429011513207\n",
      "Starting Linear Regression algorithm\n",
      "Intercept is  15.1631906056\n",
      "Coefficient is  [  2.54231926e-02  -3.51718478e-04   1.97256735e-04   7.46335128e-02\n",
      "  -3.68205730e-04   1.44315895e-01   7.61751469e-02   8.94997731e-05\n",
      "   4.13172073e-04  -4.61382695e-05   7.47882873e-02   1.36014036e-03\n",
      "  -1.72632000e-05  -9.58947417e-02   2.04527012e-03  -2.30891695e-14\n",
      "   1.59722655e-02   6.59781370e-03  -7.48689546e-03   1.21577235e-03\n",
      "   1.00154742e+00   8.30398743e-05  -7.83229197e-03   1.67094869e-02\n",
      "   6.72923243e-03   3.04026431e-04  -5.81863524e-03  -6.92993315e-03\n",
      "  -3.75651572e-04  -6.82904614e-04  -1.68094591e-02  -2.53079666e-03\n",
      "  -4.30149856e-02   2.88303904e-04   9.19177764e-03  -8.92729813e-03\n",
      "  -2.51224610e-04   5.99580212e-04  -2.92225506e-03   4.41655343e-02\n",
      "   7.94486022e-03  -1.33089990e-04   1.57224289e-05   1.05215726e-04\n",
      "   7.80183869e-01  -2.06314609e-03   7.21045733e-05  -1.01719016e-04\n",
      "  -3.03474772e-04   1.48566637e-01]\n",
      "Training score is  0.812331382628\n",
      "Testing score is  0.831763844579\n"
     ]
    }
   ],
   "source": [
    "from sklearn.model_selection import train_test_split\n",
    "from sklearn.model_selection import cross_val_score\n",
    "from sklearn.linear_model import LinearRegression\n",
    "\n",
    "for i in grade_df_list:\n",
    "    \n",
    "#     df_lr=i[['total_pymnt_inv', 'revol_util', 'loan_status', 'fico_range_grade', 'total_rec_prncp', 'revol_bal', 'grade_based_on_inq_last_6mths', 'acc_open_past_24mths', 'installment', 'last_pymnt_amnt', 'funded_amnt_inv', 'total_acc', 'credit_age', 'issue_d', 'annual_inc', 'meanfico','int_rate']]\n",
    "    df_lr=i\n",
    "    df_lr.ix[:, df_lr.columns != 'int_rate']=dummyEncode(df_lr.ix[:, df_lr.columns != 'int_rate'])\n",
    "    X_train_lr_df, X_test_lr_df, Y_train_lr_df, Y_test_lr_df = train_test_split(df_lr.ix[:, df_lr.columns != 'int_rate'], df_lr.int_rate, test_size=0.2, random_state=0)\n",
    "    print(\"Starting Linear Regression algorithm\")\n",
    "    linear_reg = LinearRegression()\n",
    "    fit=linear_reg.fit(X_train_lr_df, Y_train_lr_df)\n",
    "\n",
    "    print (\"Intercept is \",linear_reg.intercept_)\n",
    "    print(\"Coefficient is \",linear_reg.coef_)\n",
    "    \n",
    "    print(\"Training score is \",linear_reg.score(X_train_lr_df, Y_train_lr_df))\n",
    "\n",
    "    print(\"Testing score is \",linear_reg.score(X_test_lr_df, Y_test_lr_df))\n"
   ]
  },
  {
   "cell_type": "code",
   "execution_count": 5,
   "metadata": {
    "collapsed": false
   },
   "outputs": [
    {
     "name": "stderr",
     "output_type": "stream",
     "text": [
      "/usr/local/src/conda3_runtime/4.1.1/lib/python3.5/site-packages/ipykernel/__main__.py:9: SettingWithCopyWarning: \n",
      "A value is trying to be set on a copy of a slice from a DataFrame.\n",
      "Try using .loc[row_indexer,col_indexer] = value instead\n",
      "\n",
      "See the caveats in the documentation: http://pandas.pydata.org/pandas-docs/stable/indexing.html#indexing-view-versus-copy\n"
     ]
    },
    {
     "name": "stdout",
     "output_type": "stream",
     "text": [
      "Staring Random forest algorithm\n",
      "Accuracy of the model is  0.814425003211\n"
     ]
    },
    {
     "name": "stderr",
     "output_type": "stream",
     "text": [
      "/usr/local/src/conda3_runtime/4.1.1/lib/python3.5/site-packages/ipykernel/__main__.py:9: SettingWithCopyWarning: \n",
      "A value is trying to be set on a copy of a slice from a DataFrame.\n",
      "Try using .loc[row_indexer,col_indexer] = value instead\n",
      "\n",
      "See the caveats in the documentation: http://pandas.pydata.org/pandas-docs/stable/indexing.html#indexing-view-versus-copy\n"
     ]
    },
    {
     "name": "stdout",
     "output_type": "stream",
     "text": [
      "Staring Random forest algorithm\n",
      "Accuracy of the model is  0.866503504214\n"
     ]
    },
    {
     "name": "stderr",
     "output_type": "stream",
     "text": [
      "/usr/local/src/conda3_runtime/4.1.1/lib/python3.5/site-packages/ipykernel/__main__.py:9: SettingWithCopyWarning: \n",
      "A value is trying to be set on a copy of a slice from a DataFrame.\n",
      "Try using .loc[row_indexer,col_indexer] = value instead\n",
      "\n",
      "See the caveats in the documentation: http://pandas.pydata.org/pandas-docs/stable/indexing.html#indexing-view-versus-copy\n"
     ]
    },
    {
     "name": "stdout",
     "output_type": "stream",
     "text": [
      "Staring Random forest algorithm\n",
      "Accuracy of the model is  0.838477849484\n"
     ]
    },
    {
     "name": "stderr",
     "output_type": "stream",
     "text": [
      "/usr/local/src/conda3_runtime/4.1.1/lib/python3.5/site-packages/ipykernel/__main__.py:9: SettingWithCopyWarning: \n",
      "A value is trying to be set on a copy of a slice from a DataFrame.\n",
      "Try using .loc[row_indexer,col_indexer] = value instead\n",
      "\n",
      "See the caveats in the documentation: http://pandas.pydata.org/pandas-docs/stable/indexing.html#indexing-view-versus-copy\n"
     ]
    },
    {
     "name": "stdout",
     "output_type": "stream",
     "text": [
      "Staring Random forest algorithm\n",
      "Accuracy of the model is  0.797869922446\n"
     ]
    },
    {
     "name": "stderr",
     "output_type": "stream",
     "text": [
      "/usr/local/src/conda3_runtime/4.1.1/lib/python3.5/site-packages/ipykernel/__main__.py:9: SettingWithCopyWarning: \n",
      "A value is trying to be set on a copy of a slice from a DataFrame.\n",
      "Try using .loc[row_indexer,col_indexer] = value instead\n",
      "\n",
      "See the caveats in the documentation: http://pandas.pydata.org/pandas-docs/stable/indexing.html#indexing-view-versus-copy\n"
     ]
    },
    {
     "name": "stdout",
     "output_type": "stream",
     "text": [
      "Staring Random forest algorithm\n",
      "Accuracy of the model is  0.843754376751\n"
     ]
    },
    {
     "name": "stderr",
     "output_type": "stream",
     "text": [
      "/usr/local/src/conda3_runtime/4.1.1/lib/python3.5/site-packages/ipykernel/__main__.py:9: SettingWithCopyWarning: \n",
      "A value is trying to be set on a copy of a slice from a DataFrame.\n",
      "Try using .loc[row_indexer,col_indexer] = value instead\n",
      "\n",
      "See the caveats in the documentation: http://pandas.pydata.org/pandas-docs/stable/indexing.html#indexing-view-versus-copy\n"
     ]
    },
    {
     "name": "stdout",
     "output_type": "stream",
     "text": [
      "Staring Random forest algorithm\n",
      "Accuracy of the model is  0.783602482784\n"
     ]
    },
    {
     "name": "stderr",
     "output_type": "stream",
     "text": [
      "/usr/local/src/conda3_runtime/4.1.1/lib/python3.5/site-packages/ipykernel/__main__.py:9: SettingWithCopyWarning: \n",
      "A value is trying to be set on a copy of a slice from a DataFrame.\n",
      "Try using .loc[row_indexer,col_indexer] = value instead\n",
      "\n",
      "See the caveats in the documentation: http://pandas.pydata.org/pandas-docs/stable/indexing.html#indexing-view-versus-copy\n"
     ]
    },
    {
     "name": "stdout",
     "output_type": "stream",
     "text": [
      "Staring Random forest algorithm\n",
      "Accuracy of the model is  0.877139874764\n"
     ]
    }
   ],
   "source": [
    "from sklearn.metrics import r2_score\n",
    "from sklearn.ensemble import RandomForestRegressor\n",
    "\n",
    "for i in grade_df_list:\n",
    "    \n",
    "#     ran_for_df=i[['total_pymnt_inv', 'revol_util', 'loan_status', 'fico_range_grade', 'total_rec_prncp', 'revol_bal', 'grade_based_on_inq_last_6mths', 'acc_open_past_24mths', 'installment', 'last_pymnt_amnt', 'funded_amnt_inv', 'total_acc', 'credit_age', 'issue_d', 'annual_inc', 'meanfico','int_rate']]\n",
    "    ran_for_df=i\n",
    "    ran_for_df.ix[:, ran_for_df.columns != 'int_rate']=dummyEncode(ran_for_df.ix[:, ran_for_df.columns != 'int_rate'])\n",
    "\n",
    "    X_train_ran_for, X_test_ran_for, Y_train_ran_for, Y_test_ran_for = train_test_split(ran_for_df.ix[:, ran_for_df.columns != 'int_rate'], ran_for_df.int_rate, test_size=0.2, random_state=0)\n",
    "\n",
    "    print(\"Staring Random forest algorithm\")\n",
    "    random_forest = RandomForestRegressor(n_jobs=2)\n",
    "    random_forest.fit(X_train_ran_for, Y_train_ran_for)\n",
    "    y_pred=random_forest.predict(X_test_ran_for)\n",
    "    print(\"Accuracy of the model is \",r2_score(Y_test_ran_for,y_pred))"
   ]
  },
  {
   "cell_type": "code",
   "execution_count": 6,
   "metadata": {
    "collapsed": false
   },
   "outputs": [
    {
     "name": "stderr",
     "output_type": "stream",
     "text": [
      "/usr/local/src/conda3_runtime/4.1.1/lib/python3.5/site-packages/ipykernel/__main__.py:9: SettingWithCopyWarning: \n",
      "A value is trying to be set on a copy of a slice from a DataFrame.\n",
      "Try using .loc[row_indexer,col_indexer] = value instead\n",
      "\n",
      "See the caveats in the documentation: http://pandas.pydata.org/pandas-docs/stable/indexing.html#indexing-view-versus-copy\n"
     ]
    },
    {
     "name": "stdout",
     "output_type": "stream",
     "text": [
      "Starting KNN algorithm\n",
      "Accuracy of the model is  0.419760584204\n",
      "Accuracy of the model is  0.558388755656\n",
      "Accuracy of the model is  0.59803721802\n",
      "Accuracy of the model is  0.616477643036\n",
      "Accuracy of the model is  0.625091421868\n",
      "Accuracy of the model is  0.631427095842\n",
      "Accuracy of the model is  0.634436632206\n",
      "Accuracy of the model is  0.635166445362\n",
      "Accuracy of the model is  0.635754425514\n",
      "Accuracy of the model is  0.635929122948\n",
      "Accuracy of the model is  0.635322470733\n",
      "Accuracy of the model is  0.634800543012\n",
      "Starting KNN algorithm\n",
      "Accuracy of the model is  0.357275565131\n",
      "Accuracy of the model is  0.506090155097\n",
      "Accuracy of the model is  0.550355059541\n",
      "Accuracy of the model is  0.569773116791\n",
      "Accuracy of the model is  0.580170102389\n",
      "Accuracy of the model is  0.585411760952\n",
      "Accuracy of the model is  0.588821463142\n",
      "Accuracy of the model is  0.590214756666\n",
      "Accuracy of the model is  0.589751880181\n",
      "Accuracy of the model is  0.589518456498\n",
      "Accuracy of the model is  0.58833391439\n",
      "Accuracy of the model is  0.586986940027\n",
      "Starting KNN algorithm\n",
      "Accuracy of the model is  0.105536256927\n",
      "Accuracy of the model is  0.315785940018\n",
      "Accuracy of the model is  0.377202931209\n",
      "Accuracy of the model is  0.405469008374\n",
      "Accuracy of the model is  0.419005835085\n",
      "Accuracy of the model is  0.426506016245\n",
      "Accuracy of the model is  0.429905493745\n",
      "Accuracy of the model is  0.432670355252\n",
      "Accuracy of the model is  0.433330146781\n",
      "Accuracy of the model is  0.433420857061\n",
      "Accuracy of the model is  0.432547179964\n",
      "Accuracy of the model is  0.431687984949\n",
      "Starting KNN algorithm\n",
      "Accuracy of the model is  -0.0554662527389\n",
      "Accuracy of the model is  0.185843637207\n",
      "Accuracy of the model is  0.256841164181\n",
      "Accuracy of the model is  0.289986875923\n",
      "Accuracy of the model is  0.305898633036\n",
      "Accuracy of the model is  0.315179572201\n",
      "Accuracy of the model is  0.319983260276\n",
      "Accuracy of the model is  0.323499007251\n",
      "Accuracy of the model is  0.326257622283\n",
      "Accuracy of the model is  0.327775037922\n",
      "Accuracy of the model is  0.328095588573\n",
      "Accuracy of the model is  0.327758697244\n",
      "Starting KNN algorithm\n",
      "Accuracy of the model is  0.169889851452\n",
      "Accuracy of the model is  0.356074807964\n",
      "Accuracy of the model is  0.411418620908\n",
      "Accuracy of the model is  0.436832954584\n",
      "Accuracy of the model is  0.452985848891\n",
      "Accuracy of the model is  0.459090144282\n",
      "Accuracy of the model is  0.463112569804\n",
      "Accuracy of the model is  0.467147654028\n",
      "Accuracy of the model is  0.471017986143\n",
      "Accuracy of the model is  0.473161163476\n",
      "Accuracy of the model is  0.474595849\n",
      "Accuracy of the model is  0.475678694915\n",
      "Starting KNN algorithm\n",
      "Accuracy of the model is  0.102663318973\n",
      "Accuracy of the model is  0.283816221322\n",
      "Accuracy of the model is  0.346604710278\n",
      "Accuracy of the model is  0.370922994957\n",
      "Accuracy of the model is  0.382436264443\n",
      "Accuracy of the model is  0.389617337037\n",
      "Accuracy of the model is  0.397180604181\n",
      "Accuracy of the model is  0.405827994693\n",
      "Accuracy of the model is  0.407399202195\n",
      "Accuracy of the model is  0.408151299815\n",
      "Accuracy of the model is  0.410717271994\n",
      "Accuracy of the model is  0.412201837081\n",
      "Starting KNN algorithm\n",
      "Accuracy of the model is  0.303678747096\n",
      "Accuracy of the model is  0.454524764813\n",
      "Accuracy of the model is  0.50314652117\n",
      "Accuracy of the model is  0.516562433209\n",
      "Accuracy of the model is  0.543418150232\n",
      "Accuracy of the model is  0.549169454537\n",
      "Accuracy of the model is  0.544773832918\n",
      "Accuracy of the model is  0.547986158223\n",
      "Accuracy of the model is  0.544768132241\n",
      "Accuracy of the model is  0.544325729646\n",
      "Accuracy of the model is  0.54353100522\n",
      "Accuracy of the model is  0.542094748441\n"
     ]
    }
   ],
   "source": [
    "from sklearn.neighbors import KNeighborsRegressor\n",
    "\n",
    "for i in grade_df_list:\n",
    "\n",
    "#     knn_df=i[['total_pymnt_inv', 'revol_util', 'loan_status', 'fico_range_grade', 'total_rec_prncp', 'revol_bal', 'grade_based_on_inq_last_6mths', 'acc_open_past_24mths', 'installment', 'last_pymnt_amnt', 'funded_amnt_inv', 'total_acc', 'credit_age', 'issue_d', 'annual_inc', 'meanfico','int_rate']]\n",
    "    knn_df=i\n",
    "    knn_df.ix[:, knn_df.columns != 'int_rate']=dummyEncode(knn_df.ix[:, knn_df.columns != 'int_rate'])\n",
    "\n",
    "    X_train_knn, X_test_knn, Y_train_knn, Y_test_knn = train_test_split(knn_df.ix[:, knn_df.columns != 'int_rate'], knn_df.int_rate, test_size=0.2, random_state=0)\n",
    "\n",
    "    print(\"Starting KNN algorithm\")\n",
    "    for K in range(12):\n",
    "         K_value = K+1\n",
    "         knn_reg = KNeighborsRegressor(n_neighbors = K_value, weights='uniform', algorithm='auto')\n",
    "         knn_reg.fit(X_train_knn, Y_train_knn)\n",
    "         y_pred = knn_reg.predict(X_test_knn)\n",
    "         print(\"Accuracy of the model is \",r2_score(Y_test_knn,y_pred))"
   ]
  },
  {
   "cell_type": "code",
   "execution_count": 7,
   "metadata": {
    "collapsed": false
   },
   "outputs": [
    {
     "name": "stderr",
     "output_type": "stream",
     "text": [
      "/usr/local/src/conda3_runtime/4.1.1/lib/python3.5/site-packages/ipykernel/__main__.py:9: SettingWithCopyWarning: \n",
      "A value is trying to be set on a copy of a slice from a DataFrame.\n",
      "Try using .loc[row_indexer,col_indexer] = value instead\n",
      "\n",
      "See the caveats in the documentation: http://pandas.pydata.org/pandas-docs/stable/indexing.html#indexing-view-versus-copy\n"
     ]
    },
    {
     "name": "stdout",
     "output_type": "stream",
     "text": [
      "Staring Neural Network\n",
      "Training score is  0.745270388713\n",
      "Testing score is  0.742271545532\n",
      "Staring Neural Network\n",
      "Training score is  0.704158689578\n",
      "Testing score is  0.70221552349\n",
      "Staring Neural Network\n",
      "Training score is  0.593037872304\n",
      "Testing score is  0.594356349076\n",
      "Staring Neural Network\n",
      "Training score is  0.590864093176\n",
      "Testing score is  0.585333874473\n",
      "Staring Neural Network\n",
      "Training score is  0.76067320626\n",
      "Testing score is  0.756453002717\n",
      "Staring Neural Network\n",
      "Training score is  0.765961706421\n",
      "Testing score is  0.73061791973\n",
      "Staring Neural Network\n",
      "Training score is  0.889093988975\n",
      "Testing score is  0.841825362342\n"
     ]
    }
   ],
   "source": [
    "from sklearn.preprocessing import StandardScaler\n",
    "from sklearn.neural_network import MLPRegressor\n",
    "\n",
    "for i in grade_df_list:\n",
    "#     neural_network_df=i[['total_pymnt_inv', 'revol_util', 'loan_status', 'fico_range_grade', 'total_rec_prncp', 'revol_bal', 'grade_based_on_inq_last_6mths', 'acc_open_past_24mths', 'installment', 'last_pymnt_amnt', 'funded_amnt_inv', 'total_acc', 'credit_age', 'issue_d', 'annual_inc', 'meanfico','int_rate']]\n",
    "    neural_network_df=i\n",
    "    neural_network_df.ix[:, neural_network_df.columns != 'int_rate']=dummyEncode(neural_network_df.ix[:, neural_network_df.columns != 'int_rate'])\n",
    "\n",
    "    #neural network\n",
    "    print(\"Staring Neural Network\")\n",
    "\n",
    "    X_train_nn, X_test_nn, Y_train_nn, Y_test_nn = train_test_split(neural_network_df.ix[:, neural_network_df.columns != 'int_rate'], neural_network_df.int_rate, test_size=0.2, random_state=0)\n",
    "\n",
    "\n",
    "    X_train_nn = StandardScaler().fit_transform(X_train_nn)\n",
    "    X_test_nn = StandardScaler().fit_transform(X_test_nn)\n",
    "\n",
    "    mlp = MLPRegressor(solver='lbfgs', hidden_layer_sizes=50,\n",
    "                               max_iter=150, shuffle=True, random_state=1)\n",
    "    mlp.fit(X_train_nn, Y_train_nn)\n",
    "\n",
    "    print(\"Training score is \",mlp.score(X_train_nn, Y_train_nn))\n",
    "    print(\"Testing score is \",mlp.score(X_test_nn, Y_test_nn))"
   ]
  }
 ],
 "metadata": {
  "kernelspec": {
   "display_name": "Python 3.5 (Experimental) with Spark 1.6",
   "language": "python",
   "name": "python3"
  },
  "language_info": {
   "codemirror_mode": {
    "name": "ipython",
    "version": 3
   },
   "file_extension": ".py",
   "mimetype": "text/x-python",
   "name": "python",
   "nbconvert_exporter": "python",
   "pygments_lexer": "ipython3",
   "version": "3.5.2"
  }
 },
 "nbformat": 4,
 "nbformat_minor": 0
}