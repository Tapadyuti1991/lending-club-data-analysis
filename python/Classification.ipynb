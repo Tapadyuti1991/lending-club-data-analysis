{
 "cells": [
  {
   "cell_type": "code",
   "execution_count": 1,
   "metadata": {
    "collapsed": false
   },
   "outputs": [
    {
     "name": "stderr",
     "output_type": "stream",
     "text": [
      "/usr/local/src/conda3_runtime/4.1.1/lib/python3.5/site-packages/IPython/core/interactiveshell.py:2723: DtypeWarning: Columns (61,116) have mixed types. Specify dtype option on import or set low_memory=False.\n",
      "  interactivity=interactivity, compiler=compiler, result=result)\n"
     ]
    },
    {
     "data": {
      "text/html": [
       "<div>\n",
       "<table border=\"1\" class=\"dataframe\">\n",
       "  <thead>\n",
       "    <tr style=\"text-align: right;\">\n",
       "      <th></th>\n",
       "      <th>acc_now_delinq</th>\n",
       "      <th>acc_open_past_24mths</th>\n",
       "      <th>addr_state</th>\n",
       "      <th>all_util</th>\n",
       "      <th>annual_inc</th>\n",
       "      <th>annual_inc_joint</th>\n",
       "      <th>application_type</th>\n",
       "      <th>avg_cur_bal</th>\n",
       "      <th>bc_open_to_buy</th>\n",
       "      <th>bc_util</th>\n",
       "      <th>...</th>\n",
       "      <th>total_rev_hi_lim</th>\n",
       "      <th>url</th>\n",
       "      <th>verification_status</th>\n",
       "      <th>verification_status_joint</th>\n",
       "      <th>zip_code</th>\n",
       "      <th>fico_range</th>\n",
       "      <th>meanfico</th>\n",
       "      <th>last_fico_range</th>\n",
       "      <th>last_meanfico</th>\n",
       "      <th>credit_age</th>\n",
       "    </tr>\n",
       "  </thead>\n",
       "  <tbody>\n",
       "    <tr>\n",
       "      <th>0</th>\n",
       "      <td>0</td>\n",
       "      <td>NaN</td>\n",
       "      <td>GA</td>\n",
       "      <td>NaN</td>\n",
       "      <td>30000</td>\n",
       "      <td>NaN</td>\n",
       "      <td>INDIVIDUAL</td>\n",
       "      <td>NaN</td>\n",
       "      <td>NaN</td>\n",
       "      <td>NaN</td>\n",
       "      <td>...</td>\n",
       "      <td>NaN</td>\n",
       "      <td>https://lendingclub.com/browse/loanDetail.acti...</td>\n",
       "      <td>Source Verified</td>\n",
       "      <td>NaN</td>\n",
       "      <td>309</td>\n",
       "      <td>740-744</td>\n",
       "      <td>742</td>\n",
       "      <td>0-499</td>\n",
       "      <td>249</td>\n",
       "      <td>17</td>\n",
       "    </tr>\n",
       "    <tr>\n",
       "      <th>1</th>\n",
       "      <td>0</td>\n",
       "      <td>NaN</td>\n",
       "      <td>CA</td>\n",
       "      <td>NaN</td>\n",
       "      <td>49200</td>\n",
       "      <td>NaN</td>\n",
       "      <td>INDIVIDUAL</td>\n",
       "      <td>NaN</td>\n",
       "      <td>NaN</td>\n",
       "      <td>NaN</td>\n",
       "      <td>...</td>\n",
       "      <td>NaN</td>\n",
       "      <td>https://lendingclub.com/browse/loanDetail.acti...</td>\n",
       "      <td>Source Verified</td>\n",
       "      <td>NaN</td>\n",
       "      <td>917</td>\n",
       "      <td>690-694</td>\n",
       "      <td>692</td>\n",
       "      <td>600-604</td>\n",
       "      <td>602</td>\n",
       "      <td>20</td>\n",
       "    </tr>\n",
       "    <tr>\n",
       "      <th>2</th>\n",
       "      <td>0</td>\n",
       "      <td>NaN</td>\n",
       "      <td>OR</td>\n",
       "      <td>NaN</td>\n",
       "      <td>80000</td>\n",
       "      <td>NaN</td>\n",
       "      <td>INDIVIDUAL</td>\n",
       "      <td>NaN</td>\n",
       "      <td>NaN</td>\n",
       "      <td>NaN</td>\n",
       "      <td>...</td>\n",
       "      <td>NaN</td>\n",
       "      <td>https://lendingclub.com/browse/loanDetail.acti...</td>\n",
       "      <td>Source Verified</td>\n",
       "      <td>NaN</td>\n",
       "      <td>972</td>\n",
       "      <td>695-699</td>\n",
       "      <td>697</td>\n",
       "      <td>690-694</td>\n",
       "      <td>692</td>\n",
       "      <td>21</td>\n",
       "    </tr>\n",
       "    <tr>\n",
       "      <th>3</th>\n",
       "      <td>0</td>\n",
       "      <td>NaN</td>\n",
       "      <td>NC</td>\n",
       "      <td>NaN</td>\n",
       "      <td>47004</td>\n",
       "      <td>NaN</td>\n",
       "      <td>INDIVIDUAL</td>\n",
       "      <td>NaN</td>\n",
       "      <td>NaN</td>\n",
       "      <td>NaN</td>\n",
       "      <td>...</td>\n",
       "      <td>NaN</td>\n",
       "      <td>https://lendingclub.com/browse/loanDetail.acti...</td>\n",
       "      <td>Not Verified</td>\n",
       "      <td>NaN</td>\n",
       "      <td>280</td>\n",
       "      <td>690-694</td>\n",
       "      <td>692</td>\n",
       "      <td>650-654</td>\n",
       "      <td>652</td>\n",
       "      <td>11</td>\n",
       "    </tr>\n",
       "    <tr>\n",
       "      <th>4</th>\n",
       "      <td>0</td>\n",
       "      <td>NaN</td>\n",
       "      <td>CA</td>\n",
       "      <td>NaN</td>\n",
       "      <td>48000</td>\n",
       "      <td>NaN</td>\n",
       "      <td>INDIVIDUAL</td>\n",
       "      <td>NaN</td>\n",
       "      <td>NaN</td>\n",
       "      <td>NaN</td>\n",
       "      <td>...</td>\n",
       "      <td>NaN</td>\n",
       "      <td>https://lendingclub.com/browse/loanDetail.acti...</td>\n",
       "      <td>Source Verified</td>\n",
       "      <td>NaN</td>\n",
       "      <td>900</td>\n",
       "      <td>660-664</td>\n",
       "      <td>662</td>\n",
       "      <td>685-689</td>\n",
       "      <td>687</td>\n",
       "      <td>7</td>\n",
       "    </tr>\n",
       "  </tbody>\n",
       "</table>\n",
       "<p>5 rows × 123 columns</p>\n",
       "</div>"
      ],
      "text/plain": [
       "   acc_now_delinq  acc_open_past_24mths addr_state  all_util  annual_inc  \\\n",
       "0               0                   NaN         GA       NaN       30000   \n",
       "1               0                   NaN         CA       NaN       49200   \n",
       "2               0                   NaN         OR       NaN       80000   \n",
       "3               0                   NaN         NC       NaN       47004   \n",
       "4               0                   NaN         CA       NaN       48000   \n",
       "\n",
       "   annual_inc_joint application_type  avg_cur_bal  bc_open_to_buy  bc_util  \\\n",
       "0               NaN       INDIVIDUAL          NaN             NaN      NaN   \n",
       "1               NaN       INDIVIDUAL          NaN             NaN      NaN   \n",
       "2               NaN       INDIVIDUAL          NaN             NaN      NaN   \n",
       "3               NaN       INDIVIDUAL          NaN             NaN      NaN   \n",
       "4               NaN       INDIVIDUAL          NaN             NaN      NaN   \n",
       "\n",
       "     ...      total_rev_hi_lim  \\\n",
       "0    ...                   NaN   \n",
       "1    ...                   NaN   \n",
       "2    ...                   NaN   \n",
       "3    ...                   NaN   \n",
       "4    ...                   NaN   \n",
       "\n",
       "                                                 url  verification_status  \\\n",
       "0  https://lendingclub.com/browse/loanDetail.acti...      Source Verified   \n",
       "1  https://lendingclub.com/browse/loanDetail.acti...      Source Verified   \n",
       "2  https://lendingclub.com/browse/loanDetail.acti...      Source Verified   \n",
       "3  https://lendingclub.com/browse/loanDetail.acti...         Not Verified   \n",
       "4  https://lendingclub.com/browse/loanDetail.acti...      Source Verified   \n",
       "\n",
       "   verification_status_joint  zip_code fico_range meanfico  last_fico_range  \\\n",
       "0                        NaN       309    740-744      742            0-499   \n",
       "1                        NaN       917    690-694      692          600-604   \n",
       "2                        NaN       972    695-699      697          690-694   \n",
       "3                        NaN       280    690-694      692          650-654   \n",
       "4                        NaN       900    660-664      662          685-689   \n",
       "\n",
       "   last_meanfico credit_age  \n",
       "0            249         17  \n",
       "1            602         20  \n",
       "2            692         21  \n",
       "3            652         11  \n",
       "4            687          7  \n",
       "\n",
       "[5 rows x 123 columns]"
      ]
     },
     "execution_count": 1,
     "metadata": {},
     "output_type": "execute_result"
    }
   ],
   "source": [
    "\n",
    "from io import StringIO\n",
    "import requests\n",
    "import json\n",
    "import pandas as pd\n",
    "import numpy as np\n",
    "\n",
    "# @hidden_cell\n",
    "# This function accesses a file in your Object Storage. The definition contains your credentials.\n",
    "# You might want to remove those credentials before you share your notebook.\n",
    "def get_object_storage_file_with_credentials_b6d2dc4304df42d5bf425b6ca8af67ff(container, filename):\n",
    "    \"\"\"This functions returns a StringIO object containing\n",
    "    the file content from Bluemix Object Storage.\"\"\"\n",
    "\n",
    "    url1 = ''.join(['https://identity.open.softlayer.com', '/v3/auth/tokens'])\n",
    "    data = {'auth': {'identity': {'methods': ['password'],\n",
    "            'password': {'user': {'name': 'member_cd9be0e4ff1994ebede81451af2f9ee17e1d0d66','domain': {'id': '9d54dfb7f46d48d8930e2e61e1e7ddab'},\n",
    "            'password': 'IbA26vS(8zQl.2_P'}}}}}\n",
    "    headers1 = {'Content-Type': 'application/json'}\n",
    "    resp1 = requests.post(url=url1, data=json.dumps(data), headers=headers1)\n",
    "    resp1_body = resp1.json()\n",
    "    for e1 in resp1_body['token']['catalog']:\n",
    "        if(e1['type']=='object-store'):\n",
    "            for e2 in e1['endpoints']:\n",
    "                        if(e2['interface']=='public'and e2['region']=='dallas'):\n",
    "                            url2 = ''.join([e2['url'],'/', container, '/', filename])\n",
    "    s_subject_token = resp1.headers['x-subject-token']\n",
    "    headers2 = {'X-Auth-Token': s_subject_token, 'accept': 'application/json'}\n",
    "    resp2 = requests.get(url=url2, headers=headers2)\n",
    "    return StringIO(resp2.text)\n",
    "\n",
    "df_data_1 = pd.read_csv(get_object_storage_file_with_credentials_b6d2dc4304df42d5bf425b6ca8af67ff('LendingClub', 'Processed_Accepted.csv'))\n",
    "df_data_1.head()\n"
   ]
  },
  {
   "cell_type": "code",
   "execution_count": 2,
   "metadata": {
    "collapsed": true
   },
   "outputs": [],
   "source": [
    "df=df_data_1"
   ]
  },
  {
   "cell_type": "code",
   "execution_count": 3,
   "metadata": {
    "collapsed": false
   },
   "outputs": [
    {
     "data": {
      "text/plain": [
       "Current                                                732213\n",
       "Fully Paid                                             431475\n",
       "Charged Off                                            109989\n",
       "Late (31-120 days)                                      18847\n",
       "In Grace Period                                         10297\n",
       "Late (16-30 days)                                        4274\n",
       "Does not meet the credit policy. Status:Fully Paid       1926\n",
       "Does not meet the credit policy. Status:Charged Off       740\n",
       "Default                                                    26\n",
       "Name: loan_status, dtype: int64"
      ]
     },
     "execution_count": 3,
     "metadata": {},
     "output_type": "execute_result"
    }
   ],
   "source": [
    "df.loan_status.value_counts()"
   ]
  },
  {
   "cell_type": "code",
   "execution_count": 4,
   "metadata": {
    "collapsed": false
   },
   "outputs": [],
   "source": [
    "df['accept_reject_loan'] = np.where((df['loan_status'] == \"Does not meet the credit policy. Status:Fully Paid\")  | (df['loan_status']==\"Does not meet the credit policy. Status:Charged Off\"),1,0)"
   ]
  },
  {
   "cell_type": "code",
   "execution_count": 5,
   "metadata": {
    "collapsed": false
   },
   "outputs": [
    {
     "data": {
      "text/plain": [
       "0    1307121\n",
       "1       2666\n",
       "Name: accept_reject_loan, dtype: int64"
      ]
     },
     "execution_count": 5,
     "metadata": {},
     "output_type": "execute_result"
    }
   ],
   "source": [
    "df['accept_reject_loan'].value_counts()"
   ]
  },
  {
   "cell_type": "code",
   "execution_count": 6,
   "metadata": {
    "collapsed": false
   },
   "outputs": [
    {
     "data": {
      "text/html": [
       "<div>\n",
       "<table border=\"1\" class=\"dataframe\">\n",
       "  <thead>\n",
       "    <tr style=\"text-align: right;\">\n",
       "      <th></th>\n",
       "      <th>Amount Requested</th>\n",
       "      <th>download_timestamp</th>\n",
       "      <th>Application Date</th>\n",
       "      <th>Loan Title</th>\n",
       "      <th>Risk_Score</th>\n",
       "      <th>Debt-To-Income Ratio</th>\n",
       "      <th>Zip Code</th>\n",
       "      <th>State</th>\n",
       "      <th>Employment Length</th>\n",
       "      <th>Policy Code</th>\n",
       "      <th>Policy Codee</th>\n",
       "    </tr>\n",
       "  </thead>\n",
       "  <tbody>\n",
       "    <tr>\n",
       "      <th>0</th>\n",
       "      <td>1000</td>\n",
       "      <td>2017-04-07 17:56:41</td>\n",
       "      <td>2007-05-26</td>\n",
       "      <td>Wedding Covered but No Honeymoon</td>\n",
       "      <td>693</td>\n",
       "      <td>10.00</td>\n",
       "      <td>481</td>\n",
       "      <td>NM</td>\n",
       "      <td>4</td>\n",
       "      <td>0</td>\n",
       "      <td>0</td>\n",
       "    </tr>\n",
       "    <tr>\n",
       "      <th>1</th>\n",
       "      <td>1000</td>\n",
       "      <td>2017-04-07 17:56:41</td>\n",
       "      <td>2007-05-26</td>\n",
       "      <td>Consolidating Debt</td>\n",
       "      <td>703</td>\n",
       "      <td>10.00</td>\n",
       "      <td>10</td>\n",
       "      <td>MA</td>\n",
       "      <td>1</td>\n",
       "      <td>0</td>\n",
       "      <td>0</td>\n",
       "    </tr>\n",
       "    <tr>\n",
       "      <th>2</th>\n",
       "      <td>11000</td>\n",
       "      <td>2017-04-07 17:56:41</td>\n",
       "      <td>2007-05-27</td>\n",
       "      <td>Want to consolidate my debt</td>\n",
       "      <td>715</td>\n",
       "      <td>10.00</td>\n",
       "      <td>212</td>\n",
       "      <td>MD</td>\n",
       "      <td>1</td>\n",
       "      <td>0</td>\n",
       "      <td>0</td>\n",
       "    </tr>\n",
       "    <tr>\n",
       "      <th>3</th>\n",
       "      <td>6000</td>\n",
       "      <td>2017-04-07 17:56:41</td>\n",
       "      <td>2007-05-27</td>\n",
       "      <td>waksman</td>\n",
       "      <td>698</td>\n",
       "      <td>38.64</td>\n",
       "      <td>17</td>\n",
       "      <td>MA</td>\n",
       "      <td>1</td>\n",
       "      <td>0</td>\n",
       "      <td>0</td>\n",
       "    </tr>\n",
       "    <tr>\n",
       "      <th>4</th>\n",
       "      <td>1500</td>\n",
       "      <td>2017-04-07 17:56:41</td>\n",
       "      <td>2007-05-27</td>\n",
       "      <td>mdrigo</td>\n",
       "      <td>509</td>\n",
       "      <td>9.43</td>\n",
       "      <td>209</td>\n",
       "      <td>MD</td>\n",
       "      <td>1</td>\n",
       "      <td>0</td>\n",
       "      <td>0</td>\n",
       "    </tr>\n",
       "  </tbody>\n",
       "</table>\n",
       "</div>"
      ],
      "text/plain": [
       "   Amount Requested   download_timestamp Application Date  \\\n",
       "0              1000  2017-04-07 17:56:41       2007-05-26   \n",
       "1              1000  2017-04-07 17:56:41       2007-05-26   \n",
       "2             11000  2017-04-07 17:56:41       2007-05-27   \n",
       "3              6000  2017-04-07 17:56:41       2007-05-27   \n",
       "4              1500  2017-04-07 17:56:41       2007-05-27   \n",
       "\n",
       "                         Loan Title  Risk_Score  Debt-To-Income Ratio  \\\n",
       "0  Wedding Covered but No Honeymoon         693                 10.00   \n",
       "1                Consolidating Debt         703                 10.00   \n",
       "2       Want to consolidate my debt         715                 10.00   \n",
       "3                           waksman         698                 38.64   \n",
       "4                            mdrigo         509                  9.43   \n",
       "\n",
       "   Zip Code State  Employment Length  Policy Code  Policy Codee  \n",
       "0       481    NM                  4            0             0  \n",
       "1        10    MA                  1            0             0  \n",
       "2       212    MD                  1            0             0  \n",
       "3        17    MA                  1            0             0  \n",
       "4       209    MD                  1            0             0  "
      ]
     },
     "execution_count": 6,
     "metadata": {},
     "output_type": "execute_result"
    }
   ],
   "source": [
    "\n",
    "df_data_2 = pd.read_csv(get_object_storage_file_with_credentials_b6d2dc4304df42d5bf425b6ca8af67ff('LendingClub', 'processed_declined.csv'))\n",
    "df_data_2.head()\n"
   ]
  },
  {
   "cell_type": "code",
   "execution_count": 7,
   "metadata": {
    "collapsed": false
   },
   "outputs": [
    {
     "data": {
      "text/plain": [
       "Index(['Amount_Requested', 'download_timestamp', 'Application_Date',\n",
       "       'Loan_Title', 'Risk_Score', 'Debt-To-Income_Ratio', 'Zip_Code', 'State',\n",
       "       'Employment_Length', 'Policy_Code', 'Policy_Codee'],\n",
       "      dtype='object')"
      ]
     },
     "execution_count": 7,
     "metadata": {},
     "output_type": "execute_result"
    }
   ],
   "source": [
    "df_declined=df_data_2\n",
    "df_declined.columns = [x.strip().replace(' ', '_') for x in df_declined.columns]\n",
    "df_declined.columns"
   ]
  },
  {
   "cell_type": "code",
   "execution_count": 8,
   "metadata": {
    "collapsed": false
   },
   "outputs": [
    {
     "data": {
      "text/html": [
       "<div>\n",
       "<table border=\"1\" class=\"dataframe\">\n",
       "  <thead>\n",
       "    <tr style=\"text-align: right;\">\n",
       "      <th></th>\n",
       "      <th>Amount_Requested</th>\n",
       "      <th>download_timestamp</th>\n",
       "      <th>Application_Date</th>\n",
       "      <th>Loan_Title</th>\n",
       "      <th>Risk_Score</th>\n",
       "      <th>Debt-To-Income_Ratio</th>\n",
       "      <th>Zip_Code</th>\n",
       "      <th>State</th>\n",
       "      <th>Employment_Length</th>\n",
       "      <th>Policy_Code</th>\n",
       "    </tr>\n",
       "  </thead>\n",
       "  <tbody>\n",
       "    <tr>\n",
       "      <th>0</th>\n",
       "      <td>1000</td>\n",
       "      <td>2017-04-07 17:56:41</td>\n",
       "      <td>2007-05-26</td>\n",
       "      <td>Wedding Covered but No Honeymoon</td>\n",
       "      <td>693</td>\n",
       "      <td>10.00</td>\n",
       "      <td>481</td>\n",
       "      <td>NM</td>\n",
       "      <td>4</td>\n",
       "      <td>0</td>\n",
       "    </tr>\n",
       "    <tr>\n",
       "      <th>1</th>\n",
       "      <td>1000</td>\n",
       "      <td>2017-04-07 17:56:41</td>\n",
       "      <td>2007-05-26</td>\n",
       "      <td>Consolidating Debt</td>\n",
       "      <td>703</td>\n",
       "      <td>10.00</td>\n",
       "      <td>10</td>\n",
       "      <td>MA</td>\n",
       "      <td>1</td>\n",
       "      <td>0</td>\n",
       "    </tr>\n",
       "    <tr>\n",
       "      <th>2</th>\n",
       "      <td>11000</td>\n",
       "      <td>2017-04-07 17:56:41</td>\n",
       "      <td>2007-05-27</td>\n",
       "      <td>Want to consolidate my debt</td>\n",
       "      <td>715</td>\n",
       "      <td>10.00</td>\n",
       "      <td>212</td>\n",
       "      <td>MD</td>\n",
       "      <td>1</td>\n",
       "      <td>0</td>\n",
       "    </tr>\n",
       "    <tr>\n",
       "      <th>3</th>\n",
       "      <td>6000</td>\n",
       "      <td>2017-04-07 17:56:41</td>\n",
       "      <td>2007-05-27</td>\n",
       "      <td>waksman</td>\n",
       "      <td>698</td>\n",
       "      <td>38.64</td>\n",
       "      <td>17</td>\n",
       "      <td>MA</td>\n",
       "      <td>1</td>\n",
       "      <td>0</td>\n",
       "    </tr>\n",
       "    <tr>\n",
       "      <th>4</th>\n",
       "      <td>1500</td>\n",
       "      <td>2017-04-07 17:56:41</td>\n",
       "      <td>2007-05-27</td>\n",
       "      <td>mdrigo</td>\n",
       "      <td>509</td>\n",
       "      <td>9.43</td>\n",
       "      <td>209</td>\n",
       "      <td>MD</td>\n",
       "      <td>1</td>\n",
       "      <td>0</td>\n",
       "    </tr>\n",
       "  </tbody>\n",
       "</table>\n",
       "</div>"
      ],
      "text/plain": [
       "   Amount_Requested   download_timestamp Application_Date  \\\n",
       "0              1000  2017-04-07 17:56:41       2007-05-26   \n",
       "1              1000  2017-04-07 17:56:41       2007-05-26   \n",
       "2             11000  2017-04-07 17:56:41       2007-05-27   \n",
       "3              6000  2017-04-07 17:56:41       2007-05-27   \n",
       "4              1500  2017-04-07 17:56:41       2007-05-27   \n",
       "\n",
       "                         Loan_Title  Risk_Score  Debt-To-Income_Ratio  \\\n",
       "0  Wedding Covered but No Honeymoon         693                 10.00   \n",
       "1                Consolidating Debt         703                 10.00   \n",
       "2       Want to consolidate my debt         715                 10.00   \n",
       "3                           waksman         698                 38.64   \n",
       "4                            mdrigo         509                  9.43   \n",
       "\n",
       "   Zip_Code State  Employment_Length  Policy_Code  \n",
       "0       481    NM                  4            0  \n",
       "1        10    MA                  1            0  \n",
       "2       212    MD                  1            0  \n",
       "3        17    MA                  1            0  \n",
       "4       209    MD                  1            0  "
      ]
     },
     "execution_count": 8,
     "metadata": {},
     "output_type": "execute_result"
    }
   ],
   "source": [
    "drop_list = ['Policy_Codee']\n",
    "df_declined = df_declined.drop(drop_list,axis=1)\n",
    "df_declined.head()"
   ]
  },
  {
   "cell_type": "code",
   "execution_count": 9,
   "metadata": {
    "collapsed": false
   },
   "outputs": [
    {
     "data": {
      "text/html": [
       "<div>\n",
       "<table border=\"1\" class=\"dataframe\">\n",
       "  <thead>\n",
       "    <tr style=\"text-align: right;\">\n",
       "      <th></th>\n",
       "      <th>Amount_Requested</th>\n",
       "      <th>Application_Date</th>\n",
       "      <th>Loan_Title</th>\n",
       "      <th>Risk_Score</th>\n",
       "      <th>Debt-To-Income_Ratio</th>\n",
       "      <th>Zip_Code</th>\n",
       "      <th>State</th>\n",
       "      <th>Employment_Length</th>\n",
       "      <th>Policy_Code</th>\n",
       "    </tr>\n",
       "  </thead>\n",
       "  <tbody>\n",
       "    <tr>\n",
       "      <th>0</th>\n",
       "      <td>1000</td>\n",
       "      <td>2007-05-26</td>\n",
       "      <td>Wedding Covered but No Honeymoon</td>\n",
       "      <td>693</td>\n",
       "      <td>10.00</td>\n",
       "      <td>481</td>\n",
       "      <td>NM</td>\n",
       "      <td>4</td>\n",
       "      <td>0</td>\n",
       "    </tr>\n",
       "    <tr>\n",
       "      <th>1</th>\n",
       "      <td>1000</td>\n",
       "      <td>2007-05-26</td>\n",
       "      <td>Consolidating Debt</td>\n",
       "      <td>703</td>\n",
       "      <td>10.00</td>\n",
       "      <td>10</td>\n",
       "      <td>MA</td>\n",
       "      <td>1</td>\n",
       "      <td>0</td>\n",
       "    </tr>\n",
       "    <tr>\n",
       "      <th>2</th>\n",
       "      <td>11000</td>\n",
       "      <td>2007-05-27</td>\n",
       "      <td>Want to consolidate my debt</td>\n",
       "      <td>715</td>\n",
       "      <td>10.00</td>\n",
       "      <td>212</td>\n",
       "      <td>MD</td>\n",
       "      <td>1</td>\n",
       "      <td>0</td>\n",
       "    </tr>\n",
       "    <tr>\n",
       "      <th>3</th>\n",
       "      <td>6000</td>\n",
       "      <td>2007-05-27</td>\n",
       "      <td>waksman</td>\n",
       "      <td>698</td>\n",
       "      <td>38.64</td>\n",
       "      <td>17</td>\n",
       "      <td>MA</td>\n",
       "      <td>1</td>\n",
       "      <td>0</td>\n",
       "    </tr>\n",
       "    <tr>\n",
       "      <th>4</th>\n",
       "      <td>1500</td>\n",
       "      <td>2007-05-27</td>\n",
       "      <td>mdrigo</td>\n",
       "      <td>509</td>\n",
       "      <td>9.43</td>\n",
       "      <td>209</td>\n",
       "      <td>MD</td>\n",
       "      <td>1</td>\n",
       "      <td>0</td>\n",
       "    </tr>\n",
       "  </tbody>\n",
       "</table>\n",
       "</div>"
      ],
      "text/plain": [
       "   Amount_Requested Application_Date                        Loan_Title  \\\n",
       "0              1000       2007-05-26  Wedding Covered but No Honeymoon   \n",
       "1              1000       2007-05-26                Consolidating Debt   \n",
       "2             11000       2007-05-27       Want to consolidate my debt   \n",
       "3              6000       2007-05-27                           waksman   \n",
       "4              1500       2007-05-27                            mdrigo   \n",
       "\n",
       "   Risk_Score  Debt-To-Income_Ratio  Zip_Code State  Employment_Length  \\\n",
       "0         693                 10.00       481    NM                  4   \n",
       "1         703                 10.00        10    MA                  1   \n",
       "2         715                 10.00       212    MD                  1   \n",
       "3         698                 38.64        17    MA                  1   \n",
       "4         509                  9.43       209    MD                  1   \n",
       "\n",
       "   Policy_Code  \n",
       "0            0  \n",
       "1            0  \n",
       "2            0  \n",
       "3            0  \n",
       "4            0  "
      ]
     },
     "execution_count": 9,
     "metadata": {},
     "output_type": "execute_result"
    }
   ],
   "source": [
    "drop_list = ['download_timestamp']\n",
    "df_declined = df_declined.drop(drop_list,axis=1)\n",
    "df_declined.head()"
   ]
  },
  {
   "cell_type": "code",
   "execution_count": 10,
   "metadata": {
    "collapsed": true
   },
   "outputs": [],
   "source": [
    "df_declined['accept_reject_loan']=1"
   ]
  },
  {
   "cell_type": "code",
   "execution_count": 11,
   "metadata": {
    "collapsed": false
   },
   "outputs": [
    {
     "data": {
      "text/html": [
       "<div>\n",
       "<table border=\"1\" class=\"dataframe\">\n",
       "  <thead>\n",
       "    <tr style=\"text-align: right;\">\n",
       "      <th></th>\n",
       "      <th>Amount_Requested</th>\n",
       "      <th>Application_Date</th>\n",
       "      <th>Loan_Title</th>\n",
       "      <th>Risk_Score</th>\n",
       "      <th>Debt-To-Income_Ratio</th>\n",
       "      <th>Zip_Code</th>\n",
       "      <th>State</th>\n",
       "      <th>Employment_Length</th>\n",
       "      <th>Policy_Code</th>\n",
       "      <th>accept_reject_loan</th>\n",
       "    </tr>\n",
       "  </thead>\n",
       "  <tbody>\n",
       "    <tr>\n",
       "      <th>0</th>\n",
       "      <td>1000</td>\n",
       "      <td>2007-05-26</td>\n",
       "      <td>Wedding Covered but No Honeymoon</td>\n",
       "      <td>693</td>\n",
       "      <td>10.00</td>\n",
       "      <td>481</td>\n",
       "      <td>NM</td>\n",
       "      <td>4</td>\n",
       "      <td>0</td>\n",
       "      <td>1</td>\n",
       "    </tr>\n",
       "    <tr>\n",
       "      <th>1</th>\n",
       "      <td>1000</td>\n",
       "      <td>2007-05-26</td>\n",
       "      <td>Consolidating Debt</td>\n",
       "      <td>703</td>\n",
       "      <td>10.00</td>\n",
       "      <td>10</td>\n",
       "      <td>MA</td>\n",
       "      <td>1</td>\n",
       "      <td>0</td>\n",
       "      <td>1</td>\n",
       "    </tr>\n",
       "    <tr>\n",
       "      <th>2</th>\n",
       "      <td>11000</td>\n",
       "      <td>2007-05-27</td>\n",
       "      <td>Want to consolidate my debt</td>\n",
       "      <td>715</td>\n",
       "      <td>10.00</td>\n",
       "      <td>212</td>\n",
       "      <td>MD</td>\n",
       "      <td>1</td>\n",
       "      <td>0</td>\n",
       "      <td>1</td>\n",
       "    </tr>\n",
       "    <tr>\n",
       "      <th>3</th>\n",
       "      <td>6000</td>\n",
       "      <td>2007-05-27</td>\n",
       "      <td>waksman</td>\n",
       "      <td>698</td>\n",
       "      <td>38.64</td>\n",
       "      <td>17</td>\n",
       "      <td>MA</td>\n",
       "      <td>1</td>\n",
       "      <td>0</td>\n",
       "      <td>1</td>\n",
       "    </tr>\n",
       "    <tr>\n",
       "      <th>4</th>\n",
       "      <td>1500</td>\n",
       "      <td>2007-05-27</td>\n",
       "      <td>mdrigo</td>\n",
       "      <td>509</td>\n",
       "      <td>9.43</td>\n",
       "      <td>209</td>\n",
       "      <td>MD</td>\n",
       "      <td>1</td>\n",
       "      <td>0</td>\n",
       "      <td>1</td>\n",
       "    </tr>\n",
       "  </tbody>\n",
       "</table>\n",
       "</div>"
      ],
      "text/plain": [
       "   Amount_Requested Application_Date                        Loan_Title  \\\n",
       "0              1000       2007-05-26  Wedding Covered but No Honeymoon   \n",
       "1              1000       2007-05-26                Consolidating Debt   \n",
       "2             11000       2007-05-27       Want to consolidate my debt   \n",
       "3              6000       2007-05-27                           waksman   \n",
       "4              1500       2007-05-27                            mdrigo   \n",
       "\n",
       "   Risk_Score  Debt-To-Income_Ratio  Zip_Code State  Employment_Length  \\\n",
       "0         693                 10.00       481    NM                  4   \n",
       "1         703                 10.00        10    MA                  1   \n",
       "2         715                 10.00       212    MD                  1   \n",
       "3         698                 38.64        17    MA                  1   \n",
       "4         509                  9.43       209    MD                  1   \n",
       "\n",
       "   Policy_Code  accept_reject_loan  \n",
       "0            0                   1  \n",
       "1            0                   1  \n",
       "2            0                   1  \n",
       "3            0                   1  \n",
       "4            0                   1  "
      ]
     },
     "execution_count": 11,
     "metadata": {},
     "output_type": "execute_result"
    }
   ],
   "source": [
    "df_declined.head()"
   ]
  },
  {
   "cell_type": "code",
   "execution_count": 12,
   "metadata": {
    "collapsed": false
   },
   "outputs": [
    {
     "data": {
      "text/html": [
       "<div>\n",
       "<table border=\"1\" class=\"dataframe\">\n",
       "  <thead>\n",
       "    <tr style=\"text-align: right;\">\n",
       "      <th></th>\n",
       "      <th>loan_amnt</th>\n",
       "      <th>issue_d</th>\n",
       "      <th>title</th>\n",
       "      <th>meanfico</th>\n",
       "      <th>dti</th>\n",
       "      <th>zip_code</th>\n",
       "      <th>addr_state</th>\n",
       "      <th>emp_length</th>\n",
       "      <th>policy_code</th>\n",
       "      <th>accept_reject_loan</th>\n",
       "    </tr>\n",
       "  </thead>\n",
       "  <tbody>\n",
       "    <tr>\n",
       "      <th>0</th>\n",
       "      <td>2500</td>\n",
       "      <td>Dec-2011</td>\n",
       "      <td>bike</td>\n",
       "      <td>742</td>\n",
       "      <td>1.00</td>\n",
       "      <td>309</td>\n",
       "      <td>GA</td>\n",
       "      <td>1</td>\n",
       "      <td>1</td>\n",
       "      <td>0</td>\n",
       "    </tr>\n",
       "    <tr>\n",
       "      <th>1</th>\n",
       "      <td>10000</td>\n",
       "      <td>Dec-2011</td>\n",
       "      <td>personel</td>\n",
       "      <td>692</td>\n",
       "      <td>20.00</td>\n",
       "      <td>917</td>\n",
       "      <td>CA</td>\n",
       "      <td>10</td>\n",
       "      <td>1</td>\n",
       "      <td>0</td>\n",
       "    </tr>\n",
       "    <tr>\n",
       "      <th>2</th>\n",
       "      <td>3000</td>\n",
       "      <td>Dec-2011</td>\n",
       "      <td>Personal</td>\n",
       "      <td>697</td>\n",
       "      <td>17.94</td>\n",
       "      <td>972</td>\n",
       "      <td>OR</td>\n",
       "      <td>1</td>\n",
       "      <td>1</td>\n",
       "      <td>0</td>\n",
       "    </tr>\n",
       "    <tr>\n",
       "      <th>3</th>\n",
       "      <td>7000</td>\n",
       "      <td>Dec-2011</td>\n",
       "      <td>Loan</td>\n",
       "      <td>692</td>\n",
       "      <td>23.51</td>\n",
       "      <td>280</td>\n",
       "      <td>NC</td>\n",
       "      <td>8</td>\n",
       "      <td>1</td>\n",
       "      <td>0</td>\n",
       "    </tr>\n",
       "    <tr>\n",
       "      <th>4</th>\n",
       "      <td>3000</td>\n",
       "      <td>Dec-2011</td>\n",
       "      <td>Car Downpayment</td>\n",
       "      <td>662</td>\n",
       "      <td>5.35</td>\n",
       "      <td>900</td>\n",
       "      <td>CA</td>\n",
       "      <td>9</td>\n",
       "      <td>1</td>\n",
       "      <td>0</td>\n",
       "    </tr>\n",
       "  </tbody>\n",
       "</table>\n",
       "</div>"
      ],
      "text/plain": [
       "   loan_amnt   issue_d            title  meanfico    dti  zip_code addr_state  \\\n",
       "0       2500  Dec-2011             bike       742   1.00       309         GA   \n",
       "1      10000  Dec-2011         personel       692  20.00       917         CA   \n",
       "2       3000  Dec-2011         Personal       697  17.94       972         OR   \n",
       "3       7000  Dec-2011             Loan       692  23.51       280         NC   \n",
       "4       3000  Dec-2011  Car Downpayment       662   5.35       900         CA   \n",
       "\n",
       "   emp_length  policy_code  accept_reject_loan  \n",
       "0           1            1                   0  \n",
       "1          10            1                   0  \n",
       "2           1            1                   0  \n",
       "3           8            1                   0  \n",
       "4           9            1                   0  "
      ]
     },
     "execution_count": 12,
     "metadata": {},
     "output_type": "execute_result"
    }
   ],
   "source": [
    "#columns = ['loan_amnt', 'issue_d','title','purpose','fico_range','meanfico','dti','zip_code','addr_state','emp_length','policy_code']\n",
    "columns = ['loan_amnt', 'issue_d','title','meanfico','dti','zip_code','addr_state','emp_length','policy_code','accept_reject_loan']\n",
    "df_accepted_tmp = pd.DataFrame(df, columns=columns)\n",
    "df_accepted_tmp.head()"
   ]
  },
  {
   "cell_type": "code",
   "execution_count": 13,
   "metadata": {
    "collapsed": true
   },
   "outputs": [],
   "source": [
    "df_accepted_tmp.rename(columns={'loan_amnt': 'Amount_Requested', 'issue_d': 'Application_Date','title': 'Loan_Title','meanfico': 'Risk_Score','dti': 'Debt-To-Income_Ratio','zip_code': 'Zip_Code','addr_state':'State','emp_length':'Employment_Length','policy_code':'Policy_Code'}, inplace=True)"
   ]
  },
  {
   "cell_type": "code",
   "execution_count": 14,
   "metadata": {
    "collapsed": false
   },
   "outputs": [
    {
     "data": {
      "text/html": [
       "<div>\n",
       "<table border=\"1\" class=\"dataframe\">\n",
       "  <thead>\n",
       "    <tr style=\"text-align: right;\">\n",
       "      <th></th>\n",
       "      <th>Amount_Requested</th>\n",
       "      <th>Application_Date</th>\n",
       "      <th>Loan_Title</th>\n",
       "      <th>Risk_Score</th>\n",
       "      <th>Debt-To-Income_Ratio</th>\n",
       "      <th>Zip_Code</th>\n",
       "      <th>State</th>\n",
       "      <th>Employment_Length</th>\n",
       "      <th>Policy_Code</th>\n",
       "      <th>accept_reject_loan</th>\n",
       "    </tr>\n",
       "  </thead>\n",
       "  <tbody>\n",
       "    <tr>\n",
       "      <th>0</th>\n",
       "      <td>2500</td>\n",
       "      <td>Dec-2011</td>\n",
       "      <td>bike</td>\n",
       "      <td>742</td>\n",
       "      <td>1.00</td>\n",
       "      <td>309</td>\n",
       "      <td>GA</td>\n",
       "      <td>1</td>\n",
       "      <td>1</td>\n",
       "      <td>0</td>\n",
       "    </tr>\n",
       "    <tr>\n",
       "      <th>1</th>\n",
       "      <td>10000</td>\n",
       "      <td>Dec-2011</td>\n",
       "      <td>personel</td>\n",
       "      <td>692</td>\n",
       "      <td>20.00</td>\n",
       "      <td>917</td>\n",
       "      <td>CA</td>\n",
       "      <td>10</td>\n",
       "      <td>1</td>\n",
       "      <td>0</td>\n",
       "    </tr>\n",
       "    <tr>\n",
       "      <th>2</th>\n",
       "      <td>3000</td>\n",
       "      <td>Dec-2011</td>\n",
       "      <td>Personal</td>\n",
       "      <td>697</td>\n",
       "      <td>17.94</td>\n",
       "      <td>972</td>\n",
       "      <td>OR</td>\n",
       "      <td>1</td>\n",
       "      <td>1</td>\n",
       "      <td>0</td>\n",
       "    </tr>\n",
       "    <tr>\n",
       "      <th>3</th>\n",
       "      <td>7000</td>\n",
       "      <td>Dec-2011</td>\n",
       "      <td>Loan</td>\n",
       "      <td>692</td>\n",
       "      <td>23.51</td>\n",
       "      <td>280</td>\n",
       "      <td>NC</td>\n",
       "      <td>8</td>\n",
       "      <td>1</td>\n",
       "      <td>0</td>\n",
       "    </tr>\n",
       "    <tr>\n",
       "      <th>4</th>\n",
       "      <td>3000</td>\n",
       "      <td>Dec-2011</td>\n",
       "      <td>Car Downpayment</td>\n",
       "      <td>662</td>\n",
       "      <td>5.35</td>\n",
       "      <td>900</td>\n",
       "      <td>CA</td>\n",
       "      <td>9</td>\n",
       "      <td>1</td>\n",
       "      <td>0</td>\n",
       "    </tr>\n",
       "  </tbody>\n",
       "</table>\n",
       "</div>"
      ],
      "text/plain": [
       "   Amount_Requested Application_Date       Loan_Title  Risk_Score  \\\n",
       "0              2500         Dec-2011             bike         742   \n",
       "1             10000         Dec-2011         personel         692   \n",
       "2              3000         Dec-2011         Personal         697   \n",
       "3              7000         Dec-2011             Loan         692   \n",
       "4              3000         Dec-2011  Car Downpayment         662   \n",
       "\n",
       "   Debt-To-Income_Ratio  Zip_Code State  Employment_Length  Policy_Code  \\\n",
       "0                  1.00       309    GA                  1            1   \n",
       "1                 20.00       917    CA                 10            1   \n",
       "2                 17.94       972    OR                  1            1   \n",
       "3                 23.51       280    NC                  8            1   \n",
       "4                  5.35       900    CA                  9            1   \n",
       "\n",
       "   accept_reject_loan  \n",
       "0                   0  \n",
       "1                   0  \n",
       "2                   0  \n",
       "3                   0  \n",
       "4                   0  "
      ]
     },
     "execution_count": 14,
     "metadata": {},
     "output_type": "execute_result"
    }
   ],
   "source": [
    "\n",
    "\n",
    "df_accepted_tmp.head()"
   ]
  },
  {
   "cell_type": "code",
   "execution_count": 15,
   "metadata": {
    "collapsed": false
   },
   "outputs": [],
   "source": [
    "\n",
    "df_accepted_tmp['Application_Date']=pd.to_datetime(df_accepted_tmp['Application_Date'],format ='%b-%Y')"
   ]
  },
  {
   "cell_type": "code",
   "execution_count": 16,
   "metadata": {
    "collapsed": false
   },
   "outputs": [
    {
     "data": {
      "text/plain": [
       "0         2011-12-01\n",
       "1         2011-12-01\n",
       "2         2011-12-01\n",
       "3         2011-12-01\n",
       "4         2011-12-01\n",
       "5         2011-12-01\n",
       "6         2011-12-01\n",
       "7         2011-12-01\n",
       "8         2011-12-01\n",
       "9         2011-12-01\n",
       "10        2011-12-01\n",
       "11        2011-12-01\n",
       "12        2011-12-01\n",
       "13        2011-12-01\n",
       "14        2011-12-01\n",
       "15        2011-12-01\n",
       "16        2011-12-01\n",
       "17        2011-12-01\n",
       "18        2011-12-01\n",
       "19        2011-12-01\n",
       "20        2011-12-01\n",
       "21        2011-12-01\n",
       "22        2011-12-01\n",
       "23        2011-12-01\n",
       "24        2011-12-01\n",
       "25        2011-12-01\n",
       "26        2011-12-01\n",
       "27        2011-12-01\n",
       "28        2011-12-01\n",
       "29        2011-12-01\n",
       "             ...    \n",
       "1309757   2016-10-01\n",
       "1309758   2016-10-01\n",
       "1309759   2016-10-01\n",
       "1309760   2016-10-01\n",
       "1309761   2016-10-01\n",
       "1309762   2016-10-01\n",
       "1309763   2016-10-01\n",
       "1309764   2016-10-01\n",
       "1309765   2016-10-01\n",
       "1309766   2016-10-01\n",
       "1309767   2016-10-01\n",
       "1309768   2016-10-01\n",
       "1309769   2016-10-01\n",
       "1309770   2016-10-01\n",
       "1309771   2016-10-01\n",
       "1309772   2016-10-01\n",
       "1309773   2016-10-01\n",
       "1309774   2016-10-01\n",
       "1309775   2016-10-01\n",
       "1309776   2016-10-01\n",
       "1309777   2016-10-01\n",
       "1309778   2016-10-01\n",
       "1309779   2016-10-01\n",
       "1309780   2016-10-01\n",
       "1309781   2016-10-01\n",
       "1309782   2016-10-01\n",
       "1309783   2016-10-01\n",
       "1309784   2016-10-01\n",
       "1309785   2016-10-01\n",
       "1309786   2016-10-01\n",
       "Name: Application_Date, dtype: datetime64[ns]"
      ]
     },
     "execution_count": 16,
     "metadata": {},
     "output_type": "execute_result"
    }
   ],
   "source": [
    "df_accepted_tmp['Application_Date']"
   ]
  },
  {
   "cell_type": "code",
   "execution_count": 17,
   "metadata": {
    "collapsed": false
   },
   "outputs": [
    {
     "data": {
      "text/html": [
       "<div>\n",
       "<table border=\"1\" class=\"dataframe\">\n",
       "  <thead>\n",
       "    <tr style=\"text-align: right;\">\n",
       "      <th></th>\n",
       "      <th>Amount_Requested</th>\n",
       "      <th>Application_Date</th>\n",
       "      <th>Loan_Title</th>\n",
       "      <th>Risk_Score</th>\n",
       "      <th>Debt-To-Income_Ratio</th>\n",
       "      <th>Zip_Code</th>\n",
       "      <th>State</th>\n",
       "      <th>Employment_Length</th>\n",
       "      <th>Policy_Code</th>\n",
       "      <th>accept_reject_loan</th>\n",
       "    </tr>\n",
       "  </thead>\n",
       "  <tbody>\n",
       "    <tr>\n",
       "      <th>0</th>\n",
       "      <td>2500</td>\n",
       "      <td>2011-12-01 00:00:00</td>\n",
       "      <td>bike</td>\n",
       "      <td>742</td>\n",
       "      <td>1.00</td>\n",
       "      <td>309</td>\n",
       "      <td>GA</td>\n",
       "      <td>1</td>\n",
       "      <td>1</td>\n",
       "      <td>0</td>\n",
       "    </tr>\n",
       "    <tr>\n",
       "      <th>1</th>\n",
       "      <td>10000</td>\n",
       "      <td>2011-12-01 00:00:00</td>\n",
       "      <td>personel</td>\n",
       "      <td>692</td>\n",
       "      <td>20.00</td>\n",
       "      <td>917</td>\n",
       "      <td>CA</td>\n",
       "      <td>10</td>\n",
       "      <td>1</td>\n",
       "      <td>0</td>\n",
       "    </tr>\n",
       "    <tr>\n",
       "      <th>2</th>\n",
       "      <td>3000</td>\n",
       "      <td>2011-12-01 00:00:00</td>\n",
       "      <td>Personal</td>\n",
       "      <td>697</td>\n",
       "      <td>17.94</td>\n",
       "      <td>972</td>\n",
       "      <td>OR</td>\n",
       "      <td>1</td>\n",
       "      <td>1</td>\n",
       "      <td>0</td>\n",
       "    </tr>\n",
       "    <tr>\n",
       "      <th>3</th>\n",
       "      <td>7000</td>\n",
       "      <td>2011-12-01 00:00:00</td>\n",
       "      <td>Loan</td>\n",
       "      <td>692</td>\n",
       "      <td>23.51</td>\n",
       "      <td>280</td>\n",
       "      <td>NC</td>\n",
       "      <td>8</td>\n",
       "      <td>1</td>\n",
       "      <td>0</td>\n",
       "    </tr>\n",
       "    <tr>\n",
       "      <th>4</th>\n",
       "      <td>3000</td>\n",
       "      <td>2011-12-01 00:00:00</td>\n",
       "      <td>Car Downpayment</td>\n",
       "      <td>662</td>\n",
       "      <td>5.35</td>\n",
       "      <td>900</td>\n",
       "      <td>CA</td>\n",
       "      <td>9</td>\n",
       "      <td>1</td>\n",
       "      <td>0</td>\n",
       "    </tr>\n",
       "  </tbody>\n",
       "</table>\n",
       "</div>"
      ],
      "text/plain": [
       "   Amount_Requested     Application_Date       Loan_Title  Risk_Score  \\\n",
       "0              2500  2011-12-01 00:00:00             bike         742   \n",
       "1             10000  2011-12-01 00:00:00         personel         692   \n",
       "2              3000  2011-12-01 00:00:00         Personal         697   \n",
       "3              7000  2011-12-01 00:00:00             Loan         692   \n",
       "4              3000  2011-12-01 00:00:00  Car Downpayment         662   \n",
       "\n",
       "   Debt-To-Income_Ratio  Zip_Code State  Employment_Length  Policy_Code  \\\n",
       "0                  1.00       309    GA                  1            1   \n",
       "1                 20.00       917    CA                 10            1   \n",
       "2                 17.94       972    OR                  1            1   \n",
       "3                 23.51       280    NC                  8            1   \n",
       "4                  5.35       900    CA                  9            1   \n",
       "\n",
       "   accept_reject_loan  \n",
       "0                   0  \n",
       "1                   0  \n",
       "2                   0  \n",
       "3                   0  \n",
       "4                   0  "
      ]
     },
     "execution_count": 17,
     "metadata": {},
     "output_type": "execute_result"
    }
   ],
   "source": [
    "frames = [df_accepted_tmp, df_declined]\n",
    "result = pd.concat(frames)\n",
    "result.head()"
   ]
  },
  {
   "cell_type": "code",
   "execution_count": 22,
   "metadata": {
    "collapsed": false
   },
   "outputs": [
    {
     "data": {
      "text/plain": [
       "(10981, 10)"
      ]
     },
     "execution_count": 22,
     "metadata": {},
     "output_type": "execute_result"
    }
   ],
   "source": [
    "result[result.Risk_Score>850].shape"
   ]
  },
  {
   "cell_type": "code",
   "execution_count": 26,
   "metadata": {
    "collapsed": false
   },
   "outputs": [
    {
     "data": {
      "text/plain": [
       "1    4679254\n",
       "0    1307121\n",
       "Name: accept_reject_loan, dtype: int64"
      ]
     },
     "execution_count": 26,
     "metadata": {},
     "output_type": "execute_result"
    }
   ],
   "source": [
    "result.accept_reject_loan.value_counts()"
   ]
  },
  {
   "cell_type": "code",
   "execution_count": 27,
   "metadata": {
    "collapsed": false
   },
   "outputs": [
    {
     "data": {
      "text/html": [
       "<div>\n",
       "<table border=\"1\" class=\"dataframe\">\n",
       "  <thead>\n",
       "    <tr style=\"text-align: right;\">\n",
       "      <th></th>\n",
       "      <th>Amount_Requested</th>\n",
       "      <th>Application_Date</th>\n",
       "      <th>Loan_Title</th>\n",
       "      <th>Risk_Score</th>\n",
       "      <th>Debt-To-Income_Ratio</th>\n",
       "      <th>Zip_Code</th>\n",
       "      <th>State</th>\n",
       "      <th>Employment_Length</th>\n",
       "      <th>Policy_Code</th>\n",
       "      <th>accept_reject_loan</th>\n",
       "    </tr>\n",
       "  </thead>\n",
       "  <tbody>\n",
       "    <tr>\n",
       "      <th>2535126</th>\n",
       "      <td>35000</td>\n",
       "      <td>2014-09-07</td>\n",
       "      <td>other</td>\n",
       "      <td>653</td>\n",
       "      <td>21.85</td>\n",
       "      <td>283</td>\n",
       "      <td>NC</td>\n",
       "      <td>1</td>\n",
       "      <td>0</td>\n",
       "      <td>1</td>\n",
       "    </tr>\n",
       "    <tr>\n",
       "      <th>1037019</th>\n",
       "      <td>3000</td>\n",
       "      <td>2013-07-02</td>\n",
       "      <td>moving</td>\n",
       "      <td>631</td>\n",
       "      <td>26400.00</td>\n",
       "      <td>70</td>\n",
       "      <td>NJ</td>\n",
       "      <td>1</td>\n",
       "      <td>0</td>\n",
       "      <td>1</td>\n",
       "    </tr>\n",
       "    <tr>\n",
       "      <th>4359029</th>\n",
       "      <td>5000</td>\n",
       "      <td>2016-11-14</td>\n",
       "      <td>Debt consolidation</td>\n",
       "      <td>548</td>\n",
       "      <td>92.27</td>\n",
       "      <td>358</td>\n",
       "      <td>AL</td>\n",
       "      <td>1</td>\n",
       "      <td>0</td>\n",
       "      <td>1</td>\n",
       "    </tr>\n",
       "    <tr>\n",
       "      <th>1006495</th>\n",
       "      <td>30000</td>\n",
       "      <td>2016-01-01 00:00:00</td>\n",
       "      <td>Debt consolidation</td>\n",
       "      <td>667</td>\n",
       "      <td>11.95</td>\n",
       "      <td>902</td>\n",
       "      <td>CA</td>\n",
       "      <td>9</td>\n",
       "      <td>1</td>\n",
       "      <td>0</td>\n",
       "    </tr>\n",
       "    <tr>\n",
       "      <th>268521</th>\n",
       "      <td>6500</td>\n",
       "      <td>2011-06-25</td>\n",
       "      <td>other</td>\n",
       "      <td>491</td>\n",
       "      <td>8.23</td>\n",
       "      <td>775</td>\n",
       "      <td>TX</td>\n",
       "      <td>1</td>\n",
       "      <td>0</td>\n",
       "      <td>1</td>\n",
       "    </tr>\n",
       "  </tbody>\n",
       "</table>\n",
       "</div>"
      ],
      "text/plain": [
       "         Amount_Requested     Application_Date          Loan_Title  \\\n",
       "2535126             35000           2014-09-07               other   \n",
       "1037019              3000           2013-07-02              moving   \n",
       "4359029              5000           2016-11-14  Debt consolidation   \n",
       "1006495             30000  2016-01-01 00:00:00  Debt consolidation   \n",
       "268521               6500           2011-06-25               other   \n",
       "\n",
       "         Risk_Score  Debt-To-Income_Ratio  Zip_Code State  Employment_Length  \\\n",
       "2535126         653                 21.85       283    NC                  1   \n",
       "1037019         631              26400.00        70    NJ                  1   \n",
       "4359029         548                 92.27       358    AL                  1   \n",
       "1006495         667                 11.95       902    CA                  9   \n",
       "268521          491                  8.23       775    TX                  1   \n",
       "\n",
       "         Policy_Code  accept_reject_loan  \n",
       "2535126            0                   1  \n",
       "1037019            0                   1  \n",
       "4359029            0                   1  \n",
       "1006495            1                   0  \n",
       "268521             0                   1  "
      ]
     },
     "execution_count": 27,
     "metadata": {},
     "output_type": "execute_result"
    }
   ],
   "source": [
    "from sklearn.utils import shuffle\n",
    "result = shuffle(result)\n",
    "result.head()"
   ]
  },
  {
   "cell_type": "code",
   "execution_count": 28,
   "metadata": {
    "collapsed": false
   },
   "outputs": [
    {
     "data": {
      "text/html": [
       "<div>\n",
       "<table border=\"1\" class=\"dataframe\">\n",
       "  <thead>\n",
       "    <tr style=\"text-align: right;\">\n",
       "      <th></th>\n",
       "      <th>Amount_Requested</th>\n",
       "      <th>Application_Date</th>\n",
       "      <th>Loan_Title</th>\n",
       "      <th>Risk_Score</th>\n",
       "      <th>Debt-To-Income_Ratio</th>\n",
       "      <th>Zip_Code</th>\n",
       "      <th>Employment_Length</th>\n",
       "      <th>Policy_Code</th>\n",
       "    </tr>\n",
       "  </thead>\n",
       "  <tbody>\n",
       "    <tr>\n",
       "      <th>2535126</th>\n",
       "      <td>35000</td>\n",
       "      <td>2014-09-07</td>\n",
       "      <td>other</td>\n",
       "      <td>653</td>\n",
       "      <td>21.85</td>\n",
       "      <td>283</td>\n",
       "      <td>1</td>\n",
       "      <td>0</td>\n",
       "    </tr>\n",
       "    <tr>\n",
       "      <th>1037019</th>\n",
       "      <td>3000</td>\n",
       "      <td>2013-07-02</td>\n",
       "      <td>moving</td>\n",
       "      <td>631</td>\n",
       "      <td>26400.00</td>\n",
       "      <td>70</td>\n",
       "      <td>1</td>\n",
       "      <td>0</td>\n",
       "    </tr>\n",
       "    <tr>\n",
       "      <th>4359029</th>\n",
       "      <td>5000</td>\n",
       "      <td>2016-11-14</td>\n",
       "      <td>Debt consolidation</td>\n",
       "      <td>548</td>\n",
       "      <td>92.27</td>\n",
       "      <td>358</td>\n",
       "      <td>1</td>\n",
       "      <td>0</td>\n",
       "    </tr>\n",
       "    <tr>\n",
       "      <th>1006495</th>\n",
       "      <td>30000</td>\n",
       "      <td>2016-01-01 00:00:00</td>\n",
       "      <td>Debt consolidation</td>\n",
       "      <td>667</td>\n",
       "      <td>11.95</td>\n",
       "      <td>902</td>\n",
       "      <td>9</td>\n",
       "      <td>1</td>\n",
       "    </tr>\n",
       "    <tr>\n",
       "      <th>268521</th>\n",
       "      <td>6500</td>\n",
       "      <td>2011-06-25</td>\n",
       "      <td>other</td>\n",
       "      <td>491</td>\n",
       "      <td>8.23</td>\n",
       "      <td>775</td>\n",
       "      <td>1</td>\n",
       "      <td>0</td>\n",
       "    </tr>\n",
       "  </tbody>\n",
       "</table>\n",
       "</div>"
      ],
      "text/plain": [
       "         Amount_Requested     Application_Date          Loan_Title  \\\n",
       "2535126             35000           2014-09-07               other   \n",
       "1037019              3000           2013-07-02              moving   \n",
       "4359029              5000           2016-11-14  Debt consolidation   \n",
       "1006495             30000  2016-01-01 00:00:00  Debt consolidation   \n",
       "268521               6500           2011-06-25               other   \n",
       "\n",
       "         Risk_Score  Debt-To-Income_Ratio  Zip_Code  Employment_Length  \\\n",
       "2535126         653                 21.85       283                  1   \n",
       "1037019         631              26400.00        70                  1   \n",
       "4359029         548                 92.27       358                  1   \n",
       "1006495         667                 11.95       902                  9   \n",
       "268521          491                  8.23       775                  1   \n",
       "\n",
       "         Policy_Code  \n",
       "2535126            0  \n",
       "1037019            0  \n",
       "4359029            0  \n",
       "1006495            1  \n",
       "268521             0  "
      ]
     },
     "execution_count": 28,
     "metadata": {},
     "output_type": "execute_result"
    }
   ],
   "source": [
    "columns = ['Amount_Requested', 'Application_Date','Loan_Title','Risk_Score','Debt-To-Income_Ratio','Zip_Code','Employment_Length','Policy_Code']\n",
    "X = pd.DataFrame(result, columns=columns)\n",
    "\n",
    "X.head()"
   ]
  },
  {
   "cell_type": "code",
   "execution_count": 29,
   "metadata": {
    "collapsed": false
   },
   "outputs": [
    {
     "data": {
      "text/html": [
       "<div>\n",
       "<table border=\"1\" class=\"dataframe\">\n",
       "  <thead>\n",
       "    <tr style=\"text-align: right;\">\n",
       "      <th></th>\n",
       "      <th>accept_reject_loan</th>\n",
       "    </tr>\n",
       "  </thead>\n",
       "  <tbody>\n",
       "    <tr>\n",
       "      <th>0</th>\n",
       "      <td>1</td>\n",
       "    </tr>\n",
       "    <tr>\n",
       "      <th>1</th>\n",
       "      <td>1</td>\n",
       "    </tr>\n",
       "    <tr>\n",
       "      <th>2</th>\n",
       "      <td>1</td>\n",
       "    </tr>\n",
       "    <tr>\n",
       "      <th>3</th>\n",
       "      <td>0</td>\n",
       "    </tr>\n",
       "    <tr>\n",
       "      <th>4</th>\n",
       "      <td>1</td>\n",
       "    </tr>\n",
       "  </tbody>\n",
       "</table>\n",
       "</div>"
      ],
      "text/plain": [
       "   accept_reject_loan\n",
       "0                   1\n",
       "1                   1\n",
       "2                   1\n",
       "3                   0\n",
       "4                   1"
      ]
     },
     "execution_count": 29,
     "metadata": {},
     "output_type": "execute_result"
    }
   ],
   "source": [
    "columns = ['accept_reject_loan']\n",
    "y = pd.DataFrame(result, columns=columns)\n",
    "y = y.reset_index(drop=True)\n",
    "\n",
    "y.head()"
   ]
  },
  {
   "cell_type": "code",
   "execution_count": 30,
   "metadata": {
    "collapsed": false
   },
   "outputs": [],
   "source": [
    "from sklearn.model_selection import train_test_split\n"
   ]
  },
  {
   "cell_type": "code",
   "execution_count": 31,
   "metadata": {
    "collapsed": true
   },
   "outputs": [],
   "source": [
    "\n",
    "#using label encoder to convert categorical columns into numeric values\n",
    "def dummyEncode(df):\n",
    "        columnsToEncode = list(df.select_dtypes(include=['category','object']))\n",
    "        le = LabelEncoder()\n",
    "        for feature in columnsToEncode:\n",
    "            try:\n",
    "                if feature!='Deliquency':\n",
    "                    df[feature] = le.fit_transform(df[feature])\n",
    "                else:\n",
    "                    print('Hello')\n",
    "                    df[feature] = df[feature]\n",
    "            except:\n",
    "                print('Error encoding '+feature)\n",
    "        return df"
   ]
  },
  {
   "cell_type": "code",
   "execution_count": 32,
   "metadata": {
    "collapsed": true
   },
   "outputs": [],
   "source": [
    "from io import BytesIO  \n",
    "import requests  \n",
    "import json  \n",
    "import pandas as pd\n",
    "\n",
    "def put_file(credentials, local_file_name):  \n",
    "    \"\"\"This functions returns a StringIO object containing\n",
    "    the file content from Bluemix Object Storage V3.\"\"\"\n",
    "    f = open(local_file_name,'r')\n",
    "    my_data = f.read()\n",
    "    url1 = ''.join(['https://identity.open.softlayer.com', '/v3/auth/tokens'])\n",
    "    data = {'auth': {'identity': {'methods': ['password'],\n",
    "            'password': {'user': {'name': credentials['username'],'domain': {'id': credentials['domain_id']},\n",
    "            'password': credentials['password']}}}}}\n",
    "    headers1 = {'Content-Type': 'application/json'}\n",
    "    resp1 = requests.post(url=url1, data=json.dumps(data), headers=headers1)\n",
    "    resp1_body = resp1.json()\n",
    "    for e1 in resp1_body['token']['catalog']:\n",
    "        if(e1['type']=='object-store'):\n",
    "            for e2 in e1['endpoints']:\n",
    "                        if(e2['interface']=='public'and e2['region']=='dallas'):\n",
    "                            url2 = ''.join([e2['url'],'/', credentials['container'], '/', local_file_name])\n",
    "    s_subject_token = resp1.headers['x-subject-token']\n",
    "    headers2 = {'X-Auth-Token': s_subject_token, 'accept': 'application/json'}\n",
    "    resp2 = requests.put(url=url2, headers=headers2, data = my_data )\n",
    "    print (resp2)\n",
    "\n",
    "    \n",
    "# @hidden_cell\n",
    "credentials_3 = {\n",
    "  'auth_url':'https://identity.open.softlayer.com',\n",
    "  'project':'object_storage_b6d2dc43_04df_42d5_bf42_5b6ca8af67ff',\n",
    "  'project_id':'b27f8cf040e5488eb7ceb30211ba0896',\n",
    "  'region':'dallas',\n",
    "  'user_id':'bd256d68aea5489f8b140af608a2dbe9',\n",
    "  'domain_id':'9d54dfb7f46d48d8930e2e61e1e7ddab',\n",
    "  'domain_name':'1257643',\n",
    "  'username':'member_cd9be0e4ff1994ebede81451af2f9ee17e1d0d66',\n",
    "  'password':\"\"\"IbA26vS(8zQl.2_P\"\"\",\n",
    "  'container':'LendingClub',\n",
    "  'tenantId':'undefined',\n",
    "  'filename':'Processed_Acc_Dim_Red.csv'\n",
    "}\n"
   ]
  },
  {
   "cell_type": "code",
   "execution_count": 33,
   "metadata": {
    "collapsed": false
   },
   "outputs": [
    {
     "name": "stdout",
     "output_type": "stream",
     "text": [
      "         Amount_Requested  Loan_Title  Risk_Score  Debt-To-Income_Ratio  \\\n",
      "2535126             35000      110212         653                 21.85   \n",
      "1037019              3000      107794         631              26400.00   \n",
      "4359029              5000       26625         548                 92.27   \n",
      "1006495             30000       26625         667                 11.95   \n",
      "268521               6500      110212         491                  8.23   \n",
      "\n",
      "         Zip_Code  Employment_Length  Policy_Code  accept_reject_loan  State  \n",
      "2535126       283                  1            0                   1     27  \n",
      "1037019        70                  1            0                   1     31  \n",
      "4359029       358                  1            0                   1      1  \n",
      "1006495       902                  9            1                   0      4  \n",
      "268521        775                  1            0                   1     43  \n",
      "<Response [201]>\n"
     ]
    }
   ],
   "source": [
    "columns = ['Amount_Requested','Loan_Title','Risk_Score','Debt-To-Income_Ratio','Zip_Code','Employment_Length','Policy_Code','accept_reject_loan','State']\n",
    "from sklearn.preprocessing import LabelEncoder\n",
    "X = pd.DataFrame(result, columns=columns)\n",
    "X=dummyEncode(X)\n",
    "print(X.head())\n",
    "X.to_csv('azure_classfication.csv',index=False)\n",
    "put_file(credentials_3,'azure_classfication.csv')"
   ]
  },
  {
   "cell_type": "code",
   "execution_count": null,
   "metadata": {
    "collapsed": true
   },
   "outputs": [],
   "source": [
    "y=X.accept_reject_loan\n",
    "X.drop('accept_reject_loan', axis=1, inplace=True)\n",
    "print(X.head())"
   ]
  },
  {
   "cell_type": "code",
   "execution_count": 26,
   "metadata": {
    "collapsed": true
   },
   "outputs": [],
   "source": [
    "X_train, X_test, y_train, y_test = train_test_split(X, y, test_size=0.33, random_state=42)"
   ]
  },
  {
   "cell_type": "code",
   "execution_count": 27,
   "metadata": {
    "collapsed": false
   },
   "outputs": [
    {
     "data": {
      "text/plain": [
       "(4010871,)"
      ]
     },
     "execution_count": 27,
     "metadata": {},
     "output_type": "execute_result"
    }
   ],
   "source": [
    "y_train.shape"
   ]
  },
  {
   "cell_type": "code",
   "execution_count": 28,
   "metadata": {
    "collapsed": false
   },
   "outputs": [
    {
     "data": {
      "text/plain": [
       "(4010871, 8)"
      ]
     },
     "execution_count": 28,
     "metadata": {},
     "output_type": "execute_result"
    }
   ],
   "source": [
    "X_train.shape"
   ]
  },
  {
   "cell_type": "code",
   "execution_count": 29,
   "metadata": {
    "collapsed": false
   },
   "outputs": [
    {
     "name": "stdout",
     "output_type": "stream",
     "text": [
      "Optimization terminated successfully.\n",
      "         Current function value: 0.016463\n",
      "         Iterations 14\n",
      "                           Logit Regression Results                           \n",
      "==============================================================================\n",
      "Dep. Variable:     accept_reject_loan   No. Observations:              4010871\n",
      "Model:                          Logit   Df Residuals:                  4010863\n",
      "Method:                           MLE   Df Model:                            7\n",
      "Date:                Wed, 12 Apr 2017   Pseudo R-squ.:                  0.9686\n",
      "Time:                        21:55:46   Log-Likelihood:                -66032.\n",
      "converged:                       True   LL-Null:                   -2.1038e+06\n",
      "                                        LLR p-value:                     0.000\n",
      "========================================================================================\n",
      "                           coef    std err          z      P>|z|      [95.0% Conf. Int.]\n",
      "----------------------------------------------------------------------------------------\n",
      "Amount_Requested      -1.62e-07   1.02e-06     -0.160      0.873     -2.15e-06  1.83e-06\n",
      "Loan_Title             3.54e-05   2.37e-07    149.249      0.000      3.49e-05  3.59e-05\n",
      "Risk_Score               0.0063   4.46e-05    142.169      0.000         0.006     0.006\n",
      "Debt-To-Income_Ratio     0.0002   4.66e-05      4.752      0.000         0.000     0.000\n",
      "Zip_Code                 0.0008   2.89e-05     26.356      0.000         0.001     0.001\n",
      "Employment_Length       -0.1001      0.003    -36.495      0.000        -0.106    -0.095\n",
      "Policy_Code            -10.9901      0.023   -468.204      0.000       -11.036   -10.944\n",
      "State                    0.0158      0.001     26.783      0.000         0.015     0.017\n",
      "========================================================================================\n"
     ]
    }
   ],
   "source": [
    "\n",
    "#stats model for feature extraction\n",
    "import statsmodels.api as sm\n",
    "from statsmodels.formula.api import logit, probit, poisson, ols\n",
    "logit = sm.Logit(y_train, X_train)\n",
    "affair_mod = logit.fit()\n",
    "print(affair_mod.summary())\n"
   ]
  },
  {
   "cell_type": "code",
   "execution_count": 32,
   "metadata": {
    "collapsed": false
   },
   "outputs": [
    {
     "name": "stdout",
     "output_type": "stream",
     "text": [
      "Num Features: 6\n",
      "Selected Features [False False  True  True  True  True  True  True]\n",
      "Feature Ranking:  [3 2 1 1 1 1 1 1]\n"
     ]
    }
   ],
   "source": [
    "# RFE Code to extract features\n",
    "\n",
    "from sklearn.feature_selection import RFE\n",
    "from sklearn.linear_model import LogisticRegression\n",
    "model = LogisticRegression()\n",
    "rfe = RFE(model, 6)\n",
    "fit = rfe.fit(X_train.values, y_train.values)\n",
    "print(\"Num Features:\", fit.n_features_)\n",
    "print(\"Selected Features\" , fit.support_)\n",
    "print(\"Feature Ranking: \", fit.ranking_)"
   ]
  },
  {
   "cell_type": "code",
   "execution_count": 31,
   "metadata": {
    "collapsed": false
   },
   "outputs": [
    {
     "data": {
      "text/plain": [
       "Index(['Amount_Requested', 'Loan_Title', 'Risk_Score', 'Debt-To-Income_Ratio',\n",
       "       'Zip_Code', 'Employment_Length', 'Policy_Code', 'State'],\n",
       "      dtype='object')"
      ]
     },
     "execution_count": 31,
     "metadata": {},
     "output_type": "execute_result"
    }
   ],
   "source": [
    "X.columns"
   ]
  },
  {
   "cell_type": "code",
   "execution_count": 46,
   "metadata": {
    "collapsed": false
   },
   "outputs": [],
   "source": [
    "import matplotlib.pyplot as plt\n",
    "import numpy as np\n",
    "from sklearn.linear_model import LinearRegression\n",
    "from sklearn.linear_model import LogisticRegression\n",
    "import pandas as pd\n",
    "import statsmodels.formula.api as smf\n",
    "from sklearn.preprocessing import LabelEncoder\n",
    "from sklearn.preprocessing import StandardScaler\n",
    "from sklearn.neural_network import MLPClassifier\n",
    "from sklearn.neighbors import KNeighborsClassifier\n",
    "from sklearn.cross_validation import train_test_split, KFold, StratifiedShuffleSplit,StratifiedKFold\n",
    "from sklearn.ensemble import RandomForestClassifier\n",
    "from sklearn.svm import SVC\n",
    "from sklearn import metrics\n",
    "from ggplot import *\n",
    "from sklearn.metrics import confusion_matrix\n",
    "from sklearn.metrics import roc_curve\n",
    "from sklearn.metrics import accuracy_score\n",
    "import matplotlib.pyplot as plt\n",
    "%matplotlib inline\n",
    "from sklearn.feature_selection import RFE\n",
    "from sklearn.linear_model import LogisticRegression\n",
    "\n",
    "import warnings\n",
    "warnings.filterwarnings('ignore')\n",
    "\n",
    "\n",
    "def calculate_roc_curve(Y_test, y_pred, pos_label):\n",
    "    \n",
    "    fpr, tpr, _ = roc_curve(Y_test, preds)\n",
    "    #Plot ROC curve\n",
    "    plt.figure()\n",
    "    plt.plot(fpr, tpr, label='ROC curve')\n",
    "    plt.plot([0, 1], [0, 1], 'k--')\n",
    "    plt.xlim([0.0, 1.0])\n",
    "    plt.ylim([0.0, 1.05])\n",
    "    plt.xlabel('1-Specificity')\n",
    "    plt.ylabel('Sensitivity')\n",
    "    plt.title('ROC curve')\n",
    "    plt.legend(loc=\"lower right\")\n",
    "    plt.show()\n",
    "\n",
    "\n",
    "def calculate_confusion_matrix(y_true, y_pred):\n",
    "    \n",
    "    cm=confusion_matrix(y_true, y_pred)\n",
    "    print(cm)"
   ]
  },
  {
   "cell_type": "code",
   "execution_count": 52,
   "metadata": {
    "collapsed": false
   },
   "outputs": [
    {
     "name": "stdout",
     "output_type": "stream",
     "text": [
      "         Amount_Requested  Loan_Title  Risk_Score  Debt-To-Income_Ratio  \\\n",
      "2520862             20000       97387         670                 40.62   \n",
      "4394038              9000       26625         691                 24.01   \n",
      "721640              25525       21749         697                 28.45   \n",
      "2346262              2000      107794         633                  7.16   \n",
      "4195901              5000       26625         593                 31.81   \n",
      "\n",
      "         Zip_Code  Employment_Length  Policy_Code  accept_reject_loan  State  \n",
      "2520862       241                  1            0                   1     45  \n",
      "4394038       445                  1            0                   1     35  \n",
      "721640        952                 10            1                   0      4  \n",
      "2346262       940                  1            0                   1      4  \n",
      "4195901       863                  1            0                   1      3  \n",
      "         Amount_Requested  Loan_Title  Risk_Score  Debt-To-Income_Ratio  \\\n",
      "2520862             20000       97387         670                 40.62   \n",
      "4394038              9000       26625         691                 24.01   \n",
      "721640              25525       21749         697                 28.45   \n",
      "2346262              2000      107794         633                  7.16   \n",
      "4195901              5000       26625         593                 31.81   \n",
      "\n",
      "         Zip_Code  Employment_Length  Policy_Code  State  \n",
      "2520862       241                  1            0     45  \n",
      "4394038       445                  1            0     35  \n",
      "721640        952                 10            1      4  \n",
      "2346262       940                  1            0      4  \n",
      "4195901       863                  1            0      3  \n"
     ]
    }
   ],
   "source": [
    "columns = ['Amount_Requested','Loan_Title','Risk_Score','Debt-To-Income_Ratio','Zip_Code','Employment_Length','Policy_Code','accept_reject_loan','State']\n",
    "from sklearn.preprocessing import LabelEncoder\n",
    "X = pd.DataFrame(result, columns=columns)\n",
    "X=dummyEncode(X)\n",
    "print(X.head())\n"
   ]
  },
  {
   "cell_type": "code",
   "execution_count": null,
   "metadata": {
    "collapsed": true
   },
   "outputs": [],
   "source": [
    "y=X.accept_reject_loan\n",
    "X.drop('accept_reject_loan', axis=1, inplace=True)\n",
    "print(X.head())\n",
    "X_train, X_test, y_train, y_test = train_test_split(X, y, test_size=0.33, random_state=42)"
   ]
  },
  {
   "cell_type": "code",
   "execution_count": 53,
   "metadata": {
    "collapsed": false
   },
   "outputs": [
    {
     "name": "stdout",
     "output_type": "stream",
     "text": [
      "Intercept is  [ 0.00147645]\n",
      "Coefficient is  [[  1.60727266e-05   5.27455076e-05  -4.03385081e-03   2.67542622e-02\n",
      "    3.50688441e-04  -7.29892899e-02  -2.37740683e-02   5.51218653e-03]]\n"
     ]
    },
    {
     "data": {
      "image/png": "[encoded data removed]",
      "text/plain": [
       "<matplotlib.figure.Figure at 0x7fcc697ce5c0>"
      ]
     },
     "metadata": {},
     "output_type": "display_data"
    },
    {
     "name": "stdout",
     "output_type": "stream",
     "text": [
      "[[ 344582   87657]\n",
      " [ 156627 1386638]]\n",
      "0.876343454632\n"
     ]
    }
   ],
   "source": [
    "    #logistic regression\n",
    "    log_reg = LogisticRegression()\n",
    "    log_reg.fit(X_train, y_train)\n",
    "    print (\"Intercept is \",log_reg.intercept_)\n",
    "    print(\"Coefficient is \",log_reg.coef_)\n",
    "    y_pred=log_reg.predict(X_test)\n",
    "\n",
    "    #calculate ROC curve\n",
    "    preds = log_reg.predict_proba(X_test)[:,1]\n",
    "    calculate_roc_curve(y_test, preds,2)\n",
    "\n",
    "    #calculate Confusion Matrix\n",
    "    calculate_confusion_matrix(y_test, y_pred)\n",
    "\n",
    "    \n",
    "    print(accuracy_score(y_test, y_pred))"
   ]
  },
  {
   "cell_type": "code",
   "execution_count": null,
   "metadata": {
    "collapsed": true
   },
   "outputs": [],
   "source": [
    "    #neural network\n",
    "    scaler = StandardScaler()\n",
    "    # Fit only to the training data\n",
    "    scaler.fit(X_train)\n",
    "    X_train = scaler.transform(X_train)\n",
    "    X_test = scaler.transform(X_test)\n",
    "\n",
    "    neural_network_class=MLPClassifier(hidden_layer_sizes=(20,10,20))\n",
    "    neural_network_class.fit(X_train,y_train)\n",
    "    predictions = neural_network_class.predict(X_test)\n",
    "    y_pred=predictions\n",
    "\n",
    "    #calculate ROC curve\n",
    "    preds = neural_network_class.predict_proba(X_test)[:,1]\n",
    "    calculate_roc_curve(Y_test, preds,2)\n",
    "     #calculate Confusion Matrix\n",
    "    calculate_confusion_matrix(y_test, y_pred)\n",
    "    \n",
    "    print(accuracy_score(y_test, y_pred))"
   ]
  },
  {
   "cell_type": "code",
   "execution_count": 54,
   "metadata": {
    "collapsed": false
   },
   "outputs": [
    {
     "data": {
      "image/png": "[encoded data removed]",
      "text/plain": [
       "<matplotlib.figure.Figure at 0x7fcc69742710>"
      ]
     },
     "metadata": {},
     "output_type": "display_data"
    },
    {
     "name": "stdout",
     "output_type": "stream",
     "text": [
      "[[ 432230       9]\n",
      " [    707 1542558]]\n",
      "0.999637560845\n"
     ]
    }
   ],
   "source": [
    "    #Random Forest\n",
    "    rf = RandomForestClassifier(n_jobs=2)\n",
    "    rf.fit(X_train, y_train)\n",
    "    preds = rf.predict_proba(X_test)[:,1]\n",
    "    y_pred=rf.predict(X_test)\n",
    "    #calculate ROC curve\n",
    "    calculate_roc_curve(y_test, y_pred,2) \n",
    "     #calculate Confusion Matrix\n",
    "\n",
    "    calculate_confusion_matrix(y_test, y_pred)\n",
    "    print(accuracy_score(y_test, y_pred))"
   ]
  },
  {
   "cell_type": "code",
   "execution_count": null,
   "metadata": {
    "collapsed": true
   },
   "outputs": [],
   "source": [
    "columns = ['Risk_Score','Debt-To-Income_Ratio','Employment_Length','Policy_Code','accept_reject_loan','State']\n",
    "from sklearn.preprocessing import LabelEncoder\n",
    "X = pd.DataFrame(result, columns=columns)\n",
    "X=dummyEncode(X)\n",
    "print(X.head())\n",
    "y=X.accept_reject_loan\n",
    "X.drop('accept_reject_loan', axis=1, inplace=True)\n",
    "print(X.head())\n",
    "X_train, X_test, y_train, y_test = train_test_split(X, y, test_size=0.33, random_state=42)"
   ]
  },
  {
   "cell_type": "code",
   "execution_count": null,
   "metadata": {
    "collapsed": true
   },
   "outputs": [],
   "source": [
    "    #logistic regression\n",
    "    log_reg = LogisticRegression()\n",
    "    log_reg.fit(X_train, y_train)\n",
    "    print (\"Intercept is \",log_reg.intercept_)\n",
    "    print(\"Coefficient is \",log_reg.coef_)\n",
    "    y_pred=log_reg.predict(X_test)\n",
    "\n",
    "    #calculate ROC curve\n",
    "    preds = log_reg.predict_proba(X_test)[:,1]\n",
    "    calculate_roc_curve(y_test, preds,2)\n",
    "\n",
    "    #calculate Confusion Matrix\n",
    "    calculate_confusion_matrix(y_test, y_pred)\n",
    "\n",
    "    \n",
    "    print(accuracy_score(y_test, y_pred))"
   ]
  }
 ],
 "metadata": {
  "kernelspec": {
   "display_name": "Python 3.5 (Experimental) with Spark 2.0",
   "language": "python",
   "name": "python3-spark20"
  },
  "language_info": {
   "codemirror_mode": {
    "name": "ipython",
    "version": 3
   },
   "file_extension": ".py",
   "mimetype": "text/x-python",
   "name": "python",
   "nbconvert_exporter": "python",
   "pygments_lexer": "ipython3",
   "version": "3.5.2"
  }
 },
 "nbformat": 4,
 "nbformat_minor": 0
}