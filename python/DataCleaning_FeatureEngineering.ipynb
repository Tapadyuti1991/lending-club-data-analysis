{
 "cells": [
  {
   "cell_type": "code",
   "execution_count": 1,
   "metadata": {
    "collapsed": true
   },
   "outputs": [],
   "source": [
    "import numpy as np\n",
    "import pandas as pd\n",
    "#pip install seaborn \n",
    "import seaborn as sns\n",
    "%matplotlib inline\n",
    "import math\n",
    "\n",
    "from datetime import datetime"
   ]
  },
  {
   "cell_type": "code",
   "execution_count": 2,
   "metadata": {
    "collapsed": false
   },
   "outputs": [
    {
     "name": "stdout",
     "output_type": "stream",
     "text": [
      "Start downloading data\n"
     ]
    },
    {
     "name": "stderr",
     "output_type": "stream",
     "text": [
      "C:\\Users\\Vasanti\\Anaconda3\\lib\\site-packages\\IPython\\core\\interactiveshell.py:2717: DtypeWarning: Columns (0,49) have mixed types. Specify dtype option on import or set low_memory=False.\n",
      "  interactivity=interactivity, compiler=compiler, result=result)\n"
     ]
    },
    {
     "name": "stdout",
     "output_type": "stream",
     "text": [
      "object\n",
      "(33041, 64)\n"
     ]
    }
   ],
   "source": [
    "print(\"Start downloading data\")\n",
    "\n",
    "\n",
    "\n",
    "df = pd.read_csv(\"Data/LoanStats3a_securev1.csv\",skiprows=1)\n",
    "#df = pd.read_csv(\"Data/CombinedCSV_just_plain_combined.csv\",skiprows=1)\n",
    "\n",
    "#if more than 50% values in an observation is NAN drop that observation\n",
    "half_count = len(df.columns) / 2\n",
    "df=df.dropna(axis='columns', how='all')\n",
    "df = df.dropna(thresh=half_count)\n",
    "\n",
    "\n",
    "# #df['earliest_cr_line']=pd.to_datetime(df.earliest_cr_line)\n",
    "\n",
    "# issue_d_todate = pd.to_datetime(df.issue_d)# (df['issue_d'].apply(lambda x: x.strftime('%Y-%m-%d')))\n",
    "# df.issue_d = pd.Series(df.issue_d).str.replace('-2014', '')\n",
    "# # We need sort_index() or else we won't get a sequential timedate order.\n",
    "# issue_d_todate.value_counts().sort_index().plot(kind='bar')\n",
    "# print(pd.to_datetime(df['issue_d_todate']).head(3))\n",
    "\n",
    "loc=df.columns.get_loc('earliest_cr_line')\n",
    "df.insert(loc+1,\"earliest_cr_line_year\", 0)\n",
    "loc2=df.columns.get_loc('last_credit_pull_d')\n",
    "df.insert(loc2+1,\"last_credit_pull_d_year\", 0)\n",
    "loc3=df.columns.get_loc('inq_last_6mths')\n",
    "df.insert(loc2+1,\"grade_based_on_inq_last_6mths\", 0)\n",
    "\n",
    "\n",
    "print(df['earliest_cr_line'].dtypes)\n",
    "print(df.shape)\n"
   ]
  },
  {
   "cell_type": "code",
   "execution_count": 3,
   "metadata": {
    "collapsed": false
   },
   "outputs": [
    {
     "name": "stdout",
     "output_type": "stream",
     "text": [
      "Clean and Analyse the slice of data column 1-7\n"
     ]
    },
    {
     "data": {
      "text/html": [
       "<div>\n",
       "<table border=\"1\" class=\"dataframe\">\n",
       "  <thead>\n",
       "    <tr style=\"text-align: right;\">\n",
       "      <th></th>\n",
       "      <th>id</th>\n",
       "      <th>member_id</th>\n",
       "      <th>loan_amnt</th>\n",
       "      <th>funded_amnt</th>\n",
       "      <th>funded_amnt_inv</th>\n",
       "      <th>term</th>\n",
       "      <th>int_rate</th>\n",
       "    </tr>\n",
       "  </thead>\n",
       "  <tbody>\n",
       "    <tr>\n",
       "      <th>1</th>\n",
       "      <td>1077430</td>\n",
       "      <td>1314167.0</td>\n",
       "      <td>2500.0</td>\n",
       "      <td>2500.0</td>\n",
       "      <td>2500.0</td>\n",
       "      <td>60 months</td>\n",
       "      <td>15.27%</td>\n",
       "    </tr>\n",
       "    <tr>\n",
       "      <th>3</th>\n",
       "      <td>1076863</td>\n",
       "      <td>1277178.0</td>\n",
       "      <td>10000.0</td>\n",
       "      <td>10000.0</td>\n",
       "      <td>10000.0</td>\n",
       "      <td>36 months</td>\n",
       "      <td>13.49%</td>\n",
       "    </tr>\n",
       "    <tr>\n",
       "      <th>4</th>\n",
       "      <td>1075358</td>\n",
       "      <td>1311748.0</td>\n",
       "      <td>3000.0</td>\n",
       "      <td>3000.0</td>\n",
       "      <td>3000.0</td>\n",
       "      <td>60 months</td>\n",
       "      <td>12.69%</td>\n",
       "    </tr>\n",
       "  </tbody>\n",
       "</table>\n",
       "</div>"
      ],
      "text/plain": [
       "        id  member_id  loan_amnt  funded_amnt  funded_amnt_inv        term  \\\n",
       "1  1077430  1314167.0     2500.0       2500.0           2500.0   60 months   \n",
       "3  1076863  1277178.0    10000.0      10000.0          10000.0   36 months   \n",
       "4  1075358  1311748.0     3000.0       3000.0           3000.0   60 months   \n",
       "\n",
       "  int_rate  \n",
       "1   15.27%  \n",
       "3   13.49%  \n",
       "4   12.69%  "
      ]
     },
     "execution_count": 3,
     "metadata": {},
     "output_type": "execute_result"
    }
   ],
   "source": [
    "print(\"Clean and Analyse the slice of data column 1-7\")\n",
    "df.ix[:5,:7]"
   ]
  },
  {
   "cell_type": "code",
   "execution_count": 4,
   "metadata": {
    "collapsed": true
   },
   "outputs": [],
   "source": [
    "# drop the record if value is NaN and convert them in suitable types\n",
    "df.id=df.id.dropna()\n",
    "df.id=df.id.astype(int)\n",
    "df.member_id=df.member_id.dropna()\n",
    "df.member_id=df.member_id.astype(int)\n",
    "df.loan_amnt=df.loan_amnt.dropna()\n",
    "df.loan_amnt=df.loan_amnt.astype(int)\n",
    "df.funded_amnt=df.funded_amnt.dropna()\n",
    "df.funded_amnt=df.funded_amnt.astype(int)\n",
    "df.funded_amnt_inv=df.funded_amnt_inv.dropna()\n",
    "df.funded_amnt_inv=df.funded_amnt_inv.astype(int)\n",
    "\n",
    "#term was loaded as an object data type instead of int due to the ' months' character. Let's strip that out and convert the column type.\n",
    "df.term=pd.Series(df.term).str.replace(' months', '')\n",
    "\n",
    "#replace missing values for Term with max value\n",
    "df.term=df.term.fillna(int(df['term'].value_counts().idxmax()))\n",
    "\n",
    "#int_rate was loaded as an object data type instead of float due to the '%' character. Let's strip that out and convert the column type.\n",
    "df.int_rate = pd.Series(df.int_rate).str.replace('%', '').astype(float)\n",
    "\n",
    "#replace missing values for Interest Rate with mean value\n",
    "df.int_rate=df.int_rate.fillna(float(df.int_rate.mean()))\n"
   ]
  },
  {
   "cell_type": "code",
   "execution_count": 5,
   "metadata": {
    "collapsed": false
   },
   "outputs": [
    {
     "data": {
      "text/html": [
       "<div>\n",
       "<table border=\"1\" class=\"dataframe\">\n",
       "  <thead>\n",
       "    <tr style=\"text-align: right;\">\n",
       "      <th></th>\n",
       "      <th>id</th>\n",
       "      <th>member_id</th>\n",
       "      <th>loan_amnt</th>\n",
       "      <th>funded_amnt</th>\n",
       "      <th>funded_amnt_inv</th>\n",
       "      <th>term</th>\n",
       "      <th>int_rate</th>\n",
       "    </tr>\n",
       "  </thead>\n",
       "  <tbody>\n",
       "    <tr>\n",
       "      <th>1</th>\n",
       "      <td>1077430</td>\n",
       "      <td>1314167</td>\n",
       "      <td>2500</td>\n",
       "      <td>2500</td>\n",
       "      <td>2500</td>\n",
       "      <td>60</td>\n",
       "      <td>15.27</td>\n",
       "    </tr>\n",
       "    <tr>\n",
       "      <th>3</th>\n",
       "      <td>1076863</td>\n",
       "      <td>1277178</td>\n",
       "      <td>10000</td>\n",
       "      <td>10000</td>\n",
       "      <td>10000</td>\n",
       "      <td>36</td>\n",
       "      <td>13.49</td>\n",
       "    </tr>\n",
       "    <tr>\n",
       "      <th>4</th>\n",
       "      <td>1075358</td>\n",
       "      <td>1311748</td>\n",
       "      <td>3000</td>\n",
       "      <td>3000</td>\n",
       "      <td>3000</td>\n",
       "      <td>60</td>\n",
       "      <td>12.69</td>\n",
       "    </tr>\n",
       "  </tbody>\n",
       "</table>\n",
       "</div>"
      ],
      "text/plain": [
       "        id  member_id  loan_amnt  funded_amnt  funded_amnt_inv term  int_rate\n",
       "1  1077430    1314167       2500         2500             2500   60     15.27\n",
       "3  1076863    1277178      10000        10000            10000   36     13.49\n",
       "4  1075358    1311748       3000         3000             3000   60     12.69"
      ]
     },
     "execution_count": 5,
     "metadata": {},
     "output_type": "execute_result"
    }
   ],
   "source": [
    "df.ix[:5,:7]"
   ]
  },
  {
   "cell_type": "code",
   "execution_count": 6,
   "metadata": {
    "collapsed": false
   },
   "outputs": [
    {
     "name": "stdout",
     "output_type": "stream",
     "text": [
      "Clean and Analyse the slice of data column 8-15\n"
     ]
    },
    {
     "data": {
      "text/html": [
       "<div>\n",
       "<table border=\"1\" class=\"dataframe\">\n",
       "  <thead>\n",
       "    <tr style=\"text-align: right;\">\n",
       "      <th></th>\n",
       "      <th>grade</th>\n",
       "      <th>sub_grade</th>\n",
       "      <th>emp_title</th>\n",
       "      <th>emp_length</th>\n",
       "      <th>home_ownership</th>\n",
       "      <th>annual_inc</th>\n",
       "      <th>verification_status</th>\n",
       "    </tr>\n",
       "  </thead>\n",
       "  <tbody>\n",
       "    <tr>\n",
       "      <th>1</th>\n",
       "      <td>C</td>\n",
       "      <td>C4</td>\n",
       "      <td>Ryder</td>\n",
       "      <td>&lt; 1 year</td>\n",
       "      <td>RENT</td>\n",
       "      <td>30000.0</td>\n",
       "      <td>Source Verified</td>\n",
       "    </tr>\n",
       "    <tr>\n",
       "      <th>3</th>\n",
       "      <td>C</td>\n",
       "      <td>C1</td>\n",
       "      <td>AIR RESOURCES BOARD</td>\n",
       "      <td>10+ years</td>\n",
       "      <td>RENT</td>\n",
       "      <td>49200.0</td>\n",
       "      <td>Source Verified</td>\n",
       "    </tr>\n",
       "    <tr>\n",
       "      <th>4</th>\n",
       "      <td>B</td>\n",
       "      <td>B5</td>\n",
       "      <td>University Medical Group</td>\n",
       "      <td>1 year</td>\n",
       "      <td>RENT</td>\n",
       "      <td>80000.0</td>\n",
       "      <td>Source Verified</td>\n",
       "    </tr>\n",
       "  </tbody>\n",
       "</table>\n",
       "</div>"
      ],
      "text/plain": [
       "  grade sub_grade                 emp_title emp_length home_ownership  \\\n",
       "1     C        C4                     Ryder   < 1 year           RENT   \n",
       "3     C        C1       AIR RESOURCES BOARD  10+ years           RENT   \n",
       "4     B        B5  University Medical Group     1 year           RENT   \n",
       "\n",
       "   annual_inc verification_status  \n",
       "1     30000.0     Source Verified  \n",
       "3     49200.0     Source Verified  \n",
       "4     80000.0     Source Verified  "
      ]
     },
     "execution_count": 6,
     "metadata": {},
     "output_type": "execute_result"
    }
   ],
   "source": [
    "print(\"Clean and Analyse the slice of data column 8-15\")\n",
    "df.ix[:5,8:15]"
   ]
  },
  {
   "cell_type": "code",
   "execution_count": 7,
   "metadata": {
    "collapsed": true
   },
   "outputs": [],
   "source": [
    "#replace missing values for grade, sub_grade with max value\n",
    "df.grade=df.grade.fillna(int(df['term'].value_counts().idxmax()))\n",
    "df.sub_grade=df.sub_grade.fillna(int(df['term'].value_counts().idxmax()))\n",
    "#replace missing values for emp_title with Not available\n",
    "df.emp_title=df.emp_title.fillna(\"Not available\")\n",
    "\n",
    "#replacing missing values with 0\n",
    "df.emp_length.replace('n/a', np.nan,inplace=True)\n",
    "df.emp_length.fillna(value=0,inplace=True)\n",
    "\n",
    "#convert categorical value into numerical value\n",
    "df['emp_length'].replace(to_replace='[^0-9]+', value='', inplace=True, regex=True)\n",
    "df['emp_length'] = df['emp_length'].astype(int)\n",
    "\n",
    "#replace missing values for home_ownership with max value\n",
    "df.home_ownership=df.home_ownership.fillna(\"OTHER\")\n",
    "\n",
    "# drop the record if the annual_inc value is missing \n",
    "df.annual_inc=df.annual_inc.dropna()\n",
    "df.annual_inc=df.annual_inc.astype(int)\n"
   ]
  },
  {
   "cell_type": "code",
   "execution_count": 8,
   "metadata": {
    "collapsed": false
   },
   "outputs": [
    {
     "data": {
      "text/html": [
       "<div>\n",
       "<table border=\"1\" class=\"dataframe\">\n",
       "  <thead>\n",
       "    <tr style=\"text-align: right;\">\n",
       "      <th></th>\n",
       "      <th>grade</th>\n",
       "      <th>sub_grade</th>\n",
       "      <th>emp_title</th>\n",
       "      <th>emp_length</th>\n",
       "      <th>home_ownership</th>\n",
       "      <th>annual_inc</th>\n",
       "      <th>verification_status</th>\n",
       "    </tr>\n",
       "  </thead>\n",
       "  <tbody>\n",
       "    <tr>\n",
       "      <th>1</th>\n",
       "      <td>C</td>\n",
       "      <td>C4</td>\n",
       "      <td>Ryder</td>\n",
       "      <td>1</td>\n",
       "      <td>RENT</td>\n",
       "      <td>30000</td>\n",
       "      <td>Source Verified</td>\n",
       "    </tr>\n",
       "    <tr>\n",
       "      <th>3</th>\n",
       "      <td>C</td>\n",
       "      <td>C1</td>\n",
       "      <td>AIR RESOURCES BOARD</td>\n",
       "      <td>10</td>\n",
       "      <td>RENT</td>\n",
       "      <td>49200</td>\n",
       "      <td>Source Verified</td>\n",
       "    </tr>\n",
       "    <tr>\n",
       "      <th>4</th>\n",
       "      <td>B</td>\n",
       "      <td>B5</td>\n",
       "      <td>University Medical Group</td>\n",
       "      <td>1</td>\n",
       "      <td>RENT</td>\n",
       "      <td>80000</td>\n",
       "      <td>Source Verified</td>\n",
       "    </tr>\n",
       "  </tbody>\n",
       "</table>\n",
       "</div>"
      ],
      "text/plain": [
       "  grade sub_grade                 emp_title  emp_length home_ownership  \\\n",
       "1     C        C4                     Ryder           1           RENT   \n",
       "3     C        C1       AIR RESOURCES BOARD          10           RENT   \n",
       "4     B        B5  University Medical Group           1           RENT   \n",
       "\n",
       "   annual_inc verification_status  \n",
       "1       30000     Source Verified  \n",
       "3       49200     Source Verified  \n",
       "4       80000     Source Verified  "
      ]
     },
     "execution_count": 8,
     "metadata": {},
     "output_type": "execute_result"
    }
   ],
   "source": [
    "df.ix[:5,8:15]"
   ]
  },
  {
   "cell_type": "code",
   "execution_count": 9,
   "metadata": {
    "collapsed": false
   },
   "outputs": [
    {
     "name": "stdout",
     "output_type": "stream",
     "text": [
      "Clean and Analyse the slice of data column 15-21\n"
     ]
    },
    {
     "data": {
      "text/html": [
       "<div>\n",
       "<table border=\"1\" class=\"dataframe\">\n",
       "  <thead>\n",
       "    <tr style=\"text-align: right;\">\n",
       "      <th></th>\n",
       "      <th>issue_d</th>\n",
       "      <th>loan_status</th>\n",
       "      <th>pymnt_plan</th>\n",
       "      <th>url</th>\n",
       "      <th>desc</th>\n",
       "      <th>purpose</th>\n",
       "    </tr>\n",
       "  </thead>\n",
       "  <tbody>\n",
       "    <tr>\n",
       "      <th>1</th>\n",
       "      <td>Dec-11</td>\n",
       "      <td>Charged Off</td>\n",
       "      <td>n</td>\n",
       "      <td>https://lendingclub.com/browse/loanDetail.acti...</td>\n",
       "      <td>Borrower added on 12/22/11 &gt; I plan to use t...</td>\n",
       "      <td>car</td>\n",
       "    </tr>\n",
       "    <tr>\n",
       "      <th>3</th>\n",
       "      <td>Dec-11</td>\n",
       "      <td>Fully Paid</td>\n",
       "      <td>n</td>\n",
       "      <td>https://lendingclub.com/browse/loanDetail.acti...</td>\n",
       "      <td>Borrower added on 12/21/11 &gt; to pay for prop...</td>\n",
       "      <td>other</td>\n",
       "    </tr>\n",
       "    <tr>\n",
       "      <th>4</th>\n",
       "      <td>Dec-11</td>\n",
       "      <td>Fully Paid</td>\n",
       "      <td>n</td>\n",
       "      <td>https://lendingclub.com/browse/loanDetail.acti...</td>\n",
       "      <td>Borrower added on 12/21/11 &gt; I plan on combi...</td>\n",
       "      <td>other</td>\n",
       "    </tr>\n",
       "  </tbody>\n",
       "</table>\n",
       "</div>"
      ],
      "text/plain": [
       "  issue_d  loan_status pymnt_plan  \\\n",
       "1  Dec-11  Charged Off          n   \n",
       "3  Dec-11   Fully Paid          n   \n",
       "4  Dec-11   Fully Paid          n   \n",
       "\n",
       "                                                 url  \\\n",
       "1  https://lendingclub.com/browse/loanDetail.acti...   \n",
       "3  https://lendingclub.com/browse/loanDetail.acti...   \n",
       "4  https://lendingclub.com/browse/loanDetail.acti...   \n",
       "\n",
       "                                                desc purpose  \n",
       "1    Borrower added on 12/22/11 > I plan to use t...     car  \n",
       "3    Borrower added on 12/21/11 > to pay for prop...   other  \n",
       "4    Borrower added on 12/21/11 > I plan on combi...   other  "
      ]
     },
     "execution_count": 9,
     "metadata": {},
     "output_type": "execute_result"
    }
   ],
   "source": [
    "print(\"Clean and Analyse the slice of data column 15-21\")\n",
    "df.ix[:5,15:21]"
   ]
  },
  {
   "cell_type": "code",
   "execution_count": 10,
   "metadata": {
    "collapsed": false
   },
   "outputs": [],
   "source": [
    "#replace missing values for issue_d with Not available\n",
    "df.issue_d=df.issue_d.fillna(df['issue_d'].value_counts().idxmax())\n",
    "\n",
    "\n",
    "\n",
    "#replace missing values for loan_status with Not available\n",
    "df.loan_status=df.loan_status.fillna(\"Not available\")\n",
    "\n",
    "#replace missing values for pymnt_plan with max value\n",
    "df.pymnt_plan=df.pymnt_plan.fillna(df['pymnt_plan'].value_counts().idxmax())\n",
    "\n",
    "#replace missing values for url, desc with Not available\n",
    "df.url=df.url.fillna(\"Not available\")\n",
    "df.desc=df.desc.fillna(\"Not available\")\n",
    "#replace missing values for loan_status with Not available\n",
    "df.purpose=df.purpose.fillna(\"other\")\n"
   ]
  },
  {
   "cell_type": "code",
   "execution_count": 11,
   "metadata": {
    "collapsed": false
   },
   "outputs": [
    {
     "data": {
      "text/html": [
       "<div>\n",
       "<table border=\"1\" class=\"dataframe\">\n",
       "  <thead>\n",
       "    <tr style=\"text-align: right;\">\n",
       "      <th></th>\n",
       "      <th>issue_d</th>\n",
       "      <th>loan_status</th>\n",
       "      <th>pymnt_plan</th>\n",
       "      <th>url</th>\n",
       "      <th>desc</th>\n",
       "      <th>purpose</th>\n",
       "    </tr>\n",
       "  </thead>\n",
       "  <tbody>\n",
       "    <tr>\n",
       "      <th>1</th>\n",
       "      <td>Dec-11</td>\n",
       "      <td>Charged Off</td>\n",
       "      <td>n</td>\n",
       "      <td>https://lendingclub.com/browse/loanDetail.acti...</td>\n",
       "      <td>Borrower added on 12/22/11 &gt; I plan to use t...</td>\n",
       "      <td>car</td>\n",
       "    </tr>\n",
       "    <tr>\n",
       "      <th>3</th>\n",
       "      <td>Dec-11</td>\n",
       "      <td>Fully Paid</td>\n",
       "      <td>n</td>\n",
       "      <td>https://lendingclub.com/browse/loanDetail.acti...</td>\n",
       "      <td>Borrower added on 12/21/11 &gt; to pay for prop...</td>\n",
       "      <td>other</td>\n",
       "    </tr>\n",
       "    <tr>\n",
       "      <th>4</th>\n",
       "      <td>Dec-11</td>\n",
       "      <td>Fully Paid</td>\n",
       "      <td>n</td>\n",
       "      <td>https://lendingclub.com/browse/loanDetail.acti...</td>\n",
       "      <td>Borrower added on 12/21/11 &gt; I plan on combi...</td>\n",
       "      <td>other</td>\n",
       "    </tr>\n",
       "  </tbody>\n",
       "</table>\n",
       "</div>"
      ],
      "text/plain": [
       "  issue_d  loan_status pymnt_plan  \\\n",
       "1  Dec-11  Charged Off          n   \n",
       "3  Dec-11   Fully Paid          n   \n",
       "4  Dec-11   Fully Paid          n   \n",
       "\n",
       "                                                 url  \\\n",
       "1  https://lendingclub.com/browse/loanDetail.acti...   \n",
       "3  https://lendingclub.com/browse/loanDetail.acti...   \n",
       "4  https://lendingclub.com/browse/loanDetail.acti...   \n",
       "\n",
       "                                                desc purpose  \n",
       "1    Borrower added on 12/22/11 > I plan to use t...     car  \n",
       "3    Borrower added on 12/21/11 > to pay for prop...   other  \n",
       "4    Borrower added on 12/21/11 > I plan on combi...   other  "
      ]
     },
     "execution_count": 11,
     "metadata": {},
     "output_type": "execute_result"
    }
   ],
   "source": [
    "df.ix[:5,15:21]"
   ]
  },
  {
   "cell_type": "code",
   "execution_count": 12,
   "metadata": {
    "collapsed": false
   },
   "outputs": [
    {
     "name": "stdout",
     "output_type": "stream",
     "text": [
      "Clean and Analyse the slice of data column 21-30\n"
     ]
    },
    {
     "data": {
      "text/html": [
       "<div>\n",
       "<table border=\"1\" class=\"dataframe\">\n",
       "  <thead>\n",
       "    <tr style=\"text-align: right;\">\n",
       "      <th></th>\n",
       "      <th>title</th>\n",
       "      <th>zip_code</th>\n",
       "      <th>addr_state</th>\n",
       "      <th>dti</th>\n",
       "      <th>delinq_2yrs</th>\n",
       "      <th>earliest_cr_line</th>\n",
       "      <th>earliest_cr_line_year</th>\n",
       "      <th>fico_range_low</th>\n",
       "      <th>fico_range_high</th>\n",
       "    </tr>\n",
       "  </thead>\n",
       "  <tbody>\n",
       "    <tr>\n",
       "      <th>1</th>\n",
       "      <td>bike</td>\n",
       "      <td>309xx</td>\n",
       "      <td>GA</td>\n",
       "      <td>1.00</td>\n",
       "      <td>0.0</td>\n",
       "      <td>Apr-99</td>\n",
       "      <td>0</td>\n",
       "      <td>740.0</td>\n",
       "      <td>744.0</td>\n",
       "    </tr>\n",
       "    <tr>\n",
       "      <th>3</th>\n",
       "      <td>personel</td>\n",
       "      <td>917xx</td>\n",
       "      <td>CA</td>\n",
       "      <td>20.00</td>\n",
       "      <td>0.0</td>\n",
       "      <td>Feb-96</td>\n",
       "      <td>0</td>\n",
       "      <td>690.0</td>\n",
       "      <td>694.0</td>\n",
       "    </tr>\n",
       "    <tr>\n",
       "      <th>4</th>\n",
       "      <td>Personal</td>\n",
       "      <td>972xx</td>\n",
       "      <td>OR</td>\n",
       "      <td>17.94</td>\n",
       "      <td>0.0</td>\n",
       "      <td>Jan-96</td>\n",
       "      <td>0</td>\n",
       "      <td>695.0</td>\n",
       "      <td>699.0</td>\n",
       "    </tr>\n",
       "  </tbody>\n",
       "</table>\n",
       "</div>"
      ],
      "text/plain": [
       "      title zip_code addr_state    dti  delinq_2yrs earliest_cr_line  \\\n",
       "1      bike    309xx         GA   1.00          0.0           Apr-99   \n",
       "3  personel    917xx         CA  20.00          0.0           Feb-96   \n",
       "4  Personal    972xx         OR  17.94          0.0           Jan-96   \n",
       "\n",
       "   earliest_cr_line_year  fico_range_low  fico_range_high  \n",
       "1                      0           740.0            744.0  \n",
       "3                      0           690.0            694.0  \n",
       "4                      0           695.0            699.0  "
      ]
     },
     "execution_count": 12,
     "metadata": {},
     "output_type": "execute_result"
    }
   ],
   "source": [
    "print(\"Clean and Analyse the slice of data column 21-30\")\n",
    "df.ix[:5,21:30]"
   ]
  },
  {
   "cell_type": "code",
   "execution_count": 13,
   "metadata": {
    "collapsed": false
   },
   "outputs": [],
   "source": [
    "#replace missing values for title with Not available\n",
    "df.title=df.title.fillna(\"Not available\")\n",
    "#zipcode 000 is not in use\n",
    "df.title=df.title.fillna(\"000\")\n",
    "df.zip_code=df.zip_code.astype(str)\n",
    "\n",
    "#stripping the last two characters and fetching the first three digits of the zipcode\n",
    "df.zip_code=df.zip_code.map(lambda x: x[:3]).astype(int)\n",
    "\n",
    "#replace missing values for addr_state with XX (random characters)\n",
    "df.addr_state=df.addr_state.fillna(\"XX\")\n",
    "\n",
    "#drop the record if the value of dti is missing \n",
    "df.dti=df.dti.dropna()\n",
    "df.dti=df.dti.astype(float)\n",
    "\n",
    "#replace missing values for delinq_2yrs with max value count\n",
    "df.delinq_2yrs=df.delinq_2yrs.fillna(df['delinq_2yrs'].value_counts().idxmax()).astype(int)\n",
    "\n",
    "#earliest_cr_line@@@@@ remaining same logic as issue_d\n",
    "\n",
    "#replace missing values for inq_last_6mths with 0\n",
    "df.inq_last_6mths=df.inq_last_6mths.fillna(0).astype(int)"
   ]
  },
  {
   "cell_type": "code",
   "execution_count": 14,
   "metadata": {
    "collapsed": false
   },
   "outputs": [
    {
     "name": "stdout",
     "output_type": "stream",
     "text": [
      "Craeting the FICO range bucket\n",
      "Calculating the new feature MeanFICO which is the average of low and high fico score and adding this column to the dataframe\n"
     ]
    },
    {
     "data": {
      "text/html": [
       "<div>\n",
       "<table border=\"1\" class=\"dataframe\">\n",
       "  <thead>\n",
       "    <tr style=\"text-align: right;\">\n",
       "      <th></th>\n",
       "      <th>fico_range_low</th>\n",
       "      <th>fico_range_high</th>\n",
       "      <th>fico_range</th>\n",
       "      <th>meanfico</th>\n",
       "    </tr>\n",
       "  </thead>\n",
       "  <tbody>\n",
       "    <tr>\n",
       "      <th>1</th>\n",
       "      <td>740</td>\n",
       "      <td>744</td>\n",
       "      <td>740-744</td>\n",
       "      <td>742</td>\n",
       "    </tr>\n",
       "    <tr>\n",
       "      <th>3</th>\n",
       "      <td>690</td>\n",
       "      <td>694</td>\n",
       "      <td>690-694</td>\n",
       "      <td>692</td>\n",
       "    </tr>\n",
       "    <tr>\n",
       "      <th>4</th>\n",
       "      <td>695</td>\n",
       "      <td>699</td>\n",
       "      <td>695-699</td>\n",
       "      <td>697</td>\n",
       "    </tr>\n",
       "  </tbody>\n",
       "</table>\n",
       "</div>"
      ],
      "text/plain": [
       "   fico_range_low  fico_range_high fico_range  meanfico\n",
       "1             740              744    740-744       742\n",
       "3             690              694    690-694       692\n",
       "4             695              699    695-699       697"
      ]
     },
     "execution_count": 14,
     "metadata": {},
     "output_type": "execute_result"
    }
   ],
   "source": [
    "# drop the record if the fico_range_high and fico_range_low value is missing \n",
    "df.fico_range_low=df.fico_range_low.dropna()\n",
    "df.fico_range_high=df.fico_range_high.dropna()\n",
    "df.fico_range_low=df.fico_range_low.astype(int)\n",
    "df.fico_range_high=df.fico_range_high.astype(int)\n",
    "\n",
    "#FICO fico_range_low & fico_range_high scores on their own aren't as useful as a range thus we are considering its average\n",
    "df['fico_range'] = df.fico_range_low.astype('str') + '-' + df.fico_range_high.astype('str')\n",
    "print(\"Craeting the FICO range bucket\")\n",
    "print(\"Calculating the new feature MeanFICO which is the average of low and high fico score and adding this column to the dataframe\")\n",
    "df['meanfico'] = (df.fico_range_low + df.fico_range_high)/2\n",
    "df['meanfico'] = df['meanfico'].astype(int)\n",
    "df[['fico_range_low','fico_range_high','fico_range','meanfico']].head(3)"
   ]
  },
  {
   "cell_type": "code",
   "execution_count": 15,
   "metadata": {
    "collapsed": false
   },
   "outputs": [
    {
     "data": {
      "text/html": [
       "<div>\n",
       "<table border=\"1\" class=\"dataframe\">\n",
       "  <thead>\n",
       "    <tr style=\"text-align: right;\">\n",
       "      <th></th>\n",
       "      <th>title</th>\n",
       "      <th>zip_code</th>\n",
       "      <th>addr_state</th>\n",
       "      <th>dti</th>\n",
       "      <th>delinq_2yrs</th>\n",
       "      <th>earliest_cr_line</th>\n",
       "      <th>earliest_cr_line_year</th>\n",
       "      <th>fico_range_low</th>\n",
       "      <th>fico_range_high</th>\n",
       "    </tr>\n",
       "  </thead>\n",
       "  <tbody>\n",
       "    <tr>\n",
       "      <th>1</th>\n",
       "      <td>bike</td>\n",
       "      <td>309</td>\n",
       "      <td>GA</td>\n",
       "      <td>1.00</td>\n",
       "      <td>0</td>\n",
       "      <td>Apr-99</td>\n",
       "      <td>0</td>\n",
       "      <td>740</td>\n",
       "      <td>744</td>\n",
       "    </tr>\n",
       "    <tr>\n",
       "      <th>3</th>\n",
       "      <td>personel</td>\n",
       "      <td>917</td>\n",
       "      <td>CA</td>\n",
       "      <td>20.00</td>\n",
       "      <td>0</td>\n",
       "      <td>Feb-96</td>\n",
       "      <td>0</td>\n",
       "      <td>690</td>\n",
       "      <td>694</td>\n",
       "    </tr>\n",
       "    <tr>\n",
       "      <th>4</th>\n",
       "      <td>Personal</td>\n",
       "      <td>972</td>\n",
       "      <td>OR</td>\n",
       "      <td>17.94</td>\n",
       "      <td>0</td>\n",
       "      <td>Jan-96</td>\n",
       "      <td>0</td>\n",
       "      <td>695</td>\n",
       "      <td>699</td>\n",
       "    </tr>\n",
       "  </tbody>\n",
       "</table>\n",
       "</div>"
      ],
      "text/plain": [
       "      title  zip_code addr_state    dti  delinq_2yrs earliest_cr_line  \\\n",
       "1      bike       309         GA   1.00            0           Apr-99   \n",
       "3  personel       917         CA  20.00            0           Feb-96   \n",
       "4  Personal       972         OR  17.94            0           Jan-96   \n",
       "\n",
       "   earliest_cr_line_year  fico_range_low  fico_range_high  \n",
       "1                      0             740              744  \n",
       "3                      0             690              694  \n",
       "4                      0             695              699  "
      ]
     },
     "execution_count": 15,
     "metadata": {},
     "output_type": "execute_result"
    }
   ],
   "source": [
    "df.ix[:5,21:30]"
   ]
  },
  {
   "cell_type": "code",
   "execution_count": 16,
   "metadata": {
    "collapsed": false
   },
   "outputs": [
    {
     "name": "stdout",
     "output_type": "stream",
     "text": [
      "Clean and Analyse the slice of data column 30-39\n"
     ]
    },
    {
     "data": {
      "text/html": [
       "<div>\n",
       "<table border=\"1\" class=\"dataframe\">\n",
       "  <thead>\n",
       "    <tr style=\"text-align: right;\">\n",
       "      <th></th>\n",
       "      <th>inq_last_6mths</th>\n",
       "      <th>mths_since_last_delinq</th>\n",
       "      <th>mths_since_last_record</th>\n",
       "      <th>open_acc</th>\n",
       "      <th>pub_rec</th>\n",
       "      <th>revol_bal</th>\n",
       "      <th>revol_util</th>\n",
       "      <th>total_acc</th>\n",
       "      <th>initial_list_status</th>\n",
       "    </tr>\n",
       "  </thead>\n",
       "  <tbody>\n",
       "    <tr>\n",
       "      <th>1</th>\n",
       "      <td>5</td>\n",
       "      <td>NaN</td>\n",
       "      <td>NaN</td>\n",
       "      <td>3.0</td>\n",
       "      <td>0.0</td>\n",
       "      <td>1687.0</td>\n",
       "      <td>9.40%</td>\n",
       "      <td>4.0</td>\n",
       "      <td>f</td>\n",
       "    </tr>\n",
       "    <tr>\n",
       "      <th>3</th>\n",
       "      <td>1</td>\n",
       "      <td>35.0</td>\n",
       "      <td>NaN</td>\n",
       "      <td>10.0</td>\n",
       "      <td>0.0</td>\n",
       "      <td>5598.0</td>\n",
       "      <td>21%</td>\n",
       "      <td>37.0</td>\n",
       "      <td>f</td>\n",
       "    </tr>\n",
       "    <tr>\n",
       "      <th>4</th>\n",
       "      <td>0</td>\n",
       "      <td>38.0</td>\n",
       "      <td>NaN</td>\n",
       "      <td>15.0</td>\n",
       "      <td>0.0</td>\n",
       "      <td>27783.0</td>\n",
       "      <td>53.90%</td>\n",
       "      <td>38.0</td>\n",
       "      <td>f</td>\n",
       "    </tr>\n",
       "  </tbody>\n",
       "</table>\n",
       "</div>"
      ],
      "text/plain": [
       "   inq_last_6mths  mths_since_last_delinq  mths_since_last_record  open_acc  \\\n",
       "1               5                     NaN                     NaN       3.0   \n",
       "3               1                    35.0                     NaN      10.0   \n",
       "4               0                    38.0                     NaN      15.0   \n",
       "\n",
       "   pub_rec  revol_bal revol_util  total_acc initial_list_status  \n",
       "1      0.0     1687.0      9.40%        4.0                   f  \n",
       "3      0.0     5598.0        21%       37.0                   f  \n",
       "4      0.0    27783.0     53.90%       38.0                   f  "
      ]
     },
     "execution_count": 16,
     "metadata": {},
     "output_type": "execute_result"
    }
   ],
   "source": [
    "print(\"Clean and Analyse the slice of data column 30-39\")\n",
    "df.ix[:5,30:39]"
   ]
  },
  {
   "cell_type": "code",
   "execution_count": 17,
   "metadata": {
    "collapsed": false
   },
   "outputs": [
    {
     "data": {
      "text/html": [
       "<div>\n",
       "<table border=\"1\" class=\"dataframe\">\n",
       "  <thead>\n",
       "    <tr style=\"text-align: right;\">\n",
       "      <th></th>\n",
       "      <th>inq_last_6mths</th>\n",
       "      <th>mths_since_last_delinq</th>\n",
       "      <th>mths_since_last_record</th>\n",
       "      <th>open_acc</th>\n",
       "      <th>pub_rec</th>\n",
       "      <th>revol_bal</th>\n",
       "      <th>revol_util</th>\n",
       "      <th>total_acc</th>\n",
       "      <th>initial_list_status</th>\n",
       "    </tr>\n",
       "  </thead>\n",
       "  <tbody>\n",
       "    <tr>\n",
       "      <th>1</th>\n",
       "      <td>5</td>\n",
       "      <td>0</td>\n",
       "      <td>0</td>\n",
       "      <td>3</td>\n",
       "      <td>0</td>\n",
       "      <td>1687</td>\n",
       "      <td>9.4</td>\n",
       "      <td>4</td>\n",
       "      <td>f</td>\n",
       "    </tr>\n",
       "    <tr>\n",
       "      <th>3</th>\n",
       "      <td>1</td>\n",
       "      <td>35</td>\n",
       "      <td>0</td>\n",
       "      <td>10</td>\n",
       "      <td>0</td>\n",
       "      <td>5598</td>\n",
       "      <td>21.0</td>\n",
       "      <td>37</td>\n",
       "      <td>f</td>\n",
       "    </tr>\n",
       "    <tr>\n",
       "      <th>4</th>\n",
       "      <td>0</td>\n",
       "      <td>38</td>\n",
       "      <td>0</td>\n",
       "      <td>15</td>\n",
       "      <td>0</td>\n",
       "      <td>27783</td>\n",
       "      <td>53.9</td>\n",
       "      <td>38</td>\n",
       "      <td>f</td>\n",
       "    </tr>\n",
       "  </tbody>\n",
       "</table>\n",
       "</div>"
      ],
      "text/plain": [
       "   inq_last_6mths  mths_since_last_delinq  mths_since_last_record  open_acc  \\\n",
       "1               5                       0                       0         3   \n",
       "3               1                      35                       0        10   \n",
       "4               0                      38                       0        15   \n",
       "\n",
       "   pub_rec  revol_bal  revol_util  total_acc initial_list_status  \n",
       "1        0       1687         9.4          4                   f  \n",
       "3        0       5598        21.0         37                   f  \n",
       "4        0      27783        53.9         38                   f  "
      ]
     },
     "execution_count": 17,
     "metadata": {},
     "output_type": "execute_result"
    }
   ],
   "source": [
    "#replace missing values for mths_since_last_delinq with 0\n",
    "df.mths_since_last_delinq=df.mths_since_last_delinq.fillna(0).astype(int)\n",
    "\n",
    "#replace missing values for mths_since_last_record with 0\n",
    "df.mths_since_last_record=df.mths_since_last_record.fillna(0).astype(int)\n",
    "\n",
    "#replace missing values for mths_since_last_record with 0\n",
    "df.open_acc=df.open_acc.fillna(df['open_acc'].mean()).astype(int)\n",
    "\n",
    "#replace missing values for Term with max value\n",
    "df.pub_rec=df.pub_rec.fillna(df['pub_rec'].value_counts().idxmax()).astype(int)\n",
    "\n",
    "#replace missing values for mths_since_last_delinq with 0\n",
    "df.revol_bal=df.revol_bal.dropna().astype(int)\n",
    "\n",
    "#replace missing values for revol_util with 0\n",
    "df.revol_util=df.revol_util.dropna()\n",
    "\n",
    "#revol_util was loaded as an object data type instead of float due to the '%' character. Let's strip that out and convert the column type.\n",
    "df.revol_util = pd.Series(df.revol_util).str.replace('%', '').astype(float)\n",
    "\n",
    "#replace missing values for total_acc with 0\n",
    "df.total_acc=df.total_acc.fillna(df['total_acc'].mean()).astype(int)\n",
    "\n",
    "#replace missing values for initial_list_status with max value\n",
    "df.initial_list_status=df.initial_list_status.fillna(df['initial_list_status'].value_counts().idxmax())\n",
    "\n",
    "#replace missing values for out_prncp with max value\n",
    "df.out_prncp=df.out_prncp.fillna(df['out_prncp'].value_counts().idxmax()).astype(int)\n",
    "\n",
    "df.ix[:5,30:39]"
   ]
  },
  {
   "cell_type": "code",
   "execution_count": 18,
   "metadata": {
    "collapsed": false
   },
   "outputs": [
    {
     "name": "stdout",
     "output_type": "stream",
     "text": [
      "Clean and Analyse the slice of data column 39-47\n"
     ]
    },
    {
     "data": {
      "text/html": [
       "<div>\n",
       "<table border=\"1\" class=\"dataframe\">\n",
       "  <thead>\n",
       "    <tr style=\"text-align: right;\">\n",
       "      <th></th>\n",
       "      <th>out_prncp</th>\n",
       "      <th>out_prncp_inv</th>\n",
       "      <th>total_pymnt</th>\n",
       "      <th>total_pymnt_inv</th>\n",
       "      <th>total_rec_prncp</th>\n",
       "      <th>total_rec_int</th>\n",
       "      <th>total_rec_late_fee</th>\n",
       "      <th>recoveries</th>\n",
       "    </tr>\n",
       "  </thead>\n",
       "  <tbody>\n",
       "    <tr>\n",
       "      <th>1</th>\n",
       "      <td>0</td>\n",
       "      <td>0.0</td>\n",
       "      <td>1014.530000</td>\n",
       "      <td>1014.53</td>\n",
       "      <td>456.46</td>\n",
       "      <td>435.17</td>\n",
       "      <td>0.00</td>\n",
       "      <td>122.9</td>\n",
       "    </tr>\n",
       "    <tr>\n",
       "      <th>3</th>\n",
       "      <td>0</td>\n",
       "      <td>0.0</td>\n",
       "      <td>12231.890000</td>\n",
       "      <td>12231.89</td>\n",
       "      <td>10000.00</td>\n",
       "      <td>2214.92</td>\n",
       "      <td>16.97</td>\n",
       "      <td>0.0</td>\n",
       "    </tr>\n",
       "    <tr>\n",
       "      <th>4</th>\n",
       "      <td>0</td>\n",
       "      <td>0.0</td>\n",
       "      <td>4066.908161</td>\n",
       "      <td>4066.91</td>\n",
       "      <td>3000.00</td>\n",
       "      <td>1066.91</td>\n",
       "      <td>0.00</td>\n",
       "      <td>0.0</td>\n",
       "    </tr>\n",
       "  </tbody>\n",
       "</table>\n",
       "</div>"
      ],
      "text/plain": [
       "   out_prncp  out_prncp_inv   total_pymnt  total_pymnt_inv  total_rec_prncp  \\\n",
       "1          0            0.0   1014.530000          1014.53           456.46   \n",
       "3          0            0.0  12231.890000         12231.89         10000.00   \n",
       "4          0            0.0   4066.908161          4066.91          3000.00   \n",
       "\n",
       "   total_rec_int  total_rec_late_fee  recoveries  \n",
       "1         435.17                0.00       122.9  \n",
       "3        2214.92               16.97         0.0  \n",
       "4        1066.91                0.00         0.0  "
      ]
     },
     "execution_count": 18,
     "metadata": {},
     "output_type": "execute_result"
    }
   ],
   "source": [
    "print(\"Clean and Analyse the slice of data column 39-47\")\n",
    "df.ix[:5,39:47]"
   ]
  },
  {
   "cell_type": "code",
   "execution_count": 19,
   "metadata": {
    "collapsed": false
   },
   "outputs": [
    {
     "data": {
      "text/html": [
       "<div>\n",
       "<table border=\"1\" class=\"dataframe\">\n",
       "  <thead>\n",
       "    <tr style=\"text-align: right;\">\n",
       "      <th></th>\n",
       "      <th>out_prncp</th>\n",
       "      <th>out_prncp_inv</th>\n",
       "      <th>total_pymnt</th>\n",
       "      <th>total_pymnt_inv</th>\n",
       "      <th>total_rec_prncp</th>\n",
       "      <th>total_rec_int</th>\n",
       "      <th>total_rec_late_fee</th>\n",
       "      <th>recoveries</th>\n",
       "    </tr>\n",
       "  </thead>\n",
       "  <tbody>\n",
       "    <tr>\n",
       "      <th>1</th>\n",
       "      <td>0</td>\n",
       "      <td>0</td>\n",
       "      <td>1014.53</td>\n",
       "      <td>1014.53</td>\n",
       "      <td>456.46</td>\n",
       "      <td>435.17</td>\n",
       "      <td>0.00</td>\n",
       "      <td>122.9</td>\n",
       "    </tr>\n",
       "    <tr>\n",
       "      <th>3</th>\n",
       "      <td>0</td>\n",
       "      <td>0</td>\n",
       "      <td>12231.89</td>\n",
       "      <td>12231.89</td>\n",
       "      <td>10000.00</td>\n",
       "      <td>2214.92</td>\n",
       "      <td>16.97</td>\n",
       "      <td>0.0</td>\n",
       "    </tr>\n",
       "    <tr>\n",
       "      <th>4</th>\n",
       "      <td>0</td>\n",
       "      <td>0</td>\n",
       "      <td>4066.91</td>\n",
       "      <td>4066.91</td>\n",
       "      <td>3000.00</td>\n",
       "      <td>1066.91</td>\n",
       "      <td>0.00</td>\n",
       "      <td>0.0</td>\n",
       "    </tr>\n",
       "  </tbody>\n",
       "</table>\n",
       "</div>"
      ],
      "text/plain": [
       "   out_prncp  out_prncp_inv  total_pymnt  total_pymnt_inv  total_rec_prncp  \\\n",
       "1          0              0      1014.53          1014.53           456.46   \n",
       "3          0              0     12231.89         12231.89         10000.00   \n",
       "4          0              0      4066.91          4066.91          3000.00   \n",
       "\n",
       "   total_rec_int  total_rec_late_fee  recoveries  \n",
       "1         435.17                0.00       122.9  \n",
       "3        2214.92               16.97         0.0  \n",
       "4        1066.91                0.00         0.0  "
      ]
     },
     "execution_count": 19,
     "metadata": {},
     "output_type": "execute_result"
    }
   ],
   "source": [
    "#math.ceil(i*100)/100\n",
    "ceil_function= lambda x: math.ceil(x*100)/100\n",
    "\n",
    "#replace missing values for out_prncp_inv with max value\n",
    "df.out_prncp_inv=df.out_prncp_inv.fillna(df['out_prncp_inv'].value_counts().idxmax()).astype(int)\n",
    "\n",
    "#replace missing values for out_prncp_inv with max value\n",
    "df.total_pymnt=df.total_pymnt.fillna(0).astype(float)\n",
    "df.total_rec_prncp=df.total_rec_prncp.fillna(0).astype(float)\n",
    "df.total_rec_late_fee=df.total_rec_late_fee.fillna(0).astype(float)\n",
    "df.recoveries=df.recoveries.fillna(0).astype(float)\n",
    "df.collection_recovery_fee=df.collection_recovery_fee.fillna(0).astype(float)\n",
    "\n",
    "df['total_pymnt']=df['total_pymnt'].apply(ceil_function)\n",
    "df['total_rec_prncp']=df['total_rec_prncp'].apply(ceil_function)\n",
    "df['total_rec_late_fee']=df['total_rec_late_fee'].apply(ceil_function)\n",
    "df['recoveries']=df['recoveries'].apply(ceil_function)\n",
    "df['collection_recovery_fee']=df['collection_recovery_fee'].apply(ceil_function)\n",
    "\n",
    "\n",
    "df.ix[:5,39:47]"
   ]
  },
  {
   "cell_type": "code",
   "execution_count": 20,
   "metadata": {
    "collapsed": false
   },
   "outputs": [
    {
     "name": "stdout",
     "output_type": "stream",
     "text": [
      "Clean and Analyse the slice of data column 47-54\n"
     ]
    },
    {
     "data": {
      "text/html": [
       "<div>\n",
       "<table border=\"1\" class=\"dataframe\">\n",
       "  <thead>\n",
       "    <tr style=\"text-align: right;\">\n",
       "      <th></th>\n",
       "      <th>collection_recovery_fee</th>\n",
       "      <th>last_pymnt_d</th>\n",
       "      <th>last_pymnt_amnt</th>\n",
       "      <th>next_pymnt_d</th>\n",
       "      <th>last_credit_pull_d</th>\n",
       "      <th>grade_based_on_inq_last_6mths</th>\n",
       "      <th>last_credit_pull_d_year</th>\n",
       "    </tr>\n",
       "  </thead>\n",
       "  <tbody>\n",
       "    <tr>\n",
       "      <th>1</th>\n",
       "      <td>1.12</td>\n",
       "      <td>Apr-13</td>\n",
       "      <td>119.66</td>\n",
       "      <td>NaN</td>\n",
       "      <td>Oct-16</td>\n",
       "      <td>0</td>\n",
       "      <td>0</td>\n",
       "    </tr>\n",
       "    <tr>\n",
       "      <th>3</th>\n",
       "      <td>0.00</td>\n",
       "      <td>Jan-15</td>\n",
       "      <td>357.48</td>\n",
       "      <td>NaN</td>\n",
       "      <td>Apr-16</td>\n",
       "      <td>0</td>\n",
       "      <td>0</td>\n",
       "    </tr>\n",
       "    <tr>\n",
       "      <th>4</th>\n",
       "      <td>0.00</td>\n",
       "      <td>Jan-17</td>\n",
       "      <td>67.30</td>\n",
       "      <td>NaN</td>\n",
       "      <td>Jan-17</td>\n",
       "      <td>0</td>\n",
       "      <td>0</td>\n",
       "    </tr>\n",
       "  </tbody>\n",
       "</table>\n",
       "</div>"
      ],
      "text/plain": [
       "   collection_recovery_fee last_pymnt_d  last_pymnt_amnt next_pymnt_d  \\\n",
       "1                     1.12       Apr-13           119.66          NaN   \n",
       "3                     0.00       Jan-15           357.48          NaN   \n",
       "4                     0.00       Jan-17            67.30          NaN   \n",
       "\n",
       "  last_credit_pull_d  grade_based_on_inq_last_6mths  last_credit_pull_d_year  \n",
       "1             Oct-16                              0                        0  \n",
       "3             Apr-16                              0                        0  \n",
       "4             Jan-17                              0                        0  "
      ]
     },
     "execution_count": 20,
     "metadata": {},
     "output_type": "execute_result"
    }
   ],
   "source": [
    "print(\"Clean and Analyse the slice of data column 47-54\")\n",
    "df.ix[:5,47:54]"
   ]
  },
  {
   "cell_type": "code",
   "execution_count": 21,
   "metadata": {
    "collapsed": false
   },
   "outputs": [
    {
     "data": {
      "text/html": [
       "<div>\n",
       "<table border=\"1\" class=\"dataframe\">\n",
       "  <thead>\n",
       "    <tr style=\"text-align: right;\">\n",
       "      <th></th>\n",
       "      <th>last_fico_range_high</th>\n",
       "      <th>last_fico_range_low</th>\n",
       "      <th>last_fico_range</th>\n",
       "      <th>last_meanfico</th>\n",
       "    </tr>\n",
       "  </thead>\n",
       "  <tbody>\n",
       "    <tr>\n",
       "      <th>1</th>\n",
       "      <td>499</td>\n",
       "      <td>0</td>\n",
       "      <td>0-499</td>\n",
       "      <td>249</td>\n",
       "    </tr>\n",
       "    <tr>\n",
       "      <th>3</th>\n",
       "      <td>604</td>\n",
       "      <td>600</td>\n",
       "      <td>600-604</td>\n",
       "      <td>602</td>\n",
       "    </tr>\n",
       "    <tr>\n",
       "      <th>4</th>\n",
       "      <td>694</td>\n",
       "      <td>690</td>\n",
       "      <td>690-694</td>\n",
       "      <td>692</td>\n",
       "    </tr>\n",
       "  </tbody>\n",
       "</table>\n",
       "</div>"
      ],
      "text/plain": [
       "   last_fico_range_high  last_fico_range_low last_fico_range  last_meanfico\n",
       "1                   499                    0           0-499            249\n",
       "3                   604                  600         600-604            602\n",
       "4                   694                  690         690-694            692"
      ]
     },
     "execution_count": 21,
     "metadata": {},
     "output_type": "execute_result"
    }
   ],
   "source": [
    "#last_pymnt_d/next_pymnt_d/last_credit_pull_d @@@@@@@ same as issue_d\n",
    "\n",
    "df.last_pymnt_amnt=df.last_pymnt_amnt.fillna(0).astype(float)\n",
    "df['last_pymnt_amnt']=df['last_pymnt_amnt'].apply(ceil_function)\n",
    "\n",
    "#dropping the records where the last_fico_range_high or last_fico_range_low are NaN\n",
    "df.last_fico_range_high=df.last_fico_range_high.dropna(0)\n",
    "df.last_fico_range_high=df.last_fico_range_high.dropna(0)\n",
    "df['last_fico_range_high']=df['last_fico_range_high'].astype(int)\n",
    "df['last_fico_range_low']=df['last_fico_range_low'].astype(int)\n",
    "\n",
    "#calculating the last mean fico score and adding the new column last_meanfico and also computed the last_fico_range\n",
    "df['last_fico_range'] = df.last_fico_range_low.astype('str') + '-' + df.last_fico_range_high.astype('str')\n",
    "df['last_meanfico'] = ((df.last_fico_range_low + df.last_fico_range_high)/2).astype(int)\n",
    "\n",
    "df.collections_12_mths_ex_med=df.collections_12_mths_ex_med.fillna((df['collections_12_mths_ex_med'].value_counts().idxmax())).astype(int)\n",
    "\n",
    "df[['last_fico_range_high','last_fico_range_low','last_fico_range','last_meanfico']].head(3)"
   ]
  },
  {
   "cell_type": "code",
   "execution_count": 22,
   "metadata": {
    "collapsed": false
   },
   "outputs": [
    {
     "data": {
      "text/html": [
       "<div>\n",
       "<table border=\"1\" class=\"dataframe\">\n",
       "  <thead>\n",
       "    <tr style=\"text-align: right;\">\n",
       "      <th></th>\n",
       "      <th>collection_recovery_fee</th>\n",
       "      <th>last_pymnt_d</th>\n",
       "      <th>last_pymnt_amnt</th>\n",
       "      <th>next_pymnt_d</th>\n",
       "      <th>last_credit_pull_d</th>\n",
       "      <th>grade_based_on_inq_last_6mths</th>\n",
       "      <th>last_credit_pull_d_year</th>\n",
       "    </tr>\n",
       "  </thead>\n",
       "  <tbody>\n",
       "    <tr>\n",
       "      <th>1</th>\n",
       "      <td>1.12</td>\n",
       "      <td>Apr-13</td>\n",
       "      <td>119.66</td>\n",
       "      <td>NaN</td>\n",
       "      <td>Oct-16</td>\n",
       "      <td>0</td>\n",
       "      <td>0</td>\n",
       "    </tr>\n",
       "    <tr>\n",
       "      <th>3</th>\n",
       "      <td>0.00</td>\n",
       "      <td>Jan-15</td>\n",
       "      <td>357.48</td>\n",
       "      <td>NaN</td>\n",
       "      <td>Apr-16</td>\n",
       "      <td>0</td>\n",
       "      <td>0</td>\n",
       "    </tr>\n",
       "    <tr>\n",
       "      <th>4</th>\n",
       "      <td>0.00</td>\n",
       "      <td>Jan-17</td>\n",
       "      <td>67.30</td>\n",
       "      <td>NaN</td>\n",
       "      <td>Jan-17</td>\n",
       "      <td>0</td>\n",
       "      <td>0</td>\n",
       "    </tr>\n",
       "  </tbody>\n",
       "</table>\n",
       "</div>"
      ],
      "text/plain": [
       "   collection_recovery_fee last_pymnt_d  last_pymnt_amnt next_pymnt_d  \\\n",
       "1                     1.12       Apr-13           119.66          NaN   \n",
       "3                     0.00       Jan-15           357.48          NaN   \n",
       "4                     0.00       Jan-17            67.30          NaN   \n",
       "\n",
       "  last_credit_pull_d  grade_based_on_inq_last_6mths  last_credit_pull_d_year  \n",
       "1             Oct-16                              0                        0  \n",
       "3             Apr-16                              0                        0  \n",
       "4             Jan-17                              0                        0  "
      ]
     },
     "execution_count": 22,
     "metadata": {},
     "output_type": "execute_result"
    }
   ],
   "source": [
    "df.ix[:5,47:54]"
   ]
  },
  {
   "cell_type": "code",
   "execution_count": 23,
   "metadata": {
    "collapsed": false
   },
   "outputs": [
    {
     "name": "stdout",
     "output_type": "stream",
     "text": [
      "Clean and Analyse the slice of data column 54-62\n"
     ]
    },
    {
     "data": {
      "text/html": [
       "<div>\n",
       "<table border=\"1\" class=\"dataframe\">\n",
       "  <thead>\n",
       "    <tr style=\"text-align: right;\">\n",
       "      <th></th>\n",
       "      <th>last_fico_range_high</th>\n",
       "      <th>last_fico_range_low</th>\n",
       "      <th>collections_12_mths_ex_med</th>\n",
       "      <th>policy_code</th>\n",
       "      <th>application_type</th>\n",
       "      <th>acc_now_delinq</th>\n",
       "      <th>chargeoff_within_12_mths</th>\n",
       "    </tr>\n",
       "  </thead>\n",
       "  <tbody>\n",
       "    <tr>\n",
       "      <th>1</th>\n",
       "      <td>499</td>\n",
       "      <td>0</td>\n",
       "      <td>0</td>\n",
       "      <td>1.0</td>\n",
       "      <td>INDIVIDUAL</td>\n",
       "      <td>0.0</td>\n",
       "      <td>0.0</td>\n",
       "    </tr>\n",
       "    <tr>\n",
       "      <th>3</th>\n",
       "      <td>604</td>\n",
       "      <td>600</td>\n",
       "      <td>0</td>\n",
       "      <td>1.0</td>\n",
       "      <td>INDIVIDUAL</td>\n",
       "      <td>0.0</td>\n",
       "      <td>0.0</td>\n",
       "    </tr>\n",
       "    <tr>\n",
       "      <th>4</th>\n",
       "      <td>694</td>\n",
       "      <td>690</td>\n",
       "      <td>0</td>\n",
       "      <td>1.0</td>\n",
       "      <td>INDIVIDUAL</td>\n",
       "      <td>0.0</td>\n",
       "      <td>0.0</td>\n",
       "    </tr>\n",
       "  </tbody>\n",
       "</table>\n",
       "</div>"
      ],
      "text/plain": [
       "   last_fico_range_high  last_fico_range_low  collections_12_mths_ex_med  \\\n",
       "1                   499                    0                           0   \n",
       "3                   604                  600                           0   \n",
       "4                   694                  690                           0   \n",
       "\n",
       "   policy_code application_type  acc_now_delinq  chargeoff_within_12_mths  \n",
       "1          1.0       INDIVIDUAL             0.0                       0.0  \n",
       "3          1.0       INDIVIDUAL             0.0                       0.0  \n",
       "4          1.0       INDIVIDUAL             0.0                       0.0  "
      ]
     },
     "execution_count": 23,
     "metadata": {},
     "output_type": "execute_result"
    }
   ],
   "source": [
    "print(\"Clean and Analyse the slice of data column 54-62\")\n",
    "df.ix[:5,54:61]"
   ]
  },
  {
   "cell_type": "code",
   "execution_count": 24,
   "metadata": {
    "collapsed": false
   },
   "outputs": [
    {
     "data": {
      "text/html": [
       "<div>\n",
       "<table border=\"1\" class=\"dataframe\">\n",
       "  <thead>\n",
       "    <tr style=\"text-align: right;\">\n",
       "      <th></th>\n",
       "      <th>last_fico_range_high</th>\n",
       "      <th>last_fico_range_low</th>\n",
       "      <th>collections_12_mths_ex_med</th>\n",
       "      <th>policy_code</th>\n",
       "      <th>application_type</th>\n",
       "      <th>acc_now_delinq</th>\n",
       "      <th>chargeoff_within_12_mths</th>\n",
       "    </tr>\n",
       "  </thead>\n",
       "  <tbody>\n",
       "    <tr>\n",
       "      <th>1</th>\n",
       "      <td>499</td>\n",
       "      <td>0</td>\n",
       "      <td>0</td>\n",
       "      <td>1</td>\n",
       "      <td>INDIVIDUAL</td>\n",
       "      <td>0</td>\n",
       "      <td>0</td>\n",
       "    </tr>\n",
       "    <tr>\n",
       "      <th>3</th>\n",
       "      <td>604</td>\n",
       "      <td>600</td>\n",
       "      <td>0</td>\n",
       "      <td>1</td>\n",
       "      <td>INDIVIDUAL</td>\n",
       "      <td>0</td>\n",
       "      <td>0</td>\n",
       "    </tr>\n",
       "    <tr>\n",
       "      <th>4</th>\n",
       "      <td>694</td>\n",
       "      <td>690</td>\n",
       "      <td>0</td>\n",
       "      <td>1</td>\n",
       "      <td>INDIVIDUAL</td>\n",
       "      <td>0</td>\n",
       "      <td>0</td>\n",
       "    </tr>\n",
       "  </tbody>\n",
       "</table>\n",
       "</div>"
      ],
      "text/plain": [
       "   last_fico_range_high  last_fico_range_low  collections_12_mths_ex_med  \\\n",
       "1                   499                    0                           0   \n",
       "3                   604                  600                           0   \n",
       "4                   694                  690                           0   \n",
       "\n",
       "   policy_code application_type  acc_now_delinq  chargeoff_within_12_mths  \n",
       "1            1       INDIVIDUAL               0                         0  \n",
       "3            1       INDIVIDUAL               0                         0  \n",
       "4            1       INDIVIDUAL               0                         0  "
      ]
     },
     "execution_count": 24,
     "metadata": {},
     "output_type": "execute_result"
    }
   ],
   "source": [
    "df.policy_code=df.policy_code.fillna((df['policy_code'].value_counts().idxmax())).astype(int)\n",
    "df.application_type=df.application_type.fillna((df['application_type'].value_counts().idxmax()))\n",
    "df.acc_now_delinq=df.acc_now_delinq.fillna((df['acc_now_delinq'].value_counts().idxmax())).astype(int)\n",
    "df.chargeoff_within_12_mths=df.chargeoff_within_12_mths.fillna((df['chargeoff_within_12_mths'].value_counts().idxmax())).astype(int)\n",
    "df.delinq_amnt=df.delinq_amnt.fillna((df['delinq_amnt'].value_counts().idxmax())).astype(int)\n",
    "df.pub_rec_bankruptcies=df.pub_rec_bankruptcies.fillna((df['pub_rec_bankruptcies'].value_counts().idxmax())).astype(int)\n",
    "df.tax_liens=df.tax_liens.fillna((df['tax_liens'].value_counts().idxmax())).astype(int)\n",
    "\n",
    "df.ix[:5,54:61]"
   ]
  },
  {
   "cell_type": "code",
   "execution_count": 25,
   "metadata": {
    "collapsed": false
   },
   "outputs": [
    {
     "name": "stdout",
     "output_type": "stream",
     "text": [
      "Missing value handling completed!\n"
     ]
    }
   ],
   "source": [
    "df.loan_status.value_counts()\n",
    "print(\"Missing value handling completed!\")\n"
   ]
  },
  {
   "cell_type": "code",
   "execution_count": 26,
   "metadata": {
    "collapsed": false
   },
   "outputs": [
    {
     "name": "stdout",
     "output_type": "stream",
     "text": [
      "Beginning Feature engineering\n",
      "Derive a new column 'Credit Age'\n"
     ]
    },
    {
     "data": {
      "text/html": [
       "<div>\n",
       "<table border=\"1\" class=\"dataframe\">\n",
       "  <thead>\n",
       "    <tr style=\"text-align: right;\">\n",
       "      <th></th>\n",
       "      <th>earliest_cr_line</th>\n",
       "      <th>earliest_cr_line_year</th>\n",
       "      <th>last_credit_pull_d</th>\n",
       "      <th>last_credit_pull_d_year</th>\n",
       "      <th>credit_age</th>\n",
       "    </tr>\n",
       "  </thead>\n",
       "  <tbody>\n",
       "    <tr>\n",
       "      <th>1</th>\n",
       "      <td>Apr-99</td>\n",
       "      <td>1999</td>\n",
       "      <td>Oct-16</td>\n",
       "      <td>2016</td>\n",
       "      <td>17</td>\n",
       "    </tr>\n",
       "    <tr>\n",
       "      <th>3</th>\n",
       "      <td>Feb-96</td>\n",
       "      <td>1996</td>\n",
       "      <td>Apr-16</td>\n",
       "      <td>2016</td>\n",
       "      <td>20</td>\n",
       "    </tr>\n",
       "    <tr>\n",
       "      <th>4</th>\n",
       "      <td>Jan-96</td>\n",
       "      <td>1996</td>\n",
       "      <td>Jan-17</td>\n",
       "      <td>2017</td>\n",
       "      <td>21</td>\n",
       "    </tr>\n",
       "    <tr>\n",
       "      <th>6</th>\n",
       "      <td>Jul-05</td>\n",
       "      <td>2005</td>\n",
       "      <td>Sep-16</td>\n",
       "      <td>2016</td>\n",
       "      <td>11</td>\n",
       "    </tr>\n",
       "    <tr>\n",
       "      <th>7</th>\n",
       "      <td>Jan-07</td>\n",
       "      <td>2007</td>\n",
       "      <td>Dec-14</td>\n",
       "      <td>2014</td>\n",
       "      <td>7</td>\n",
       "    </tr>\n",
       "  </tbody>\n",
       "</table>\n",
       "</div>"
      ],
      "text/plain": [
       "  earliest_cr_line  earliest_cr_line_year last_credit_pull_d  \\\n",
       "1           Apr-99                   1999             Oct-16   \n",
       "3           Feb-96                   1996             Apr-16   \n",
       "4           Jan-96                   1996             Jan-17   \n",
       "6           Jul-05                   2005             Sep-16   \n",
       "7           Jan-07                   2007             Dec-14   \n",
       "\n",
       "   last_credit_pull_d_year  credit_age  \n",
       "1                     2016          17  \n",
       "3                     2016          20  \n",
       "4                     2017          21  \n",
       "6                     2016          11  \n",
       "7                     2014           7  "
      ]
     },
     "execution_count": 26,
     "metadata": {},
     "output_type": "execute_result"
    }
   ],
   "source": [
    "print(\"Beginning Feature engineering\")\n",
    "print(\"Derive a new column 'Credit Age'\")\n",
    "#Age of credit history reflects the length of your experience with the credit system. This can be computed by deducting the [last_credit_pull_d_year - earliest_cr_line_year]                                 \n",
    "#we are creating the new column \"Credit age\"\n",
    "df['earliest_cr_line_year']=np.where(df['earliest_cr_line'].str[4:5]=='0', \"20\"+df['earliest_cr_line'].str[4:], \n",
    "         (np.where(df['earliest_cr_line'].str[4:5]=='1', \"20\"+df['earliest_cr_line'].str[4:], \"19\"+df['earliest_cr_line'].str[4:])))\n",
    "\n",
    "df['last_credit_pull_d_year']=np.where(df['last_credit_pull_d'].str[4:5]=='0', \"20\"+df['last_credit_pull_d'].str[4:], \n",
    "         (np.where(df['last_credit_pull_d'].str[4:5]=='1', \"20\"+df['last_credit_pull_d'].str[4:], \"19\"+df['last_credit_pull_d'].str[4:])))\n",
    "      \n",
    "    \n",
    "df['earliest_cr_line_year']=df['earliest_cr_line_year'].astype(int)\n",
    "df['last_credit_pull_d_year']=df['last_credit_pull_d_year'].astype(int)\n",
    "\n",
    "df['credit_age']= df['last_credit_pull_d_year'] - df['earliest_cr_line_year']\n",
    "df[['earliest_cr_line','earliest_cr_line_year','last_credit_pull_d','last_credit_pull_d_year','credit_age']].head()\n",
    "\n"
   ]
  },
  {
   "cell_type": "code",
   "execution_count": 40,
   "metadata": {
    "collapsed": false
   },
   "outputs": [
    {
     "name": "stdout",
     "output_type": "stream",
     "text": [
      "Derive a new column 'Grade_based_on_inq_last_6mths'\n"
     ]
    },
    {
     "data": {
      "text/html": [
       "<div>\n",
       "<table border=\"1\" class=\"dataframe\">\n",
       "  <thead>\n",
       "    <tr style=\"text-align: right;\">\n",
       "      <th></th>\n",
       "      <th>inq_last_6mths</th>\n",
       "      <th>grade_based_on_inq_last_6mths</th>\n",
       "    </tr>\n",
       "  </thead>\n",
       "  <tbody>\n",
       "    <tr>\n",
       "      <th>1</th>\n",
       "      <td>5</td>\n",
       "      <td>C</td>\n",
       "    </tr>\n",
       "    <tr>\n",
       "      <th>3</th>\n",
       "      <td>1</td>\n",
       "      <td>B</td>\n",
       "    </tr>\n",
       "    <tr>\n",
       "      <th>4</th>\n",
       "      <td>0</td>\n",
       "      <td>A</td>\n",
       "    </tr>\n",
       "  </tbody>\n",
       "</table>\n",
       "</div>"
      ],
      "text/plain": [
       "   inq_last_6mths grade_based_on_inq_last_6mths\n",
       "1               5                             C\n",
       "3               1                             B\n",
       "4               0                             A"
      ]
     },
     "execution_count": 40,
     "metadata": {},
     "output_type": "execute_result"
    }
   ],
   "source": [
    "#https://www.creditkarma.com/question/hard-inquiries-how-many-is-to-many\n",
    "#Credit Karma gives a grade to people based on their number of inquiries in last 6 months\n",
    "#0 inquiries as an A, 1-2 = B, 3-6 = C, 7-10 = D, and 11+ = F. \n",
    "print(\"Derive a new column 'Grade_based_on_inq_last_6mths'\")\n",
    "df.grade_based_on_inq_last_6mths=np.where(df['inq_last_6mths']==0,'A', \n",
    "           np.where(df['inq_last_6mths'].between(1,2), 'B',\n",
    "           np.where(df['inq_last_6mths'].between(3,6), 'C',\n",
    "           np.where(df['inq_last_6mths'].between(7,10), 'D',\n",
    "           'E'\n",
    "         ))))\n",
    "                                          \n",
    "df[['inq_last_6mths','grade_based_on_inq_last_6mths']].head(3)\n"
   ]
  }
 ],
 "metadata": {
  "anaconda-cloud": {},
  "kernelspec": {
   "display_name": "Python [conda root]",
   "language": "python",
   "name": "conda-root-py"
  },
  "language_info": {
   "codemirror_mode": {
    "name": "ipython",
    "version": 3
   },
   "file_extension": ".py",
   "mimetype": "text/x-python",
   "name": "python",
   "nbconvert_exporter": "python",
   "pygments_lexer": "ipython3",
   "version": "3.5.2"
  }
 },
 "nbformat": 4,
 "nbformat_minor": 1
}
